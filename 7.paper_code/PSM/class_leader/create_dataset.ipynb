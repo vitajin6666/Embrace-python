{
 "cells": [
  {
   "cell_type": "code",
   "execution_count": 1,
   "metadata": {},
   "outputs": [
    {
     "name": "stdout",
     "output_type": "stream",
     "text": [
      "模拟数据已生成并保存为 student_data_new.csv 文件\n"
     ]
    }
   ],
   "source": [
    "import pandas as pd\n",
    "import numpy as np\n",
    "\n",
    "# 设置随机种子\n",
    "np.random.seed(42)\n",
    "\n",
    "# 数据量\n",
    "n = 4026\n",
    "\n",
    "# 生成数据\n",
    "data = {\n",
    "    \"class_leader\": np.random.choice([0, 1], size=n, p=[0.7, 0.3]),  # 班干部比例约30%\n",
    "    \"school_type\": np.random.choice([0, 1], size=n, p=[0.6, 0.4]),  # 重点学校比例约40%\n",
    "    \"gender\": np.random.choice([0, 1], size=n, p=[0.5, 0.5]),  # 性别均匀分布\n",
    "    \"grade\": np.random.choice([0, 1], size=n, p=[0.5, 0.5]),  # 七、八年级均匀分布\n",
    "    \"SES\": np.random.normal(0, 1, n),  # 标准化社会经济地位\n",
    "    \"academic_ability\": np.random.normal(0, 1, n),  # 标准化学业能力\n",
    "    \"education_expectation\": np.random.choice([1, 2, 3, 4, 5], size=n, p=[0.1, 0.3, 0.3, 0.2, 0.1]),  # 教育期望分布\n",
    "    \"education_expectation_communication\": np.random.choice([0, 1], size=n, p=[0.3, 0.7]),  # 教育期望告知比例\n",
    "    \"personality_extraversion\": np.random.normal(0, 1, n),  # 标准化性格外向性\n",
    "    \"boarding\": np.random.choice([0, 1], size=n, p=[0.8, 0.2]),  # 寄宿比例约20%\n",
    "    \"only_child\": np.random.choice([0, 1], size=n, p=[0.6, 0.4]),  # 独生子女比例约60%\n",
    "    \"hukou\": np.random.choice([0, 1], size=n, p=[0.7, 0.3]),  # 非农业户口比例约30%\n",
    "    \"age\": np.random.uniform(11, 15, n),  # 年龄在11到15岁之间\n",
    "}\n",
    "\n",
    "# 学习机会\n",
    "data[\"question_opportunity\"] = data[\"class_leader\"] * 0.5 + np.random.normal(0, 1, n)\n",
    "data[\"discussion_opportunity\"] = data[\"class_leader\"] * 0.3 + np.random.normal(0, 1, n)\n",
    "data[\"cognitive_opportunity\"] = data[\"class_leader\"] * 0.4 + np.random.normal(0, 1, n)\n",
    "data[\"total_opportunity\"] = (\n",
    "    data[\"question_opportunity\"] + data[\"discussion_opportunity\"] + data[\"cognitive_opportunity\"]\n",
    ") / 3\n",
    "\n",
    "# 转为DataFrame\n",
    "df = pd.DataFrame(data)\n",
    "\n",
    "# 保存为CSV文件\n",
    "df.to_csv(\"student_data_new.csv\", index=False)\n",
    "\n",
    "print(\"模拟数据已生成并保存为 student_data_new.csv 文件\")\n"
   ]
  }
 ],
 "metadata": {
  "kernelspec": {
   "display_name": "base",
   "language": "python",
   "name": "python3"
  },
  "language_info": {
   "codemirror_mode": {
    "name": "ipython",
    "version": 3
   },
   "file_extension": ".py",
   "mimetype": "text/x-python",
   "name": "python",
   "nbconvert_exporter": "python",
   "pygments_lexer": "ipython3",
   "version": "3.11.7"
  }
 },
 "nbformat": 4,
 "nbformat_minor": 2
}
