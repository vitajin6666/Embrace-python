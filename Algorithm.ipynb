{
 "cells": [
  {
   "cell_type": "markdown",
   "metadata": {},
   "source": [
    "# 栈"
   ]
  },
  {
   "cell_type": "markdown",
   "metadata": {},
   "source": [
    "- 浏览器中的后退与前进；软件中的撤销与反撤销：每当我们打开新的网页，浏览器就会对上一个网页执行入栈，这样我们就可以通过后退操作回到上一个网页。后退操作实际上是在执行出栈。如果要同时支持后退和前进，那么需要两个栈来配合实现。\n",
    "\n",
    "- 程序内存管理：每次调用函数时，系统都会在栈顶添加一个栈帧，用于记录函数的上下文信息。在递归函数中，向下递推阶段会不断执行入栈操作，而向上回溯阶段则会不断执行出栈操作。"
   ]
  },
  {
   "cell_type": "markdown",
   "metadata": {},
   "source": [
    "### 撤销（undo）和反撤销（redo）具体是如何实现的？\n",
    "\n",
    "使用两个栈，栈 A 用于撤销，栈 B 用于反撤销。\n",
    "\n",
    "每当用户执行一个操作，将这个操作压入栈 A ，并清空栈 B 。\n",
    "当用户执行“撤销”时，从栈 A 中弹出最近的操作，并将其压入栈 B 。\n",
    "当用户执行“反撤销”时，从栈 B 中弹出最近的操作，并将其压入栈 A"
   ]
  },
  {
   "cell_type": "code",
   "execution_count": 8,
   "metadata": {},
   "outputs": [
    {
     "name": "stdout",
     "output_type": "stream",
     "text": [
      "[1, 3, 2, 5, 4]\n"
     ]
    }
   ],
   "source": [
    "# 初始化栈\n",
    "stack: list[int] = []\n",
    "    # Python 没有内置的栈类，可以把 list 当作栈来使用 \n",
    "\n",
    "# 元素入栈\n",
    "stack.append(1)\n",
    "stack.append(3)\n",
    "stack.append(2)\n",
    "stack.append(5)\n",
    "stack.append(4)\n",
    "print(stack)\n",
    "# 访问栈顶元素\n",
    "peek: int = stack[-1]\n",
    "\n",
    "# 元素出栈\n",
    "pop: int = stack.pop()\n",
    "\n",
    "# 获取栈的长度\n",
    "size: int = len(stack)\n",
    "\n",
    "# 判断是否为空\n",
    "is_empty: bool = len(stack) == 0"
   ]
  },
  {
   "cell_type": "markdown",
   "metadata": {},
   "source": [
    "# 队列"
   ]
  },
  {
   "cell_type": "markdown",
   "metadata": {},
   "source": [
    "- 淘宝订单：购物者下单后，订单将加入队列中，系统随后会根据顺序处理队列中的订单。在双十一期间，短时间内会产生海量订单，高并发成为工程师们需要重点攻克的问题。\n",
    "\n",
    "- 各类待办事项：任何需要实现“先来后到”功能的场景，例如打印机的任务队列、餐厅的出餐队列等，队列在这些场景中可以有效地维护处理顺序"
   ]
  },
  {
   "cell_type": "markdown",
   "metadata": {},
   "source": [
    "### 一般更常用双向队列\n",
    "\n",
    "双向队列就像是栈和队列的组合或两个栈拼在了一起。它表现的是栈 + 队列的逻辑，因此可以实现栈与队列的所有应用，并且更加灵活\n",
    "\n",
    "我们知道，软件的“撤销”功能通常使用栈来实现：系统将每次更改操作 push 到栈中，然后通过 pop 实现撤销。然而，考虑到系统资源的限制，软件通常会限制撤销的步数（例如仅允许保存50步）。当栈的长度超过50时，软件需要在栈底（队首）执行删除操作。\n",
    "但栈无法实现该功能，此时就需要使用双向队列来替代栈。请注意，“撤销”的核心逻辑仍然遵循栈的先入后出原则，只是双向队列能够更加灵活地实现一些额外逻辑。"
   ]
  },
  {
   "cell_type": "code",
   "execution_count": 11,
   "metadata": {},
   "outputs": [
    {
     "name": "stdout",
     "output_type": "stream",
     "text": [
      "deque([1, 3, 2, 5, 4])\n"
     ]
    }
   ],
   "source": [
    "from collections import deque\n",
    "\n",
    "# 初始化双向队列\n",
    "deque = deque()  \n",
    "\n",
    "# 元素入队\n",
    "deque.append(2)      # 添加至队尾\n",
    "deque.append(5)\n",
    "deque.append(4)\n",
    "deque.appendleft(3)  # 添加至队首\n",
    "deque.appendleft(1)\n",
    "\n",
    "print(deque)\n",
    "\n",
    "# 访问元素\n",
    "front: int = deque[0]  # 队首元素\n",
    "rear: int = deque[-1]  # 队尾元素\n",
    "\n",
    "# 元素出队\n",
    "pop_front: int = deque.popleft()  # 队首元素出队\n",
    "pop_rear: int = deque.pop()       # 队尾元素出队\n",
    "\n",
    "# 获取双向队列的长度\n",
    "size: int = len(deque)\n",
    "\n",
    "# 判断双向队列是否为空\n",
    "is_empty: bool = len(deque) == 0"
   ]
  },
  {
   "cell_type": "markdown",
   "metadata": {},
   "source": [
    "# 哈希表 hash table"
   ]
  },
  {
   "cell_type": "markdown",
   "metadata": {},
   "source": []
  },
  {
   "cell_type": "code",
   "execution_count": null,
   "metadata": {},
   "outputs": [],
   "source": []
  },
  {
   "cell_type": "markdown",
   "metadata": {},
   "source": [
    "# 树"
   ]
  },
  {
   "cell_type": "code",
   "execution_count": null,
   "metadata": {},
   "outputs": [],
   "source": [
    "# Optional 主要用于指示一个变量的值可以是某种类型，或者可以是 None\n",
    "from typing import Optional \n",
    "\n",
    "# 定义二叉树节点类\n",
    "class TreeNode:\n",
    "    def __init__(self, value=0, left=None, right=None):\n",
    "        self.value = value  # 节点的值\n",
    "        self.left = left    # 指向左子节点的引用\n",
    "        self.right = right  # 指向右子节点的引用\n",
    "\n",
    "# 定义树相关的判断问题类\n",
    "class Solution:\n",
    "    def checkTree(self, root: Optional[TreeNode]) -> bool:\n",
    "        return root.value == root.left.value + root.right.value\n",
    "\n",
    "# 创建节点\n",
    "node = TreeNode(10) # 根节点\n",
    "node.left = TreeNode(4) # 创建左子节点并连接\n",
    "node.right = TreeNode(7) # 创建右子节点并连接\n",
    "\n",
    "# 创建Solution的实例\n",
    "solution = Solution()\n",
    "\n",
    "# 调用方法（调用类的方式时，需要先创建实例）\n",
    "# solution 实例会自动作为第一个参数（self）传递给 checkTree 方法\n",
    "result = solution.checkTree(node) # 传递根节点作为参数\n",
    "print(result)"
   ]
  },
  {
   "cell_type": "code",
   "execution_count": null,
   "metadata": {},
   "outputs": [],
   "source": []
  },
  {
   "cell_type": "markdown",
   "metadata": {},
   "source": []
  }
 ],
 "metadata": {
  "kernelspec": {
   "display_name": "base",
   "language": "python",
   "name": "python3"
  },
  "language_info": {
   "codemirror_mode": {
    "name": "ipython",
    "version": 3
   },
   "file_extension": ".py",
   "mimetype": "text/x-python",
   "name": "python",
   "nbconvert_exporter": "python",
   "pygments_lexer": "ipython3",
   "version": "3.11.7"
  }
 },
 "nbformat": 4,
 "nbformat_minor": 2
}
