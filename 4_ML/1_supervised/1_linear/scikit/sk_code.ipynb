{
 "cells": [
  {
   "cell_type": "markdown",
   "metadata": {},
   "source": [
    "# load libraries"
   ]
  },
  {
   "cell_type": "code",
   "execution_count": 2,
   "metadata": {},
   "outputs": [],
   "source": [
    "# numpy\n",
    "import numpy as np\n",
    "np.set_printoptions(precision=2) # 用于设置浮点数在显示时的精度为两位小数\n",
    "\n",
    "# pandas\n",
    "import pandas as pd\n",
    "\n",
    "# matplotlib\n",
    "import matplotlib.pyplot as plt\n",
    "\n",
    "# sklearn\n",
    "from sklearn.linear_model import LinearRegression, SGDRegressor\n",
    "    # 对于小到中等规模的数据集，LinearRegression 往往是更好的选择；\n",
    "    # 而对于非常大的数据集或需要频繁更新模型的应用，SGDRegressor 可能更合适。\n",
    "from sklearn.preprocessing import StandardScaler\n",
    "    # perform z-score normalization\n",
    "from sklearn.model_selection import train_test_split\n",
    "    # 允许你按指定的比例随机分割数据集，通常分为训练数据和测试数据。这是用来验证和测试模型性能的标准实践，有助于检测模型是否过拟合训练数据\n",
    "from sklearn.metrics import mean_squared_error, r2_score\n",
    "    # 导入两种评估回归模型性能的常用指标：均方误差（Mean Squared Error, MSE）和 R² 得分（R-squared score，或称为决定系数）"
   ]
  },
  {
   "cell_type": "markdown",
   "metadata": {},
   "source": [
    "# load dataset"
   ]
  },
  {
   "cell_type": "code",
   "execution_count": 3,
   "metadata": {},
   "outputs": [],
   "source": [
    "# csv文件用这段代码\n",
    "data = pd.read_csv('Student_Performance.csv')"
   ]
  },
  {
   "cell_type": "markdown",
   "metadata": {},
   "source": [
    "# check data"
   ]
  },
  {
   "cell_type": "code",
   "execution_count": 4,
   "metadata": {},
   "outputs": [
    {
     "data": {
      "text/plain": [
       "(10000, 6)"
      ]
     },
     "execution_count": 4,
     "metadata": {},
     "output_type": "execute_result"
    }
   ],
   "source": [
    "# 显示数据结构\n",
    "data.shape"
   ]
  },
  {
   "cell_type": "code",
   "execution_count": 5,
   "metadata": {},
   "outputs": [
    {
     "data": {
      "text/html": [
       "<div>\n",
       "<style scoped>\n",
       "    .dataframe tbody tr th:only-of-type {\n",
       "        vertical-align: middle;\n",
       "    }\n",
       "\n",
       "    .dataframe tbody tr th {\n",
       "        vertical-align: top;\n",
       "    }\n",
       "\n",
       "    .dataframe thead th {\n",
       "        text-align: right;\n",
       "    }\n",
       "</style>\n",
       "<table border=\"1\" class=\"dataframe\">\n",
       "  <thead>\n",
       "    <tr style=\"text-align: right;\">\n",
       "      <th></th>\n",
       "      <th>Hours Studied</th>\n",
       "      <th>Previous Scores</th>\n",
       "      <th>Extracurricular Activities</th>\n",
       "      <th>Sleep Hours</th>\n",
       "      <th>Sample Question Papers Practiced</th>\n",
       "      <th>Performance Index</th>\n",
       "    </tr>\n",
       "  </thead>\n",
       "  <tbody>\n",
       "    <tr>\n",
       "      <th>0</th>\n",
       "      <td>7</td>\n",
       "      <td>99</td>\n",
       "      <td>Yes</td>\n",
       "      <td>9</td>\n",
       "      <td>1</td>\n",
       "      <td>91.0</td>\n",
       "    </tr>\n",
       "    <tr>\n",
       "      <th>1</th>\n",
       "      <td>4</td>\n",
       "      <td>82</td>\n",
       "      <td>No</td>\n",
       "      <td>4</td>\n",
       "      <td>2</td>\n",
       "      <td>65.0</td>\n",
       "    </tr>\n",
       "    <tr>\n",
       "      <th>2</th>\n",
       "      <td>8</td>\n",
       "      <td>51</td>\n",
       "      <td>Yes</td>\n",
       "      <td>7</td>\n",
       "      <td>2</td>\n",
       "      <td>45.0</td>\n",
       "    </tr>\n",
       "    <tr>\n",
       "      <th>3</th>\n",
       "      <td>5</td>\n",
       "      <td>52</td>\n",
       "      <td>Yes</td>\n",
       "      <td>5</td>\n",
       "      <td>2</td>\n",
       "      <td>36.0</td>\n",
       "    </tr>\n",
       "    <tr>\n",
       "      <th>4</th>\n",
       "      <td>7</td>\n",
       "      <td>75</td>\n",
       "      <td>No</td>\n",
       "      <td>8</td>\n",
       "      <td>5</td>\n",
       "      <td>66.0</td>\n",
       "    </tr>\n",
       "  </tbody>\n",
       "</table>\n",
       "</div>"
      ],
      "text/plain": [
       "   Hours Studied  Previous Scores Extracurricular Activities  Sleep Hours  \\\n",
       "0              7               99                        Yes            9   \n",
       "1              4               82                         No            4   \n",
       "2              8               51                        Yes            7   \n",
       "3              5               52                        Yes            5   \n",
       "4              7               75                         No            8   \n",
       "\n",
       "   Sample Question Papers Practiced  Performance Index  \n",
       "0                                 1               91.0  \n",
       "1                                 2               65.0  \n",
       "2                                 2               45.0  \n",
       "3                                 2               36.0  \n",
       "4                                 5               66.0  "
      ]
     },
     "execution_count": 5,
     "metadata": {},
     "output_type": "execute_result"
    }
   ],
   "source": [
    "# 显示数据的前几行，以检查数据是否正确读取\n",
    "data.head()"
   ]
  },
  {
   "cell_type": "code",
   "execution_count": 6,
   "metadata": {},
   "outputs": [
    {
     "data": {
      "text/plain": [
       "Hours Studied                         int64\n",
       "Previous Scores                       int64\n",
       "Extracurricular Activities           object\n",
       "Sleep Hours                           int64\n",
       "Sample Question Papers Practiced      int64\n",
       "Performance Index                   float64\n",
       "dtype: object"
      ]
     },
     "execution_count": 6,
     "metadata": {},
     "output_type": "execute_result"
    }
   ],
   "source": [
    "# 显示变量类型\n",
    "data.dtypes"
   ]
  },
  {
   "cell_type": "markdown",
   "metadata": {},
   "source": [
    "# data pre-processing"
   ]
  },
  {
   "cell_type": "code",
   "execution_count": 7,
   "metadata": {},
   "outputs": [],
   "source": [
    "# 处理分类特征\n",
    "\n",
    "# 方法1：标签编码（Label Encoding）：当特征是二分类的（比如“是”和“否”）时：\n",
    "data['Extracurricular Activities'] = data['Extracurricular Activities'].map({'Yes': 1, 'No': 0})\n",
    "\n",
    "# 方法2：独热编码（One-Hot Encoding）：创建新的列来表示分类变量的可能值。每一列对应一个可能的值，该列中的值为1时表示该行数据为该值，否则为0\n",
    "# 如果类别特征具有三个或更多不同的值，并且这些值之间没有内在的顺序（例如颜色、类型等），那么使用独热编码可能更合适\n",
    "# data = pd.get_dummies(data, columns=['Extracurricular Activities'])"
   ]
  },
  {
   "cell_type": "code",
   "execution_count": 8,
   "metadata": {},
   "outputs": [
    {
     "data": {
      "text/html": [
       "<div>\n",
       "<style scoped>\n",
       "    .dataframe tbody tr th:only-of-type {\n",
       "        vertical-align: middle;\n",
       "    }\n",
       "\n",
       "    .dataframe tbody tr th {\n",
       "        vertical-align: top;\n",
       "    }\n",
       "\n",
       "    .dataframe thead th {\n",
       "        text-align: right;\n",
       "    }\n",
       "</style>\n",
       "<table border=\"1\" class=\"dataframe\">\n",
       "  <thead>\n",
       "    <tr style=\"text-align: right;\">\n",
       "      <th></th>\n",
       "      <th>Hours Studied</th>\n",
       "      <th>Previous Scores</th>\n",
       "      <th>Extracurricular Activities</th>\n",
       "      <th>Sleep Hours</th>\n",
       "      <th>Sample Question Papers Practiced</th>\n",
       "      <th>Performance Index</th>\n",
       "    </tr>\n",
       "  </thead>\n",
       "  <tbody>\n",
       "    <tr>\n",
       "      <th>0</th>\n",
       "      <td>7</td>\n",
       "      <td>99</td>\n",
       "      <td>1</td>\n",
       "      <td>9</td>\n",
       "      <td>1</td>\n",
       "      <td>91.0</td>\n",
       "    </tr>\n",
       "    <tr>\n",
       "      <th>1</th>\n",
       "      <td>4</td>\n",
       "      <td>82</td>\n",
       "      <td>0</td>\n",
       "      <td>4</td>\n",
       "      <td>2</td>\n",
       "      <td>65.0</td>\n",
       "    </tr>\n",
       "    <tr>\n",
       "      <th>2</th>\n",
       "      <td>8</td>\n",
       "      <td>51</td>\n",
       "      <td>1</td>\n",
       "      <td>7</td>\n",
       "      <td>2</td>\n",
       "      <td>45.0</td>\n",
       "    </tr>\n",
       "    <tr>\n",
       "      <th>3</th>\n",
       "      <td>5</td>\n",
       "      <td>52</td>\n",
       "      <td>1</td>\n",
       "      <td>5</td>\n",
       "      <td>2</td>\n",
       "      <td>36.0</td>\n",
       "    </tr>\n",
       "    <tr>\n",
       "      <th>4</th>\n",
       "      <td>7</td>\n",
       "      <td>75</td>\n",
       "      <td>0</td>\n",
       "      <td>8</td>\n",
       "      <td>5</td>\n",
       "      <td>66.0</td>\n",
       "    </tr>\n",
       "  </tbody>\n",
       "</table>\n",
       "</div>"
      ],
      "text/plain": [
       "   Hours Studied  Previous Scores  Extracurricular Activities  Sleep Hours  \\\n",
       "0              7               99                           1            9   \n",
       "1              4               82                           0            4   \n",
       "2              8               51                           1            7   \n",
       "3              5               52                           1            5   \n",
       "4              7               75                           0            8   \n",
       "\n",
       "   Sample Question Papers Practiced  Performance Index  \n",
       "0                                 1               91.0  \n",
       "1                                 2               65.0  \n",
       "2                                 2               45.0  \n",
       "3                                 2               36.0  \n",
       "4                                 5               66.0  "
      ]
     },
     "execution_count": 8,
     "metadata": {},
     "output_type": "execute_result"
    }
   ],
   "source": [
    "# 再次查看是否处理成功\n",
    "data.head()"
   ]
  },
  {
   "cell_type": "code",
   "execution_count": 9,
   "metadata": {},
   "outputs": [
    {
     "data": {
      "text/plain": [
       "Hours Studied                         int64\n",
       "Previous Scores                       int64\n",
       "Extracurricular Activities            int64\n",
       "Sleep Hours                           int64\n",
       "Sample Question Papers Practiced      int64\n",
       "Performance Index                   float64\n",
       "dtype: object"
      ]
     },
     "execution_count": 9,
     "metadata": {},
     "output_type": "execute_result"
    }
   ],
   "source": [
    "# 再次查看是否处理成功\n",
    "data.dtypes"
   ]
  },
  {
   "cell_type": "markdown",
   "metadata": {},
   "source": [
    "# split data"
   ]
  },
  {
   "cell_type": "code",
   "execution_count": 10,
   "metadata": {},
   "outputs": [
    {
     "name": "stdout",
     "output_type": "stream",
     "text": [
      "      Hours Studied  Previous Scores  Extracurricular Activities  Sleep Hours  \\\n",
      "0                 7               99                           1            9   \n",
      "1                 4               82                           0            4   \n",
      "2                 8               51                           1            7   \n",
      "3                 5               52                           1            5   \n",
      "4                 7               75                           0            8   \n",
      "...             ...              ...                         ...          ...   \n",
      "9995              1               49                           1            4   \n",
      "9996              7               64                           1            8   \n",
      "9997              6               83                           1            8   \n",
      "9998              9               97                           1            7   \n",
      "9999              7               74                           0            8   \n",
      "\n",
      "      Sample Question Papers Practiced  \n",
      "0                                    1  \n",
      "1                                    2  \n",
      "2                                    2  \n",
      "3                                    2  \n",
      "4                                    5  \n",
      "...                                ...  \n",
      "9995                                 2  \n",
      "9996                                 5  \n",
      "9997                                 5  \n",
      "9998                                 0  \n",
      "9999                                 1  \n",
      "\n",
      "[10000 rows x 5 columns]\n"
     ]
    }
   ],
   "source": [
    "# 定义特征列和目标列\n",
    "X = data.drop('Performance Index', axis=1) # 去掉target列，剩下的是features\n",
    "y = data['Performance Index'] # 单独拿出target列\n",
    "X_features = ['Hours Studied', 'Previous Scores', 'Extracurricular Activities', 'Sleep Hours', 'Sample Question Papers Practiced']\n",
    "\n",
    "print(X) # 需要时可查看\n",
    "# print(y)"
   ]
  },
  {
   "cell_type": "code",
   "execution_count": 11,
   "metadata": {},
   "outputs": [],
   "source": [
    "# 分割数据集\n",
    "X_train, X_test, y_train, y_test = train_test_split(X, y, test_size=0.2, random_state=42)\n",
    "# 将数据集分割为训练集和测试集，通常使用70%-30%或80%-20%的比例\n",
    "# test_size=0.2 指定了测试集应占总数据集的 20%。这意味着剩余的 80% 数据将用作训练集。\n",
    "# random_state=42 是一个随机数种子，用于控制数据分割的随机性。设置这个参数可以确保每次运行代码时数据的分割方式相同，这有助于实验结果的可重复性。"
   ]
  },
  {
   "cell_type": "markdown",
   "metadata": {},
   "source": [
    "# method 1: LinearRegression"
   ]
  },
  {
   "cell_type": "markdown",
   "metadata": {},
   "source": [
    "## create model"
   ]
  },
  {
   "cell_type": "markdown",
   "metadata": {},
   "source": [
    "**no require normalization**"
   ]
  },
  {
   "cell_type": "code",
   "execution_count": 12,
   "metadata": {},
   "outputs": [
    {
     "data": {
      "text/html": [
       "<style>#sk-container-id-1 {color: black;background-color: white;}#sk-container-id-1 pre{padding: 0;}#sk-container-id-1 div.sk-toggleable {background-color: white;}#sk-container-id-1 label.sk-toggleable__label {cursor: pointer;display: block;width: 100%;margin-bottom: 0;padding: 0.3em;box-sizing: border-box;text-align: center;}#sk-container-id-1 label.sk-toggleable__label-arrow:before {content: \"▸\";float: left;margin-right: 0.25em;color: #696969;}#sk-container-id-1 label.sk-toggleable__label-arrow:hover:before {color: black;}#sk-container-id-1 div.sk-estimator:hover label.sk-toggleable__label-arrow:before {color: black;}#sk-container-id-1 div.sk-toggleable__content {max-height: 0;max-width: 0;overflow: hidden;text-align: left;background-color: #f0f8ff;}#sk-container-id-1 div.sk-toggleable__content pre {margin: 0.2em;color: black;border-radius: 0.25em;background-color: #f0f8ff;}#sk-container-id-1 input.sk-toggleable__control:checked~div.sk-toggleable__content {max-height: 200px;max-width: 100%;overflow: auto;}#sk-container-id-1 input.sk-toggleable__control:checked~label.sk-toggleable__label-arrow:before {content: \"▾\";}#sk-container-id-1 div.sk-estimator input.sk-toggleable__control:checked~label.sk-toggleable__label {background-color: #d4ebff;}#sk-container-id-1 div.sk-label input.sk-toggleable__control:checked~label.sk-toggleable__label {background-color: #d4ebff;}#sk-container-id-1 input.sk-hidden--visually {border: 0;clip: rect(1px 1px 1px 1px);clip: rect(1px, 1px, 1px, 1px);height: 1px;margin: -1px;overflow: hidden;padding: 0;position: absolute;width: 1px;}#sk-container-id-1 div.sk-estimator {font-family: monospace;background-color: #f0f8ff;border: 1px dotted black;border-radius: 0.25em;box-sizing: border-box;margin-bottom: 0.5em;}#sk-container-id-1 div.sk-estimator:hover {background-color: #d4ebff;}#sk-container-id-1 div.sk-parallel-item::after {content: \"\";width: 100%;border-bottom: 1px solid gray;flex-grow: 1;}#sk-container-id-1 div.sk-label:hover label.sk-toggleable__label {background-color: #d4ebff;}#sk-container-id-1 div.sk-serial::before {content: \"\";position: absolute;border-left: 1px solid gray;box-sizing: border-box;top: 0;bottom: 0;left: 50%;z-index: 0;}#sk-container-id-1 div.sk-serial {display: flex;flex-direction: column;align-items: center;background-color: white;padding-right: 0.2em;padding-left: 0.2em;position: relative;}#sk-container-id-1 div.sk-item {position: relative;z-index: 1;}#sk-container-id-1 div.sk-parallel {display: flex;align-items: stretch;justify-content: center;background-color: white;position: relative;}#sk-container-id-1 div.sk-item::before, #sk-container-id-1 div.sk-parallel-item::before {content: \"\";position: absolute;border-left: 1px solid gray;box-sizing: border-box;top: 0;bottom: 0;left: 50%;z-index: -1;}#sk-container-id-1 div.sk-parallel-item {display: flex;flex-direction: column;z-index: 1;position: relative;background-color: white;}#sk-container-id-1 div.sk-parallel-item:first-child::after {align-self: flex-end;width: 50%;}#sk-container-id-1 div.sk-parallel-item:last-child::after {align-self: flex-start;width: 50%;}#sk-container-id-1 div.sk-parallel-item:only-child::after {width: 0;}#sk-container-id-1 div.sk-dashed-wrapped {border: 1px dashed gray;margin: 0 0.4em 0.5em 0.4em;box-sizing: border-box;padding-bottom: 0.4em;background-color: white;}#sk-container-id-1 div.sk-label label {font-family: monospace;font-weight: bold;display: inline-block;line-height: 1.2em;}#sk-container-id-1 div.sk-label-container {text-align: center;}#sk-container-id-1 div.sk-container {/* jupyter's `normalize.less` sets `[hidden] { display: none; }` but bootstrap.min.css set `[hidden] { display: none !important; }` so we also need the `!important` here to be able to override the default hidden behavior on the sphinx rendered scikit-learn.org. See: https://github.com/scikit-learn/scikit-learn/issues/21755 */display: inline-block !important;position: relative;}#sk-container-id-1 div.sk-text-repr-fallback {display: none;}</style><div id=\"sk-container-id-1\" class=\"sk-top-container\"><div class=\"sk-text-repr-fallback\"><pre>LinearRegression()</pre><b>In a Jupyter environment, please rerun this cell to show the HTML representation or trust the notebook. <br />On GitHub, the HTML representation is unable to render, please try loading this page with nbviewer.org.</b></div><div class=\"sk-container\" hidden><div class=\"sk-item\"><div class=\"sk-estimator sk-toggleable\"><input class=\"sk-toggleable__control sk-hidden--visually\" id=\"sk-estimator-id-1\" type=\"checkbox\" checked><label for=\"sk-estimator-id-1\" class=\"sk-toggleable__label sk-toggleable__label-arrow\">LinearRegression</label><div class=\"sk-toggleable__content\"><pre>LinearRegression()</pre></div></div></div></div></div>"
      ],
      "text/plain": [
       "LinearRegression()"
      ]
     },
     "execution_count": 12,
     "metadata": {},
     "output_type": "execute_result"
    }
   ],
   "source": [
    "# 创建线性回归模型\n",
    "model_lr = LinearRegression()\n",
    "\n",
    "# 训练模型(notice: X must be a 2-D Matrix!)\n",
    "model_lr.fit(X_train, y_train)"
   ]
  },
  {
   "cell_type": "markdown",
   "metadata": {},
   "source": [
    "## View Parameters "
   ]
  },
  {
   "cell_type": "code",
   "execution_count": 13,
   "metadata": {},
   "outputs": [
    {
     "name": "stdout",
     "output_type": "stream",
     "text": [
      "模型系数: [2.85 1.02 0.61 0.48 0.19]\n",
      "截距: -33.92194621555637\n"
     ]
    }
   ],
   "source": [
    "# 获取模型的系数和截距\n",
    "w_lr = model_lr.coef_\n",
    "b_lr = model_lr.intercept_\n",
    "\n",
    "# 打印系数和截距\n",
    "print(\"模型系数:\", w_lr)\n",
    "print(\"截距:\", b_lr)"
   ]
  },
  {
   "cell_type": "code",
   "execution_count": 14,
   "metadata": {},
   "outputs": [
    {
     "name": "stdout",
     "output_type": "stream",
     "text": [
      "特征和对应的系数:\n",
      "Hours Studied: 2.852483930072587\n",
      "Previous Scores: 1.0169881989329308\n",
      "Extracurricular Activities: 0.6086166795764204\n",
      "Sleep Hours: 0.4769414841762726\n",
      "Sample Question Papers Practiced: 0.191831441450543\n",
      "截距: -33.92194621555637\n"
     ]
    }
   ],
   "source": [
    "# 将特征名和对应的系数打印出来\n",
    "feature_names = X.columns\n",
    "coefficients_lr = model_lr.coef_\n",
    "feature_coefficients_lr = zip(feature_names, coefficients_lr)\n",
    "print(\"特征和对应的系数:\")\n",
    "for feature_lr, coef_lr in feature_coefficients_lr:\n",
    "    print(f\"{feature_lr}: {coef_lr}\")\n",
    "print(f\"截距: {model_lr.intercept_}\")"
   ]
  },
  {
   "cell_type": "markdown",
   "metadata": {},
   "source": [
    "## evaluate model"
   ]
  },
  {
   "cell_type": "markdown",
   "metadata": {},
   "source": [
    "**均方误差 (MSE)：**\n",
    "\n",
    "- 均方误差是实际值和预测值之差的平方的平均值。\n",
    "\n",
    "- MSE越小，表示模型的预测越接近真实数据。\n",
    "\n",
    "**决定系数 (R²)：**\n",
    "\n",
    "- 决定系数是衡量模型解释数据变异的能力的指标。\n",
    "\n",
    "- 其值通常在 0 到 1 之间，接近 1 表示模型能够很好地解释目标变量的变化，接近 0 则表示解释力弱。"
   ]
  },
  {
   "cell_type": "code",
   "execution_count": 15,
   "metadata": {},
   "outputs": [
    {
     "name": "stdout",
     "output_type": "stream",
     "text": [
      "均方误差 (MSE): 4.082628398521854\n",
      "决定系数 (R²): 0.9889832909573145\n"
     ]
    }
   ],
   "source": [
    "# 进行预测\n",
    "y_pred_lr = model_lr.predict(X_test)\n",
    "\n",
    "# 评估模型\n",
    "mse_lr = mean_squared_error(y_test, y_pred_lr)\n",
    "r2_lr = r2_score(y_test, y_pred_lr)\n",
    "\n",
    "print(\"均方误差 (MSE):\", mse_lr)\n",
    "print(\"决定系数 (R²):\", r2_lr)"
   ]
  },
  {
   "cell_type": "markdown",
   "metadata": {},
   "source": [
    "## plot"
   ]
  },
  {
   "cell_type": "code",
   "execution_count": 16,
   "metadata": {},
   "outputs": [
    {
     "name": "stdout",
     "output_type": "stream",
     "text": [
      "X_train shape: (8000, 5)\n",
      "y_train shape: (8000,)\n",
      "y_tr_pred_lr shape: (8000,)\n",
      "Number of subplots: 5\n"
     ]
    },
    {
     "data": {
      "image/png": "[encoded data removed]",
      "text/plain": [
       "<Figure size 1200x300 with 5 Axes>"
      ]
     },
     "metadata": {},
     "output_type": "display_data"
    }
   ],
   "source": [
    "# 为画图，求下X_train的预测值y_tr_pred_lr，把他与y_train对比\n",
    "y_tr_pred_lr = model_lr.predict(X_train)\n",
    "\n",
    "\n",
    "# 确认数据的形状，比如保证行数相等才行\n",
    "print(\"X_train shape:\", X_train.shape)\n",
    "print(\"y_train shape:\", y_train.shape)\n",
    "print(\"y_tr_pred_lr shape:\", y_tr_pred_lr.shape)\n",
    "\n",
    "# 创建子图网格\n",
    "fig, ax = plt.subplots(1, len(X_features), figsize=(12, 3), sharey=True)\n",
    "\n",
    "# 检查循环的长度\n",
    "print(\"Number of subplots:\", len(ax))\n",
    "\n",
    "# 绘制散点图\n",
    "for i, feature in enumerate(X_features):\n",
    "    ax[i].scatter(X_train[feature], y_train, label='target')\n",
    "    ax[i].scatter(X_train[feature], y_tr_pred_lr, color='#FF9300', label='predict')\n",
    "    ax[i].set_xlabel(feature)\n",
    "\n",
    "# 设置纵轴标签和标题\n",
    "ax[0].set_ylabel(\"Performance\")\n",
    "ax[0].legend()\n",
    "fig.suptitle(\"Target versus Prediction\")\n",
    "plt.show()"
   ]
  },
  {
   "cell_type": "markdown",
   "metadata": {},
   "source": [
    "## prediction"
   ]
  },
  {
   "cell_type": "code",
   "execution_count": 38,
   "metadata": {},
   "outputs": [
    {
     "name": "stdout",
     "output_type": "stream",
     "text": [
      "[61.21 87.14]\n"
     ]
    },
    {
     "name": "stderr",
     "output_type": "stream",
     "text": [
      "d:\\python\\anaconda\\Lib\\site-packages\\sklearn\\base.py:439: UserWarning: X does not have valid feature names, but LinearRegression was fitted with feature names\n",
      "  warnings.warn(\n"
     ]
    }
   ],
   "source": [
    "# 假设 new_features 是你要预测的新特征集\n",
    "new_features = np.array([[8, 66, 1, 8, 4],\n",
    " [8, 92, 0, 9, 2]])\n",
    "\n",
    "# 使用LinearRegression模型预测\n",
    "predicted_values_lr = model_lr.predict(new_features)\n",
    "\n",
    "print(predicted_values_lr)"
   ]
  },
  {
   "cell_type": "markdown",
   "metadata": {},
   "source": [
    "# method 2: SGDRegressor"
   ]
  },
  {
   "cell_type": "markdown",
   "metadata": {},
   "source": [
    "## Scale/normalize the training data"
   ]
  },
  {
   "cell_type": "code",
   "execution_count": 18,
   "metadata": {},
   "outputs": [],
   "source": [
    "# 数据标准化\n",
    "scaler = StandardScaler()\n",
    "\n",
    "# 注意：只在训练集上fit\n",
    "X_train_scaled = scaler.fit_transform(X_train)\n",
    "X_test_scaled = scaler.transform(X_test)  # 使用相同的标准化参数应用于测试集\n",
    "\n",
    "\n",
    "# print(f\"Peak to Peak range by column in Raw        X:{np.ptp(X_train,axis=0)}\")   \n",
    "# # np.ptp的作用是计算 X_train 数组在指定轴（这里是 axis=0，即沿着每列）上的数值范围（peak to peak，即最大值与最小值之差）。\n",
    "# print(f\"Peak to Peak range by column in Normalized X:{np.ptp(X_train_scaled,axis=0)}\")"
   ]
  },
  {
   "cell_type": "markdown",
   "metadata": {},
   "source": [
    "## create model"
   ]
  },
  {
   "cell_type": "code",
   "execution_count": 19,
   "metadata": {},
   "outputs": [
    {
     "name": "stdout",
     "output_type": "stream",
     "text": [
      "number of iterations completed: 8, number of weight updates: 64001.0\n"
     ]
    }
   ],
   "source": [
    "model_sgd = SGDRegressor(max_iter=10000) # , tol=1e-3\n",
    "# max_iter：这是一个整数，指定最大迭代次数\n",
    "# tol：这是一个浮点数，指定了停止训练前损失值必须达到的改进阈值。\n",
    "    # 简单来说，如果在一次迭代后模型的损失减少小于这个阈值（1e-3 或 0.001），训练过程将提前停止。\n",
    "    # 这是一个早停机制，用来避免过多无效的计算，并在模型不再显著提升时停止训练。\n",
    "model_sgd.fit(X_train_scaled, y_train)\n",
    "\n",
    "print(f\"number of iterations completed: {model_sgd.n_iter_}, number of weight updates: {model_sgd.t_}\")\n",
    "# model_sgd.n_iter_：这个属性表示模型实际完成的迭代次数\n",
    "# model_sgd.t_：这个属性显示在训练过程中进行的权重更新次数\n",
    "    # 每次迭代中，SGD 会用一个（或一小批）样本来更新模型的权重，t_ 表示从训练开始到结束，总共进行了多少次这样的更新。\n",
    "    # 这个数字通常等于训练样本数量乘以迭代次数，\n",
    "    # 但如果使用了小批量（mini-batch）训练方法，这个数字会相应地调整。"
   ]
  },
  {
   "cell_type": "markdown",
   "metadata": {},
   "source": [
    "## View parameters"
   ]
  },
  {
   "cell_type": "code",
   "execution_count": 20,
   "metadata": {},
   "outputs": [
    {
     "name": "stdout",
     "output_type": "stream",
     "text": [
      "模型系数: [ 7.44 17.61  0.28  0.83  0.56]\n",
      "截距: [55.33]\n"
     ]
    }
   ],
   "source": [
    "# 获取模型的系数和截距\n",
    "w_sgd = model_sgd.coef_\n",
    "b_sgd = model_sgd.intercept_\n",
    "\n",
    "# 打印系数和截距\n",
    "print(\"模型系数:\", w_sgd)\n",
    "print(\"截距:\", b_sgd)"
   ]
  },
  {
   "cell_type": "code",
   "execution_count": 21,
   "metadata": {},
   "outputs": [
    {
     "name": "stdout",
     "output_type": "stream",
     "text": [
      "特征和对应的系数:\n",
      "Hours Studied: 7.4373937615650565\n",
      "Previous Scores: 17.610190354384383\n",
      "Extracurricular Activities: 0.2757011197248147\n",
      "Sleep Hours: 0.8319403202206994\n",
      "Sample Question Papers Practiced: 0.5566182180189096\n",
      "截距: [55.33]\n"
     ]
    }
   ],
   "source": [
    "# 将特征名和对应的系数打印出来\n",
    "feature_names = X.columns\n",
    "coefficients_sgd = model_sgd.coef_\n",
    "feature_coefficients_sgd = zip(feature_names, coefficients_sgd)\n",
    "print(\"特征和对应的系数:\")\n",
    "for feature_sgd, coef_sgd in feature_coefficients_sgd:\n",
    "    print(f\"{feature_sgd}: {coef_sgd}\")\n",
    "print(f\"截距: {model_sgd.intercept_}\")"
   ]
  },
  {
   "cell_type": "markdown",
   "metadata": {},
   "source": [
    "## evaluate model"
   ]
  },
  {
   "cell_type": "code",
   "execution_count": 22,
   "metadata": {},
   "outputs": [
    {
     "name": "stdout",
     "output_type": "stream",
     "text": [
      "均方误差 (MSE): 4.095560022547416\n",
      "决定系数 (R²): 0.9889483958051154\n"
     ]
    }
   ],
   "source": [
    "# 在测试集上预测\n",
    "y_pred_sgd = model_sgd.predict(X_test_scaled)\n",
    "\n",
    "# 评估模型\n",
    "mse_sgd = mean_squared_error(y_test, y_pred_sgd)\n",
    "r2_sgd = r2_score(y_test, y_pred_sgd)\n",
    "\n",
    "print(\"均方误差 (MSE):\", mse_sgd)\n",
    "print(\"决定系数 (R²):\", r2_sgd)"
   ]
  },
  {
   "cell_type": "markdown",
   "metadata": {},
   "source": [
    "## plot"
   ]
  },
  {
   "cell_type": "code",
   "execution_count": 23,
   "metadata": {},
   "outputs": [
    {
     "name": "stdout",
     "output_type": "stream",
     "text": [
      "X_train_scaled shape: (8000, 5)\n",
      "y_train shape: (8000,)\n",
      "y_tr_pred_sgd shape: (8000,)\n",
      "Number of subplots: 5\n"
     ]
    },
    {
     "data": {
      "image/png": "[encoded data removed]",
      "text/plain": [
       "<Figure size 1200x300 with 5 Axes>"
      ]
     },
     "metadata": {},
     "output_type": "display_data"
    }
   ],
   "source": [
    "# 为画图，求下X_train_scaled的预测值y_tr_pred_sgd，把他与y_train对比\n",
    "y_tr_pred_sgd = model_sgd.predict(X_train_scaled)\n",
    "\n",
    "\n",
    "# 确认数据的形状，比如保证行数相等才行\n",
    "print(\"X_train_scaled shape:\", X_train_scaled.shape)\n",
    "print(\"y_train shape:\", y_train.shape)\n",
    "print(\"y_tr_pred_sgd shape:\", y_tr_pred_sgd.shape)\n",
    "\n",
    "# 创建子图网格\n",
    "fig, ax = plt.subplots(1, len(X_features), figsize=(12, 3), sharey=True)\n",
    "\n",
    "# 检查循环的长度\n",
    "print(\"Number of subplots:\", len(ax))\n",
    "\n",
    "# 绘制散点图\n",
    "for i, feature in enumerate(X_features):\n",
    "    ax[i].scatter(X_train_scaled[:, i], y_train, label='target')\n",
    "    ax[i].scatter(X_train_scaled[:, i], y_tr_pred_sgd, color='#FF9300', label='predict')\n",
    "    ax[i].set_xlabel(feature)\n",
    "\n",
    "# 设置纵轴标签和标题\n",
    "ax[0].set_ylabel(\"Performance\")\n",
    "ax[0].legend()\n",
    "fig.suptitle(\"Target versus Prediction\")\n",
    "plt.show()"
   ]
  },
  {
   "cell_type": "markdown",
   "metadata": {},
   "source": [
    "## prediction"
   ]
  },
  {
   "cell_type": "code",
   "execution_count": 45,
   "metadata": {},
   "outputs": [
    {
     "name": "stdout",
     "output_type": "stream",
     "text": [
      "[37.73 72.94]\n"
     ]
    }
   ],
   "source": [
    "# 假设 new_features 是你要预测的新特征集\n",
    "new_features_sgd = np.array([[8, 8, 1, 8, 4],\n",
    " [8, 92, 0, 9, 2]])\n",
    "\n",
    "new_features_scaled = scaler.fit_transform(new_features_sgd)\n",
    "\n",
    "# 使用LinearRegression模型预测\n",
    "predicted_values_sgd = model_sgd.predict(new_features_scaled)\n",
    "\n",
    "print(predicted_values_sgd)"
   ]
  },
  {
   "cell_type": "code",
   "execution_count": null,
   "metadata": {},
   "outputs": [],
   "source": []
  }
 ],
 "metadata": {
  "kernelspec": {
   "display_name": "base",
   "language": "python",
   "name": "python3"
  },
  "language_info": {
   "codemirror_mode": {
    "name": "ipython",
    "version": 3
   },
   "file_extension": ".py",
   "mimetype": "text/x-python",
   "name": "python",
   "nbconvert_exporter": "python",
   "pygments_lexer": "ipython3",
   "version": "3.11.7"
  }
 },
 "nbformat": 4,
 "nbformat_minor": 2
}
