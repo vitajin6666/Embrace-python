{
 "cells": [
  {
   "cell_type": "markdown",
   "metadata": {
    "id": "Lzk7iX_CodX6",
    "tags": []
   },
   "source": [
    "# <img align=\"left\" src=\"./images/movie_camera.png\"     style=\" width:40px;  \" > Practice lab: Collaborative Filtering Recommender Systems\n",
    "\n",
    "In this exercise, you will implement collaborative filtering to build a recommender system for movies. \n",
    "\n",
    "# <img align=\"left\" src=\"./images/film_reel.png\"     style=\" width:40px;  \" > Outline\n",
    "- [ 1 - Notation](#1)\n",
    "- [ 2 - Recommender Systems](#2)\n",
    "- [ 3 - Movie ratings dataset](#3)\n",
    "- [ 4 - Collaborative filtering learning algorithm](#4)\n",
    "  - [ 4.1 Collaborative filtering cost function](#4.1)\n",
    "    - [ Exercise 1](#ex01)\n",
    "- [ 5 - Learning movie recommendations](#5)\n",
    "- [ 6 - Recommendations](#6)\n",
    "- [ 7 - Congratulations!](#7)\n",
    "\n",
    "\n"
   ]
  },
  {
   "cell_type": "markdown",
   "metadata": {},
   "source": [
    "##  Packages <img align=\"left\" src=\"./images/film_strip_vertical.png\"     style=\" width:40px;   \" >\n",
    "We will use the now familiar NumPy and Tensorflow Packages."
   ]
  },
  {
   "cell_type": "code",
   "execution_count": 1,
   "metadata": {},
   "outputs": [],
   "source": [
    "import numpy as np\n",
    "import tensorflow as tf\n",
    "from tensorflow import keras\n",
    "from recsys_utils import *"
   ]
  },
  {
   "cell_type": "markdown",
   "metadata": {},
   "source": [
    "<a name=\"1\"></a>\n",
    "## 1 - Notation\n"
   ]
  },
  {
   "cell_type": "markdown",
   "metadata": {},
   "source": [
    "|General <br />  Notation  | Description| Python (if any) |\n",
    "\n",
    "|:-------------|:------------------------------------------------------------||\n",
    "\n",
    "| $r(i,j)$     | scalar = 1  if user j rated game; i  = 0  otherwise             ||\n",
    "\n",
    "| $y(i,j)$     | scalar; = rating given by user j on game  i    (if r(i,j) = 1 is defined) ||\n",
    "\n",
    "|$\\mathbf{w}^{(j)}$ | vector; parameters for user j ||\n",
    "\n",
    "|$b^{(j)}$     |  scalar; parameter for user j ||\n",
    "\n",
    "| $\\mathbf{x}^{(i)}$ |   vector; feature ratings for movie i        ||    \n",
    "\n",
    "| $n_u$        | number of users |num_users|\n",
    "\n",
    "| $n_m$        | number of movies | num_movies |\n",
    "\n",
    "| $n$          | number of features | num_features                    |\n",
    "\n",
    "| $\\mathbf{X}$ |  matrix of vectors $\\mathbf{x}^{(i)}$         | X |\n",
    "\n",
    "| $\\mathbf{W}$ |  matrix of vectors $\\mathbf{w}^{(j)}$         | W |\n",
    "\n",
    "| $\\mathbf{b}$ |  vector of bias parameters $b^{(j)}$ | b |\n",
    "\n",
    "| $\\mathbf{R}$ | matrix of elements $r(i,j)$                    | R |\n",
    "\n",
    "\n"
   ]
  },
  {
   "cell_type": "markdown",
   "metadata": {},
   "source": [
    "$r(i,j)$\t标量；如果用户 j 评价了游戏 i 则 = 1，否则 = 0\t\n",
    "\n",
    "$y(i,j)$\t标量；用户 j 对游戏 i 给的评分（如果 $r(i,j) = 1$，则已定义）\n",
    "\n",
    "$\\mathbf{w}^{(j)}$\t向量；用户 j 的参数\t\n",
    "\n",
    "$b^{(j)}$\t标量；用户 j 的偏差参数\t\n",
    "\n",
    "$\\mathbf{x}^{(i)}$\t向量；游戏 i 的特征评分\t\n",
    "\n",
    "$n_u$\t用户数\tnum_users\n",
    "\n",
    "$n_m$\t游戏数\tnum_movies\n",
    "\n",
    "$n$\t特征数\tnum_features\n",
    "\n",
    "$\\mathbf{X}$\t向量 $\\mathbf{x}^{(i)}$ 的矩阵\tX\n",
    "\n",
    "$\\mathbf{W}$\t向量 $\\mathbf{w}^{(j)}$ 的矩阵\tW\n",
    "\n",
    "$\\mathbf{b}$\t偏差参数 $b^{(j)}$ 的向量\tb\n",
    "\n",
    "$\\mathbf{R}$\t元素 $r(i,j)$ 的矩阵\tR\n",
    "\n",
    "Y 是用户-项目评分矩阵，元素 𝑦𝑖𝑗表示用户 𝑗 对项目 𝑖 的评分"
   ]
  },
  {
   "cell_type": "markdown",
   "metadata": {
    "tags": []
   },
   "source": [
    "<a name=\"2\"></a>\n",
    "## 2 - Recommender Systems <img align=\"left\" src=\"./images/film_rating.png\" style=\" width:40px;  \" >\n",
    "In this lab, you will implement the collaborative filtering learning algorithm and apply it to a dataset of movie ratings.\n",
    "The goal of a collaborative filtering recommender system is to generate two vectors: \n",
    "\n",
    "For each user, a 'parameter vector' that embodies the movie tastes of a user. \n",
    "\n",
    "For each movie, a feature vector of the same size which embodies some description of the movie. \n",
    "\n",
    "The dot product of the two vectors plus the bias term should produce an estimate of the rating the user might give to that movie.\n",
    "\n",
    "The diagram below details how these vectors are learned."
   ]
  },
  {
   "cell_type": "markdown",
   "metadata": {},
   "source": [
    "<figure>\n",
    "   <img src=\"./images/ColabFilterLearn.PNG\"  style=\"width:740px;height:250px;\" >\n",
    "</figure>"
   ]
  },
  {
   "cell_type": "markdown",
   "metadata": {},
   "source": [
    "Existing ratings are provided in matrix form as shown. $Y$ contains ratings; 0.5 to 5 inclusive in 0.5 steps. 0 if the movie has not been rated. $R$ has a 1 where movies have been rated. Movies are in rows, users in columns. Each user has a parameter vector $w^{user}$ and bias. Each movie has a feature vector $x^{movie}$. These vectors are simultaneously learned by using the existing user/movie ratings as training data. One training example is shown above: $\\mathbf{w}^{(1)} \\cdot \\mathbf{x}^{(1)} + b^{(1)} = 4$. It is worth noting that the feature vector $x^{movie}$ must satisfy all the users while the user vector $w^{user}$ must satisfy all the movies. This is the source of the name of this approach - all the users collaborate to generate the rating set. "
   ]
  },
  {
   "cell_type": "markdown",
   "metadata": {},
   "source": [
    "<figure>\n",
    "   <img src=\"./images/ColabFilterUse.PNG\"  style=\"width:640px;height:250px;\" >\n",
    "</figure>"
   ]
  },
  {
   "cell_type": "markdown",
   "metadata": {},
   "source": [
    "Once the feature vectors and parameters are learned, they can be used to predict how a user might rate an unrated movie. This is shown in the diagram above. The equation is an example of predicting a rating for user one on movie zero."
   ]
  },
  {
   "cell_type": "markdown",
   "metadata": {},
   "source": [
    "\n",
    "In this exercise, you will implement the function `cofiCostFunc` that computes the collaborative filtering\n",
    "objective function. After implementing the objective function, you will use a TensorFlow custom training loop to learn the parameters for collaborative filtering. The first step is to detail the data set and data structures that will be used in the lab."
   ]
  },
  {
   "cell_type": "markdown",
   "metadata": {
    "id": "6-09Hto6odYD"
   },
   "source": [
    "<a name=\"3\"></a>\n",
    "## 3 - Movie ratings dataset <img align=\"left\" src=\"./images/film_rating.png\"     style=\" width:40px;  \" >\n",
    "The data set is derived from the [MovieLens \"ml-latest-small\"](https://grouplens.org/datasets/movielens/latest/) dataset.   \n",
    "[F. Maxwell Harper and Joseph A. Konstan. 2015. The MovieLens Datasets: History and Context. ACM Transactions on Interactive Intelligent Systems (TiiS) 5, 4: 19:1–19:19. <https://doi.org/10.1145/2827872>]\n",
    "\n",
    "The original dataset has  9000 movies rated by 600 users. The dataset has been reduced in size to focus on movies from the years since 2000. This dataset consists of ratings on a scale of 0.5 to 5 in 0.5 step increments. The reduced dataset has $n_u = 443$ users, and $n_m= 4778$ movies. \n",
    "\n",
    "Below, you will load the movie dataset into the variables $Y$ and $R$.\n",
    "\n",
    "The matrix $Y$ (a  $n_m \\times n_u$ matrix) stores the ratings $y^{(i,j)}$. The matrix $R$ is an binary-valued indicator matrix, where $R(i,j) = 1$ if user $j$ gave a rating to movie $i$, and $R(i,j)=0$ otherwise. \n",
    "\n",
    "Throughout this part of the exercise, you will also be working with the\n",
    "matrices, $\\mathbf{X}$, $\\mathbf{W}$ and $\\mathbf{b}$: \n",
    "\n",
    "$$\\mathbf{X} = \n",
    "\\begin{bmatrix}\n",
    "--- (\\mathbf{x}^{(0)})^T --- \\\\\n",
    "--- (\\mathbf{x}^{(1)})^T --- \\\\\n",
    "\\vdots \\\\\n",
    "--- (\\mathbf{x}^{(n_m-1)})^T --- \\\\\n",
    "\\end{bmatrix} , \\quad\n",
    "\\mathbf{W} = \n",
    "\\begin{bmatrix}\n",
    "--- (\\mathbf{w}^{(0)})^T --- \\\\\n",
    "--- (\\mathbf{w}^{(1)})^T --- \\\\\n",
    "\\vdots \\\\\n",
    "--- (\\mathbf{w}^{(n_u-1)})^T --- \\\\\n",
    "\\end{bmatrix},\\quad\n",
    "\\mathbf{ b} = \n",
    "\\begin{bmatrix}\n",
    " b^{(0)}  \\\\\n",
    " b^{(1)} \\\\\n",
    "\\vdots \\\\\n",
    "b^{(n_u-1)} \\\\\n",
    "\\end{bmatrix}\\quad\n",
    "$$ \n",
    "\n",
    "The $i$-th row of $\\mathbf{X}$ corresponds to the\n",
    "feature vector $x^{(i)}$ for the $i$-th movie, and the $j$-th row of\n",
    "$\\mathbf{W}$ corresponds to one parameter vector $\\mathbf{w}^{(j)}$, for the\n",
    "$j$-th user. Both $x^{(i)}$ and $\\mathbf{w}^{(j)}$ are $n$-dimensional\n",
    "vectors. For the purposes of this exercise, you will use $n=10$, and\n",
    "therefore, $\\mathbf{x}^{(i)}$ and $\\mathbf{w}^{(j)}$ have 10 elements.\n",
    "Correspondingly, $\\mathbf{X}$ is a\n",
    "$n_m \\times 10$ matrix and $\\mathbf{W}$ is a $n_u \\times 10$ matrix.\n",
    "\n",
    "We will start by loading the movie ratings dataset to understand the structure of the data.\n",
    "We will load $Y$ and $R$ with the movie dataset.  \n",
    "We'll also load $\\mathbf{X}$, $\\mathbf{W}$, and $\\mathbf{b}$ with pre-computed values. These values will be learned later in the lab, but we'll use pre-computed values to develop the cost model."
   ]
  },
  {
   "cell_type": "code",
   "execution_count": 2,
   "metadata": {},
   "outputs": [
    {
     "name": "stdout",
     "output_type": "stream",
     "text": [
      "Y (4778, 443) R (4778, 443)\n",
      "X (4778, 10)\n",
      "W (443, 10)\n",
      "b (1, 443)\n",
      "num_features 10\n",
      "num_movies 4778\n",
      "num_users 443\n"
     ]
    }
   ],
   "source": [
    "#Load data\n",
    "X, W, b, num_movies, num_features, num_users = load_precalc_params_small()\n",
    "Y, R = load_ratings_small()\n",
    "\n",
    "print(\"Y\", Y.shape, \"R\", R.shape)\n",
    "print(\"X\", X.shape)\n",
    "print(\"W\", W.shape)\n",
    "print(\"b\", b.shape)\n",
    "print(\"num_features\", num_features)\n",
    "print(\"num_movies\",   num_movies)\n",
    "print(\"num_users\",    num_users)"
   ]
  },
  {
   "cell_type": "code",
   "execution_count": 3,
   "metadata": {
    "id": "bxm1O_wbodYF"
   },
   "outputs": [
    {
     "name": "stdout",
     "output_type": "stream",
     "text": [
      "Average rating for movie 1 : 3.400 / 5\n"
     ]
    }
   ],
   "source": [
    "#  From the matrix, we can compute statistics like average rating.\n",
    "tsmean =  np.mean(Y[0, R[0, :].astype(bool)])\n",
    "print(f\"Average rating for movie 1 : {tsmean:0.3f} / 5\" )"
   ]
  },
  {
   "cell_type": "markdown",
   "metadata": {},
   "source": [
    "<a name=\"4\"></a>\n",
    "## 4 - Collaborative filtering learning algorithm <img align=\"left\" src=\"./images/film_filter.png\"     style=\" width:40px;  \" >\n",
    "\n",
    "Now, you will begin implementing the collaborative filtering learning\n",
    "algorithm. You will start by implementing the objective function. \n",
    "\n",
    "The collaborative filtering algorithm in the setting of movie\n",
    "recommendations considers a set of $n$-dimensional parameter vectors\n",
    "$\\mathbf{x}^{(0)},...,\\mathbf{x}^{(n_m-1)}$, $\\mathbf{w}^{(0)},...,\\mathbf{w}^{(n_u-1)}$ and $b^{(0)},...,b^{(n_u-1)}$, where the\n",
    "model predicts the rating for movie $i$ by user $j$ as\n",
    "$y^{(i,j)} = \\mathbf{w}^{(j)}\\cdot \\mathbf{x}^{(i)} + b^{(i)}$ . Given a dataset that consists of\n",
    "a set of ratings produced by some users on some movies, you wish to\n",
    "learn the parameter vectors $\\mathbf{x}^{(0)},...,\\mathbf{x}^{(n_m-1)},\n",
    "\\mathbf{w}^{(0)},...,\\mathbf{w}^{(n_u-1)}$  and $b^{(0)},...,b^{(n_u-1)}$ that produce the best fit (minimizes\n",
    "the squared error).\n",
    "\n",
    "You will complete the code in cofiCostFunc to compute the cost\n",
    "function for collaborative filtering. "
   ]
  },
  {
   "cell_type": "markdown",
   "metadata": {
    "id": "bcqg0LJWodYH"
   },
   "source": [
    "\n",
    "<a name=\"4.1\"></a>\n",
    "### 4.1 Collaborative filtering cost function\n",
    "\n",
    "The collaborative filtering cost function is given by\n",
    "$$J({\\mathbf{x}^{(0)},...,\\mathbf{x}^{(n_m-1)},\\mathbf{w}^{(0)},b^{(0)},...,\\mathbf{w}^{(n_u-1)},b^{(n_u-1)}})= \\frac{1}{2}\\sum_{(i,j):r(i,j)=1}(\\mathbf{w}^{(j)} \\cdot \\mathbf{x}^{(i)} + b^{(j)} - y^{(i,j)})^2\n",
    "+\\underbrace{\n",
    "\\frac{\\lambda}{2}\n",
    "\\sum_{j=0}^{n_u-1}\\sum_{k=0}^{n-1}(\\mathbf{w}^{(j)}_k)^2\n",
    "+ \\frac{\\lambda}{2}\\sum_{i=0}^{n_m-1}\\sum_{k=0}^{n-1}(\\mathbf{x}_k^{(i)})^2\n",
    "}_{regularization}\n",
    "\\tag{1}$$\n",
    "The first summation in (1) is \"for all $i$, $j$ where $r(i,j)$ equals $1$\" and could be written:\n",
    "\n",
    "$$\n",
    "= \\frac{1}{2}\\sum_{j=0}^{n_u-1} \\sum_{i=0}^{n_m-1}r(i,j)*(\\mathbf{w}^{(j)} \\cdot \\mathbf{x}^{(i)} + b^{(j)} - y^{(i,j)})^2\n",
    "+\\text{regularization}\n",
    "$$\n",
    "\n",
    "You should now write cofiCostFunc (collaborative filtering cost function) to return this cost."
   ]
  },
  {
   "cell_type": "markdown",
   "metadata": {},
   "source": [
    "<a name=\"ex01\"></a>\n",
    "### Exercise 1\n",
    "\n",
    "**For loop Implementation:**   \n",
    "Start by implementing the cost function using for loops.\n",
    "Consider developing the cost function in two steps. First, develop the cost function without regularization. A test case that does not include regularization is provided below to test your implementation. Once that is working, add regularization and run the tests that include regularization.  Note that you should be accumulating the cost for user $j$ and movie $i$ only if $R(i,j) = 1$."
   ]
  },
  {
   "cell_type": "code",
   "execution_count": 10,
   "metadata": {},
   "outputs": [],
   "source": [
    "# GRADED FUNCTION: cofi_cost_func\n",
    "# UNQ_C1\n",
    "\n",
    "def cofi_cost_func(X, W, b, Y, R, lambda_):\n",
    "    \"\"\"\n",
    "    Returns the cost for the content-based filtering\n",
    "    Args:\n",
    "      X (ndarray (num_movies,num_features)): matrix of item features\n",
    "      W (ndarray (num_users,num_features)) : matrix of user parameters\n",
    "      b (ndarray (1, num_users)            : vector of user parameters\n",
    "      Y (ndarray (num_movies,num_users)    : matrix of user ratings of movies\n",
    "      R (ndarray (num_movies,num_users)    : matrix, where R(i, j) = 1 if the i-th movies was rated by the j-th user\n",
    "      lambda_ (float): regularization parameter\n",
    "    Returns:\n",
    "      J (float) : Cost\n",
    "    \"\"\"\n",
    "    nm, nu = Y.shape\n",
    "    J = 0\n",
    "    ### START CODE HERE ###  \n",
    "    # Compute the prediction matrix\n",
    "    predictions = X @ W.T + b  # shape (num_movies, num_users)\n",
    "\n",
    "    # Compute the error matrix\n",
    "    error = (predictions - Y) * R  # only consider rated movies\n",
    "\n",
    "    # Compute the cost\n",
    "    J = 0.5 * np.sum(np.square(error))\n",
    "\n",
    "    # Add regularization term to the cost\n",
    "    J += 0.5 * lambda_ * (np.sum(np.square(W)) + np.sum(np.square(X)))\n",
    "          \n",
    "    ### END CODE HERE ### \n",
    "\n",
    "    return J"
   ]
  },
  {
   "cell_type": "code",
   "execution_count": 11,
   "metadata": {},
   "outputs": [
    {
     "name": "stdout",
     "output_type": "stream",
     "text": [
      "\u001b[92mAll tests passed!\n"
     ]
    }
   ],
   "source": [
    "# Public tests\n",
    "from public_tests import *\n",
    "test_cofi_cost_func(cofi_cost_func)"
   ]
  },
  {
   "cell_type": "markdown",
   "metadata": {},
   "source": [
    "<details>\n",
    "  <summary><font size=\"3\" color=\"darkgreen\"><b>Click for hints</b></font></summary>\n",
    "    You can structure the code in two for loops similar to the summation in (1).   \n",
    "    Implement the code without regularization first.   \n",
    "    Note that some of the elements in (1) are vectors. Use np.dot(). You can also use np.square().\n",
    "    Pay close attention to which elements are indexed by i and which are indexed by j. Don't forget to divide by two.\n",
    "    \n",
    "```python     \n",
    "    ### START CODE HERE ###  \n",
    "    for j in range(nu):\n",
    "        \n",
    "        \n",
    "        for i in range(nm):\n",
    "            \n",
    "            \n",
    "    ### END CODE HERE ### \n",
    "```    \n",
    "<details>\n",
    "    <summary><font size=\"2\" color=\"darkblue\"><b> Click for more hints</b></font></summary>\n",
    "        \n",
    "    Here is some more details. The code below pulls out each element from the matrix before using it. \n",
    "    One could also reference the matrix directly.  \n",
    "    This code does not contain regularization.\n",
    "    \n",
    "```python \n",
    "    nm,nu = Y.shape\n",
    "    J = 0\n",
    "    ### START CODE HERE ###  \n",
    "    for j in range(nu):\n",
    "        w = W[j,:]\n",
    "        b_j = b[0,j]\n",
    "        for i in range(nm):\n",
    "            x = \n",
    "            y = \n",
    "            r =\n",
    "            J += \n",
    "    J = J/2\n",
    "    ### END CODE HERE ### \n",
    "\n",
    "```\n",
    "    \n",
    "<details>\n",
    "    <summary><font size=\"2\" color=\"darkblue\"><b>Last Resort (full non-regularized implementation)</b></font></summary>\n",
    "    \n",
    "```python \n",
    "    nm,nu = Y.shape\n",
    "    J = 0\n",
    "    ### START CODE HERE ###  \n",
    "    for j in range(nu):\n",
    "        w = W[j,:]\n",
    "        b_j = b[0,j]\n",
    "        for i in range(nm):\n",
    "            x = X[i,:]\n",
    "            y = Y[i,j]\n",
    "            r = R[i,j]\n",
    "            J += np.square(r * (np.dot(w,x) + b_j - y ) )\n",
    "    J = J/2\n",
    "    ### END CODE HERE ### \n",
    "```\n",
    "    \n",
    "<details>\n",
    "    <summary><font size=\"2\" color=\"darkblue\"><b>regularization</b></font></summary>\n",
    "     Regularization just squares each element of the W array and X array and them sums all the squared elements.\n",
    "     You can utilize np.square() and np.sum().\n",
    "\n",
    "<details>\n",
    "    <summary><font size=\"2\" color=\"darkblue\"><b>regularization details</b></font></summary>\n",
    "    \n",
    "```python \n",
    "    J += lambda_* (np.sum(np.square(W)) + np.sum(np.square(X)))\n",
    "```\n",
    "    \n",
    "</details>\n",
    "</details>\n",
    "</details>\n",
    "</details>\n",
    "\n",
    "    \n"
   ]
  },
  {
   "cell_type": "code",
   "execution_count": 12,
   "metadata": {},
   "outputs": [
    {
     "name": "stdout",
     "output_type": "stream",
     "text": [
      "Cost: 13.67\n"
     ]
    }
   ],
   "source": [
    "# Reduce the data set size so that this runs faster\n",
    "num_users_r = 4\n",
    "num_movies_r = 5 \n",
    "num_features_r = 3\n",
    "\n",
    "X_r = X[:num_movies_r, :num_features_r]\n",
    "W_r = W[:num_users_r,  :num_features_r]\n",
    "b_r = b[0, :num_users_r].reshape(1,-1)\n",
    "Y_r = Y[:num_movies_r, :num_users_r]\n",
    "R_r = R[:num_movies_r, :num_users_r]\n",
    "\n",
    "# Evaluate cost function\n",
    "J = cofi_cost_func(X_r, W_r, b_r, Y_r, R_r, 0);\n",
    "print(f\"Cost: {J:0.2f}\")"
   ]
  },
  {
   "cell_type": "markdown",
   "metadata": {
    "id": "xGznmQ91odYL"
   },
   "source": [
    "**Expected Output (lambda = 0)**:  \n",
    "$13.67$."
   ]
  },
  {
   "cell_type": "code",
   "execution_count": 13,
   "metadata": {},
   "outputs": [
    {
     "name": "stdout",
     "output_type": "stream",
     "text": [
      "Cost (with regularization): 28.09\n"
     ]
    }
   ],
   "source": [
    "# Evaluate cost function with regularization \n",
    "J = cofi_cost_func(X_r, W_r, b_r, Y_r, R_r, 1.5);\n",
    "print(f\"Cost (with regularization): {J:0.2f}\")"
   ]
  },
  {
   "cell_type": "markdown",
   "metadata": {
    "id": "1xbepzUUodYP"
   },
   "source": [
    "**Expected Output**:\n",
    "\n",
    "28.09"
   ]
  },
  {
   "cell_type": "markdown",
   "metadata": {},
   "source": [
    "**Vectorized Implementation**\n",
    "\n",
    "It is important to create a vectorized implementation to compute $J$, since it will later be called many times during optimization. The linear algebra utilized is not the focus of this series, so the implementation is provided. If you are an expert in linear algebra, feel free to create your version without referencing the code below. \n",
    "\n",
    "Run the code below and verify that it produces the same results as the non-vectorized version."
   ]
  },
  {
   "cell_type": "code",
   "execution_count": 14,
   "metadata": {},
   "outputs": [],
   "source": [
    "def cofi_cost_func_v(X, W, b, Y, R, lambda_):\n",
    "    \"\"\"\n",
    "    Returns the cost for the content-based filtering\n",
    "    Vectorized for speed. Uses tensorflow operations to be compatible with custom training loop.\n",
    "    Args:\n",
    "      X (ndarray (num_movies,num_features)): matrix of item features\n",
    "      W (ndarray (num_users,num_features)) : matrix of user parameters\n",
    "      b (ndarray (1, num_users)            : vector of user parameters\n",
    "      Y (ndarray (num_movies,num_users)    : matrix of user ratings of movies\n",
    "      R (ndarray (num_movies,num_users)    : matrix, where R(i, j) = 1 if the i-th movies was rated by the j-th user\n",
    "      lambda_ (float): regularization parameter\n",
    "    Returns:\n",
    "      J (float) : Cost\n",
    "    \"\"\"\n",
    "    j = (tf.linalg.matmul(X, tf.transpose(W)) + b - Y)*R\n",
    "    J = 0.5 * tf.reduce_sum(j**2) + (lambda_/2) * (tf.reduce_sum(X**2) + tf.reduce_sum(W**2))\n",
    "    return J"
   ]
  },
  {
   "cell_type": "code",
   "execution_count": 15,
   "metadata": {},
   "outputs": [
    {
     "name": "stdout",
     "output_type": "stream",
     "text": [
      "Cost: 13.67\n",
      "Cost (with regularization): 28.09\n"
     ]
    }
   ],
   "source": [
    "# Evaluate cost function\n",
    "J = cofi_cost_func_v(X_r, W_r, b_r, Y_r, R_r, 0);\n",
    "print(f\"Cost: {J:0.2f}\")\n",
    "\n",
    "# Evaluate cost function with regularization \n",
    "J = cofi_cost_func_v(X_r, W_r, b_r, Y_r, R_r, 1.5);\n",
    "print(f\"Cost (with regularization): {J:0.2f}\")"
   ]
  },
  {
   "cell_type": "markdown",
   "metadata": {
    "id": "1xbepzUUodYP"
   },
   "source": [
    "**Expected Output**:  \n",
    "Cost: 13.67  \n",
    "Cost (with regularization): 28.09"
   ]
  },
  {
   "cell_type": "markdown",
   "metadata": {
    "id": "ilaeM8yWodYR"
   },
   "source": [
    "<a name=\"5\"></a>\n",
    "## 5 - Learning movie recommendations <img align=\"left\" src=\"./images/film_man_action.png\" style=\" width:40px;  \" >\n",
    "------------------------------\n",
    "\n",
    "After you have finished implementing the collaborative filtering cost\n",
    "function, you can start training your algorithm to make\n",
    "movie recommendations for yourself. \n",
    "\n",
    "In the cell below, you can enter your own movie choices. The algorithm will then make recommendations for you! We have filled out some values according to our preferences, but after you have things working with our choices, you should change this to match your tastes.\n",
    "A list of all movies in the dataset is in the file [movie list](data/small_movie_list.csv)."
   ]
  },
  {
   "cell_type": "code",
   "execution_count": 21,
   "metadata": {},
   "outputs": [
    {
     "name": "stdout",
     "output_type": "stream",
     "text": [
      "      mean rating  number of ratings  \\\n",
      "0        3.400000                  5   \n",
      "1        3.250000                  6   \n",
      "2        2.000000                  4   \n",
      "3        2.000000                  4   \n",
      "4        2.672414                 29   \n",
      "...           ...                ...   \n",
      "4773     3.500000                  1   \n",
      "4774     4.000000                  1   \n",
      "4775     3.500000                  1   \n",
      "4776     3.500000                  1   \n",
      "4777     3.500000                  1   \n",
      "\n",
      "                                          title  \n",
      "0                             Yards, The (2000)  \n",
      "1                            Next Friday (2000)  \n",
      "2                              Supernova (2000)  \n",
      "3                            Down to You (2000)  \n",
      "4                               Scream 3 (2000)  \n",
      "...                                         ...  \n",
      "4773   Jon Stewart Has Left the Building (2015)  \n",
      "4774  Black Butler: Book of the Atlantic (2017)  \n",
      "4775               No Game No Life: Zero (2017)  \n",
      "4776                               Flint (2017)  \n",
      "4777        Bungo Stray Dogs: Dead Apple (2018)  \n",
      "\n",
      "[4778 rows x 3 columns]\n",
      "['Yards, The (2000)', 'Next Friday (2000)', 'Supernova (2000)', 'Down to You (2000)', 'Scream 3 (2000)', 'Boondock Saints, The (2000)', 'Gun Shy (2000)', 'Beach, The (2000)', 'Snow Day (2000)', 'Tigger Movie, The (2000)', 'Boiler Room (2000)', 'Hanging Up (2000)', 'Pitch Black (2000)', 'Whole Nine Yards, The (2000)', 'Black Tar Heroin: The Dark End of the Street (2000)', 'Reindeer Games (2000)', 'Wonder Boys (2000)', 'Chain of Fools (2000)', 'Drowning Mona (2000)', 'Next Best Thing, The (2000)', 'What Planet Are You From? (2000)', 'Closer You Get, The (2000)', 'Mission to Mars (2000)', 'Erin Brockovich (2000)', 'Final Destination (2000)', 'Romeo Must Die (2000)', 'Here on Earth (2000)', 'Whatever It Takes (2000)', 'High Fidelity (2000)', 'Road to El Dorado, The (2000)', 'Skulls, The (2000)', 'Frequency (2000)', 'Ready to Rumble (2000)', 'Return to Me (2000)', 'Rules of Engagement (2000)', \"Joe Gould's Secret (2000)\", 'Me Myself I (2000)', '28 Days (2000)', 'American Psycho (2000)', 'Keeping the Faith (2000)', 'Where the Money Is (2000)', 'Filth and the Fury, The (2000)', 'Gossip (2000)', 'Love and Basketball (2000)', 'U-571 (2000)', 'Crow: Salvation, The (2000)', 'Flintstones in Viva Rock Vegas, The (2000)', 'Where the Heart Is (2000)', 'Big Kahuna, The (2000)', 'Bossa Nova (2000)', 'Time Code (2000)', 'Gladiator (2000)', 'Up at the Villa (2000)', 'Battlefield Earth (2000)', 'Center Stage (2000)', 'Screwed (2000)', 'Whipped (2000)', 'Hamlet (2000)', 'Dinosaur (2000)', 'Loser (2000)', 'Road Trip (2000)', 'Small Time Crooks (2000)', 'Mission: Impossible II (2000)', 'Shanghai Noon (2000)', \"Big Momma's House (2000)\", 'Gone in 60 Seconds (2000)', \"Love's Labour's Lost (2000)\", 'Boys and Girls (2000)', 'Shaft (2000)', 'Titan A.E. (2000)', 'Chicken Run (2000)', 'Me, Myself & Irene (2000)', 'Patriot, The (2000)', 'Adventures of Rocky and Bullwinkle, The (2000)', 'Perfect Storm, The (2000)', 'Golden Bowl, The (2000)', 'Kid, The (2000)', 'Scary Movie (2000)', 'Groove (2000)', 'X-Men (2000)', 'Chuck & Buck (2000)', 'In Crowd, The (2000)', 'What Lies Beneath (2000)', 'Pokémon the Movie 2000 (2000)', 'Nutty Professor II: The Klumps (2000)', 'Autumn in New York (2000)', 'Coyote Ugly (2000)', 'Hollow Man (2000)', 'Space Cowboys (2000)', 'Psycho Beach Party (2000)', 'Saving Grace (2000)', \"I'm the One That I Want (2000)\", 'Tao of Steve, The (2000)', 'Bless the Child (2000)', 'Cecil B. DeMented (2000)', 'Eyes of Tammy Faye, The (2000)', 'Replacements, The (2000)', 'About Adam (2000)', 'Cell, The (2000)', 'Original Kings of Comedy, The (2000)', 'Art of War, The (2000)', 'Bring It On (2000)', 'Crew, The (2000)', 'Skipped Parts (2000)', 'Highlander: Endgame (Highlander IV) (2000)', 'Nurse Betty (2000)', 'Watcher, The (2000)', 'Way of the Gun, The (2000)', 'Almost Famous (2000)', 'Bait (2000)', 'Circus (2000)', 'Crime and Punishment in Suburbia (2000)', 'Duets (2000)', 'Under Suspicion (2000)', 'Urban Legends: Final Cut (2000)', 'Woman on Top (2000)', 'Dancer in the Dark (2000)', 'Best in Show (2000)', 'Beautiful (2000)', 'Broken Hearts Club, The (2000)', 'Girlfight (2000)', 'Remember the Titans (2000)', 'Bamboozled (2000)', 'Digimon: The Movie (2000)', 'Get Carter (2000)', 'Meet the Parents (2000)', 'Requiem for a Dream (2000)', 'Tigerland (2000)', 'Two Family House (2000)', 'Contender, The (2000)', 'Dr. T and the Women (2000)', 'Ladies Man, The (2000)', 'Billy Elliot (2000)', 'Bedazzled (2000)', 'Pay It Forward (2000)', 'Book of Shadows: Blair Witch 2 (2000)', 'Little Vampire, The (2000)', \"Charlie's Angels (2000)\", 'Legend of Bagger Vance, The (2000)', 'Little Nicky (2000)', 'Men of Honor (2000)', 'Red Planet (2000)', 'You Can Count on Me (2000)', '6th Day, The (2000)', 'Bounce (2000)', 'How the Grinch Stole Christmas (a.k.a. The Grinch) (2000)', 'Rugrats in Paris: The Movie (2000)', '102 Dalmatians (2000)', 'Malèna (2000)', 'Quills (2000)', 'Unbreakable (2000)', 'Crouching Tiger, Hidden Dragon (Wo hu cang long) (2000)', 'Dungeons & Dragons (2000)', 'Proof of Life (2000)', 'Vertical Limit (2000)', 'Snatch (2000)', 'Chocolat (2000)', \"Dude, Where's My Car? (2000)\", \"Emperor's New Groove, The (2000)\", 'Pollock (2000)', 'What Women Want (2000)', 'Finding Forrester (2000)', 'Gift, The (2000)', 'Before Night Falls (2000)', 'Cast Away (2000)', 'Family Man, The (2000)', 'House of Mirth, The (2000)', 'Miss Congeniality (2000)', 'O Brother, Where Art Thou? (2000)', 'State and Main (2000)', 'Dracula 2000 (2000)', 'All the Pretty Horses (2000)', 'Everlasting Piece, An (2000)', 'Thirteen Days (2000)', 'Traffic (2000)', 'Claim, The (2000)', 'Shadow of the Vampire (2000)', 'Antitrust (2001)', 'Double Take (2001)', 'Save the Last Dance (2001)', 'Panic (2000)', 'Pledge, The (2001)', 'Sugar & Spice (2001)', 'Wedding Planner, The (2001)', 'With a Friend Like Harry... (Harry, un ami qui vous veut du bien) (2000)', 'Head Over Heels (2001)', 'Left Behind: The Movie (2000)', 'Valentine (2001)', 'In the Mood For Love (Fa yeung nin wa) (2000)', 'Million Dollar Hotel, The (2001)', 'Nico and Dani (Krámpack) (2000)', 'Hannibal (2001)', 'Saving Silverman (Evil Woman) (2001)', 'Vatel (2000)', 'Down to Earth (2001)', \"Recess: School's Out (2001)\", 'Sweet November (2001)', 'Company Man (2000)', 'Price of Milk, The (2000)', 'Monkeybone (2001)', '3000 Miles to Graceland (2001)', 'Widow of St. Pierre, The (Veuve de Saint-Pierre, La) (2000)', 'Mexican, The (2001)', \"Caveman's Valentine, The (2001)\", 'Series 7: The Contenders (2001)', '15 Minutes (2001)', 'Get Over It (2001)', \"Long Night's Journey Into Day (2000)\", 'Enemy at the Gates (2001)', 'Exit Wounds (2001)', 'Dish, The (2001)', 'Memento (2000)', 'Heartbreakers (2001)', \"Say It Isn't So (2001)\", 'Someone Like You (2001)', 'Spy Kids (2001)', 'Tomcats (2001)', 'Tailor of Panama, The (2001)', \"Amores Perros (Love's a Bitch) (2000)\", 'Keep the River on Your Right: A Modern Cannibal Tale (2000)', 'Gleaners & I, The (Les glaneurs et la glaneuse) (2000)', 'Along Came a Spider (2001)', 'Blow (2001)', 'Just Visiting (2001)', 'Pokémon 3: The Movie (2001)', 'Beautiful Creatures (2000)', 'Brigham City (2001)', \"Bridget Jones's Diary (2001)\", 'Joe Dirt (2001)', 'Josie and the Pussycats (2001)', 'Chopper (2000)', 'Circle, The (Dayereh) (2000)', 'Crocodile Dundee in Los Angeles (2001)', 'Freddy Got Fingered (2001)', 'Center of the World, The (2001)', 'Luzhin Defence, The (2000)', 'Visit, The (2000)', 'Driven (2001)', \"One Night at McCool's (2001)\", 'Town & Country (2001)', 'Mummy Returns, The (2001)', 'Under the Sand (2000)', \"Knight's Tale, A (2001)\", 'Bread and Roses (2000)', 'Startup.com (2001)', 'Angel Eyes (2001)', 'Shrek (2001)', 'Fast Food, Fast Women (2000)', 'Moulin Rouge (2001)', 'Pearl Harbor (2001)', 'Man Who Cried, The (2000)', 'Yi Yi (2000)', 'Animal, The (2001)', 'Big Eden (2000)', 'Evolution (2001)', 'Swordfish (2001)', 'Anniversary Party, The (2001)', 'Divided We Fall (Musíme si pomáhat) (2000)', 'Atlantis: The Lost Empire (2001)', 'Lara Croft: Tomb Raider (2001)', 'Dr. Dolittle 2 (2001)', 'Fast and the Furious, The (2001)', 'A.I. Artificial Intelligence (2001)', 'Baby Boy (2001)', 'Crazy/Beautiful (2001)', 'Pootie Tang (2001)', 'Sexy Beast (2000)', 'Princess and the Warrior, The (Krieger und die Kaiserin, Der) (2000)', 'Closet, The (Placard, Le) (2001)', 'Crimson Rivers, The (Rivières pourpres, Les) (2000)', 'Lumumba (2000)', 'Cats & Dogs (2001)', 'Kiss of the Dragon (2001)', 'Scary Movie 2 (2001)', 'Lost and Delirious (2001)', 'Rape Me (Baise-moi) (2000)', 'Final Fantasy: The Spirits Within (2001)', 'Legally Blonde (2001)', 'Score, The (2001)', 'Adanggaman (2000)', 'Bully (2001)', 'Jump Tomorrow (2001)', 'Made (2001)', 'Michael Jordan to the Max (2000)', 'Jurassic Park III (2001)', \"America's Sweethearts (2001)\", 'Brother (2000)', 'Ghost World (2001)', 'Hedwig and the Angry Inch (2000)', 'Planet of the Apes (2001)', 'Bread and Tulips (Pane e tulipani) (2000)', 'Greenfingers (2000)', 'Wet Hot American Summer (2001)', 'Original Sin (2001)', 'Princess Diaries, The (2001)', 'Rush Hour 2 (2001)', 'American Pie 2 (2001)', 'Osmosis Jones (2001)', 'Others, The (2001)', 'American Outlaws (2001)', 'All Over the Guy (2001)', 'Deep End, The (2001)', 'Session 9 (2001)', \"Captain Corelli's Mandolin (2001)\", 'Rat Race (2001)', 'Bubble Boy (2001)', 'Curse of the Jade Scorpion, The (2001)', 'Jay and Silent Bob Strike Back (2001)', 'Ghosts of Mars (2001)', 'Summer Catch (2001)', 'Happy Accidents (2000)', 'Maybe Baby (2000)', 'Together (Tillsammans) (2000)', 'Tortilla Soup (2001)', 'Jeepers Creepers (2001)', 'O (2001)', 'Musketeer, The (2001)', 'Rock Star (2001)', 'Two Can Play That Game (2001)', 'L.I.E. (2001)', 'Our Lady of the Assassins (Virgen de los sicarios, La) (2000)', 'Into the Arms of Strangers: Stories of the Kindertransport (2000)', 'Glass House, The (2001)', 'Hardball (2001)', 'Dinner Rush (2000)', 'Haiku Tunnel (2001)', 'Big Trouble (2002)', 'Glitter (2001)', 'Training Day (2001)', 'American Astronaut, The (2001)', 'Liam (2000)', 'Sidewalks of New York (2001)', \"Endurance: Shackleton's Legendary Antarctic Expedition, The (2000)\", \"Don't Say a Word (2001)\", 'Hearts in Atlantis (2001)', 'Zoolander (2001)', 'Extreme Days (2001)', 'Joy Ride (2001)', \"Max Keeble's Big Move (2001)\", 'Serendipity (2001)', 'Swamp, The (Ciénaga, La) (2001)', 'Bandits (2001)', 'Corky Romano (2001)', 'Fat Girl (À ma soeur!) (2001)', 'Mulholland Drive (2001)', 'My First Mister (2001)', 'Bones (2001)', 'From Hell (2001)', 'Last Castle, The (2001)', 'Riding in Cars with Boys (2001)', 'Focus (2001)', 'Waking Life (2001)', 'K-PAX (2001)', 'Thirteen Ghosts (a.k.a. Thir13en Ghosts) (2001)', 'Better Than Sex (2000)', 'Donnie Darko (2001)', 'High Heels and Low Lifes (2001)', 'Life as a House (2001)', \"Man Who Wasn't There, The (2001)\", 'Town is Quiet, The (Ville est tranquille, La) (2000)', 'Domestic Disturbance (2001)', 'Monsters, Inc. (2001)', 'One, The (2001)', 'Tape (2001)', 'Heist (2001)', 'Shallow Hal (2001)', \"Harry Potter and the Sorcerer's Stone (a.k.a. Harry Potter and the Philosopher's Stone) (2001)\", 'Novocaine (2001)', 'Black Knight (2001)', 'Out Cold (2001)', 'Spy Game (2001)', \"Devil's Backbone, The (Espinazo del diablo, El) (2001)\", 'In the Bedroom (2001)', \"Everybody's Famous! (Iedereen beroemd!) (2000)\", 'Behind Enemy Lines (2001)', 'Affair of the Necklace, The (2001)', 'Pornstar: The Legend of Ron Jeremy (2001)', 'Texas Rangers (2001)', \"Ocean's Eleven (2001)\", 'Baran (2001)', 'Business of Strangers, The (2001)', \"No Man's Land (2001)\", \"Amelie (Fabuleux destin d'Amélie Poulain, Le) (2001)\", 'Not Another Teen Movie (2001)', 'Vanilla Sky (2001)', 'Iris (2001)', 'Kandahar (Safar e Ghandehar) (2001)', 'Lantana (2001)', 'Royal Tenenbaums, The (2001)', 'How High (2001)', 'Jimmy Neutron: Boy Genius (2001)', 'Joe Somebody (2001)', 'Kate & Leopold (2001)', 'Lord of the Rings: The Fellowship of the Ring, The (2001)', 'Majestic, The (2001)', 'Beautiful Mind, A (2001)', 'Ali (2001)', 'Black Hawk Down (2001)', 'Charlotte Gray (2001)', 'Gosford Park (2001)', 'I Am Sam (2001)', \"Monster's Ball (2001)\", 'Shipping News, The (2001)', 'Orange County (2002)', 'Brotherhood of the Wolf (Pacte des loups, Le) (2001)', 'What Time Is It There? (Ni neibian jidian) (2001)', 'Impostor (2002)', 'Kung Pow: Enter the Fist (2002)', 'Snow Dogs (2002)', 'Italian for Beginners (Italiensk for begyndere) (2000)', 'The Count of Monte Cristo (2002)', 'Mothman Prophecies, The (2002)', 'Walk to Remember, A (2002)', 'Beijing Bicycle (Shiqi sui de dan che) (2001)', 'Escaflowne: The Movie (Escaflowne) (2000)', 'Maelström (2000)', 'Metropolis (2001)', \"Son's Room, The (Stanza del figlio, La) (2001)\", 'Storytelling (2001)', 'Waydowntown (2000)', 'Slackers (2002)', 'Birthday Girl (2001)', 'Rare Birds (2001)', 'Big Fat Liar (2002)', 'Collateral Damage (2002)', 'Rollerball (2002)', 'Scotland, Pa. (2001)', 'Crossroads (2002)', \"Hart's War (2002)\", 'John Q (2002)', 'Return to Never Land (2002)', 'Super Troopers (2001)', 'Last Orders (2001)', 'Dragonfly (2002)', 'Queen of the Damned (2002)', \"How to Kill Your Neighbor's Dog (2000)\", 'Mean Machine (2001)', 'Monsoon Wedding (2001)', 'Wendigo (2001)', 'Scratch (2001)', 'Vampire Hunter D: Bloodlust (Banpaia hantâ D) (2000)', '40 Days and 40 Nights (2002)', 'We Were Soldiers (2002)', 'All About the Benjamins (2002)', 'Time Machine, The (2002)', 'Ice Age (2002)', 'Resident Evil (2002)', 'Showtime (2002)', \"Harrison's Flowers (2000)\", 'Kissing Jessica Stein (2001)', 'Promises (2001)', 'And Your Mother Too (Y tu mamá también) (2001)', 'Blade II (2002)', 'Sorority Boys (2002)', 'Stolen Summer (2002)', 'George Washington (2000)', 'Clockstoppers (2002)', 'Death to Smoochy (2002)', 'Panic Room (2002)', 'Rookie, The (2002)', 'No Such Thing (2001)', 'Piano Teacher, The (La pianiste) (2001)', \"Time Out (L'emploi du temps) (2001)\", 'High Crimes (2002)', \"National Lampoon's Van Wilder (2002)\", 'Crush (2001)', 'Lucky Break (2001)', 'Changing Lanes (2002)', 'Frailty (2001)', 'Sweetest Thing, The (2002)', \"Cat's Meow, The (2002)\", 'Human Nature (2001)', 'My Big Fat Greek Wedding (2002)', 'Murder by Numbers (2002)', 'The Scorpion King (2002)', 'Enigma (2001)', 'Nine Queens (Nueve reinas) (2000)', 'Triumph of Love, The (2001)', 'World Traveler (2001)', 'Jason X (2002)', 'Life or Something Like It (2002)', 'Dogtown and Z-Boyz (2001)', 'Rain (2001)', 'Salton Sea, The (2002)', 'Deuces Wild (2002)', 'Hollywood Ending (2002)', 'Spider-Man (2002)', 'New Guy, The (2002)', 'Unfaithful (2002)', \"Lady and the Duke, The (Anglaise et le duc, L') (2001)\", 'About a Boy (2002)', 'Star Wars: Episode II - Attack of the Clones (2002)', 'Believer, The (2001)', 'Importance of Being Earnest, The (2002)', 'Enough (2002)', 'Insomnia (2002)', 'Spirit: Stallion of the Cimarron (2002)', 'CQ (2001)', 'Thirteen Conversations About One Thing (a.k.a. 13 Conversations) (2001)', 'Sum of All Fears, The (2002)', 'Undercover Brother (2002)', 'Bad Company (2002)', 'Divine Secrets of the Ya-Ya Sisterhood (2002)', 'Cherish (2002)', 'Fast Runner, The (Atanarjuat) (2001)', 'Bourne Identity, The (2002)', 'Scooby-Doo (2002)', 'Windtalkers (2002)', 'Dangerous Lives of Altar Boys, The (2002)', \"Emperor's New Clothes, The (2001)\", 'Gangster No. 1 (2000)', 'Harvard Man (2001)', 'Dark Blue World (Tmavomodrý svet) (2001)', 'Juwanna Mann (2002)', 'Lilo & Stitch (2002)', 'Minority Report (2002)', 'Rabbit-Proof Fence (2002)', 'Sunshine State (2002)', 'Hey Arnold! The Movie (2002)', 'Mr. Deeds (2002)', 'Lovely & Amazing (2001)', 'Pumpkin (2002)', 'Like Mike (2002)', 'Men in Black II (a.k.a. MIIB) (a.k.a. MIB 2) (2002)', 'Powerpuff Girls, The (2002)', 'Me Without You (2001)', 'Crocodile Hunter: Collision Course, The (2002)', 'Reign of Fire (2002)', 'Road to Perdition (2002)', 'All About Lily Chou-Chou (Riri Shushu no subete) (2001)', 'My Wife is an Actress (Ma Femme est une Actrice) (2001)', 'Halloween: Resurrection (Halloween 8) (2002)', 'Sex and Lucia (Lucía y el sexo) (2001)', 'Eight Legged Freaks (2002)', 'K-19: The Widowmaker (2002)', 'Stuart Little 2 (2002)', 'Austin Powers in Goldmember (2002)', 'Kid Stays in the Picture, The (2002)', 'Tadpole (2002)', 'Who Is Cletis Tout? (2001)', 'Master of Disguise, The (2002)', 'Signs (2002)', \"Last Kiss, The (Ultimo bacio, L') (2001)\", 'Spy Kids 2: The Island of Lost Dreams (2002)', 'Good Girl, The (2002)', 'Blood Work (2002)', 'xXx (2002)', '24 Hour Party People (2002)', 'Secret Ballot (Raye makhfi) (2001)', 'Martin Lawrence Live: Runteldat (2002)', 'Songs From the Second Floor (Sånger från andra våningen) (2000)', 'Adventures of Pluto Nash, The (2002)', 'Blue Crush (2002)', 'Mostly Martha (Bella Martha) (2001)', 'Possession (2002)', 'One Hour Photo (2002)', 'Serving Sara (2002)', 'Simone (S1m0ne) (2002)', 'Undisputed (2002)', \"Amy's O (a.k.a. Amy's Orgasm) (2001)\", 'Satin Rouge (2002)', 'FearDotCom (a.k.a. Fear.com) (a.k.a. Fear Dot Com) (2002)', 'Snipes (2001)', 'City by the Sea (2002)', 'Swimfan (2002)', 'Barbershop (2002)', 'Stealing Harvard (2002)', 'Transporter, The (2002)', 'Alias Betty (Betty Fisher et autres histoires) (2001)', 'Igby Goes Down (2002)', 'Son of the Bride (Hijo de la novia, El) (2001)', 'Das Experiment (Experiment, The) (2001)', 'Ballistic: Ecks vs. Sever (2002)', 'Banger Sisters, The (2002)', 'Four Feathers, The (2002)', 'Trapped (2002)', '8 Women (2002)', 'His Secret Life (a.k.a. Ignorant Fairies, The) (Fate ignoranti, Le) (2001)', 'Invincible (2001)', 'Secretary (2002)', 'Spirited Away (Sen to Chihiro no kamikakushi) (2001)', 'Trials of Henry Kissinger, The (2002)', 'Sweet Home Alabama (2002)', 'Tuxedo, The (2002)', 'Moonlight Mile (2002)', 'Wasabi (2001)', 'Jonah: A VeggieTales Movie (2002)', 'Red Dragon (2002)', 'Bloody Sunday (2002)', 'Heaven (2002)', 'Man from Elysian Fields, The (2001)', 'Welcome to Collinwood (2002)', 'Below (2002)', 'Brown Sugar (2002)', 'Knockaround Guys (2002)', 'Rules of Attraction, The (2002)', 'Tuck Everlasting (2002)', 'White Oleander (2002)', 'Bowling for Columbine (2002)', 'Comedian (2002)', 'Pokemon 4 Ever (a.k.a. Pokémon 4: The Movie) (2002)', 'Punch-Drunk Love (2002)', 'Swept Away (2002)', 'Formula 51 (2001)', 'Ring, The (2002)', 'Auto Focus (2002)', 'Grey Zone, The (2001)', 'Naqoyqatsi (2002)', 'Real Women Have Curves (2002)', 'Tully (2000)', 'Ghost Ship (2002)', 'Jackass: The Movie (2002)', 'Paid in Full (2002)', 'Truth About Charlie, The (2002)', 'All or Nothing (2002)', 'Frida (2002)', 'Roger Dodger (2002)', 'I Spy (2002)', 'Santa Clause 2, The (2002)', 'Femme Fatale (2002)', '8 Mile (2002)', 'Far from Heaven (2002)', 'Harry Potter and the Chamber of Secrets (2002)', 'Ararat (2002)', 'Crime of Father Amaro, The (Crimen del padre Amaro, El) (2002)', 'Standing in the Shadows of Motown (2002)', 'Men with Brooms (2002)', 'Dog Soldiers (2002)', 'Die Another Day (2002)', \"The Emperor's Club (2002)\", 'Friday After Next (2002)', 'Personal Velocity (2002)', 'Quiet American, The (2002)', 'Talk to Her (Hable con Ella) (2002)', \"Eight Crazy Nights (Adam Sandler's Eight Crazy Nights) (2002)\", 'Extreme Ops (2002)', 'Solaris (2002)', 'Treasure Planet (2002)', 'They (2002)', 'Elling (2001)', 'Analyze That (2002)', 'Empire (2002)', 'Adaptation (2002)', 'Equilibrium (2002)', 'Visitor Q (Bizita Q) (2001)', 'Drumline (2002)', 'Hot Chick, The (2002)', 'Maid in Manhattan (2002)', 'Star Trek: Nemesis (2002)', 'About Schmidt (2002)', 'Evelyn (2002)', 'Intact (Intacto) (2001)', 'Morvern Callar (2002)', 'Lord of the Rings: The Two Towers, The (2002)', 'Devils on the Doorstep (Guizi lai le) (2000)', '25th Hour (2002)', 'Antwone Fisher (2002)', 'Gangs of New York (2002)', 'Two Weeks Notice (2002)', 'Narc (2002)', 'Catch Me If You Can (2002)', 'Pinocchio (2002)', 'Chicago (2002)', 'Hours, The (2002)', 'Max (2002)', 'Nicholas Nickleby (2002)', 'Pianist, The (2002)', 'Heavy Metal 2000 (2000)', 'Love Liza (2002)', 'Confessions of a Dangerous Mind (2002)', 'Blue Collar Comedy Tour: The Movie (2003)', 'Just Married (2003)', 'City of Lost Souls, The (Hyôryuu-gai) (2000)', 'Guy Thing, A (2003)', 'Kangaroo Jack (2003)', 'National Security (2003)', 'City of God (Cidade de Deus) (2002)', 'Darkness Falls (2003)', 'Amen. (2002)', \"Blind Spot: Hitler's Secretary (Im toten Winkel - Hitlers Sekretärin) (2002)\", 'Biker Boyz (2003)', 'Final Destination 2 (2003)', 'Recruit, The (2003)', 'Guru, The (2002)', 'Lost in La Mancha (2002)', 'May (2002)', 'Ordinary Decent Criminal (2000)', 'How to Lose a Guy in 10 Days (2003)', 'Shanghai Knights (2003)', 'Daredevil (2003)', 'Jungle Book 2, The (2003)', 'All the Real Girls (2003)', 'Gerry (2002)', 'He Loves Me... He Loves Me Not (À la folie... pas du tout) (2002)', 'Dark Blue (2003)', 'Gods and Generals (2003)', 'Life of David Gale, The (2003)', 'Old School (2003)', 'Open Hearts (Elsker dig for evigt) (2002)', 'Poolhall Junkies (2002)', 'Stone Reader (2002)', 'Cradle 2 the Grave (2003)', 'Spider (2002)', 'Late Marriage (Hatuna Meuheret) (2001)', 'Volcano High (Whasango) (2001)', 'Bringing Down the House (2003)', 'Tears of the Sun (2003)', 'Irreversible (Irréversible) (2002)', 'Laurel Canyon (2002)', 'Nowhere in Africa (Nirgendwo in Afrika) (2001)', 'Safety of Objects, The (2001)', 'Bend It Like Beckham (2002)', 'Hunted, The (2003)', 'Willard (2003)', 'Prozac Nation (2001)', 'Spun (2001)', 'Boat Trip (2003)', 'Dreamcatcher (2003)', \"Piglet's Big Movie (2003)\", 'View from the Top (2003)', 'Basic (2003)', 'Core, The (2003)', 'Head of State (2003)', 'What a Girl Wants (2003)', 'Assassination Tango (2002)', 'Raising Victor Vargas (2002)', 'Stevie (2002)', 'Good Thief, The (2002)', 'Man Apart, A (2003)', 'Phone Booth (2002)', 'Cowboy Bebop: The Movie (Cowboy Bebop: Tengoku no Tobira) (2001)', 'Levity (2003)', 'Man Without a Past, The (Mies vailla menneisyyttä) (2002)', 'Anger Management (2003)', 'Better Luck Tomorrow (2002)', 'Ghosts of the Abyss (2003)', 'House of 1000 Corpses (2003)', 'Lilya 4-Ever (Lilja 4-ever) (2002)', 'Bulletproof Monk (2003)', 'Chasing Papi (a.k.a. Papi Chulo) (2003)', 'Mighty Wind, A (2003)', 'Holes (2003)', \"Malibu's Most Wanted (2003)\", 'Winged Migration (Peuple migrateur, Le) (2001)', 'Flickering Lights (Blinkende lygter) (2000)', 'I Am Trying to Break Your Heart (2002)', 'Confidence (2003)', 'Identity (2003)', 'It Runs in the Family (2003)', 'Decade Under the Influence, A (2003)', 'Manic (2001)', 'People I Know (2002)', 'Spellbound (2002)', 'Lizzie McGuire Movie, The (2003)', 'X2: X-Men United (2003)', 'Blue Car (2002)', 'Dancer Upstairs, The (2002)', 'Marooned in Iraq (Gomgashtei dar Aragh) (2002)', 'Owning Mahowny (2003)', 'Daddy Day Care (2003)', \"Man on the Train (Homme du train, L') (2002)\", 'Shape of Things, The (2003)', 'Trip, The (2002)', '101 Reykjavik (101 Reykjavík) (2000)', 'Matrix Reloaded, The (2003)', 'Down with Love (2003)', 'Cinemania (2002)', \"Spanish Apartment, The (L'auberge espagnole) (2002)\", 'Pokémon Heroes (2003)', 'Bruce Almighty (2003)', 'In-Laws, The (2003)', 'Gigantic (A Tale of Two Johns) (2002)', 'Respiro (2002)', 'Finding Nemo (2003)', 'Italian Job, The (2003)', 'Wrong Turn (2003)', 'Capturing the Friedmans (2003)', 'Together (Han ni Zai Yiki) (2002)', '2 Fast 2 Furious (Fast and the Furious 2, The) (2003)', 'Whale Rider (2002)', 'Murder on a Sunday Morning (Un coupable idéal) (2001)', 'Dumb and Dumberer: When Harry Met Lloyd (2003)', 'From Justin to Kelly (2003)', 'Hollywood Homicide (2003)', 'Alex and Emma (2003)', '28 Days Later (2002)', \"Charlie's Angels: Full Throttle (2003)\", 'Fulltime Killer (Chuen jik sat sau) (2001)', 'Hulk (2003)', 'Legally Blonde 2: Red, White & Blonde (2003)', 'Sinbad: Legend of the Seven Seas (2003)', 'Terminator 3: Rise of the Machines (2003)', 'Swimming Pool (2003)', 'Pirates of the Caribbean: The Curse of the Black Pearl (2003)', 'League of Extraordinary Gentlemen, The (a.k.a. LXG) (2003)', 'Cuckoo, The (Kukushka) (2002)', 'I Capture the Castle (2003)', 'Northfork (2003)', 'Bad Boys II (2003)', 'How to Deal (2003)', 'Johnny English (2003)', 'Anarchist Cookbook, The (2002)', 'Dirty Pretty Things (2002)', \"Embalmer, The (Imbalsamatore, L') (2002)\", 'Garage Days (2002)', 'Masked & Anonymous (2003)', 'Lara Croft Tomb Raider: The Cradle of Life (2003)', 'Seabiscuit (2003)', 'Spy Kids 3-D: Game Over (2003)', 'Buffalo Soldiers (2001)', 'Camp (2003)', 'Mondays in the Sun (Lunes al sol, Los) (2002)', 'Scorched (2003)', 'American Wedding (American Pie 3) (2003)', 'Gigli (2003)', 'And Now... Ladies and Gentlemen... (2002)', 'Magdalene Sisters, The (2002)', 'Secret Lives of Dentists, The (2002)', 'Freaky Friday (2003)', 'S.W.A.T. (2003)', 'Divorce, Le (2003)', 'Princess Blade, The (Shura Yukihime) (2001)', 'Step Into Liquid (2002)', 'Freddy vs. Jason (2003)', 'Grind (2003)', 'Open Range (2003)', 'Shaolin Soccer (Siu lam juk kau) (2001)', 'Uptown Girls (2003)', 'American Splendor (2003)', 'Agent Cody Banks (2003)', 'Comic Book Villains (2002)', 'Revolution OS (2001)', 'Medallion, The (2003)', \"My Boss's Daughter (2003)\", 'Autumn Spring (Babí léto) (2001)', 'Battle of Shaker Heights, The (2003)', 'Dust (2001)', 'Stoked: The Rise and Fall of Gator (2002)', 'Jeepers Creepers 2 (2003)', 'Bollywood/Hollywood (2002)', 'Once Upon a Time in the Midlands (2002)', 'Dickie Roberts: Former Child Star (2003)', 'Party Monster (2003)', 'Taking Sides (2001)', 'Cabin Fever (2002)', 'Matchstick Men (2003)', 'Once Upon a Time in Mexico (2003)', 'Dummy (2002)', 'Lost in Translation (2003)', 'Millennium Actress (Sennen joyû) (2001)', 'Anything Else (2003)', 'Cold Creek Manor (2003)', 'Fighting Temptations, The (2003)', 'Secondhand Lions (2003)', 'Underworld (2003)', 'Bubba Ho-tep (2002)', 'In This World (2002)', 'Duplex (2003)', 'Rundown, The (2003)', 'Under the Tuscan Sun (2003)', 'Luther (2003)', 'Mambo Italiano (2003)', 'My Life Without Me (2003)', 'To Be and to Have (Être et avoir) (2002)', 'Triplets of Belleville, The (Les triplettes de Belleville) (2003)', 'Life and Debt (2001)', 'Lagaan: Once Upon a Time in India (2001)', 'Avalon (2001)', 'Ginger Snaps (2000)', 'Out of Time (2003)', 'School of Rock (2003)', 'Station Agent, The (2003)', 'Wonderland (2003)', 'Bus 174 (Ônibus 174) (2002)', 'Mystic River (2003)', 'House of the Dead, The (2003)', 'Intolerable Cruelty (2003)', 'Kill Bill: Vol. 1 (2003)', 'Runaway Jury (2003)', 'Texas Chainsaw Massacre, The (2003)', 'Pieces of April (2003)', 'Returner (Ritaanaa) (2002)', 'Sylvia (2003)', 'Veronica Guerin (2003)', 'In the Cut (2003)', 'Beyond Borders (2003)', 'Radio (2003)', 'Scary Movie 3 (2003)', 'Brother Bear (2003)', 'Elephant (2003)', 'Sweet Sixteen (2002)', 'Interstate 60 (2002)', 'Eye, The (Gin gwai) (Jian gui) (2002)', 'Human Stain, The (2003)', 'Shattered Glass (2003)', 'Matrix Revolutions, The (2003)', 'Revolution Will Not Be Televised, The (a.k.a. Chavez: Inside the Coup) (2003)', 'Elf (2003)', 'Billabong Odyssey (2003)', 'Love Actually (2003)', \"My Architect: A Son's Journey (2003)\", 'Looney Tunes: Back in Action (2003)', 'Master and Commander: The Far Side of the World (2003)', 'Tupac: Resurrection (2003)', 'Big Empty, The (2003)', 'Missing, The (2003)', 'Cat in the Hat, The (2003)', 'Gothika (2003)', '21 Grams (2003)', 'Barbarian Invasions, The (Les invasions barbares) (2003)', 'Bad Santa (2003)', 'Haunted Mansion, The (2003)', 'Timeline (2003)', 'OT: Our Town (2002)', \"Devil's Playground (2002)\", 'Journeys with George (2002)', 'Battle Royale (Batoru rowaiaru) (2000)', 'Things You Can Tell Just by Looking at Her (2000)', 'Hero (Ying xiong) (2002)', 'Rivers and Tides (2001)', 'Cooler, The (2003)', 'In America (2002)', 'My Flesh and Blood (2003)', 'Honey (2003)', 'Last Samurai, The (2003)', 'Big Fish (2003)', \"Something's Gotta Give (2003)\", 'Stuck on You (2003)', 'Girl with a Pearl Earring (2003)', 'Lord of the Rings: The Return of the King, The (2003)', 'Mona Lisa Smile (2003)', 'Calendar Girls (2003)', 'Fog of War: Eleven Lessons from the Life of Robert S. McNamara, The (2003)', 'House of Sand and Fog (2003)', 'Monster (2003)', 'Cheaper by the Dozen (2003)', 'Cold Mountain (2003)', 'Paycheck (2003)', 'Peter Pan (2003)', 'Company, The (2003)', 'Japanese Story (2003)', 'Chasing Liberty (2004)', 'Aileen: Life and Death of a Serial Killer (2003)', 'Along Came Polly (2004)', 'Torque (2004)', 'Crimson Gold (Talaye sorgh) (2003)', 'Osama (2003)', 'Beyond Re-Animator (2003)', 'Ichi the Killer (Koroshiya 1) (2001)', 'Suriyothai (a.k.a. Legend of Suriyothai, The) (2001)', 'The Butterfly Effect (2004)', 'Win a Date with Tad Hamilton! (2004)', 'Touching the Void (2003)', 'Big Bounce, The (2004)', 'Perfect Score, The (2004)', 'You Got Served (2004)', 'Latter Days (2003)', 'Barbershop 2: Back in Business (2004)', 'Catch That Kid (2004)', 'Miracle (2004)', 'An Amazing Couple (2002)', 'Dreamers, The (2003)', 'Lost Skeleton of Cadavra, The (2002)', 'Hip Hop Witch, Da (2000)', 'Thirteen (2003)', '50 First Dates (2004)', 'Welcome to Mooseport (2004)', 'Kitchen Stories (Salmer fra kjøkkenet) (2003)', 'Monsieur Ibrahim (Monsieur Ibrahim et les fleurs du Coran) (2003)', \"Herod's Law (Ley de Herodes, La) (2000)\", 'Against the Ropes (2004)', 'Confessions of a Teenage Drama Queen (2004)', 'EuroTrip (2004)', 'Passion of the Christ, The (2004)', 'Club Dread (2004)', 'Dirty Dancing: Havana Nights (2004)', 'Twisted (2004)', 'Good bye, Lenin! (2003)', 'Hidalgo (2004)', 'Starsky & Hutch (2004)', 'Reckoning, The (2004)', 'Agent Cody Banks 2: Destination London (2004)', 'Girl Next Door, The (2004)', 'Secret Window (2004)', 'Spartan (2004)', 'Broken Wings (Knafayim Shvurot) (2002)', 'Wilbur Wants to Kill Himself (2002)', 'Dawn of the Dead (2004)', 'Eternal Sunshine of the Spotless Mind (2004)', 'Taking Lives (2004)', 'Intermission (2003)', 'Jersey Girl (2004)', 'Ladykillers, The (2004)', 'Never Die Alone (2004)', 'Scooby-Doo 2: Monsters Unleashed (2004)', 'Dogville (2003)', 'Ned Kelly (2003)', 'Hellboy (2004)', 'Prince & Me, The (2004)', 'Walking Tall (2004)', 'United States of Leland, The (2003)', 'The Alamo (2004)', 'Ella Enchanted (2004)', 'Whole Ten Yards, The (2004)', \"I'm Not Scared (Io non ho paura) (2003)\", 'Prey for Rock & Roll (2003)', 'Kill Bill: Vol. 2 (2004)', 'Punisher, The (2004)', 'Paper Clips (2004)', 'This So-Called Disaster (2003)', '13 Going on 30 (2004)', 'Man on Fire (2004)', 'Envy (2004)', 'Godsend (2004)', 'Laws of Attraction (2004)', 'Mean Girls (2004)', 'Van Helsing (2004)', 'Mudge Boy, The (2003)', \"Breakin' All the Rules (2004)\", 'Troy (2004)', 'Carandiru (2003)', 'Coffee and Cigarettes (2003)', 'Eye See You (D-Tox) (2002)', '100 Girls (2000)', 'Wit (2001)', 'Rose Red (2002)', 'Versus (2000)', 'Best of Youth, The (La meglio gioventù) (2003)', \"Bang, Bang, You're Dead (2002)\", '11\\'09\"01 - September 11 (2002)', 'Children of Dune (2003)', 'Dune (2000)', 'Lammbock (2001)', 'Tremors 3: Back to Perfection (2001)', 'Notorious C.H.O. (2002)', 'Dark Days (2000)', 'Ken Park (2002)', 'Infernal Affairs (Mou gaan dou) (2002)', 'Tale of Two Sisters, A (Janghwa, Hongryeon) (2003)', 'Weather Underground, The (2002)', 'Spring, Summer, Fall, Winter... and Spring (Bom yeoreum gaeul gyeoul geurigo bom) (2003)', 'Dark Water (Honogurai mizu no soko kara) (2002)', 'Seducing Doctor Lewis (Grande séduction, La) (2003)', 'Pursuit of Happiness (2001)', 'Dolls (2002)', 'Shrek 2 (2004)', 'Day After Tomorrow, The (2004)', 'Raising Helen (2004)', 'Soul Plane (2004)', \"Baadasssss! (How to Get the Man's Foot Outta Your Ass) (2003)\", 'Saved! (2004)', 'Harry Potter and the Prisoner of Azkaban (2004)', 'Mindhunters (2004)', 'Blind Swordsman: Zatoichi, The (Zatôichi) (2003)', 'Chronicles of Riddick, The (2004)', 'Garfield: The Movie (2004)', 'Stepford Wives, The (2004)', 'Hunting of the President, The (2004)', 'Napoleon Dynamite (2004)', 'Hope Springs (2003)', 'Super Size Me (2004)', 'Animal Factory (2000)', 'Fear X (2003)', 'Around the World in 80 Days (2004)', 'Dodgeball: A True Underdog Story (2004)', 'Terminal, The (2004)', 'Dear Frankie (2004)', 'White Chicks (2004)', 'Door in the Floor, The (2004)', 'Notebook, The (2004)', 'Two Brothers (Deux frères) (2004)', 'De-Lovely (2004)', \"Happenstance (Battement d'ailes du papillon, Le) (2001)\", 'Comandante (2003)', 'Undead (2003)', 'Mayor of the Sunset Strip (2003)', 'Killing Me Softly (2002)', 'Taxi 3 (2003)', 'Tokyo Godfathers (2003)', 'Fahrenheit 9/11 (2004)', 'Secret Society (2002)', 'Spider-Man 2 (2004)', 'Before Sunset (2004)', 'King Arthur (2004)', 'Anchorman: The Legend of Ron Burgundy (2004)', 'Cinderella Story, A (2004)', 'I, Robot (2004)', 'Maria Full of Grace (Maria, Llena eres de gracia) (2004)', 'Bourne Supremacy, The (2004)', 'Catwoman (2004)', 'A Home at the End of the World (2004)', 'To End All Wars (2001)', 'Unprecedented: The 2000 Presidential Election (2002)', 'Manchurian Candidate, The (2004)', 'Thunderbirds (2004)', 'Village, The (2004)', 'Garden State (2004)', 'Musa the Warrior (Musa) (2001)', 'Collateral (2004)', 'Little Black Book (2004)', 'Code 46 (2003)', 'Harold and Kumar Go to White Castle (2004)', 'Princess Diaries 2: Royal Engagement, The (2004)', 'Danny Deckchair (2003)', 'AVP: Alien vs. Predator (2004)', \"We Don't Live Here Anymore (2004)\", 'Without a Paddle (2004)', 'Exorcist: The Beginning (2004)', 'Anacondas: The Hunt for the Blood Orchid (2004)', 'Suspect Zero (2004)', 'Warriors of Heaven and Earth (Tian di ying xiong) (2003)', 'Vanity Fair (2004)', 'Paparazzi (2004)', 'Wicker Park (2004)', 'Cellular (2004)', 'Resident Evil: Apocalypse (2004)', 'Mr. 3000 (2004)', 'Sky Captain and the World of Tomorrow (2004)', 'Wimbledon (2004)', 'First Daughter (2004)', 'Forgotten, The (2004)', 'Motorcycle Diaries, The (Diarios de motocicleta) (2004)', 'Shaun of the Dead (2004)', 'Shark Tale (2004)', 'Ladder 49 (2004)', 'I Heart Huckabees (2004)', 'Raise Your Voice (2004)', 'Taxi (2004)', 'Primer (2004)', 'Stage Beauty (2004)', 'Shall We Dance? (2004)', 'Team America: World Police (2004)', 'Eulogy (2004)', 'P.S. (2004)', 'Friday Night Lights (2004)', 'Tarnation (2003)', 'Final Cut, The (2004)', 'Being Julia (2004)', 'Surviving Christmas (2004)', 'Grudge, The (2004)', 'Alfie (2004)', 'Sideways (2004)', 'The Machinist (2004)', 'Vera Drake (2004)', 'Falling Angels (2003)', 'Lightning in a Bottle (2004)', 'Undertow (2004)', 'Saw (2004)', 'Ray (2004)', 'Birth (2004)', 'Incredibles, The (2004)', 'Callas Forever (2002)', 'Polar Express, The (2004)', 'Kinsey (2004)', \"Seed of Chucky (Child's Play 5) (2004)\", 'After the Sunset (2004)', 'Bridget Jones: The Edge of Reason (2004)', 'Finding Neverland (2004)', 'National Treasure (2004)', 'Bad Education (La mala educación) (2004)', 'SpongeBob SquarePants Movie, The (2004)', 'Alexander (2004)', 'Christmas with the Kranks (2004)', 'Guerrilla: The Taking of Patty Hearst (2004)', 'Closer (2004)', 'I Am David (2003)', 'House of Flying Daggers (Shi mian mai fu) (2004)', \"Ocean's Twelve (2004)\", 'Blade: Trinity (2004)', \"Bush's Brain (2004)\", \"Love Me If You Dare (Jeux d'enfants) (2003)\", 'Control Room (2004)', 'Dark Portals: The Chronicles of Vidocq  (Vidocq) (2001)', 'In July (Im Juli) (2000)', 'Taxi 2 (2000)', 'If These Walls Could Talk 2 (2000)', '10th Kingdom, The (2000)', '2046 (2004)', 'Bartleby (2001)', 'Batman Beyond: Return of the Joker (2000)', 'Nine Lives of Tomas Katz, The (2000)', 'Monday (2000)', 'Paradise Lost 2: Revelations (2000)', 'Asterix & Obelix: Mission Cleopatra (Astérix & Obélix: Mission Cléopâtre) (2002)', 'Daria: Is It Fall Yet? (2000)', 'Late Night Shopping (2001)', '61* (2001)', 'Joint Security Area (Gongdong gyeongbi guyeok JSA) (2000)', \"Ripley's Game (2002)\", 'Jalla! Jalla! (2000)', 'Teknolust (2002)', 'Accidental Spy, The (Dak miu mai shing) (2001)', 'Darkness (2002)', 'Blood: The Last Vampire (2000)', 'Blueberry (2004)', 'American Psycho II: All American Girl (2002)', 'Ali G Indahouse (2002)', 'Dead or Alive 2: Tôbôsha (2000)', 'Cube 2: Hypercube (2002)', 'Pulse (Kairo) (2001)', 'Dog Days (Hundstage) (2001)', 'My Sassy Girl (Yeopgijeogin geunyeo) (2001)', 'Nothing (2003)', 'Undertaking Betty (Plots with a View) (2002)', 'Dead or Alive: Final (2002)', 'Fubar (2002)', 'Happiness of the Katakuris, The (Katakuri-ke no kôfuku) (2001)', 'Dead End (2003)', 'Sympathy for Mr. Vengeance (Boksuneun naui geot) (2002)', 'Jesus Christ Vampire Hunter (2001)', 'Suicide Club (Jisatsu saakuru) (2001)', 'Battlestar Galactica (2003)', 'Sound of Thunder, A (2005)', 'Lion King 1½, The (2004)', 'Oasis (2002)', 'Remember Me (Ricordati di me) (2003)', 'Animatrix, The (2003)', 'Brown Bunny, The (2003)', 'Ju-on: The Curse (2000)', '11:14 (2003)', 'Tremors 4: The Legend Begins (2004)', 'Bring It On Again (2004)', \"Crimson Rivers 2: Angels of the Apocalypse (Rivières pourpres II - Les anges de l'apocalypse, Les) (2004)\", 'And Starring Pancho Villa as Himself (2003)', 'Nicotina (2003)', 'Battle Royale 2: Requiem (Batoru rowaiaru II: Chinkonka) (2003)', 'In Hell (2003)', \"Lemony Snicket's A Series of Unfortunate Events (2004)\", 'Helen of Troy (2003)', 'Green Butchers, The (Grønne slagtere, De) (2003)', 'Very Long Engagement, A (Un long dimanche de fiançailles) (2004)', 'Last Life in the Universe (Ruang rak noi nid mahasan) (2003)', 'Ghost in the Shell 2: Innocence (a.k.a. Innocence) (Inosensu) (2004)', 'Cat Returns, The (Neko no ongaeshi) (2002)', 'Twilight Samurai, The (Tasogare Seibei) (2002)', 'Facing Windows (Finestra di fronte, La) (2003)', 'Ginger Snaps: Unleashed (2004)', \"'Salem's Lot (2004)\", 'Comic Book: The Movie (2004)', 'Intimate Strangers (Confidences trop intimes) (2004)', 'Down to the Bone (2004)', 'Ju-on: The Grudge (2002)', 'Old Boy (2003)', 'Red Lights (Feux rouges) (2004)', 'Ginger Snaps Back: The Beginning (2004)', 'One Missed Call (Chakushin ari) (2003)', 'Jacket, The (2005)', 'Millions (2004)', 'Starship Troopers 2: Hero of the Federation (2004)', 'Ong-Bak: The Thai Warrior (Ong Bak) (2003)', 'Infernal Affairs 2 (Mou gaan dou II) (2003)', 'Sea Inside, The (Mar adentro) (2004)', 'Spanglish (2004)', 'Chorus, The (Choristes, Les) (2004)', 'Saints and Soldiers (2003)', 'Story of the Weeping Camel, The (Geschichte vom weinenden Kamel, Die) (2003)', 'Interpreter, The (2005)', 'Open Water (2003)', 'Touch of Pink (2004)', 'Slasher (2004)', 'Bobby Jones, Stroke of Genius (2004)', 'Layer Cake (2004)', 'Return, The (Vozvrashcheniye) (2003)', 'Flight of the Phoenix (2004)', 'Mean Creek (2004)', 'Ring Two, The (2005)', 'Corporation, The (2003)', 'Yes Men, The (2003)', 'Azumi (2003)', \"In My Father's Den (2004)\", 'Tae Guk Gi: The Brotherhood of War (Taegukgi hwinalrimyeo) (2004)', 'Metallica: Some Kind of Monster (2004)', 'Born into Brothels (2004)', 'DiG! (2004)', 'Riding Giants (2004)', 'What the #$*! Do We Know!? (a.k.a. What the Bleep Do We Know!?) (2004)', 'Scanner Darkly, A (2006)', 'Casshern (2004)', \"Outfoxed: Rupert Murdoch's War on Journalism (2004)\", 'Million Dollar Baby (2004)', 'Gozu (Gokudô kyôfu dai-gekijô: Gozu) (2003)', 'Hotel Rwanda (2004)', 'Charlie and the Chocolate Factory (2005)', '3-Iron (Bin-jip) (2004)', 'Life Aquatic with Steve Zissou, The (2004)', 'Aviator, The (2004)', 'Phantom of the Opera, The (2004)', 'Beyond the Sea (2004)', 'Woodsman, The (2004)', 'In Good Company (2004)', 'Meet the Fockers (2004)', 'Assassination of Richard Nixon, The (2004)', 'Love Song for Bobby Long, A (2004)', 'Merchant of Venice, The (2004)', 'Fat Albert (2004)', 'Keys to the House, The (Chiavi di casa, Le) (2004)', 'White Noise (2005)', 'Upside of Anger, The (2005)', 'Stander (2003)', 'Imaginary Heroes (2004)', 'Ruby & Quentin (Tais-toi!) (2003)', 'Life and Death of Peter Sellers, The (2004)', 'Appleseed (Appurushîdo) (2004)', 'Elektra (2005)', 'Racing Stripes (2005)', 'Coach Carter (2005)', 'Memories of Murder (Salinui chueok) (2003)', 'Downfall (Untergang, Der) (2004)', 'Assault on Precinct 13 (2005)', 'Are We There Yet? (2005)', 'Alone in the Dark (2005)', 'Hide and Seek (2005)', 'Boogeyman (2005)', 'Wedding Date, The (2005)', \"Rory O'Shea Was Here (Inside I'm Dancing) (2004)\", 'Nobody Knows (Dare mo shiranai) (2004)', 'Employee of the Month (2004)', 'Purple Butterfly (Zi hudie) (2003)', \"Howl's Moving Castle (Hauru no ugoku shiro) (2004)\", 'Steamboy (Suchîmubôi) (2004)', 'Hitch (2005)', 'Uncle Nino (2003)', 'Bride & Prejudice (2004)', 'Constantine (2005)', 'Son of the Mask (2005)', 'Because of Winn-Dixie (2005)', 'Turtles Can Fly (Lakposhtha hâm parvaz mikonand) (2004)', 'Night Watch (Nochnoy dozor) (2004)', 'Man of the House (2005)', 'Kung Fu Hustle (Gong fu) (2004)', 'Zelary (2003)', 'Control (Kontroll) (2003)', \"Tyler Perry's Diary of a Mad Black Woman (2005)\", 'Cursed (2005)', 'Pacifier, The (2005)', 'Be Cool (2005)', 'Gunner Palace (2004)', 'Hostage (2005)', 'Robots (2005)', 'Cube Zero (2004)', 'Stealing Rembrandt (Rembrandt) (2003)', 'Ice Princess (2005)', 'Melinda and Melinda (2004)', 'Milk and Honey (2003)', 'Miss Congeniality 2: Armed and Fabulous (2005)', 'Guess Who (2005)', 'D.E.B.S. (2004)', 'League of Ordinary Gentlemen, A (2004)', 'Incident at Loch Ness (2004)', '800 Bullets (800 Balas) (2002)', 'Wild Parrots of Telegraph Hill, The (2003)', 'Ballad of Jack and Rose, The (2005)', 'Sin City (2005)', 'Beauty Shop (2005)', 'Sahara (2005)', 'Fever Pitch (2005)', 'Eros (2004)', 'Not on the Lips (Pas sur la bouche) (2003)', 'Tanguy (2001)', \"National Lampoon's Lady Killers (National Lampoon's Gold Diggers) (2003)\", 'Ringu 0: Bâsudei (2000)', 'Brothers (Brødre) (2004)', 'Carrie (2002)', \"Hitchhiker's Guide to the Galaxy, The (2005)\", 'Amityville Horror, The (2005)', 'Mutant Aliens (2001)', 'Before the Fall (NaPolA - Elite für den Führer) (2004)', 'State Property 2 (2005)', 'Palindromes (2004)', 'Lot Like Love, A (2005)', \"King's Ransom (2005)\", 'Enron: The Smartest Guys in the Room (2005)', 'xXx: State of the Union (2005)', 'Kingdom of Heaven (2005)', 'House of Wax (2005)', 'Crash (2004)', 'Mysterious Skin (2004)', 'Common Thread, A (a.k.a. Sequins) (Brodeuses) (2004)', 'Dear Wendy (2005)', 'Los Angeles Plays Itself (2003)', 'Unleashed (Danny the Dog) (2005)', 'Star Wars: Episode III - Revenge of the Sith (2005)', 'Kicking & Screaming (2005)', 'Monster-in-Law (2005)', 'Snow Walker, The (2003)', 'Madagascar (2005)', 'Mad Hot Ballroom (2005)', 'Dominion: Prequel to the Exorcist (2005)', 'Longest Yard, The (2005)', 'Saving Face (2004)', 'Cinderella Man (2005)', 'Sisterhood of the Traveling Pants, The (2005)', 'Lords of Dogtown (2005)', 'Rock School (2005)', 'Mr. & Mrs. Smith (2005)', 'Adventures of Sharkboy and Lavagirl 3-D, The (2005)', 'High Tension (Haute tension) (Switchblade Romance) (2003)', \"It's All Gone Pete Tong (2004)\", 'Batman Begins (2005)', 'Godzilla: Final Wars (Gojira: Fainaru uôzu) (2004)', 'Perfect Man, The (2005)', 'Saint Ralph (2004)', 'Herbie: Fully Loaded (2005)', 'Land of the Dead (2005)', 'Bewitched (2005)', 'Rize (2005)', 'Me and You and Everyone We Know (2005)', 'Perfect Crime, The (Crimen Ferpecto) (Ferpect Crime) (2004)', '3 Extremes (Three... Extremes) (Saam gaang yi) (2004)', 'Edukators, The (Die Fetten Jahre sind vorbei) (2004)', 'War of the Worlds (2005)', \"March of the Penguins (Marche de l'empereur, La) (2005)\", 'Rebound (2005)', 'Dark Water (2005)', \"Beat That My Heart Skipped, The (battre mon coeur s'est arrêté, De) (2005)\", 'Fantastic Four (2005)', 'Murderball (2005)', 'Wedding Crashers (2005)', 'Happy Endings (2005)', 'Hustle & Flow (2005)', 'Calcium Kid, The (2004)', 'Island, The (2005)', 'Bad News Bears (2005)', \"Devil's Rejects, The (2005)\", 'Last Days (2005)', 'November (2004)', 'Sky High (2005)', 'Stealth (2005)', 'Must Love Dogs (2005)', 'Aristocrats, The (2005)', 'Order, The (2001)', 'Serenity (2005)', 'Broken Flowers (2005)', 'Dukes of Hazzard, The (2005)', 'The Chumscrubber (2005)', 'Junebug (2005)', 'Deuce Bigalow: European Gigolo (2005)', 'Skeleton Key, The (2005)', 'Four Brothers (2005)', 'The Great Raid (2005)', 'Pretty Persuasion (2005)', 'Grizzly Man (2005)', 'Pusher II: With Blood on My Hands (2004)', 'Duma (2005)', '40-Year-Old Virgin, The (2005)', 'Red Eye (2005)', 'Hidden (a.k.a. Cache) (Caché) (2005)', 'Valiant (2005)', 'Brothers Grimm, The (2005)', 'Baxter, The (2005)', 'Cave, The (2005)', 'Constant Gardener, The (2005)', 'Transporter 2 (2005)', 'Just Like Heaven (2005)', 'Proof (2005)', 'Lord of War (2005)', 'Cry_Wolf (a.k.a. Cry Wolf) (2005)', 'Everything Is Illuminated (2005)', 'Thumbsucker (2005)', 'Family Guy Presents Stewie Griffin: The Untold Story (2005)', 'New Police Story (Xin jing cha gu shi) (2004)', 'Why We Fight (2005)', 'Doom (2005)', 'Domino (2005)', 'Waiting... (2005)', 'Aeon Flux (2005)', 'Unfinished Life, An (2005)', 'Man, The (2005)', 'Survive Style 5+ (2004)', 'Exorcism of Emily Rose, The (2005)', 'Flightplan (2005)', 'Corpse Bride (2005)', 'Green Street Hooligans (a.k.a. Hooligans) (2005)', 'History of Violence, A (2005)', 'Oliver Twist (2005)', 'Greatest Game Ever Played, The (2005)', 'Capote (2005)', 'Final Fantasy VII: Advent Children (2004)', 'Roll Bounce (2005)', 'Into the Blue (2005)', 'MirrorMask (2005)', 'Wallace & Gromit in The Curse of the Were-Rabbit (2005)', 'Kiss Kiss Bang Bang (2005)', 'Bittersweet Life, A (Dalkomhan insaeng) (2005)', \"Darwin's Nightmare (2004)\", 'Beowulf & Grendel (2005)', 'No Direction Home: Bob Dylan (2005)', 'Goal! The Dream Begins (Goal!) (2005)', 'In Her Shoes (2005)', 'Squid and the Whale, The (2005)', 'Two for the Money (2005)', 'Brokeback Mountain (2005)', 'Elizabethtown (2005)', 'North Country (2005)', 'Good Night, and Good Luck. (2005)', 'Dreamer: Inspired by a True Story (2005)', 'Proposition, The (2005)', 'Fog, The (2005)', 'Shopgirl (2005)', 'Stay (2005)', 'Legend of Zorro, The (2005)', 'Weather Man, The (2005)', 'Saw II (2005)', 'Prime (2005)', \"Don't Move (Non ti muovere) (2004)\", 'American Pie Presents: Band Camp (American Pie 4: Band Camp) (2005)', 'Great Yokai War, The (Yôkai daisensô) (2005)', 'Manderlay (2005)', 'Revolver (2005)', 'Jarhead (2005)', 'Chicken Little (2005)', \"Dead Man's Shoes (2004)\", 'Joyeux Noël (Merry Christmas) (2005)', 'Just Friends (2005)', 'Syriana (2005)', 'One-Way Ticket to Mombasa (Menolippu Mombasaan) (2002)', 'Derailed (2005)', 'Creep (2004)', 'Pride & Prejudice (2005)', 'Wolf Creek (2005)', 'Descent, The (2005)', 'Harry Potter and the Goblet of Fire (2005)', 'Walk the Line (2005)', 'Rent (2005)', 'Zathura (2005)', 'C.R.A.Z.Y. (2005)', 'Sarah Silverman: Jesus Is Magic (2005)', 'Breakfast on Pluto (2005)', 'Ice Harvest, The (2005)', 'Yours, Mine and Ours (2005)', 'Libertine, The (2004)', 'Match Point (2005)', 'Paradise Now (2005)', 'Chronicles of Narnia: The Lion, the Witch and the Wardrobe, The (2005)', 'King Kong (2005)', 'Memoirs of a Geisha (2005)', 'Family Stone, The (2005)', 'Havoc (2005)', 'Matador, The (2005)', 'Wal-Mart: The High Cost of Low Price (2005)', 'Mozart and the Whale (2005)', 'Three Burials of Melquiades Estrada, The (2006)', 'Munich (2005)', 'Producers, The (2005)', 'Transamerica (2005)', 'Rumor Has It... (2005)', 'Cheaper by the Dozen 2 (2005)', 'Fun with Dick and Jane (2005)', 'Ringer, The (2005)', 'Casanova (2005)', 'Mrs. Henderson Presents (2005)', 'New World, The (2005)', 'Voices of a Distant Star (Hoshi no koe) (2003)', 'Boys of Baraka, The (2005)', 'Lady Vengeance (Sympathy for Lady Vengeance) (Chinjeolhan geumjassi) (2005)', 'Grand Theft Parsons (2003)', 'District 13 (Banlieue 13) (2004)', 'Hostel (2005)', \"Grandma's Boy (2006)\", 'Tristan & Isolde (2006)', 'Glory Road (2006)', 'Last Holiday (2006)', 'Hoodwinked! (2005)', 'Underworld: Evolution (2006)', 'Looking for Comedy in the Muslim World (2005)', 'Water (2005)', 'Sophie Scholl: The Final Days (Sophie Scholl - Die letzten Tage) (2005)', \"World's Fastest Indian, The (2005)\", 'Bandidas (2006)', 'Tristram Shandy: A Cock and Bull Story (2005)', 'Helter Skelter (2004)', 'Annapolis (2006)', \"Big Momma's House 2 (2006)\", 'Nanny McPhee (2005)', 'Final Destination 3 (2006)', 'Something New (2006)', \"Block Party (a.k.a. Dave Chappelle's Block Party) (2005)\", 'Imagine Me & You (2005)', 'Pink Panther, The (2006)', 'Curious George (2006)', 'Firewall (2006)', 'When a Stranger Calls (2006)', 'London (2005)', 'Freedomland (2006)', 'Winter Passing (2005)', 'Eight Below (2006)', 'Date Movie (2006)', 'Running Scared (2006)', 'Ultraviolet (2006)', 'Just My Luck (2006)', 'Pulse (2006)', '16 Blocks (2006)', 'Failure to Launch (2006)', 'Ultimate Avengers (2006)', 'Ice Age 2: The Meltdown (2006)', 'Ask the Dust (2006)', 'V for Vendetta (2006)', \"She's the Man (2006)\", 'Thank You for Smoking (2006)', 'Find Me Guilty (2006)', 'Inside Man (2006)', 'Tsotsi (2005)', 'Aquamarine (2006)', 'Lights in the Dusk (Laitakaupungin valot) (2006)', 'Hills Have Eyes, The (2006)', 'Shaggy Dog, The (2006)', 'Unknown White Male (2005)', 'Lives of Others, The (Das leben der Anderen) (2006)', 'Take the Lead (2006)', 'Devil and Daniel Johnston, The (2005)', 'Lucky Number Slevin (2006)', 'Volver (2006)', 'Akeelah and the Bee (2006)', 'Brainstorm (2001)', 'Stay Alive (2006)', 'Basic Instinct 2 (2006)', 'Brick (2005)', 'Dead Hate the Living!, The (2000)', 'Evil Aliens (2005)', 'This Film Is Not Yet Rated (2006)', 'Slither (2006)', 'Benchwarmers, The (2006)', 'Renaissance (2006)', 'Go for Zucker! (Alles auf Zucker!) (2004)', 'Friends with Money (2006)', 'Reefer Madness: The Movie Musical (2005)', 'Candy (2006)', \"Child, The (L'enfant) (2005)\", '9/11 (2002)', 'Scary Movie 4 (2006)', 'Hard Candy (2005)', 'Prairie Home Companion, A (2006)', 'Sentinel, The (2006)', 'Wild, The (2006)', 'Silent Hill (2006)', 'American Dreamz (2006)', 'Kinky Boots (2005)', 'Protector, The (a.k.a. Warrior King) (Tom yum goong) (2005)', 'Mission: Impossible III (2006)', 'RV (2006)', 'United 93 (2006)', 'Stick It (2006)', 'American Haunting, An (2005)', 'Down in the Valley (2005)', 'Over the Hedge (2006)', 'Art School Confidential (2006)', 'Poseidon (2006)', 'Da Vinci Code, The (2006)', 'X-Men: The Last Stand (2006)', 'Break-Up, The (2006)', 'Peaceful Warrior (2006)', 'Cars (2006)', 'Notorious Bettie Page, The (2005)', 'Game 6 (2005)', 'On a Clear Day (2005)', 'Omen, The (2006)', 'Nacho Libre (2006)', 'Lake House, The (2006)', 'Click (2006)', 'Devil Wears Prada, The (2006)', \"Pirates of the Caribbean: Dead Man's Chest (2006)\", 'You, Me and Dupree (2006)', 'Clerks II (2006)', 'Lady in the Water (2006)', 'My Super Ex-Girlfriend (2006)', 'Marie Antoinette (2006)', 'Who Killed the Electric Car? (2006)', 'Inconvenient Truth, An (2006)', 'High School Musical (2006)', 'I Am a Sex Addict (2005)', 'Stoned (2005)', \"Jet Li's Fearless (Huo Yuan Jia) (2006)\", 'Fast and the Furious: Tokyo Drift, The (Fast and the Furious 3, The) (2006)', 'Garfield: A Tail of Two Kitties (2006)', \"Metal: A Headbanger's Journey (2005)\", 'Superman Returns (2006)', 'Road to Guantanamo, The (2006)', 'Edmond (2005)', 'OH in Ohio, The (2006)', 'Little Miss Sunshine (2006)', 'Babel (2006)', 'Strangers with Candy (2005)', 'Wordplay (2006)', 'Little Man (2006)', 'Monster House (2006)', 'Snakes on a Plane (2006)', 'Scoop (2006)', 'Talladega Nights: The Ballad of Ricky Bobby (2006)', 'Night at the Museum (2006)', 'World Trade Center (2006)', 'Stranger than Fiction (2006)', 'Miami Vice (2006)', 'Pursuit of Happyness, The (2006)', 'John Tucker Must Die (2006)', 'Ant Bully, The (2006)', 'Crank (2006)', 'Secret Life of Words, The (2005)', 'Chaos (2005)', 'Night Listener, The (2006)', 'Step Up (2006)', 'Zoom (2006)', 'Mind Game (2004)', 'Half Nelson (2006)', 'Moustache, La (2005)', 'Tideland (2005)', \"Adam's Apples (Adams æbler) (2005)\", 'Material Girls (2006)', 'Accepted (2006)', 'Illusionist, The (2006)', 'The Queen (2006)', 'Beerfest (2006)', 'Invincible (2006)', 'Idlewild (2006)', 'Angel-A (2005)', 'Puffy Chair, The (2006)', 'Wicker Man, The (2006)', 'Wind That Shakes the Barley, The (2006)', 'Severance (2006)', 'Hollywoodland (2006)', 'Covenant, The (2006)', 'Last Kiss, The (2006)', 'SherryBaby (2006)', 'Idiocracy (2006)', 'Jesus Camp (2006)', 'Bow, The (Hwal) (2005)', 'Tiger and the Snow, The (La tigre e la neve) (2005)', 'Fountain, The (2006)', 'Science of Sleep, The (La science des rêves) (2006)', 'Black Dahlia, The (2006)', 'Woods, The (2006)', 'Gridiron Gang (2006)', 'Land of Plenty (Angst and Alienation in America) (2004)', 'Bridge, The (2006)', 'Apocalypto (2006)', 'Flyboys (2006)', 'Jackass Number Two (2006)', \"All the King's Men (2006)\", 'Conversations with Other Women (2005)', 'Borat: Cultural Learnings of America for Make Benefit Glorious Nation of Kazakhstan (2006)', \"Pan's Labyrinth (Laberinto del fauno, El) (2006)\", 'Guardian, The (2006)', 'Open Season (2006)', 'School for Scoundrels (2006)', 'Departed, The (2006)', 'Texas Chainsaw Massacre: The Beginning, The (2006)', 'Employee of the Month (2006)', 'Running With Scissors (2006)', 'Man of the Year (2006)', 'Marine, The (2006)', 'Infamous (2006)', 'Feast (2005)', 'Little Children (2006)', 'Deliver Us from Evil (2006)', 'Last King of Scotland, The (2006)', 'U.S. vs. John Lennon, The (2006)', 'Shortbus (2006)', 'Children of Men (2006)', 'Prestige, The (2006)', 'Flags of Our Fathers (2006)', '13 Tzameti (2005)', 'Saw III (2006)', 'Catch a Fire (2006)', 'Death of a President (2006)', 'Flushed Away (2006)', 'Perfume: The Story of a Murderer (2006)', 'Santa Clause 3: The Escape Clause, The (2006)', 'Good Year, A (2006)', 'Shut Up & Sing (2006)', 'For Your Consideration (2006)', 'Fuck (2005)', 'Shooting Dogs (a.k.a. Beyond the Gates) (2005)', 'Casino Royale (2006)', 'Happy Feet (2006)', \"Let's Go to Prison (2006)\", 'Déjà Vu (Deja Vu) (2006)', 'Bobby (2006)', '10 Items or Less (2006)', 'Holiday, The (2006)', 'Harsh Times (2006)', 'Fast Food Nation (2006)', 'Tenacious D in The Pick of Destiny (2006)', 'Nativity Story, The (2006)', 'Blood Diamond (2006)', \"Charlotte's Web (2006)\", 'Eragon (2006)', 'Rocky Balboa (2006)', 'Fur: An Imaginary Portrait of Diane Arbus (2006)', 'Another Gay Movie (2006)', 'Painted Veil, The (2006)', 'We Are Marshall (2006)', 'Good Shepherd, The (2006)', 'Dreamgirls (2006)', 'Freedom Writers (2007)', 'When the Levees Broke: A Requiem in Four Acts (2006)', 'Inland Empire (2006)', 'History Boys, The (2006)', 'Notes on a Scandal (2006)', 'DOA: Dead or Alive (2006)', 'Curse of the Golden Flower (Man cheng jin dai huang jin jia) (2006)', 'Good German, The (2006)', 'Letters from Iwo Jima (2006)', 'Black Christmas (2006)', 'Stomp the Yard (2007)', 'Miss Potter (2006)', 'American Pie Presents The Naked Mile (American Pie 5: The Naked Mile) (2006)', 'Venus (2006)', 'Primeval (2007)', 'Alpha Dog (2007)', 'Hitcher, The (2007)', 'After the Wedding (Efter brylluppet) (2006)', 'Bridge to Terabithia (2007)', 'Beer League (2006)', 'Dead Meat (2004)', '49 Up (2005)', 'Waitress (2007)', 'Catch and Release (2006)', \"Smokin' Aces (2006)\", 'Blood and Chocolate (2007)', 'Epic Movie (2007)', 'Messengers, The (2007)', 'Because I Said So (2007)', 'Hannibal Rising (2007)', 'Norbit (2007)', 'Boss of It All, The (Direktøren for det hele) (2006)', 'Cocaine Cowboys (2006)', 'Ratatouille (2007)', \"Paris, I Love You (Paris, je t'aime) (2006)\", 'Astronaut Farmer, The (2007)', 'Wake Up, Ron Burgundy (2004)', \"It's a Boy Girl Thing (2006)\", 'Ugly Duckling and Me!, The (2006)', 'Unknown (2006)', 'Ghost Rider (2007)', 'Breach (2007)', \"Tyler Perry's Daddy's Little Girls (2007)\", 'Music and Lyrics (2007)', 'Number 23, The (2007)', 'Reno 911!: Miami (2007)', 'Black Snake Moan (2006)', 'My Father and My Son (Babam ve oglum) (2005)', 'Factory Girl (2006)', 'Hot Fuzz (2007)', 'Golden Door (Nuovomondo) (2006)', 'Next (2007)', 'Amazing Grace (2006)', '2001 Maniacs (2005)', 'Zodiac (2007)', \"Pusher III: I'm the Angel of Death (2005)\", 'Wild Hogs (2007)', '300 (2007)', 'Abandoned, The (2006)', 'Starter for 10 (2006)', 'Last Mimzy, The (2007)', 'Priceless (Hors de prix) (2006)', 'Host, The (Gwoemul) (2006)', 'Becoming Jane (2007)', 'Namesake, The (2006)', 'I Think I Love My Wife (2007)', 'Premonition (2007)', 'Dead Silence (2007)', 'Reign Over Me (2007)', 'Pride (2007)', 'Shooter (2007)', 'Hills Have Eyes II, The (2007)', 'TMNT (Teenage Mutant Ninja Turtles) (2007)', 'Black Book (Zwartboek) (2006)', 'Lookout, The (2007)', 'Blades of Glory (2007)', 'Are We Done Yet? (2007)', 'Grindhouse (2007)', 'Reaping, The (2007)', 'Meet the Robinsons (2007)', 'American Hardcore (2006)', 'Sunshine (2007)', 'Hoax, The (2007)', 'Disturbia (2007)', 'Aqua Teen Hunger Force Colon Movie Film for Theaters (2007)', 'Vie en Rose, La (Môme, La) (2007)', 'Fracture (2007)', 'Vacancy (2007)', 'In the Land of Women (2007)', \"Mr. Bean's Holiday (2007)\", 'Invisible, The (2007)', 'Kickin It Old Skool (2007)', 'Spider-Man 3 (2007)', 'Lucky You (2007)', \"It's a Very Merry Muppet Christmas Movie (2002)\", 'Sharkwater (2006)', 'Ex, The (2007)', 'Paprika (Papurika) (2006)', 'Day Watch (Dnevnoy dozor) (2006)', 'This Is England (2006)', 'Away from Her (2006)', 'Knocked Up (2007)', 'Hairspray (2007)', '28 Weeks Later (2007)', 'Jonestown: The Life and Death of Peoples Temple (2006)', 'Shrek the Third (2007)', 'Once (2006)', \"Pirates of the Caribbean: At World's End (2007)\", 'Bug (2007)', 'Mr. Brooks (2007)', \"Librarian: Return to King Solomon's Mines, The (2006)\", 'Librarian: Quest for the Spear, The (2004)', 'Fay Grim (2006)', \"I'm a Cyborg, But That's OK (Saibogujiman kwenchana) (2006)\", 'Breed, The (2006)', 'Cashback (2006)', \"Ocean's Thirteen (2007)\", 'Them (Ils) (2006)', 'Hostel: Part II (2007)', 'Paranoid Park (2007)', \"Surf's Up (2007)\", 'Fantastic Four: Rise of the Silver Surfer (2007)', 'Nancy Drew (2007)', 'Fido (2006)', 'Death Proof (2007)', 'Rescue Dawn (2006)', 'TV Set, The (2006)', 'Valet, The (La doublure) (2006)', 'Bring It On: All or Nothing (2006)', 'Power of Nightmares, The: The Rise of the Politics of Fear (2004)', 'Sicko (2007)', 'Mighty Heart, A (2007)', '1408 (2007)', 'Death at a Funeral (2007)', 'Live Free or Die Hard (2007)', 'License to Wed (2007)', 'Evan Almighty (2007)', 'Transformers (2007)', 'Harry Potter and the Order of the Phoenix (2007)', 'I Now Pronounce You Chuck and Larry (2007)', 'First Snow (2006)', 'Manufactured Landscapes (2006)', 'Across the Universe (2007)', 'Hot Rod (2007)', 'Stardust (2007)', 'Simpsons Movie, The (2007)', 'I Know Who Killed Me (2007)', 'No Reservations (2007)', 'Charlie Bartlett (2007)', 'Bourne Ultimatum, The (2007)', 'China Blue (2005)', 'Tell No One (Ne le dis à personne) (2006)', 'Superbad (2007)', 'Brice Man, The (Brice de Nice) (2005)', 'Rush Hour 3 (2007)', 'Last Legion, The (2007)', 'Balls of Fury (2007)', 'Sydney White (2007)', 'Kingdom, The (2007)', 'Rocket Science (2007)', 'Daddy Day Camp (2007)', 'Invasion, The (2007)', 'Nanny Diaries, The (2007)', 'Halloween (2007)', 'Death Sentence (2007)', '2 Days in Paris (2007)', 'King of Kong, The (2007)', 'Taxi 4 (2007)', 'Behind the Mask: The Rise of Leslie Vernon (2006)', 'Brothers Solomon, The (2007)', 'Nines, The (2007)', 'Planet Terror (2007)', '3:10 to Yuma (2007)', \"Shoot 'Em Up (2007)\", 'Ten, The (2007)', 'Atonement (2007)', 'Electroma (2006)', 'Requiem (2006)', '4 Months, 3 Weeks and 2 Days (4 luni, 3 saptamâni si 2 zile) (2007)', 'No End in Sight (2007)', 'Brave One, The (2007)', 'In the Valley of Elah (2007)', 'December Boys (2007)', 'Shanghai Kiss (2007)', 'Hunting Party, The (2007)', 'Eastern Promises (2007)', 'Unreasonable Man, An (2006)', 'Tekkonkinkreet (Tekkon kinkurîto) (2006)', 'Love and Other Disasters (2006)', 'Interview (2007)', 'Cashback (2004)', 'Resident Evil: Extinction (2007)', 'Mr. Woodcock (2007)', 'Good Luck Chuck (2007)', 'Into the Wild (2007)', 'Game Plan, The (2007)', 'Lust, Caution (Se, jie) (2007)', 'Seeker: The Dark Is Rising, The (2007)', 'Heartbreak Kid, The (2007)', 'Dan in Real Life (2007)', 'Darjeeling Limited, The (2007)', 'We Own the Night (2007)', 'Elizabeth: The Golden Age (2007)', 'Michael Clayton (2007)', 'Sleuth (2007)', 'Lars and the Real Girl (2007)', '30 Days of Night (2007)', 'Gone Baby Gone (2007)', 'Comebacks, The (2007)', 'Weirdsville (2007)', 'Assassination of Jesse James by the Coward Robert Ford, The (2007)', '10th & Wolf (2006)', 'Persepolis (2007)', 'Control (2007)', 'The Jane Austen Book Club (2007)', 'Last Winter, The (2006)', 'Black Sheep (2006)', 'Edge of Heaven, The (Auf der anderen Seite) (2007)', 'Saw IV (2007)', 'For the Bible Tells Me So (2007)', 'My Kid Could Paint That (2007)', 'Elite Squad (Tropa de Elite) (2007)', 'King of California (2007)', 'American Gangster (2007)', 'Bee Movie (2007)', \"Before the Devil Knows You're Dead (2007)\", 'Diving Bell and the Butterfly, The (Scaphandre et le papillon, Le) (2007)', 'No Country for Old Men (2007)', 'Be Kind Rewind (2008)', 'Itty Bitty Titty Committee (2007)', 'August Rush (2007)', 'Man from Earth, The (2007)', 'Lions For Lambs (2007)', 'Beowulf (2007)', 'Southland Tales (2006)', 'Evening with Kevin Smith 2: Evening Harder, An (2006)', 'I Served the King of England (Obsluhoval jsem anglického krále) (2006)', 'Mist, The (2007)', 'Enchanted (2007)', 'Hitman (2007)', 'Awake (2007)', 'Golden Compass, The (2007)', 'I Am Legend (2007)', 'Alvin and the Chipmunks (2007)', \"Futurama: Bender's Big Score (2007)\", 'Margot at the Wedding (2007)', \"I'm Not There (2007)\", 'Savages, The (2007)', 'Wrong Turn 2: Dead End (2007)', 'Orphanage, The (Orfanato, El) (2007)', 'Juno (2007)', 'Maxed Out: Hard Times, Easy Credit and the Era of Predatory Lenders (2006)', 'My Blueberry Nights (2007)', 'Helvetica (2007)', 'Bucket List, The (2007)', 'Kite Runner, The (2007)', 'Deaths of Ian Stone, The (2007)', 'Wristcutters: A Love Story (2006)', 'Sweeney Todd: The Demon Barber of Fleet Street (2007)', 'National Treasure: Book of Secrets (2007)', 'There Will Be Blood (2007)', \"Charlie Wilson's War (2007)\", 'AVPR: Aliens vs. Predator - Requiem (2007)', 'Walk Hard: The Dewey Cox Story (2007)', 'As You Like It (2006)', 'Drained (O cheiro do Ralo) (2006)', 'Dedication (2007)', 'Water Horse: Legend of the Deep, The (2007)', 'Battlestar Galactica: Razor (2007)', 'P.S. I Love You (2007)', '27 Dresses (2008)', \"Cassandra's Dream (2007)\", 'Like Stars on Earth (Taare Zameen Par) (2007)', \"Band's Visit, The (Bikur Ha-Tizmoret) (2007)\", '[REC] (2007)', 'In the Name of the King: A Dungeon Siege Tale (2008)', 'Cloverfield (2008)', 'Hatchet (2006)', 'Cat Soup (Nekojiru-so) (2001)', 'Girl Who Leapt Through Time, The (Toki o kakeru shôjo) (2006)', 'First Sunday (2008)', 'Untraceable (2008)', 'Rambo (Rambo 4) (2008)', 'Meet the Spartans (2008)', 'Strange Wilderness (2008)', 'Signal, The (2007)', 'Hellboy II: The Golden Army (2008)', 'In Bruges (2008)', 'Rise of the Footsoldier (2007)', 'Teeth (2007)', \"Fool's Gold (2008)\", 'Jumper (2008)', 'Definitely, Maybe (2008)', 'Air I Breathe, The (2007)', 'Vantage Point (2008)', 'Spiderwick Chronicles, The (2008)', 'Step Up 2 the Streets (2008)', 'Other Boleyn Girl, The (2008)', 'Semi-Pro (2008)', 'Run Fatboy Run (2007)', 'Taxi to the Dark Side (2007)', 'Descent (2007)', 'College Road Trip (2008)', '10,000 BC (2008)', 'Bank Job, The (2008)', 'Doomsday (2008)', 'Horton Hears a Who! (2008)', 'Funny Games U.S. (2007)', 'Counterfeiters, The (Die Fälscher) (2007)', 'Mongol (2007)', 'War Dance (2007)', 'Love Guru, The (2008)', 'Diary of the Dead (2007)', 'Penelope (2006)', 'City of Men (Cidade dos Homens) (2007)', 'Zeitgeist: The Movie (2007)', 'Justice League: The New Frontier (2008) ', 'Heima (2007)', 'Snow Angels (2007)', 'Class, The (Klass) (2007)', 'Dark Knight, The (2008)', 'Never Back Down (2008)', 'Drillbit Taylor (2008)', 'Youth Without Youth (2007)', '21 (2008)', 'Smart People (2008)', 'Shepherd: Border Patrol, The (2008)', 'Leatherheads (2008)', 'Assembly (Ji jie hao) (2007) ', 'Zebraman (2004)', 'Stop-Loss (2008)', 'Shine a Light (2008)', \"Inside (À l'intérieur) (2007)\", \"Nim's Island (2008)\", 'Ruins, The (2008)', 'Forgetting Sarah Marshall (2008)', 'Superhero Movie (2008)', 'Street Kings (2008)', 'Visitor, The (2007)', 'Harold & Kumar Escape from Guantanamo Bay (2008)', '99 francs (2007)', 'Speed Racer (2008)', 'Forbidden Kingdom, The (2008)', 'Happy-Go-Lucky (2008)', 'Religulous (2008)', 'Outpost (2008)', 'Are You Scared? (2006)', 'Son of Rambow (2007)', 'Super High Me (2007)', 'Outsourced (2006)', 'Baby Mama (2008)', 'Expelled: No Intelligence Allowed (2008)', 'Prom Night (2008)', 'Iron Man (2008)', 'Made of Honor (2008)', 'Redbelt (2008)', 'Taken (2008)', 'Fall, The (2006)', 'What Happens in Vegas... (2008)', 'American Pie Presents Beta House (American Pie 6: Beta House) (2007)', 'Bella (2006)', 'Chronicles of Narnia: Prince Caspian, The (2008)', 'Shelter (2007)', 'Girl Next Door, The (2007)', 'Indiana Jones and the Kingdom of the Crystal Skull (2008)', \"Nina's Heavenly Delights (2006)\", 'Sex and the City (2008)', 'Strangers, The (2008)', 'Bigger, Stronger, Faster* (2008)', 'All the Boys Love Mandy Lane (2006)', 'Kung Fu Panda (2008)', 'Recount (2008)', 'Ex Drummer (2007)', \"You Don't Mess with the Zohan (2008)\", 'Stuck (2007)', 'Chaos Theory (2007)', 'Boy A (2007)', 'Spiral (2007)', 'Happening, The (2008)', 'Incredible Hulk, The (2008)', 'Children of Huang Shi, The (2008)', 'WALL·E (2008)', 'Wanted (2008)', 'Hancock (2008)', 'Get Smart (2008)', 'Young People Fucking (a.k.a. YPF) (2007)', \"St. Trinian's (2007)\", 'Futurama: The Beast with a Billion Backs (2008)', 'Kit Kittredge: An American Girl (2008)', 'Gonzo: The Life and Work of Dr. Hunter S. Thompson (2008)', 'Wackness, The (2008)', 'Strange Circus (Kimyô na sâkasu) (2005)', 'Encounters at the End of the World (2008)', 'Zombie Strippers! (2008)', 'Battle for Haditha (2007)', 'Mamma Mia! (2008)', \"Welcome to the Sticks (Bienvenue chez les Ch'tis) (2008)\", 'Rogue (2007)', 'Journey to the Center of the Earth (2008)', 'Meet Dave (2008)', 'Machine Girl, The (Kataude mashin gâru) (2008)', 'Shrooms (2007)', 'Transsiberian (2008)', 'Stargate: Continuum (2008)', 'Watchmen (2009)', 'Shotgun Stories (2007)', 'Watching the Detectives (2007)', 'Felon (2008)', 'Step Brothers (2008)', 'X-Files: I Want to Believe, The (2008)', 'Man on Wire (2008)', \"Hogfather (Terry Pratchett's Hogfather) (2006)\", 'Pathology (2008)', 'Tracey Fragments, The (2007)', 'Zone, The (La Zona) (2007)', 'Edge of Love, The (2008)', 'Mummy: Tomb of the Dragon Emperor, The (2008)', 'Midnight Meat Train, The (2008)', 'Frozen River (2008)', 'Vicky Cristina Barcelona (2008)', 'Batman: Gotham Knight (2008)', 'Walker, The (2007)', 'Pineapple Express (2008)', 'Red Cliff (Chi bi) (2008)', 'Sisterhood of the Traveling Pants 2, The (2008)', 'Hell Ride (2008)', 'High School Musical 2 (2007)', 'Tropic Thunder (2008)', 'Star Wars: The Clone Wars (2008)', 'Henry Poole is Here (2008)', 'Mutant Chronicles (2008)', 'Waltz with Bashir (Vals im Bashir) (2008)', 'Let the Right One In (Låt den rätte komma in) (2008)', 'Hamlet 2 (2008)', 'Death Race (2008)', 'House Bunny, The (2008)', 'Rocker, The (2008)', 'I.O.U.S.A. (a.k.a. IOUSA) (2008)', 'Mirrors (2008)', 'Sukiyaki Western Django (2008)', 'Somers Town (2008)', 'Burn After Reading (2008)', 'Disaster Movie (2008)', 'Babylon A.D. (2008)', 'Traitor (2008)', 'Onion Movie, The (2008)', 'Spirit, The (2008)', 'John Adams (2008)', 'Bangkok Dangerous (2008)', 'Sunflower (Xiang ri kui) (2005)', 'Altered (2006)', 'Righteous Kill (2008)', 'Lakeview Terrace (2008)', 'Ghost Town (2008)', 'Crow, The: Wicked Prayer (2005)', 'Appaloosa (2008)', 'Dead Fury (2008)', 'Eagle Eye (2008)', 'How to Lose Friends & Alienate People (2008)', \"Nick and Norah's Infinite Playlist (2008)\", 'Gomorrah (Gomorra) (2008)', 'Duchess, The (2008)', 'Alone in the Dark II (2008)', 'FLCL (2000)', 'Rachel Getting Married (2008)', 'Body of Lies (2008)', 'City of Ember (2008)', 'Max Payne (2008)', 'Zack and Miri Make a Porno (2008)', 'W. (2008)', \"My Best Friend's Girl (2008)\", 'Synecdoche, New York (2008)', 'Secret Life of Bees, The (2008)', 'American Carol, An (2008)', 'Wave, The (Welle, Die) (2008)', 'Angus, Thongs and Perfect Snogging (2008)', 'Pride and Glory (2008)', 'Express, The (2008)', 'Babylon 5: The Legend of the Rangers: To Live and Die in Starlight (2002)', 'Babylon 5: The Lost Tales - Voices in the Dark (2007)', 'RocknRolla (2008)', \"Futurama: Bender's Game (2008)\", 'Tin Man (2007)', 'Madagascar: Escape 2 Africa (2008)', 'Blindness (2008)', 'Changeling (2008)', 'Road, The (2009)', 'Slumdog Millionaire (2008)', 'Quantum of Solace (2008)', 'Role Models (2008)', 'Tokyo! (2008)', 'JCVD (2008)', 'Crows Zero (Kurôzu zero) (2007)', 'Krabat (2008)', 'Camp Rock (2008)', 'Farscape: The Peacekeeper Wars (2004)', 'Saw V (2008)', 'Sex Drive (2008)', 'The Island (2006)', 'Beverly Hills Chihuahua (2008)', 'Class, The (Entre les murs) (2008)', 'Splinter (2008)', 'Australia (2008)', 'Bolt (2008)', 'Milk (2008)', 'Twilight (2008)', 'Children, The (2008)', 'Transporter 3 (2008)', 'Four Christmases (2008)', 'Boy in the Striped Pajamas, The (Boy in the Striped Pyjamas, The) (2008)', 'Fireproof (2008)', 'Igor (2008)', 'Dinotopia (2002)', 'Hunger (2008)', 'Punisher: War Zone (2008)', 'Shrek the Halls (2007)', \"Pervert's Guide to Cinema, The (2006)\", \"Wallace and Gromit in 'A Matter of Loaf and Death' (2008)\", 'Day the Earth Stood Still, The (2008)', 'Che: Part One (2008)', 'Che: Part Two (2008)', 'Doubt (2008)', 'Gran Torino (2008)', 'Frost/Nixon (2008)', 'Reader, The (2008)', 'Sword of the Stranger (Sutorejia: Mukô hadan) (2007)', 'Seven Pounds (2008)', 'Wrestler, The (2008)', 'Curious Case of Benjamin Button, The (2008)', 'Yes Man (2008)', 'Valkyrie (2008)', '5 Centimeters per Second (Byôsoku 5 senchimêtoru) (2007)', 'War of the Worlds (2005)', 'Ben X (2007)', 'Bedtime Stories (2008)', 'Choke (2008)', 'Revolutionary Road (2008)', 'Dear Zachary: A Letter to a Son About His Father (2008)', 'Wild Child (2008)', 'Defiance (2008)', 'Zeitgeist: Addendum (2008)', 'Marley & Me (2008)', 'Ponyo (Gake no ue no Ponyo) (2008)', 'Earthsea (Legend of Earthsea) (2004)', 'Ip Man (2008)', 'Tale of Despereaux, The (2008)', 'Bride Wars (2009)', 'Gamers, The: Dorkness Rising (2008)', \"Mesrine: Killer Instinct (L'instinct de mort) (2008)\", 'My Bloody Valentine 3-D (2009)', 'Battle in Seattle (2007)', 'Timecrimes (Cronocrímenes, Los) (2007)', 'Fire and Ice (2008)', 'Underworld: Rise of the Lycans (2009)', 'Inkheart (2008)', 'Paul Blart: Mall Cop (2009)', 'Notorious (2009)', 'Uninvited, The (2009)', 'Outlander (2008)', 'Eden Lake (2008)', 'Coraline (2009)', 'Push (2009)', 'International, The (2009)', \"He's Just Not That Into You (2009)\", 'Dead Like Me: Life After Death (2009)', 'Futurama: Into the Wild Green Yonder (2009)', 'Frontière(s) (2007)', '11th Hour, The (2007)', 'Afro Samurai: Resurrection (2009)', 'Departures (Okuribito) (2008)', 'My Name Is Bruce (2007)', 'Funny People (2009)', 'Berlin Calling (2008)', 'Nuremberg (2000)', 'Away We Go (2009)', 'Divo, Il (2008)', 'Friday the 13th (2009)', 'Good, the Bad, the Weird, The (Joheunnom nabbeunnom isanghannom) (2008)', 'Pink Panther 2, The (2009)', \"Dr. Horrible's Sing-Along Blog (2008)\", 'Cottage, The (2008)', 'I Love You, Man (2009)', 'Dance of the Dead (2008)', 'Haunting in Connecticut, The (2009)', 'Duplicity (2009)', 'Knowing (2009)', 'Girl with the Dragon Tattoo, The (Män som hatar kvinnor) (2009)', 'Sunshine Cleaning (2008)', 'Kung Fu Panda: Secrets of the Furious Five (2008)', 'Echelon Conspiracy (2009)', 'Monsters vs. Aliens (2009)', 'Baader Meinhof Komplex, Der (2008)', 'Big Stan (2007)', 'Strictly Sexual (2008)', 'Anvil! The Story of Anvil (2008)', 'Observe and Report (2009)', 'Adventureland (2009)', 'Confessions of a Shopaholic (2009)', 'The Butterfly Effect 3: Revelations (2009)', 'Fast & Furious (Fast and the Furious 4, The) (2009)', 'In the Loop (2009)', 'Pirate Radio (2009)', '17 Again (2009)', 'Inglourious Basterds (2009)', 'State of Play (2009)', 'Damned United, The (2009)', 'Crank: High Voltage (2009)', 'Moon (2009)', 'Young Victoria, The (2009)', 'X-Men Origins: Wolverine (2009)', 'Sin Nombre (2009)', 'Star Trek (2009)', 'Great Buck Howard, The (2008)', 'Red Cliff Part II (Chi Bi Xia: Jue Zhan Tian Xia) (2009)', 'Earth (2007)', 'Stanley Kubrick: A Life in Pictures (2001)', 'Crossing Over (2009)', 'Angels & Demons (2009)', 'Balls Out: Gary the Tennis Coach (2009)', 'Powder Blue (2009)', 'Fanboys (2009)', 'Terminator Salvation (2009)', 'Night at the Museum: Battle of the Smithsonian (2009)', 'Were the World Mine (2008)', 'Brothers Bloom, The (2008)', 'I Do: How to Get Married and Stay Single (Prête-moi ta main) (2006)', 'Soloist, The (2009)', 'Drag Me to Hell (2009)', 'Up (2009)', 'Fullmetal Alchemist the Movie: Conqueror of Shamballa (Gekijô-ban hagane no renkinjutsushi: Shanbara wo yuku mono) (2005)', 'Fired Up (2009)', 'In the Electric Mist (2009)', 'Hangover, The (2009)', 'Killshot (2008)', 'Antichrist (2009)', 'Sweeney Todd (2006)', 'Boy Eats Girl (2005)', 'Special (2006)', 'Dead Snow (Død snø) (2009)', 'Land of the Lost (2009)', 'Imagine That (2009)', 'Taking of Pelham 1 2 3, The (2009)', 'Stoning of Soraya M., The (2008)', 'Proposal, The (2009)', 'Year One (2009)', \"Garfield's Pet Force (2009)\", 'Hurt Locker, The (2008)', 'Breakfast with Scot (2007)', 'Limits of Control, The (2009)', 'Transformers: Revenge of the Fallen (2009)', 'Home (2009)', 'Whatever Works (2009)', 'Ghosts of Girlfriends Past (2009)', 'Public Enemies (2009)', 'Ice Age: Dawn of the Dinosaurs (2009)', 'Prison Break: The Final Break (2009)', 'Daria: Is It College Yet? (2002)', \"My Sister's Keeper (2009)\", 'Hood of Horror (2006)', 'Watchmen: Tales of the Black Freighter (2009)', '(500) Days of Summer (2009)', 'Brüno (Bruno) (2009)', 'Librarian, The: The Curse of the Judas Chalice (2008)', 'Harry Potter and the Half-Blood Prince (2009)', 'Eichmann (2007)', 'Open Water 2: Adrift (2006)', 'Imaginarium of Doctor Parnassus, The (2009)', '9to5: Days in Porn (a.k.a. 9 to 5: Days in Porn) (2008)', 'Humpday (2009)', 'Polytechnique (2009)', 'Orphan (2009)', 'Ugly Truth, The (2009)', 'Collector, The (2009)', 'Perfect Getaway, A (2009)', 'District 9 (2009)', 'Julie & Julia (2009)', 'Obsessed (2009)', 'Race to Witch Mountain (2009)', 'Hannah Montana: The Movie (2009)', 'G.I. Joe: The Rise of Cobra (2009)', '12 Rounds (2009)', 'Max Manus (2008)', 'Lost in Austen (2008)', 'Evangelion: 1.0 You Are (Not) Alone (Evangerion shin gekijôban: Jo) (2007)', 'Deal, The (2008)', 'Goods: Live Hard, Sell Hard, The (2009)', \"Time Traveler's Wife, The (2009)\", \"I Can't Think Straight (2007)\", 'Miss March (2009)', 'I Love You, Beth Cooper (2009)', 'Paper Heart (2009)', 'G-Force (2009)', 'Tetro (2009)', 'Bronson (2009)', 'It Might Get Loud (2008)', 'My Life in Ruins (2009)', 'Taking Woodstock (2009)', 'Halloween II (2009)', 'Secret in Their Eyes, The (El secreto de sus ojos) (2009)', '9 (2009)', 'Frequently Asked Questions About Time Travel (2009)', 'White Ribbon, The (Das weiße Band) (2009)', 'Green Lantern: First Flight (2009)', 'Most Hated Family in America, The (2007)', 'Pandorum (2009)', 'Men Who Stare at Goats, The (2009)', 'Hunt For Gollum, The (2009)', \"Jennifer's Body (2009)\", 'Informant!, The (2009)', 'Extract (2009)', 'Final Destination, The (Final Destination 4) (Final Destination in 3-D, The) (2009)', 'Gamer (2009)', 'Cloudy with a Chance of Meatballs (2009)', \"Tyler Perry's I Can Do Bad All by Myself (2009)\", 'Food, Inc. (2008)', 'Thirst (Bakjwi) (2009)', 'Bright Star (2009)', 'Blood Creek (a.k.a. Town Creek) (2009)', 'Paranormal Activity (2009)', \"World's Greatest Dad (2009)\", 'Still Walking (Aruitemo aruitemo) (2008)', 'Cove, The (2009)', 'Serious Man, A (2009)', 'City Island (2009)', 'Ink (2009)', 'Metropia (2009)', 'Haunted World of El Superbeasto, The (2009)', \"Trick 'r Treat (2007)\", 'Whip It (2009)', 'Invention of Lying, The (2009)', 'Surrogates (2009)', 'Zombieland (2009)', 'Assassination of a High School President (2008)', 'Education, An (2009)', 'Coco Before Chanel (Coco avant Chanel) (2009)', 'Burma VJ: Reporting from a Closed Country (Burma VJ: Reporter i et lukket land) (2008)', 'Couples Retreat (2009)', 'I Sell the Dead (2008)', 'Where the Wild Things Are (2009)', 'New York, I Love You (2009)', 'Law Abiding Citizen (2009)', 'Misfortunates, The (De helaasheid der dingen) (2009)', 'Mary and Max (2009)', 'Spread (2009)', 'Tournament, The (2009)', 'Up in the Air (2009)', 'Saw VI (2009)', 'Love Exposure (Ai No Mukidashi) (2008)', \"Cirque du Freak: The Vampire's Assistant (2009)\", 'Boondock Saints II: All Saints Day, The (2009)', 'Black Dynamite (2009)', 'Welcome to Dongmakgol (2005)', 'Gentlemen Broncos (2009)', 'Fantastic Mr. Fox (2009)', 'Christmas Carol, A (2009)', 'Battlestar Galactica: The Plan (2009)', 'Private Lives of Pippa Lee, The (2009)', 'Partly Cloudy (2009)', '2012 (2009)', 'Precious (2009)', 'Bad Lieutenant: Port of Call New Orleans (2009)', 'Twilight Saga: New Moon, The (2009)', 'Derailed (2002)', 'Messenger, The (2009)', 'Ninja Assassin (2009)', 'Cell 211 (Celda 211) (2009)', 'Teenage Mutant Ninja Turtles: Turtles Forever (2009)', 'Merry Madagascar (2009)', 'Brothers (2009)', 'Garage (2007)', 'Blind Side, The  (2009)', 'Shrink (2009)', 'Old Dogs (2009)', 'Planet 51 (2009)', 'Earthlings (2006)', 'Single Man, A (2009)', 'Lovely Bones, The (2009)', 'Invictus (2009)', 'Princess and the Frog, The (2009)', 'Did You Hear About the Morgans? (2009)', 'Alice (2009)', 'Avatar (2009)', \"It's Complicated (2009)\", 'Sherlock Holmes (2009)', 'Crazy Heart (2009)', 'Alvin and the Chipmunks: The Squeakquel (2009)', 'American Pie Presents: The Book of Love (American Pie 7: The Book of Love) (2009)', 'Pontypool (2008)', 'Youth in Revolt (2009)', 'Daybreakers (2010)', \"Hachiko: A Dog's Story (a.k.a. Hachi: A Dog's Tale) (2009)\", 'Leap Year (2010)', 'Book of Eli, The (2010)', \"Girl Who Kicked the Hornet's Nest, The (Luftslottet som sprängdes) (2009)\", 'Prophet, A (Un Prophète) (2009)', 'Staten Island (2009)', 'Maiden Heist, The (2009)', 'Blood: The Last Vampire (2009)', 'Bart Got a Room (2008)', 'Robin-B-Hood (Bo bui gai wak) (2006)', 'Concert, Le (2009)', 'Ninja (2009)', 'Asterix at the Olympic Games (Astérix aux jeux olympiques) (2008)', 'Chaser, The (Chugyeogja) (2008)', 'Dennis the Menace Christmas, A (2007)', 'Undisputed II: Last Man Standing (2006)', '3 Idiots (2009)', 'Legion (2010)', 'Stan Helsing (2009)', 'When in Rome (2010)', 'Triangle (2009)', 'I Love You Phillip Morris (2009)', 'Temple Grandin (2010)', 'House of the Devil, The (2009)', \"Valentine's Day (2010)\", 'Wolfman, The (2010)', 'Shutter Island (2010)', 'Persuasion (2007)', 'Girl Who Played with Fire, The (Flickan som lekte med elden) (2009)', 'Percy Jackson & the Olympians: The Lightning Thief (2010)', 'Cop Out (2010)', 'Ghost Writer, The (2010)', 'Secret of Kells, The (2009)', 'Spy Next Door, The (2010)', 'Agora (2009)', 'Motherhood (2009)', 'District 13: Ultimatum (Banlieue 13 - Ultimatum) (2009)', 'Yes Men Fix the World, The (2009)', 'Mike Bassett: England Manager (2001)', 'Crazies, The (2010)', 'Dear John (2010)', 'Last Train Home (2009)', 'Tooth Fairy (2010)', '[REC]² (2009)', 'Room, The (2003)', 'Alice in Wonderland (2010)', 'Town Called Panic, A (Panique au village) (2009)', 'Green Zone (2010)', 'From Paris with Love (2010)', 'Dorian Gray (2009)', 'Greenberg (2010)', \"She's Out of My League (2010)\", 'Harry Brown (2009)', 'Remember Me (2010)', 'Burrowers, The (2008)', 'Frozen (2010)', 'Little Ashes (2008)', 'Our Family Wedding (2010)', 'Bounty Hunter, The (2010)', 'Leaves of Grass (2009)', 'Women in Trouble (2009)', 'Repo Men (2010)', 'Case 39 (2009)', 'Oceans (Océans) (2009)', \"Slammin' Salmon, The (2009)\", 'Hot Tub Time Machine (2010)', 'Mother (Madeo) (2009)', 'How to Train Your Dragon (2010)', 'Bone Man, The (Der Knochenmann) (2009)', 'Micmacs (Micmacs à tire-larigot) (2009)', 'Clash of the Titans (2010)', 'Kick-Ass (2010)', 'Date Night (2010)', \"Emperor's New Groove 2: Kronk's New Groove, The (2005)\", 'Steam of Life (Miesten vuoro) (2010)', 'Mortadelo & Filemon: The Big Adventure (La gran aventura de Mortadelo y Filemón) (2003)', 'American Drug War: The Last White Hope (2007)', 'Runaways, The (2010)', 'Wild China (2008)', 'Death at a Funeral (2010)', 'Valhalla Rising (2009)', 'Diary of a Wimpy Kid (2010)', 'Union: The Business Behind Getting High, The (2007)', 'Disgrace (2008)', 'Losers, The (2010)', 'Last Song, The (2010)', 'Cyrus (2010)', 'Human Centipede, The (First Sequence) (2009)', 'Exit Through the Gift Shop (2010)', 'Iron Man 2 (2010)', 'MacGruber (2010)', 'Sky Crawlers, The (Sukai kurora) (2008)', 'Cargo (2009)', 'Nightmare on Elm Street, A (2010)', 'Four Lions (2010)', \"St Trinian's 2: The Legend of Fritton's Gold (2009)\", 'Robin Hood (2010)', 'Lovers & Leavers (Kuutamolla) (2002)', 'Merantau (2009)', 'Stingray Sam (2009)', 'Cemetery Junction (2010)', 'Blue Valentine (2010)', 'Killers (2010)', 'Buried (2010)', 'Shake Hands with the Devil (2007)', 'Prince of Persia: The Sands of Time (2010)', 'Please Give (2010)', 'Baarìa (2009)', 'Ricky Gervais Live: Animals (2003)', 'Sex and the City 2 (2010)', 'Get Him to the Greek (2010)', 'Unthinkable (2010)', 'Back-up Plan, The (2010)', 'Splice (2009)', 'Letters to Juliet (2010)', 'Exam (2009)', 'Jonah Hex (2010)', 'A-Team, The (2010)', 'Toy Story 3 (2010)', 'Ricky Gervais Live 3: Fame (2007)', \"Winter's Bone (2010)\", 'Barking Dogs Never Bite (Flandersui gae) (2000)', 'Shrek Forever After (a.k.a. Shrek: The Final Chapter) (2010)', 'TiMER (2009)', 'Best Worst Movie (2009)', 'Twilight Saga: Eclipse, The (2010)', 'Enter the Void (2009)', 'Last Airbender, The (2010)', 'Endgame (2009)', \"Empire of Dreams: The Story of the 'Star Wars' Trilogy (2004)\", 'South Park: Imaginationland (2008)', 'Predators (2010)', \"When You're Strange (2009)\", 'Despicable Me (2010)', 'Inception (2010)', 'Grown Ups (2010)', \"Sorcerer's Apprentice, The (2010)\", 'Knight and Day (2010)', 'Karate Kid, The (2010)', 'Kids Are All Right, The (2010)', 'Serbian Film, A (Srpski film) (2010)', 'Cherrybomb (2009)', 'Batman: Under the Red Hood (2010)', 'Salt (2010)', \"No. 1 Ladies' Detective Agency, The (2008)\", 'Mr. Nobody (2009)', 'Dinner for Schmucks (2010)', 'Deadly Outlaw: Rekka (a.k.a. Violent Fire) (Jitsuroku Andô Noboru kyôdô-den: Rekka) (2002)', 'Hellsinki (Rööperi) (2009)', 'Ip Man 2 (2010)', 'Ramona and Beezus (2010)', 'Rebound, The (2009)', 'Other Guys, The (2010)', 'Two Escobars, The (2010)', 'Paper Man (2009)', 'Expendables, The (2010)', 'Scott Pilgrim vs. the World (2010)', \"I Killed My Mother (J'ai tué ma mère) (2009)\", 'Heartless (2009)', 'Piranha (Piranha 3D) (2010)', 'Extraordinary Adventures of Adèle Blanc-Sec, The (2010)', 'Get Low (2009)', 'Joneses, The (2009)', 'Last Exorcism, The (2010)', 'Sisters (Syostry) (2001)', 'American, The (2010)', 'Jackass 2.5 (2007)', 'Horde, The (La Horde) (2009)', 'Switch, The (2010)', 'Machete (2010)', 'Going the Distance (2010)', 'Resident Evil: Afterlife (2010)', 'Princess (Prinsessa) (2010)', 'Social Network, The (2010)', 'Town, The (2010)', 'Easy A (2010)', 'Eat Pray Love (2010)', 'Howl (2010)', \"I'm Still Here (2010)\", 'Patrik Age 1.5 (Patrik 1,5) (2008)', 'Flipped (2010)', 'Wall Street: Money Never Sleeps (2010)', \"Legend of the Guardians: The Owls of Ga'Hoole (2010)\", \"It's Kind of a Funny Story (2010)\", 'Middle Men (2009)', 'Let Me In (2010)', 'Sintel (2010)', 'Secretariat (2010)', 'Devil (2010)', 'You Again (2010)', 'Life as We Know It (2010)', 'Catfish (2010)', 'You Will Meet a Tall Dark Stranger (2010)', 'Stone (2010)', 'Inside Job (2010)', 'Monsters (2010)', 'Never Let Me Go (2010)', \"Illusionist, The (L'illusionniste) (2010)\", 'Luck by Chance (2009)', 'Rubber (2010)', 'Jackass 3D (2010)', 'Restrepo (2010)', \"Waiting for 'Superman' (2010)\", 'Red (2010)', 'In a Better World (Hævnen) (2010)', \"Heartbreaker (L'Arnacoeur) (2010)\", 'Paranormal Activity 2 (2010)', 'Heartbeats (Les amours imaginaires) (2010)', 'Hereafter (2010)', 'Undisputed III: Redemption (2010)', 'Saw VII 3D - The Final Chapter (2010)', 'Due Date (2010)', '127 Hours (2010)', 'Megamind (2010)', 'Black Swan (2010)', 'Unstoppable (2010)', 'Morning Glory (2010)', 'Certified Copy (Copie conforme) (2010)', 'Next Three Days, The (2010)', 'Somewhere (2010)', 'Biutiful (2010)', 'First Beautiful Thing, The (La prima cosa bella) (2010)', 'Harry Potter and the Deathly Hallows: Part 1 (2010)', \"King's Speech, The (2010)\", 'Tangled (2010)', 'Art of the Steal, The (2009)', 'Fighter, The (2010)', 'Romantics, The (2010)', 'Loved Ones, The (2009)', 'Casino Jack (2010)', 'Vincent Wants to Sea (Vincent will meer) (2010)', 'London Boulevard (2010)', 'Skyline (2010)', 'Beastly (2011)', 'Love and Other Drugs (2010)', 'Chronicles of Narnia: The Voyage of the Dawn Treader, The (2010)', 'Tourist, The (2010)', 'Rare Exports: A Christmas Tale (Rare Exports) (2010)', 'Hatchet II (2010)', 'All Good Things (2010)', 'True Grit (2010)', 'Tron: Legacy (2010)', 'How Do You Know (2010)', \"Barney's Version (2010)\", 'Company Men, The (2010)', 'I Saw the Devil (Akmareul boatda) (2010)', 'Trash Humpers (2009)', 'Faster (2010)', 'Little Big Soldier (Da bing xiao jiang) (2010)', 'Rabbit Hole (2010)', 'Little Fockers (2010)', \"Gulliver's Travels (2010)\", 'Sweetgrass (2009)', 'Burlesque (2010)', 'Secret World of Arrietty, The (Kari-gurashi no Arietti) (2010)', 'Tucker & Dale vs Evil (2010)', 'Yogi Bear (2010)', 'Made in Dagenham (2010)', 'Green Hornet, The (2011)', 'Way Back, The (2010)', \"Warrior's Way, The (2010)\", 'Season of the Witch (2011)', 'Amer (2009)', 'Cowboys & Aliens (2011)', 'Anything for Her (Pour elle) (2008)', 'Day & Night (2010)', 'Marwencol (2010)', 'Dilemma, The (2011)', 'Trip, The (2010)', 'Limitless (2011)', 'Happy People: A Year in the Taiga (2010)', 'Evangelion: 2.0 You Can (Not) Advance (Evangerion shin gekijôban: Ha) (2009)', 'I Spit on Your Grave (2010)', 'Even the Rain (También la lluvia) (2010)', 'Zeitgeist: Moving Forward (2011)', 'No Strings Attached (2011)', 'Lincoln Lawyer, The (2011)', 'All-Star Superman (2011)', 'Unknown (2011)', 'Cedar Rapids (2011)', 'Gnomeo & Juliet (2011)', 'Burke and Hare (2010)', 'Castaway on the Moon (Kimssi pyoryugi) (2009)', 'Paul (2011)', 'Brother 2 (Brat 2) (2000)', 'Emma (2009)', 'Drive Angry (2011)', 'Rango (2011)', 'Take Me Home Tonight (2011)', 'Confessions (Kokuhaku) (2010)', 'Adjustment Bureau, The (2011)', 'Mechanic, The (2011)', 'Hall Pass (2011)', 'Eagle, The (2011)', 'I Am Number Four (2011)', 'Battle: Los Angeles (2011)', 'Summer Wars (Samâ wôzu) (2009)', 'Sunset Limited, The (2011)', 'Mars Needs Moms (2011)', 'Scooby-Doo! Curse of the Lake Monster (2010)', 'Elite Squad: The Enemy Within (Tropa de Elite 2 - O Inimigo Agora É Outro) (2010)', \"Mesrine: Public Enemy #1 (L'ennemi public n°1) (2008)\", 'Just Go with It (2011)', 'Cave of Forgotten Dreams (2010)', 'Red Riding Hood (2011)', 'Big Mommas: Like Father, Like Son (2011)', 'Super (2010)', 'Troll Hunter, The (Trolljegeren) (2010)', 'Source Code (2011)', 'Jane Eyre (2011)', 'Sucker Punch (2011)', 'BURN-E (2008)', 'Senna (2010)', \"Family Guy Presents: It's a Trap (2010)\", 'Insidious (2010)', 'Hobo with a Shotgun (2011)', 'Win Win (2011)', 'Room in Rome (Habitación en Roma) (2010)', 'Boy (2010)', 'Diary of a Wimpy Kid: Rodrick Rules (2011)', \"Henry's Crime (2010)\", 'Hop (2011)', 'Playing the Victim (Izobrazhaya zhertvu) (2006)', 'Films to Keep You Awake: The Christmas Tale (Películas para no dormir: Cuento de navidad) (2005)', '13 Assassins (Jûsan-nin no shikaku) (2010)', 'Hanna (2011)', 'Into Eternity (2010)', 'American: The Bill Hicks Story (2009)', 'Arthur (2011)', 'Scream 4 (2011)', 'Rio (2011)', 'Melancholia (2011)', 'Thor (2011)', 'Louis C.K.: Hilarious (2010)', 'Louis C.K.: Chewed Up (2008)', 'Atlas Shrugged: Part 1 (2011)', 'Louis C.K.: Shameless (2007)', 'Mildred Pierce (2011)', 'Voices from the List (2004)', 'Water for Elephants (2011)', 'African Cats (2011)', 'Kill the Irishman (2011)', 'Fast Five (Fast and the Furious 5, The) (2011)', 'Louis Theroux: Law & Disorder (2008)', 'Idiots and Angels (2008)', 'Incendies (2010)', 'Soul Surfer (2011)', 'Something Borrowed (2011)', 'Bridesmaids (2011)', 'Priest (2011)', 'Pirates of the Caribbean: On Stranger Tides (2011)', 'Midnight in Paris (2011)', 'The Man from Nowhere (2010)', 'Tree of Life, The (2011)', 'Hangover Part II, The (2011)', 'Nothing to Declare (Rien à déclarer) (2010)', 'Across the Hall (2009)', 'Roommate, The (2011)', 'Attack the Block (2011)', 'The Way (2010)', 'Let the Bullets Fly (2010)', 'Kung Fu Panda 2 (2011)', 'X-Men: First Class (2011)', 'Submarine (2010)', 'American Grindhouse (2010)', 'Everything Must Go (2010)', 'Beginners (2010)', 'Super 8 (2011)', 'Green Lantern (2011)', 'Elektra Luxx (2010)', \"Mr. Popper's Penguins (2011)\", 'Bad Teacher (2011)', 'Transformers: Dark of the Moon (2011)', 'Larry Crowne (2011)', 'Your Highness (2011)', 'Too Big to Fail (2011)', 'Takers (2010)', 'My Life as McDull (Mak dau goo si) (2001)', 'Zookeeper (2011)', 'Horrible Bosses (2011)', 'Cars 2 (2011)', 'Between the Folds (2008)', 'Delhi Belly (2011)', 'Upside Down: The Creation Records Story (2010)', 'Monte Carlo (2011)', 'Harry Potter and the Deathly Hallows: Part 2 (2011)', 'Drive (2011)', 'Captain America: The First Avenger (2011)', 'Crazy, Stupid, Love. (2011)', 'One Day (2011)', 'Guard, The (2011)', 'Winnie the Pooh (2011)', 'Woman, The (2011)', \"Mike's New Car (2002)\", 'Smurfs, The (2011)', 'Friends with Benefits (2011)', 'Paper Birds (Pájaros de papel) (2010)', 'Blitz (2011)', 'Yellow Sea, The (a.k.a. The Murderer) (Hwanghae) (2010)', 'Our Idiot Brother (2011)', 'Death Race 2 (2010)', 'Rise of the Planet of the Apes (2011)', 'Terri (2011)', 'Change-Up, The (2011)', 'Help, The (2011)', '30 Minutes or Less (2011)', 'My Afternoons with Margueritte (La tête en friche) (2010)', 'Final Destination 5 (2011)', 'Very Harold & Kumar 3D Christmas, A (2011)', \"Don't Be Afraid of the Dark (2010)\", 'Fright Night (2011)', 'Another Earth (2011)', 'Hesher (2010)', 'Stake Land (2010)', 'Debt, The (2011)', 'Colombiana (2011)', 'Bill Cunningham New York (2011)', 'Skin I Live In, The (La piel que habito) (2011)', 'Conan the Barbarian (2011)', 'Walled In (2009)', 'Birdemic: Shock and Terror (2010)', 'Inbetweeners Movie, The (2011)', 'Red State (2011)', 'Pearl Jam Twenty (2011)', \"I Don't Know How She Does It (2011)\", 'Shark Night 3D (2011)', 'Contagion (2011)', 'Moneyball (2011)', 'Neds (2010)', 'Cold Fish (Tsumetai nettaigyo) (2010)', 'Phineas and Ferb the Movie: Across the 2nd Dimension (2011)', 'Northanger Abbey (2007)', 'Avengers, The (2012)', 'Tinker Tailor Soldier Spy (2011)', 'Separation, A (Jodaeiye Nader az Simin) (2011)', 'Dangerous Method, A (2011)', 'Warrior (2011)', 'Ides of March, The (2011)', 'Kill List (2011)', 'Killer Elite (2011)', 'Bellflower (2011)', '50/50 (2011)', 'Generation P (2011)', 'The Artist (2011)', 'BlinkyTM (2011)', 'Take Shelter (2011)', 'Real Steel (2011)', 'Footloose (2011)', 'Thing, The (2011)', 'Beautiful Boy (2010)', 'Tyrannosaur (2011)', 'Martha Marcy May Marlene (2011)', 'We Need to Talk About Kevin (2011)', 'Behind Enemy Lines II: Axis of Evil (2006)', 'Three Musketeers, The (2011)', 'In Time (2011)', 'Margaret (2011)', 'Carnage (2011)', 'Margin Call (2011)', 'Paranormal Activity 3 (2011)', 'Puncture (2011)', 'Johnny English Reborn (2011)', 'Abduction (2011)', 'This Must Be the Place (2011)', 'Shame (2011)', \"What's Your Number? (2011)\", 'Headhunters (Hodejegerne) (2011)', 'Batman: Year One (2011)', 'Miss Representation (2011)', 'Puss in Boots (2011)', 'Tower Heist (2011)', 'J. Edgar (2011)', 'Double, The (2011)', 'Adventures of Tintin, The (2011)', 'Starsuckers (2009)', 'Tomboy (2011)', 'George Harrison: Living in the Material World (2011)', 'Hugo (2011)', 'Immortals (2011)', 'Jack and Jill (2011)', 'Into the Abyss (2011)', 'Descendants, The (2011)', 'Like Crazy (2011)', 'Muppets, The (2011)', 'Twilight Saga: Breaking Dawn - Part 1, The (2011)', 'War Horse (2011)', 'Rum Diary, The (2011)', 'Lifted (2006)', 'Hipsters (Stilyagi) (2008)', 'Another Cinderella Story (2008)', 'Bunraku (2010)', 'Sitter, The (2011)', 'Extremely Loud and Incredibly Close (2011)', 'Play the Game (2009)', 'Asterix and the Vikings (Astérix et les Vikings) (2006)', 'Happy Feet Two (2011)', 'Arthur Christmas (2011)', 'Violet & Daisy (2011)', 'Bullet to the Head (2012)', 'Expendables 2, The (2012)', 'The Hunger Games (2012)', 'Dark Knight Rises, The (2012)', 'Bourne Legacy, The (2012)', 'Sherlock Holmes: A Game of Shadows (2011)', 'Coriolanus (2011)', 'Young Adult (2011)', \"New Year's Eve (2011)\", 'Mission: Impossible - Ghost Protocol (2011)', 'We Bought a Zoo (2011)', 'Girl with the Dragon Tattoo, The (2011)', 'Darkest Hour, The (2011)', 'Alvin and the Chipmunks: Chipwrecked (2011)', 'Salvation Boulevard (2011)', 'Friends with Kids (2011)', 'Girl Walks Into a Bar (2011)', 'Contraband (2012)', \"Being Elmo: A Puppeteer's Journey (2011)\", 'Joyful Noise (2012)', 'Iron Lady, The (2011)', 'Albatross (2011)', 'Revenant, The (2009)', 'Underworld: Awakening (2012)', 'Grey, The (2012)', 'Man on a Ledge (2012)', 'Sacrifice (Zhao shi gu er) (2010)', 'Haywire (2011)', 'Contact High (2009)', 'Whistleblower, The (2010)', 'Einstein and Eddington (2008)', 'Apollo 18 (2011)', 'Seeking Justice (2011)', 'Red Tails (2012)', 'Flowers of War, The (Jin líng shí san chai) (2011)', 'Intouchables (2011)', 'One for the Money (2012)', 'Innkeepers, The (2011)', 'Grave Encounters (2011)', 'Chronicle (2012)', 'Woman in Black, The (2012)', 'Woman in Love (Rubbeldiekatz) (2011)', 'Art of Getting By, The (2011)', 'All Watched Over by Machines of Loving Grace (2011)', 'Dylan Moran: Monster (2004)', 'Safe House (2012)', 'Vow, The (2012)', 'Louis C.K.: Live at the Beacon Theater (2011)', 'Monsieur Lazhar (2011)', 'For a Good Time, Call... (2012)', 'Janie Jones (2010)', 'Journey 2: The Mysterious Island (2012)', 'Perfect Sense (2011)', 'Rollo and the Woods Sprite (Rölli ja metsänhenki) (2001)', 'Ghost Rider: Spirit of Vengeance (2012)', 'Prayers for Bobby (2009)', 'Very Potter Musical, A (2009)', 'Very Potter Sequel, A (2010)', 'Miss Nobody (2010)', 'Women on the 6th Floor, The (Les Femmes du 6ème Étage) (2010)', 'Mega Shark vs. Crocosaurus (2010)', 'Red Hill (2010)', 'Gone (2012)', 'Project X (2012)', \"Dr. Seuss' The Lorax (2012)\", 'Big Year, The (2011)', 'Act of Valor (2012)', 'This Means War (2012)', 'John Carter (2012)', 'Goon (2011)', 'Ledge, The (2011)', '21 Jump Street (2012)', 'Jeff, Who Lives at Home (2012)', 'Lockout (2012)', 'Snowtown (Snowtown Murders, The) (2011)', 'Space Battleship Yamato (2010)', 'Jiro Dreams of Sushi (2011)', 'Damsels in Distress (2011)', 'Salmon Fishing in the Yemen (2011)', 'Wrath of the Titans (2012)', 'Detachment (2011)', 'Iron Sky (2012)', 'Absentia (2011)', 'American Reunion (American Pie 4) (2012)', 'The Raid: Redemption (2011)', 'Cabin in the Woods, The (2012)', 'God Bless America (2011)', 'Three Stooges, The (2012)', 'Raven, The (2012)', 'North & South (2004)', 'Big Bang, The (2011)', 'Mirror Mirror (2012)', 'Battleship (2012)', 'Best Exotic Marigold Hotel, The (2011)', \"Comic-Con Episode IV: A Fan's Hope (2011)\", 'Bully (2011)', 'Hysteria (2011)', \"Dante's Inferno: An Animated Epic (2010)\", 'Five-Year Engagement, The (2012)', 'Think Like a Man (2012)', 'Lucky One, The (2012)', 'Safe (2012)', 'Dark Shadows (2012)', '96 Minutes (2011) ', 'Decoy Bride, The (2011)', 'Rocket Singh: Salesman of the Year (2009)', 'Dictator, The (2012)', 'Walking with Monsters (2005)', 'Men in Black III (M.III.B.) (M.I.B.³) (2012)', 'Snow White and the Huntsman (2012)', 'Sound of My Voice (2011)', 'Eva (2011)', 'Pirates! Band of Misfits, The (2012)', 'Prometheus (2012)', 'Pact, The (2012)', 'Bernie (2011)', 'Inhale (2010)', 'Take This Waltz (2011)', 'Wanderlust (2012)', 'Moonrise Kingdom (2012)', 'Get the Gringo (2012)', 'Superman/Doomsday (2007) ', 'Thousand Words, A (2012)', 'Safety Not Guaranteed (2012)', \"Madagascar 3: Europe's Most Wanted (2012)\", \"Your Sister's Sister (2011)\", 'Superman/Batman: Public Enemies (2009)', 'Brave (2012)', 'Front of the Class (2008)', \"What to Expect When You're Expecting (2012)\", 'To Rome with Love (2012)', 'Abraham Lincoln: Vampire Hunter (2012)', 'First Position (2011)', 'Rock of Ages (2012)', 'Seeking a Friend for the End of the World (2012)', 'Presto (2008)', 'Jack-Jack Attack (2005)', 'One Man Band (2005)', 'Ted (2012)', 'Magic Mike (2012)', 'Cleanskin (2012)', 'Amazing Spider-Man, The (2012)', 'Ice Age 4: Continental Drift (2012)', 'Beasts of the Southern Wild (2012)', 'Savages (2012)', 'Firm, The (2009)', 'Spirit Camp (2009)', 'Some Guy Who Kills People (2011)', 'Treasure Island (2012)', 'Watch, The (2012)', '2 Days in New York (2012)', 'Killer Joe (2011)', 'Anaconda: The Offspring (2008)', 'For the Birds (2000)', 'Ruby Sparks (2012)', 'Total Recall (2012)', \"Angels' Share, The (2012)\", 'Immature, The (Immaturi) (2011)', 'Sidewalls (Medianeras) (2011)', 'Skyfall (2012)', 'Campaign, The (2012)', 'Brake (2012)', 'Hope Springs (2012)', 'Queen of Versailles, The (2012)', 'ParaNorman (2012)', 'Diary of a Wimpy Kid: Dog Days (2012)', 'Broken (2012)', '6 Days to Air: The Making of South Park (2011)', 'Premium Rush (2012)', 'Odd Life of Timothy Green, The (2012)', 'Lawless (2012)', 'Piranha 3DD (a.k.a. Piranha DD) (2012)', 'Searching for Sugar Man (2012)', 'Prime Suspect 6: The Last Witness (2003)', 'Conception (2011)', 'Paradise Lost 3: Purgatory (2011)', 'Words, The (2012)', 'Pitch Perfect (2012)', 'Samsara (2011)', 'Looper (2012)', \"That's My Boy (2012)\", 'Robot & Frank (2012)', 'Resident Evil: Retribution (2012)', 'Lola Versus (2012)', 'Master, The (2012)', 'Dredd (2012)', 'End of Watch (2012)', 'V/H/S (2012)', 'Perks of Being a Wallflower, The (2012)', 'Hunt, The (Jagten) (2012)', 'Holy Motors (2012)', 'Taken 2 (2012)', 'House at the End of the Street (2012)', 'My Left Eye Sees Ghosts (Ngo joh aan gin diy gwai) (2002)', \"Love Lasts Three Years (L'amour dure trois ans) (2011)\", 'Tall Man, The (2012)', 'LOL (2012)', \"Rust and Bone (De rouille et d'os) (2012)\", 'Marley (2012)', 'Frankenweenie (2012)', 'Sinister (2012)', 'Hotel Transylvania (2012)', 'Side by Side (2012)', 'Argo (2012)', 'Seven Psychopaths (2012)', 'Liberal Arts (2012)', 'Catch .44 (2011)', '[REC]³ 3 Génesis (2012)', 'Asterix & Obelix: God Save Britannia (Astérix et Obélix: Au service de Sa Majesté) (2012)', 'Paranormal Activity 4 (2012)', 'Alex Cross (2012)', 'Cloud Atlas (2012)', \"'Hellboy': The Seeds of Creation (2004)\", 'Silent Hill: Revelation 3D (2012)', 'Here Comes the Boom (2012)', 'Mental (2012)', 'Killing Them Softly (2012)', 'Imposter, The (2012)', 'Sessions, The (Surrogate, The) (2012)', 'Smashed (2012)', 'Wreck-It Ralph (2012)', 'Silver Linings Playbook (2012)', 'Flight (2012)', 'Anna Karenina (2012)', 'Life of Pi (2012)', 'Man with the Iron Fists, The (2012)', 'Bay, The (2012)', 'Himizu (2011)', 'Jackass 3.5 (2011)', 'Indie Game: The Movie (2012)', 'Batman: The Dark Knight Returns, Part 1 (2012)', 'Lincoln (2012)', 'Nature Calls (2012)', 'Vamps (2012)', 'Twilight Saga: Breaking Dawn - Part 2, The (2012)', '10 Years (2011)', 'Red Dawn (2012)', 'Rise of the Guardians (2012)', 'Fantastic Fear of Everything, A (2012)', 'Deadfall (2012)', 'Byzantium (2012)', 'Paperman (2012)', 'Hitchcock (2012)', 'From Up on Poppy Hill (Kokuriko-zaka kara) (2011)', 'Redline (2009)', \"Liar's Autobiography: The Untrue Story of Monty Python's Graham Chapman, A (2012)\", 'Hobbit: An Unexpected Journey, The (2012)', 'Hyde Park on Hudson (2012)', 'How to Make Love to a Woman (2010)', 'Zero Dark Thirty (2012)', 'Fire with Fire (2012)', 'Warm Bodies (2013)', 'Wrong (2012)', 'Playing for Keeps (2012)', 'Guilt Trip, The (2012)', 'Jack Reacher (2012)', 'Django Unchained (2012)', 'This Is 40 (2012)', 'Impossible, The (Imposible, Lo) (2012)', 'Misérables, Les (2012)', 'Parental Guidance (2012)', 'John Dies at the End (2012)', 'Misérables, Les (2000)', 'Promised Land (2012)', 'English Vinglish (2012)', 'Fish Story (Fisshu sutôrî) (2009)', 'Texas Chainsaw 3D (2013)', 'Gangster Squad (2013)', 'Iceman, The (2012)', \"It's Such a Beautiful Day (2012)\", 'Batman: The Dark Knight Returns, Part 2 (2013)', 'Everything or Nothing: The Untold Story of 007 (2012)', 'Codependent Lesbian Space Alien Seeks Same (2011)', 'Last Stand, The (2013)', 'Upstream Color (2013)', 'Shadow Dancer (2012)', 'Human Planet (2011)', 'Comme un chef (2012)', 'Movie 43 (2013)', \"Pervert's Guide to Ideology, The (2012)\", 'Sightseers (2012)', 'Hansel & Gretel: Witch Hunters (2013)', 'Jim Jefferies: Fully Functional (EPIX) (2012)', 'Why Stop Now (2012)', 'Tabu (2012)', 'Upside Down (2012)', 'Liability, The (2012)', 'Stand Up Guys (2012)', 'Side Effects (2013)', 'Identity Thief (2013)', 'ABCs of Death, The (2012)', 'Beautiful Creatures (2013)', 'Good Day to Die Hard, A (2013)', '21 and Over (2013)', 'Safe Haven (2013)', 'Frozen Planet (2011)', 'Act of Killing, The (2012)', 'Universal Soldier: Day of Reckoning (2012)', 'Escape from Planet Earth (2013)', 'Before Midnight (2013)', 'Snitch (2013)', 'Dark Skies (2013)', 'Oh Boy (A Coffee in Berlin) (2012)', 'Journey to the West: Conquering the Demons (Daai wa sai you chi Chui mo chun kei) (2013)', 'Jack the Giant Slayer (2013)', 'Wadjda (2012)', 'Unintentional Kidnapping of Mrs. Elfriede Ott, The (Die Unabsichtliche Entführung der Frau Elfriede Ott) (2010)', 'G.I. Joe: Retaliation (2013)', 'Stoker (2013)', 'Oz the Great and Powerful (2013)', 'Croods, The (2013)', 'Incredible Burt Wonderstone, The (2013)', 'Call, The (2013)', 'Olympus Has Fallen (2013)', 'First Time, The (2012)', 'Place Beyond the Pines, The (2012)', 'Brass Teapot, The (2012)', 'Phil Spector (2013)', 'Host, The (2013)', 'Admission (2013)', 'Evil Dead (2013)', 'Trance (2013)', 'Perfect Plan, A (Plan parfait, Un) (2012)', 'Oblivion (2013)', 'Dark Tide (2012)', '42 (2013)', 'Wolf Children (Okami kodomo no ame to yuki) (2012)', 'Disconnect (2012)', 'Invincible Iron Man, The (2007)', 'Pain & Gain (2013)', 'Hulk Vs. (2009)', 'Resolution (2012)', 'Grabbers (2012)', 'Justice League: Doom (2012) ', 'Grandmaster, The (Yi dai zong shi) (2013)', 'This Is the End (2013)', 'Iron Man 3 (2013)', 'English Teacher, The (2013)', 'Mud (2012)', 'Pawn (2013)', 'Syrup (2013)', 'Great Gatsby, The (2013)', 'Star Trek Into Darkness (2013)', 'Internship, The (2013)', 'Darkon (2006)', 'Only God Forgives (2013)', 'Hangover Part III, The (2013)', 'Fast & Furious 6 (Fast and the Furious 6, The) (2013)', 'Epic (2013)', 'Tie Xi Qu: West of the Tracks (Tiexi qu) (2003)', 'Down Terrace (2009)', 'Frances Ha (2012)', 'Lords of Salem, The (2012)', 'Behind the Candelabra (2013)', 'As I Was Moving Ahead Occasionally I Saw Brief Glimpses of Beauty (2000)', 'With Great Power: The Stan Lee Story (2012)', 'After Earth (2013)', 'Now You See Me (2013)', 'Inhuman Resources (Redd Inc.) (2012)', 'Way, Way Back, The (2013)', 'Much Ado About Nothing (2012)', 'Man of Steel (2013)', 'Kings of Summer, The (2013)', 'Purge, The (2013)', 'Rapture-Palooza (2013)', '20 Feet from Stardom (Twenty Feet from Stardom) (2013)', 'Bling Ring, The (2013)', 'Monsters University (2013)', 'Schlussmacher (2013)', 'Fullmetal Alchemist: The Sacred Star of Milos (2011)', 'Maniac (2012)', 'Not Suitable for Children (2012)', 'Pacific Rim (2013)', 'LEGO Batman: The Movie - DC Heroes Unite (2013)', 'Best Offer, The (Migliore offerta, La) (2013)', \"Adam and Eve (National Lampoon's Adam & Eve) (2005)\", 'World War Z (2013)', 'Elysium (2013)', 'Despicable Me 2 (2013)', 'White House Down (2013)', \"World's End, The (2013)\", 'Redemption (Hummingbird) (2013)', 'Heat, The (2013)', 'Lone Ranger, The (2013)', 'Passion (2012)', 'V/H/S/2 (2013)', 'Knot, The (2012)', 'The Spectacular Now (2013)', 'Lifeguard, The (2013)', 'Sharknado (2013)', \"Craig Ferguson: I'm Here To Help (2013)\", 'Stuck in Love (2012)', 'Fruitvale Station (2013)', 'R.I.P.D. (2013)', 'Field in England, A (2013)', 'Conjuring, The (2013)', 'Turbo (2013)', 'Wolverine, The (2013)', 'Drinking Buddies (2013)', 'Red 2 (2013)', 'Coffee Town (2013)', 'Revenge for Jolly! (2012)', '2 Guns (2013)', 'Blue Jasmine (2013)', 'Great Beauty, The (Grande Bellezza, La) (2013)', 'Louis C.K.: Oh My God (2013)', 'Percy Jackson: Sea of Monsters (2013)', 'Smurfs 2, The (2013)', 'Alan Partridge: Alpha Papa (2013)', 'Man of Tai Chi (2013)', 'Batman: Mystery of the Batwoman (2003)', \"We're the Millers (2013)\", 'Grown Ups 2 (2013)', 'Kick-Ass 2 (2013)', 'Riddick (2013)', 'Planes (2013)', 'Blackfish (2013)', 'Wind Rises, The (Kaze tachinu) (2013)', 'Jobs (2013)', \"Lee Daniels' The Butler (2013)\", 'In a World... (2013)', 'About Time (2013)', 'Justice League: Crisis on Two Earths (2010)', \"You're Next (2011)\", 'Maria Bamford: The Special Special Special! (2012)', 'Getaway (2013)', 'Gravity (2013)', 'What If (2013)', 'History of Future Folk, The (2012)', 'Prisoners (2013)', 'Austenland (2013)', 'Insidious: Chapter 2 (2013)', 'Rush (2013)', 'Family, The (2013)', 'Short Term 12 (2013)', 'To Do List, The (2013)', 'Inescapable (2012)', 'Nebraska (2013)', 'Enough Said (2013)', 'Don Jon (2013)', \"Mood Indigo (L'écume des jours) (2013)\", 'Century of the Self, The (2002)', 'Crystal Fairy & the Magical Cactus and 2012 (2013)', 'Bad Milo (Bad Milo!) (2013)', 'Runner Runner (2013)', \"Blue Is the Warmest Color (La vie d'Adèle) (2013)\", 'Cloudy with a Chance of Meatballs 2 (2013)', 'Captain Phillips (2013)', 'Machete Kills (Machete 2) (2013)', 'Filth (2013)', 'Escape Plan (2013)', 'Carrie (2013)', 'UnHung Hero (2013)', 'Counselor, The (2013)', 'Escape From Tomorrow (2013)', 'Double, The (2013)', '12 Years a Slave (2013)', 'All Is Lost (2013)', \"Ender's Game (2013)\", 'Jackass Presents: Bad Grandpa (2013)', 'Thor: The Dark World (2013)', 'Dallas Buyers Club (2013)', 'Selfish Giant, The (2013)', 'Last Vegas (2013)', 'Philomena (2013)', 'Book Thief, The (2013)', 'The Hunger Games: Catching Fire (2013)', 'Hobbit: The Desolation of Smaug, The (2013)', '47 Ronin (2013)', 'Delivery Man (2013)', 'Charlie Countryman (2013)', 'Red Flag (2012)', 'Day of the Doctor, The (2013)', 'Guilty of Romance (Koi no tsumi) (2011) ', 'Frozen (2013)', 'Inside Llewyn Davis (2013)', 'Wolf of Wall Street, The (2013)', 'Homefront (2013)', 'Mandela: Long Walk to Freedom (2013)', 'Evangelion: 3.0 You Can (Not) Redo (2012)', 'All is Bright (2013)', \"Tim's Vermeer (2013)\", 'American Hustle (2013)', 'Secret Life of Walter Mitty, The (2013)', 'Her (2013)', 'RoboGeisha (Robo-geisha) (2009)', 'Lone Survivor (2013)', 'Saving Mr. Banks (2013)', 'Oldboy (2013)', 'Dampfnudelblues (2013)', 'Anchorman 2: The Legend Continues (2013)', 'Snowpiercer (2013)', 'Haunter (2013)', 'Wrong Cops (2013)', 'Muppet Christmas: Letters to Santa, A (2008)', 'Ninja: Shadow of a Tear (2013)', 'Fuck You, Goethe (Fack Ju Göhte) (2013)', 'High School (2010)', 'Grudge Match (2013)', 'Highlander: The Search for Vengeance (2007)', 'Only Lovers Left Alive (2013)', 'Bad Karma (2012)', 'Hunting Elephants (2013)', 'Dragon Ball Z: Battle of Gods (2013)', 'Freezer (2014)', 'We Are What We Are (2013)', 'Chinese Puzzle (Casse-tête chinois) (2013)', 'Ride Along (2014)', 'Jack Ryan: Shadow Recruit (2014)', 'Divergent (2014)', \"Hotel Chevalier (Part 1 of 'The Darjeeling Limited') (2007)\", 'Ernest & Célestine (Ernest et Célestine) (2012)', 'Drift (2013)', 'I, Frankenstein (2014)', 'Better Living Through Chemistry (2014)', 'Nymphomaniac: Volume I (2013)', 'Enemy (2013)', 'Wonder Woman (2009)', 'Monuments Men, The (2014)', 'The Lego Movie (2014)', 'RoboCop (2014)', 'Art of the Steal, The (2013)', 'Nymphomaniac: Volume II (2013)', 'Knights of Badassdom (2013)', 'Venus in Fur (La Vénus à la fourrure) (2013)', 'Date and Switch (2014)', 'Zero Theorem, The (2013)', \"Winter's Tale (2014)\", \"On the Other Side of the Tracks (De l'autre côté du périph) (2012)\", 'GLOW: The Story of the Gorgeous Ladies of Wrestling (2012)', 'Cold Comes the Night (2013)', 'Chouchou (2003)', 'Someone Marry Barry (2014)', 'About Last Night (2014)', 'Grand Budapest Hotel, The (2014)', 'Oversimplification of Her Beauty, An (2012)', 'Bring It On: Fight to the Finish (2009)', 'That Awkward Moment (2014)', 'Interstellar (2014)', '3 Days to Kill (2014)', 'Welcome to the Jungle (2013)', 'Non-Stop (2014)', 'Wrinkles (Arrugas) (2011)', 'Garden of Words, The (Koto no ha no niwa) (2013)', '300: Rise of an Empire (2014)', 'Particle Fever (2013)', 'Bag Man, The (2014)', 'Mr. Peabody & Sherman (2014)', 'Under the Skin (2013)', 'Need for Speed (2014)', 'Barefoot (2014)', 'Veronica Mars (2014)', 'Bad Words (2013)', 'Son of God (2014)', 'Puss in Boots: The Three Diablos (2012)', \"Why Don't You Play In Hell? (Jigoku de naze warui) (2013)\", 'Ocho apellidos vascos (2014)', 'Captain America: The Winter Soldier (2014)', 'Noah (2014)', 'Nut Job, The (2014)', '13 Sins (2014)', 'Muppets Most Wanted (2014)', 'Me and you (io e te) (2012)', 'Free to Play (2014)', 'Unknown Known, The (2013)', 'The Raid 2: Berandal (2014)', 'The Amazing Spider-Man 2 (2014)', 'Calvary (2014)', 'Oculus (2013)', \"God's Not Dead (2014)\", 'Cold in July (2014)', 'Rio 2 (2014)', 'Honest Liar, An (2014)', 'Fading Gigolo (2013)', 'Transcendence (2014)', 'Hatchet III (2013)', 'Other Woman, The (2014)', 'Haunted House 2, A (2014)', 'Mulan II (2004)', 'Brick Mansions (2014)', 'Locke (2013)', 'Neighbors (2014)', 'Alpha and Omega 3: The Great Wolf Games (2014)', \"Mom's Night Out (2014)\", 'Lucy (2014)', 'X-Men: Days of Future Past (2014)', 'Godzilla (2014)', 'Walk of Shame (2014)', 'Blue Ruin (2013)', 'Chef (2014)', 'Afflicted (2013)', 'Blended (2014)', 'Begin Again (2013)', 'Maleficent (2014)', 'Zombeavers (2014)', 'At Middleton (2013)', 'Dance of Reality, The (Danza de la realidad, La) (2013)', 'A Million Ways to Die in the West (2014)', 'Edge of Tomorrow (2014)', 'Mission: Impossible - Rogue Nation (2015)', 'Midnight Chronicles (2009)', 'Million Dollar Arm (2014)', 'G.B.F. (2013)', 'Jimi: All Is by My Side (2013)', 'Bad Asses (Bad Ass 2) (2014)', 'Lilting (2014)', 'The Fault in Our Stars (2014)', 'Tangled Ever After (2012)', 'Maps to the Stars (2014)', '22 Jump Street (2014)', 'Equalizer, The (2014)', 'How to Train Your Dragon 2 (2014)', 'Birdman: Or (The Unexpected Virtue of Ignorance) (2014)', 'Boyhood (2014)', 'Think Like a Man Too (2014)', 'Jersey Boys (2014)', \"Internet's Own Boy: The Story of Aaron Swartz, The (2014)\", 'Transformers: Age of Extinction (2014)', 'Frank (2014)', 'They Came Together (2014)', 'Honey (Miele) (2013)', 'Planes: Fire & Rescue (2014)', 'Tammy (2014)', 'Colourful (Karafuru) (2010)', 'Babadook, The (2014)', 'Whiplash (2014)', 'Gone Girl (2014)', 'Angriest Man in Brooklyn, The (2014)', 'Dawn of the Planet of the Apes (2014)', 'Deliver Us from Evil (2014)', 'And So It Goes (2014)', 'Sex Tape (2014)', 'I Origins (2014)', 'Purge: Anarchy, The (2014)', 'Guardians of the Galaxy (2014)', 'Signal, The (2014)', 'The Expendables 3 (2014)', 'Hercules (2014)', 'A Most Wanted Man (2014)', 'Life After Beth (2014)', 'Felony (2013)', 'Get on Up (2014)', 'Magic in the Moonlight (2014)', 'Housebound (2014)', 'The Hundred-Foot Journey (2014)', 'Batman: Assault on Arkham (2014)', 'White Frog (2012)', 'Den, The (2013)', 'Jupiter Ascending (2015)', 'Teenage Mutant Ninja Turtles (2014)', \"I'll Follow You Down (2013)\", 'Giver, The (2014)', 'Pretty One, The (2013)', 'Revenge of the Green Dragons (2014)', \"Let's Be Cops (2014)\", 'Inbetweeners 2, The (2014)', 'Sacrament, The (2013)', 'Sin City: A Dame to Kill For (2014)', 'If I Stay (2014)', 'Two Days, One Night (Deux jours, une nuit) (2014)', 'Coherence (2013)', 'As Above, So Below (2014)', 'One I Love, The (2014)', 'Headshot (2011)', 'Guest, The (2014)', 'Pride (2014)', 'Honeymoon (2014)', 'The Drop (2014)', '20,000 Days on Earth (2014)', 'The Skeleton Twins (2014)', 'Beautiful Losers (2008)', 'Maze Runner, The (2014)', 'Camp X-Ray (2014)', 'Walk Among the Tombstones, A (2014)', 'Laggies (2014)', 'Cesar Chavez (2014)', 'Who Am I (Kein System Ist Sicher) (2014)', 'Tale of Princess Kaguya, The (Kaguyahime no monogatari) (2013)', 'This Is Where I Leave You (2014)', 'American Sniper (2014)', 'Tusk (2014)', 'Hector and the Search for Happiness (2014)', 'Horns (2014)', 'Annabelle (2014)', 'Two Night Stand (2014)', 'Dracula Untold (2014)', 'Stretch (2014)', 'Autómata (Automata) (2014)', 'Captive, The (2014)', 'Predestination (2014)', 'Justin and the Knights of Valour (2013)', 'Ward 13 (2003)', 'What We Do in the Shadows (2014)', 'John Wick (2014)', 'Plastic (2014)', 'Judge, The (2014)', 'Culture High, The (2014)', 'Fury (2014)', 'Salvation, The (2014)', 'St. Vincent (2014)', 'Rewrite, The (2014)', 'Nightcrawler (2014)', 'Big Hero 6 (2014)', 'The Book of Life (2014)', 'Love, Rosie (2014)', 'Time Lapse (2014)', 'Ex Machina (2015)', 'Mr Hublot (2013)', 'Copenhagen (2014)', 'Simpsons: The Longest Daycare, The (2012)', 'Generation War (2013)', 'Leviathan (2014)', 'Reign of Assassins (2010)', 'Zulu (2013)', 'Tangerines (2013)', 'Life Partners (2014)', 'Drive Hard (2014)', 'New Kids Nitro (2011)', 'Stalingrad (2013)', 'Dead Snow 2: Red vs. Dead (2014) ', 'You Are the Apple of My Eye (2011)', 'DeadHeads (2011)', 'The Imitation Game (2014)', 'Inherent Vice (2014)', 'Rudderless (2014)', 'The Hunger Games: Mockingjay - Part 1 (2014)', 'Sex Ed (2014)', 'Exodus: Gods and Kings (2014)', 'Wild Tales (2014)', 'Dumb and Dumber To (2014)', 'The Longest Week (2014)', 'Miss Meadows (2014)', 'Too Many Cooks (2014)', 'Painted Skin (2008)', 'The Theory of Everything (2014)', 'Doctor Who: The Time of the Doctor (2013)', 'Virunga (2014)', 'The Madagascar Penguins in a Christmas Caper (2005)', 'Song of the Sea (2014)', 'In the Heart of the Sea (2015)', 'Hello Ladies: The Movie (2014)', 'Jurassic World (2015)', 'Watermark (2014)', 'Citizenfour (2014)', 'Asterix: The Land of the Gods (Astérix: Le domaine des dieux) (2014)', 'Hit by Lightning (2014)', 'Horrible Bosses 2 (2014)', 'Dragonheart 2: A New Beginning (2000)', 'Penguins of Madagascar (2014)', \"'71 (2014)\", \"The Rabbi's Cat (Le chat du rabbin) (2011)\", 'Still Alice (2014)', 'Paddington (2014)', 'Maze Runner: Scorch Trials (2015)', 'Ice Age: A Mammoth Christmas (2011)', 'The Voices (2014)', 'The Green Prince (2014)', 'Dying of the Light (2014)', 'Hellbenders (2012)', 'By the Gun (2014)', 'Kill the Messenger (2014)', 'Bring It On: In It To Win It (2007)', 'The Mule (2014)', 'The Hobbit: The Battle of the Five Armies (2014)', 'Selma (2014)', 'Unbroken (2014)', 'Black Sea (2015)', 'Good Copy Bad Copy (2007)', 'Playing It Cool (2014)', \"National Lampoon's Bag Boy (2007)\", 'Closer to the Moon (2013)', 'Girl Walks Home Alone at Night, A (2014)', \"Dave Chappelle: For What it's Worth (2004)\", 'Scooby-Doo! Abracadabra-Doo (2010)', 'Mommy (2014)', 'Wild (2014)', 'Top Five (2014)', \"Bill Burr: I'm Sorry You Feel That Way (2014)\", 'Big Eyes (2014)', 'Into the Woods (2014)', 'Men, Women & Children (2014)', 'The Interview (2014)', 'Kingsman: The Secret Service (2015)', 'Bill Burr: You People Are All the Same (2012)', 'Night at the Museum: Secret of the Tomb (2014)', 'Paradox (2010)', 'The Punisher: Dirty Laundry (2012)', 'Seventh Son (2014)', 'Corner Gas: The Movie (2014)', \"A Merry Friggin' Christmas (2014)\", \"Into the Forest of Fireflies' Light (2011)\", 'PK (2014)', 'Chappie (2015)', 'The Salt of the Earth (2014)', 'The Fool (2014)', 'Taken 3 (2015)', 'Blackhat (2015)', 'Son of a Gun (2014)', 'Terminator Genisys (2015)', 'John Mulaney: New In Town (2012)', 'Patton Oswalt: My Weakness Is Strong (2009)', 'Man on High Heels (2014)', 'Space Buddies (2009)', 'Houdini (2014)', \"101 Dalmatians II: Patch's London Adventure (2003)\", 'The Hungover Games (2014)', 'The Duke of Burgundy (2014)', 'Red Army (2014)', 'It Follows (2014)', 'The Town that Dreaded Sundown (2014)', 'Bill Burr: Let It Go (2010)', 'Bill Burr: Why Do I Do This? (2008)', 'Killer Movie (2008)', \"Sebastian Maniscalco: What's Wrong with People? (2012)\", 'Stuart Little 3: Call of the Wild (2005)', 'Guy X (2005)', 'Tooth Fairy 2 (2012)', 'The Diary of Anne Frank (2009)', 'Wicked Blood (2014)', 'Mad Max: Fury Road (2015)', 'Insidious: Chapter 3 (2015)', 'Star Wars: Episode VII - The Force Awakens (2015)', 'Ben-hur (2016)', 'Warcraft (2016)', 'Avengers: Age of Ultron (2015)', 'Pirates of the Caribbean: Dead Men Tell No Tales (2017)', 'Justice League (2017)', 'Ant-Man (2015)', 'Fantastic Four (2015)', 'Deadpool (2016)', 'Black Panther (2017)', 'Avengers: Infinity War - Part I (2018)', 'Thor: Ragnarok (2017)', 'Guardians of the Galaxy 2 (2017)', 'Captain America: Civil War (2016)', 'Doctor Strange (2016)', 'X-Men: Apocalypse (2016)', 'Untitled Spider-Man Reboot (2017)', 'Elsa & Fred (2014)', 'Jim Jefferies: I Swear to God (2009)', 'In the Name of the King III (2014)', 'Cake (2014)', 'Kevin Smith: Too Fat For 40 (2010)', 'Snowflake, the White Gorilla (2011)', 'Delirium (2014)', 'The Gambler (2014)', 'Mortdecai (2015)', 'Fifty Shades of Grey (2015)', 'Halloweentown High (2004)', 'American Heist (2015)', 'The Pacific (2010)', 'Strange Magic (2015)', 'The DUFF (2015)', \"Daddy, I'm A Zombie (2012)\", 'The Fox and the Hound 2 (2006)', 'Project Almanac (2015)', 'Louis C.K.: Live at The Comedy Store (2015)', 'Brooklyn (2015)', 'The End of the Tour (2015)', 'Experimenter (2015)', 'Mistress America (2015)', 'Zipper (2015)', 'A Walk in the Woods (2015)', 'True Story (2015)', 'Kurt Cobain: Montage of Heck (2015)', 'Going Clear: Scientology and the Prison of Belief (2015)', 'What Happened, Miss Simone? (2015)', 'A Story of Children and Film (2013)', 'Story of Film: An Odyssey, The (2011)', 'Eden (2014)', 'The D Train (2015)', 'Dope (2015)', 'Me and Earl and the Dying Girl (2015)', 'The Overnight (2015)', 'The Stanford Prison Experiment (2015)', 'A Pigeon Sat on a Branch Reflecting on Existence (2014)', 'The Loft (2014)', 'Vice (2015)', 'Family Guy Presents: Blue Harvest (2007)', \"Kevin Hart: I'm a Grown Little Man (2009)\", 'Jim Norton: American Degenerate (2013)', 'Jim Jefferies: BARE (2014)', 'The Hateful Eight (2015)', 'Patton Oswalt: Tragedy Plus Comedy Equals Time (2014)', 'Wild Card (2015)', 'Paper Towns (2015)', 'The Wedding Ringer (2015)', 'Wyrmwood (2015)', 'The Boy Next Door (2015)', 'Boy Meets Girl (2015)', 'Victoria (2015)', 'The Dark Valley (2014)', \"I'm Here (2010)\", 'The Last Five Years (2014)', 'Crimson Peak (2015)', \"Dragonheart 3: The Sorcerer's Curse (2015)\", 'The Forgotten Space (2010)', 'Cloudburst (2011)', 'Tom Segura: Completely Normal (2014)', 'Stitch! The Movie (2003)', 'Hot Tub Time Machine 2 (2015)', 'Johnny Express (2014)', 'Northmen - A Viking Saga (2014)', 'Superfast! (2015)', 'Reality (2014)', 'Julia (2014)', 'Focus (2015)', 'Marvel One-Shot: Item 47 (2012)', 'The Second Best Exotic Marigold Hotel (2015)', \"George Carlin: It's Bad for Ya! (2008)\", 'Tracers (2015)', 'McFarland, USA (2015)', 'Unfinished Business (2015)', 'Ghost in the Shell Arise - Border 1: Ghost Pain (2013)', 'Run All Night (2015)', 'Digging Up the Marrow (2014)', 'Clown (2014)', 'Cinderella (2015)', 'Kidnapping Mr. Heineken (2015)', 'The Cobbler (2015)', 'Ruby Red (2013)', 'Pan (2015)', \"While We're Young (2014)\", 'Insurgent (2015)', 'The Amazing Screw-On Head (2006)', 'Home (2015)', 'Midnight Special (2015)', 'Gunman, The (2015)', 'Furious 7 (2015)', 'The Final Girls (2015)', 'Spring (2015)', 'Power/Rangers (2015)', 'George Carlin: Life Is Worth Losing (2005)', 'Legend No. 17 (2013)', 'Get Hard (2015)', 'That Sugar Film (2014)', 'Saving Santa (2013)', 'Tom and Jerry: A Nutcracker Tale (2007)', 'What Men Talk About (2010)', 'Kill Me Three Times (2014)', 'Poker Night (2014)', 'Shaun the Sheep Movie (2015)', 'Last Knights (2015)', 'The Jinx: The Life and Deaths of Robert Durst (2015)', 'Batman vs. Robin (2015)', 'Libre et assoupi (2014)', 'Woman in Gold (2015)', 'Iliza Shlesinger: Freezing Hot (2015)', 'The Road Within (2014)', 'Tomorrowland (2015)', 'Buzzard (2015)', 'Paul Blart: Mall Cop 2 (2015)', 'Seve (2014)', 'Breathe (2014)', 'Da Sweet Blood of Jesus (2014)', 'The Longest Ride (2015)', 'Girltrash: All Night Long (2014)', 'Sword of Vengeance (2014)', 'Lovesick (2014)', 'Danny Collins (2015)', 'The Even Stevens Movie (2003)', 'Kite (2014)', 'Man Up (2015)', 'San Andreas (2015)', 'Welcome to Me (2014)', 'Comedy Central Roast of James Franco (2013)', 'We Could Be King (2014)', 'Hitman: Agent 47 (2015)', 'B/W (2015)', 'Ricki and the Flash (2015)', 'Partisan (2015)', 'Infini (2015)', 'Pitch Perfect 2 (2015)', 'Just Before I Go (2014)', 'Carol (2015)', 'The Lobster (2015)', 'Güeros (2014)', 'Maggie (2015)', 'Hot Pursuit (2015)', 'Slow West (2015)', 'The Green Inferno (2014)', 'Barely Lethal (2015)', 'What Love Is (2007)', '5 to 7 (2014)', 'My Love (2006)', 'Radio Day (2008)', 'The Martian (2015)', 'Return to Sender (2015)', 'Kung Fury (2015)', 'Elections Day (2007)', 'Youth (2015)', 'Survivor (2015)', 'Hot Girls Wanted (2015)', 'Phir Hera Pheri (2006)', 'Spy (2015)', 'Trainwreck (2015)', 'Turtle Power: The Definitive History of the Teenage Mutant Ninja Turtles (2014)', 'Aloha (2015)', 'Dragon Blade (2015)', 'Entourage (2015)', 'Bitter Lake (2015)', 'No Way Jose (2015)', 'Ghost Graduation (2012)', 'Inside Out (2015)', 'The Wolfpack (2015)', 'Trevor Noah: African American (2013)', 'Love & Mercy (2014)', 'The Hunger Games: Mockingjay - Part 2 (2015)', 'Pixels (2015)', 'Fantastic Beasts and Where to Find Them (2016)', 'The Hairdresser (2010)', 'Mr. Holmes (2015)', 'The Secret Life of Pets (2016)', 'Ghost in the Shell: Stand Alone Complex - The Laughing Man (2005)', 'Self/less (2015)', 'The Last Witch Hunter (2015)', 'Krampus (2015)', 'Suicide Squad (2016)', 'Independence Day: Resurgence (2016)', 'Star Trek Beyond (2016)', 'Golmaal (2006)', \"Bruce Lee: A Warrior's Journey (2000)\", 'Ted 2 (2015)', 'Absolutely Anything (2015)', 'Minions (2015)', 'The Good Dinosaur (2015)', 'Black Mass (2015)', 'Spectre (2015)', 'Sharknado 3: Oh Hell No! (2015)', 'Scooby-Doo! and the Samurai Sword (2009)', 'Scooby-Doo! and the Loch Ness Monster (2004)', 'Big Top Scooby-Doo! (2012)', 'Gabriel Iglesias: Hot and Fluffy (2007)', 'Ghost in the Shell 2.0 (2008)', 'Kevin Hart: Laugh at My Pain (2011)', 'Tom and Jerry: Shiver Me Whiskers (2006)', 'Jeff Dunham: All Over the Map (2014)', 'The FP (2012)', 'Kung Fu Panda: Secrets of the Masters (2011)', 'Steve Jobs (2015)', 'Macbeth (2015)', 'Vacation (2015)', 'Creep (2014)', 'The Face of an Angel (2015)', 'Wild Horses (2015)', 'Search Party (2014)', 'The Squeeze (2015)', 'Careful What You Wish For (2015)', 'Robot Overlords (2014)', 'Bad Asses on the Bayou (2015)', 'The Eye: Infinity (2005)', 'Kiss me Kismet (2006)', 'Da geht noch was! (2013)', 'The Lovers (2015)', 'Batman v Superman: Dawn of Justice (2016)', 'God Loves Caviar (2012)', 'Amy (2015)', 'That Demon Within (2014)', 'Magic Mike XXL (2015)', 'The Jungle Book (2016)', 'Dragon Ball Z: Resurrection of F (2015)', 'The Man from U.N.C.L.E. (2015)', 'Sorrow (2015)', '7 Days in Hell (2015)', 'The Walk (2015)', '13 Hours (2016)', 'There Will Come a Day (2013)', 'The Opposite Sex (2014)', 'The Gallows (2015)', 'Tokyo Tribe (2014)', 'Feast (2014)', 'Joe Dirt 2: Beautiful Loser (2015)', 'Nasu: Summer in Andalusia (2003)', 'Dark Places (2015)', 'Afro Samurai (2007)', 'Massu Engira Maasilamani (2015)', 'The Revenant (2015)', 'Irrational Man (2015)', 'Exte: Hair Extensions (2007)', 'Ooops! Noah is Gone... (2015)', 'Southpaw (2015)', 'Sicario (2015)', 'Goodnight Mommy (Ich seh ich seh) (2014)', '10 Cent Pistol (2015)', 'Before We Go (2014)', 'Anomalisa (2015)', 'Colonia (2016)', 'Ghost in the Shell Arise - Border 2: Ghost Whispers (2013)', 'How to Make Love Like an Englishman (2014)', 'Always Watching: A Marble Hornets Story (2015)', 'The Intern (2015)', 'Love (2015)', 'Room (2015)', 'The Runner (2015)', 'The Gift (2015)', 'The Witch (2015)', 'Men & Chicken (2015)', 'The Escort (2015)', 'Doctor Who: The Waters of Mars (2009)', 'Family Guy Presents: Something, Something, Something, Dark Side (2009)', 'Visit, The (2015)', 'Secret in Their Eyes (2015)', 'Jeff Ross Roasts Criminals: Live at Brazos County Jail (2015)', 'Battle For Sevastopol (2015)', 'American Ultra (2015)', 'Straight Outta Compton (2015)', 'Cop Car (2015)', 'The Lost Room (2006)', 'Tangerine (2015)', 'Every Secret Thing (2014)', 'Joy (2015)', 'Victor Frankenstein (2015)', 'Guardians (2016)', 'Scouts Guide to the Zombie Apocalypse (2015)', 'Suffragette (2015)', 'Fort Tilden (2014)', 'Turbo Kid (2015)', 'The Unauthorized Saved by the Bell Story (2014)', 'War Room (2015)', 'Legend (2015)', 'Deathgasm (2015)', 'The Danish Girl (2015)', 'Cooties (2015)', 'Steve Jobs: The Man in the Machine (2015)', 'Green Room (2015)', 'Beasts of No Nation (2015)', 'Bloodsucking Bastards (2015)', 'Saving Christmas (2014)', 'Iron Man & Hulk: Heroes United (2013)', 'Knock Knock (2015)', 'The Blue Planet (2001)', 'Cornered! (2009)', 'Demolition (2016)', 'Cigarette Burns (2005)', 'Our Brand Is Crisis (2015)', 'High Rise (2015)', 'The Night Before (2015)', 'Into the Forest (2015)', 'The Editor (2015)', 'Everest (2015)', 'The Brand New Testament (2015)', 'Spotlight (2015)', 'Pawn Sacrifice (2015)', 'Hardcore Henry (2015)', 'Burnt (2015)', 'Ryuzo and the Seven Henchmen (2015)', 'If I Were a Rich Man (2002)', 'Last Shift (2014)', 'F*ck You, Goethe 2 (2015)', 'Garam Masala (2005)', 'Life Eternal (2015)', 'Hotel Transylvania 2 (2015)', 'Anti-Social (2015)', 'Jump In! (2007)', 'The Little Prince (2015)', 'Narcopolis (2014)', 'Ashby (2015)', 'Wonder Woman (2017)', 'The Circle (2016)', 'Silence (2016)', 'Bridge of Spies (2015)', 'The Great Hypnotist (2014)', 'Into the Grizzly Maze (2015)', 'Human (2015)', \"Chasuke's Journey (2015)\", 'L.A. Slasher (2015)', 'Hail, Caesar! (2016)', 'How To Change The World (2015)', 'Er ist wieder da (2015)', 'Just Eat It: A Food Waste Story (2014)', 'Bros Before Hos (2013)', 'Slow Learners (2015)', 'Unforgiven (2013)', 'Sex, Drugs & Taxation (2013)', 'Sky High (2003)', 'Confessions of a Dangerous Mind (2002)', 'Goosebumps (2015)', 'The Perfect Guy (2015)', 'Rock the Kasbah (2015)', 'Freaks of Nature (2015)', 'Bone Tomahawk (2015)', 'Extraordinary Tales (2015)', 'The Dressmaker (2015)', 'Nowitzki: The Perfect Shot (2014)', 'Trumbo (2015)', 'Our Lips Are Sealed (2000)', 'Concussion (2015)', 'Peanuts Movie, The (2015)', 'Blue Mountain State: The Rise of Thadland (2015)', 'The Boy and the Beast (2015)', 'Creed (2015)', 'Dragons: Gift of the Night Fury (2011)', 'Twinsters (2015)', 'Cosmic Scrat-tastrophe (2015)', 'Solace (2015)', 'Lost in the Sun (2015)', 'Eros (2004)', 'Those Happy Days (2006)', 'What Men Still Talk About (2011)', 'Doctor Who: Last Christmas (2014)', 'Doctor Who: The Doctor, the Widow and the Wardrobe (2011)', 'Doctor Who: A Christmas Carol (2010)', 'Doctor Who: Planet of the Dead (2009)', 'Doctor Who: The Next Doctor (2008)', 'Doctor Who: Voyage Of The Damned (2007)', 'Doctor Who: The Runaway Bride (2007)', 'A Perfect Day (2015)', 'Hitchcock/Truffaut (2015)', 'The 5th Wave (2016)', 'A Very Murray Christmas (2015)', 'Chi-Raq (2015)', 'Truth (2015)', 'Just Jim (2015)', 'Big Short, The (2015)', 'Applesauce (2015)', 'The Ridiculous 6 (2015)', 'John Mulaney: The Comeback Kid (2015)', 'Saw (2003)', 'North Pole: Open For Christmas (2015)', 'Mojave (2015)', 'Wizards of Waverly Place: The Movie (2009)', 'World of Tomorrow (2015)', 'Zoolander 2 (2016)', 'How to Be Single (2016)', 'Blue Exorcist: The Movie (2012)', 'He Never Died (2015)', 'Parasyte: Part 1 (2014)', 'Parasyte: Part 2 (2015)', 'Lumberjack Man (2015)', \"Daddy's Home (2015)\", 'Sisters (2015)', \"'Tis the Season for Love (2015)\", 'Kung Fu Panda 3 (2016)', 'Spellbound (2011)', 'Unicorn City (2012)', 'Standoff (2016)', 'Swelter (2014)', 'Pride and Prejudice and Zombies (2016)', 'Garm Wars: The Last Druid (2014)', \"The Devil's Candy (2015)\", 'Close Range (2015)', 'Sherlock: The Abominable Bride (2016)', 'Doctor Who: The Husbands of River Song (2015)', 'Moonwalkers (2015)', 'Tomorrow (2015)', 'Anacleto: Agente secreto (2015)', 'Wiener-Dog (2016)', 'Ride Along 2 (2016)', \"Maggie's Plan (2015)\", 'Eddie the Eagle (2016)', 'Exposed (2016)', 'Stonewall (2015)', 'Frankenstein (2015)', 'Welcome to Happiness (2015)', 'Risen (2016)', 'The Survivalist (2015)', 'Dirty Grandpa (2016)', 'Requiem for the American Dream (2015)', 'Death Note Rewrite: Genshisuru Kami (2007)', 'The Finest Hours (2016)', 'Ghost in the Shell: Solid State Society (2006)', 'Grease Live (2016)', 'Gods of Egypt (2016)', 'Embrace of the Serpent (2016)', 'Race (2016)', '10 Cloverfield Lane (2016)', 'London Has Fallen (2016)', 'Zootopia (2016)', 'Whiskey Tango Foxtrot (2016)', 'Desierto (2016)', 'The Brothers Grimsby (2016)', 'The Wait (2015)', 'War and Peace (2016)', 'Southbound (2016)', 'Ip Man 3 (2015)', \"Santa's Little Helper (2015)\", 'Who Killed Chea Vichea? (2010)', 'Hunt for the Wilderpeople (2016)', 'Rabbits (2002)', 'Genius Party (2007)', 'Tears for Sale (2008)', \"Dad's Army (2016)\", 'The Barkley Marathons: The Race That Eats Its Young (2015)', 'Merci Patron ! (2016)', 'The Neon Demon (2016)', 'Fraktus (2012)', 'Eye in the Sky (2016)', 'Camino (2016)', 'Mr. Right (2016)', 'Florence Foster Jenkins (2016)', 'My Big Fat Greek Wedding 2 (2016)', 'Neon Bull (2015)', 'Get a Job (2016)', 'Keanu (2016)', 'Me Him Her (2015)', 'Ice Age: The Great Egg-Scapade (2016)', 'Everybody Wants Some (2016)', 'Sing Street (2016)', 'Zoom (2015)', \"The Huntsman Winter's War (2016)\", 'Neighbors 2: Sorority Rising (2016)', 'The Trust (2016)', 'Hush (2016)', 'Jimmy Carr: Telling Jokes (2009)', 'Jimmy Carr: Making People Laugh (2010)', 'The Man Who Knew Infinity (2016)', 'Despite the Falling Snow (2016)', 'Money Monster (2016)', 'Barbershop: The Next Cut (2016)', 'Finding Dory (2016)', 'The Boss (2016)', 'The Angry Birds Movie (2016)', 'Bakuman (2015)', 'I Am Wrath (2016)', 'Precious Cargo (2016)', 'Snowden (2016)', 'Ratchet & Clank (2016)', 'Kicking Off (2016)', 'SORI: Voice from the Heart (2016)', 'Gintama: The Final Chapter - Be Forever Yorozuya (2013)', 'The Nice Guys (2016)', 'Kindergarten Cop 2 (2016)', 'The Crew (2016)', 'The Shallows (2016)', 'The Handmaiden (2016)', 'Alice Through the Looking Glass (2016)', 'The BFG (2016)', 'My Scientology Movie (2016)', 'Sausage Party (2016)', 'All Yours (2016)', 'Kill Command (2016)', 'Captain Fantastic (2016)', 'Toni Erdmann (2016)', 'The Wailing (2016)', 'The Meddler (2016)', 'Now You See Me 2 (2016)', 'Ali Wong: Baby Cobra (2016)', 'Café Society (2016)', 'Swiss Army Man (2016)', 'The Do-Over (2016)', 'Teenage Mutant Ninja Turtles: Out of the Shadows (2016)', 'The Fundamentals of Caring (2016)', 'Popstar: Never Stop Never Stopping (2016)', \"A Midsummer Night's Dream (2016)\", 'Planet Earth (2006)', 'Bo Burnham: Make Happy (2016)', 'The Conjuring 2 (2016)', 'Pelé: Birth of a Legend (2016)', 'Ghostbusters (2016)', 'Central Intelligence (2016)', 'O.J.: Made in America (2016)', 'Genius (2016)', 'Jason Bourne (2016)', \"The Maid's Room (2014)\", 'The Legend of Tarzan (2016)', 'The Purge: Election Year (2016)', 'Mike & Dave Need Wedding Dates (2016)', 'Ice Age: Collision Course (2016)', 'Lights Out (2016)', \"Pete's Dragon (2016)\", 'Indignation (2016)', 'Goat (2016)', 'Marauders (2016)', 'Piper (2016)', 'The Adderall Diaries (2015)', 'Hazard (2005)', 'The Red Turtle (2016)', 'Satanic (2016)', 'Nerve (2016)', 'Hellevator (2004)', 'Sully (2016)', 'Jim Jefferies: Freedumb (2016)', 'The Infiltrator (2016)', 'War Dogs (2016)', 'Vigilante Diaries (2016)', 'Batman: The Killing Joke (2016)', 'Bad Moms (2016)', 'Hell or High Water (2016)', 'Kingsglaive: Final Fantasy XV (2016)', \"Don't Breathe (2016)\", 'Body (2015)', 'Sharknado 4: The 4th Awakens (2016)', 'The Edge of Seventeen (2016)', 'Elle (2016)', 'Train to Busan (2016)', 'Tom Segura: Mostly Stories (2016)', 'The Magnificent Seven (2016)', 'Masterminds (2016)', 'Kubo and the Two Strings (2016)', \"Bridget Jones's Baby (2016)\", 'Deepwater Horizon (2016)', \"Miss Peregrine's Home for Peculiar Children (2016)\", 'The Girl on the Train (2016)', 'The Accountant (2016)', 'Imperium (2016)', 'Kizumonogatari Part 1: Tekketsu (2016)', 'Steins;Gate the Movie: The Burden of Déjà vu (2013)', 'Shin Godzilla (2016)', 'Your Name. (2016)', 'Comedy Central Roast of David Hasselhoff (2010)', 'DC Super Hero Girls: Hero of the Year (2016)', 'Hacksaw Ridge (2016)', 'David Cross: Making America Great Again (2016)', 'Over the Garden Wall (2013)', 'Blair Witch (2016)', '31 (2016)', 'ARQ (2016)', 'Arrival (2016)', 'Storks (2016)', 'Maximum Ride (2016)', 'Endless Poetry (2016)', 'The Girl with All the Gifts (2016)', 'All Roads Lead to Rome (2016)', 'Amanda Knox (2016)', 'Dirty 30 (2016)', 'Gimme Danger (2016)', 'Go Figure (2005)', 'Anything for Love (2016)', 'Night Guards (2016)', 'La La Land (2016)', '13th (2016)', 'London Town (2016)', 'Inferno (2016)', 'Keeping Up with the Joneses (2016)', 'Wild Oats (2016)', \"The Rocky Horror Picture Show: Let's Do the Time Warp Again (2016)\", 'Jack Reacher: Never Go Back (2016)', 'Joe Rogan: Triggered (2016)', 'Ethel & Ernest (2016)', 'Flowers for Algernon (2000)', 'Manchester by the Sea (2016)', 'Lion (2016)', 'The Thinning (2016)', 'While You Were Fighting: A Thor Mockumentary (2016)', 'Bad Santa 2 (2016)', 'Ice Guardians (2016)', 'Risk (2016)', 'The True Memoirs of an International Assassin (2016)', 'Alesha Popovich and Tugarin the Dragon (2004)', 'HyperNormalisation (2016)', 'The African Doctor (2016)', 'Whiplash (2013)', 'Sapphire Blue (2014)', 'A Silent Voice (2016)', 'Moana (2016)', 'Office Christmas Party (2016)', 'The Space Between Us (2016)', 'Rogue One: A Star Wars Story (2016)', 'Split (2017)', 'Underworld: Blood Wars (2016)', 'Miss Sloane (2016)', 'Passengers (2016)', 'Hidden Figures (2016)', 'Fences (2016)', 'The Founder (2016)', 'Why Him? (2016)', 'Sing (2016)', 'I Am Not Your Negro (2017)', \"Assassin's Creed (2016)\", \"A Dog's Purpose (2017)\", 'Fist Fight (2017)', 'Shakespeare Behind Bars (2005)', 'A Street Cat Named Bob (2016)', 'The Lego Batman Movie (2017)', 'The Good Boy (2016)', 'Dana Carvey: Straight White Male, 60 (2016)', 'Marvel One-Shot: Agent Carter (2013)', 'Kizumonogatari II: Passionate Blood (2016)', 'Joe Rogan: Live (2006)', 'Jim Gaffigan: Cinco (2017)', 'Kizumonogatari III: Cold Blood (2017)', 'John Wick: Chapter Two (2017)', 'Get Out (2017)', 'Logan (2017)', 'Kong: Skull Island (2017)', 'T2: Trainspotting (2017)', 'The Big Sick (2017)', '100 Streets (2016)', 'Beauty and the Beast (2017)', 'The Boss Baby (2017)', 'Mercury Plains (2016)', 'Call Me by Your Name (2017)', 'Mudbound (2017)', 'Ghost in the Shell (2017)', 'Bill Burr: Walk Your Way Out (2017)', 'Fifty Shades Darker (2017)', 'Neal Brennan: 3 Mics (2017)', 'Lemonade (2016)', 'American Fable (2017)', 'The Void (2016)', \"Buster's Mal Heart (2017)\", 'Power Rangers (2017)', 'Alien: Covenant (2017)', 'Free Fire (2017)', 'Species III (2004)', 'Ultimate Avengers 2 (2006)', 'Dave Chappelle: The Age of Spin (2017)', 'CHiPS (2017)', 'Table 19 (2017)', 'Dave Chappelle: Deep in the Heart of Texas (2017)', 'Gifted (2017)', 'Band of Brothers (2001)', 'Baywatch (2017)', 'Snatched (2017)', 'The Mummy (2017)', 'Life-Size (2000)', 'The Fate of the Furious (2017)', 'Sandy Wexler (2017)', 'Betting on Zero (2016)', 'Win It All (2017)', 'Captain Underpants: The First Epic Movie (2017)', 'It Comes at Night (2017)', 'Cars 3 (2017)', \"Mini's First Time (2006)\", 'Planet Earth II (2016)', 'The Hero (2017)', 'Nobody Speak: Hulk Hogan, Gawker and Trials of a Free Press (2017)', 'Robin Williams: Live on Broadway (2002)', 'The Death of Louis XIV (2016)', 'Munna bhai M.B.B.S. (2003)', 'The Beguiled (2017)', 'Baby Driver (2017)', 'Okja (2017)', 'Embassy (2013)', 'Rough Night (2017)', 'Mystère à la Tour Eiffel (2015)', 'Stefan Zweig: Farewell to Europe (2016)', 'The Prime Gig (2000)', \"Late Night with Conan O'Brien: The Best of Triumph the Insult Comic Dog (2004)\", 'Get Me Roger Stone (2017)', 'Despicable Me 3 (2017)', 'Tickling Giants (2017)', 'A Detective Story (2003)', 'Final Flight of the Osiris (2003)', \"Kid's Story (2003)\", 'War for the Planet of the Apes (2017)', 'The Square (2017)', 'The Meyerowitz Stories (2017)', 'War Machine (2017)', 'Tokyo Idols (2017)', 'Vir Das: Abroad Understanding (2017)', \"Norm Macdonald: Hitler's Dog, Gossip & Trickery (2017)\", 'Valerian and the City of a Thousand Planets (2017)', 'The Gracefield Incident (2015)', 'Shadow World (2016)', 'Tiger Raid (2016)', 'Seven Sisters (2017)', 'Atomic Blonde (2017)', 'Empties (2007)', 'Goon: Last of the Enforcers (2017)', 'Black Mirror: White Christmas (2014)', 'Dunkirk (2017)', 'The Putin Interviews (2017)', 'Unedited Footage of a Bear (2014)', 'Oh, Hello: On Broadway (2017)', 'Good Time (2017)', 'The House (2017)', 'Logan Lucky (2017)', 'The Dark Tower (2017)', 'Annabelle: Creation (2017)', 'It (2017)', 'The Emoji Movie (2017)', 'Death Note (2017)', 'Wind River (2017)', 'Rory Scovel Tries Stand-Up for the First Time (2017)', 'Shot Caller (2017)', \"The Hitman's Bodyguard (2017)\", 'Rick and Morty: State of Georgia Vs. Denver Fenton Allen (2016)', 'A German Life (2016)', 'Self-criticism of a Bourgeois Dog (2017)', 'LEGO DC Super Hero Girls: Brain Drain (2017)', 'Kingsman: The Golden Circle (2017)', 'Ari Shaffir: Double Negative (2017)', 'Blade Runner 2049 (2017)', 'The Nut Job 2: Nutty by Nature (2017)', 'Bliss (2012)', 'Alles Inklusive (2014)', 'Mother! (2017)', 'Icarus (2017)', 'Cage Dive (2017)', 'American Made (2017)', 'Little Boxes (2017)', 'Geostorm (2017)', 'Maz Jobrani: Immigrant (2017)', 'Sword Art Online The Movie: Ordinal Scale (2017)', 'Three Billboards Outside Ebbing, Missouri (2017)', 'Lady Bird (2017)', 'Murder on the Orient Express (2017)', 'Coco (2017)', 'The Night Is Short, Walk on Girl (2017)', 'I, Tonya (2017)', 'Fireworks, Should We See It from the Side or the Bottom? (2017)', 'Adventures in Plymptoons! (2011)', 'Gaga: Five Foot Two (2017)', \"Dave Chappelle: Killin' Them Softly (2000)\", 'Front Cover (2016)', 'Paddington 2 (2017)', '2048: Nowhere to Run (2017)', 'The Death of Stalin (2017)', 'Loving Vincent (2017)', 'Blue Planet II (2017)', 'Christina P: Mother Inferior (2017)', 'Jumanji: Welcome to the Jungle (2017)', 'Dane Cook: Troublemaker (2014)', 'Mayhem (2017)', 'Emerald Green (2016)', 'Wonder Wheel (2017)', 'Creep 2 (2017)', 'LBJ (2017)', 'Roman J. Israel, Esq. (2017)', 'Darkest Hour (2017)', 'Star Wars: The Last Jedi (2017)', 'A Bad Moms Christmas (2017)', 'The Shape of Water (2017)', \"Molly's Game (2017)\", 'Wonder (2017)', \"Daddy's Home 2 (2017)\", 'Jim & Andy: The Great Beyond (2017)', 'The Disaster Artist (2017)', 'The Post (2017)', 'Die Frauen von Ravensbrück (2005)', 'The Greatest Showman (2017)', 'Ferdinand (2017)', 'Jack Whitehall: At Large (2017)', 'Lynne Koplitz: Hormonal Beast (2017)', 'Phantom Thread (2017)', 'Too Funny to Fail: The Life and Death of The Dana Carvey Show (2017)', 'Craig Ferguson: Tickle Fight (2017)', 'The Second Renaissance Part II (2003)', 'Annihilation (2018)', 'A Christmas Story Live! (2017)', 'Pixel Perfect (2004)', 'Judd Apatow: The Return (2017)', 'The Purple Sea (2009)', 'Bright (2017)', 'The Commuter (2018)', 'Dave Chappelle: Equanimity (2017)', 'Quest (2017)', 'Dave Chappelle: The Bird Revelation (2017)', 'Insidious: The Last Key (2018)', 'Game Night (2018)', 'Maze Runner: The Death Cure (2018)', 'Isle of Dogs (2018)', 'The Clapper (2018)', 'Tom Segura: Disgraceful (2018)', 'When We First Met (2018)', 'Battle Planet (2008)', 'The Cloverfield Paradox (2018)', 'Making a Murderer (2015)', 'Elsa & Fred (2005)', 'Tomb Raider (2018)', 'Fullmetal Alchemist 2018 (2017)', 'First Reformed (2017)', 'Fred Armisen: Standup for Drummers (2018)', 'Death Wish (2018)', 'A Wrinkle in Time (2018)', 'Love, Simon (2018)', 'A Quiet Place (2018)', 'Alpha (2018)', 'I Kill Giants (2018)', 'Sherlock - A Study in Pink (2010)', 'Game Over, Man! (2018)', 'Blockers (2018)', 'Pacific Rim: Uprising (2018)', 'Rampage (2018)', 'Jurassic World: Fallen Kingdom (2018)', 'Incredibles 2 (2018)', 'Deadpool 2 (2018)', 'Solo: A Star Wars Story (2018)', \"Won't You Be My Neighbor? (2018)\", 'Sorry to Bother You (2018)', 'Ant-Man and the Wasp (2018)', 'Dogman (2018)', 'Mamma Mia: Here We Go Again! (2018)', 'Tag (2018)', 'The Man Who Killed Don Quixote (2018)', 'Boundaries (2018)', 'Spiral (2018)', 'Mission: Impossible - Fallout (2018)', 'SuperFly (2018)', 'Iron Soldier (2010)', 'BlacKkKlansman (2018)', 'The Darkest Minds (2018)', 'Tilt (2011)', 'Jeff Ross Roasts the Border (2017)', 'John From (2015)', 'Liquid Truth (2017)', 'Hommage à Zgougou (et salut à Sabine Mamou) (2002)', 'Gintama (2017)', 'Gintama: The Movie (2010)', 'anohana: The Flower We Saw That Day - The Movie (2013)', 'Silver Spoon (2014)', 'Love Live! The School Idol Movie (2015)', 'Jon Stewart Has Left the Building (2015)', 'Black Butler: Book of the Atlantic (2017)', 'No Game No Life: Zero (2017)', 'Flint (2017)', 'Bungo Stray Dogs: Dead Apple (2018)']\n"
     ]
    }
   ],
   "source": [
    "movieList, movieList_df = load_Movie_List_pd()\n",
    "print(movieList_df)\n",
    "print(movieList)"
   ]
  },
  {
   "cell_type": "code",
   "execution_count": 22,
   "metadata": {
    "id": "WJO8Jr0UodYR"
   },
   "outputs": [
    {
     "name": "stdout",
     "output_type": "stream",
     "text": [
      "\n",
      "New user ratings:\n",
      "\n",
      "Rated 5.0 for  Shrek (2001)\n",
      "Rated 5.0 for  Harry Potter and the Sorcerer's Stone (a.k.a. Harry Potter and the Philosopher's Stone) (2001)\n",
      "Rated 2.0 for  Amelie (Fabuleux destin d'Amélie Poulain, Le) (2001)\n",
      "Rated 5.0 for  Harry Potter and the Chamber of Secrets (2002)\n",
      "Rated 5.0 for  Pirates of the Caribbean: The Curse of the Black Pearl (2003)\n",
      "Rated 5.0 for  Lord of the Rings: The Return of the King, The (2003)\n",
      "Rated 3.0 for  Eternal Sunshine of the Spotless Mind (2004)\n",
      "Rated 5.0 for  Incredibles, The (2004)\n",
      "Rated 2.0 for  Persuasion (2007)\n",
      "Rated 5.0 for  Toy Story 3 (2010)\n",
      "Rated 3.0 for  Inception (2010)\n",
      "Rated 1.0 for  Louis Theroux: Law & Disorder (2008)\n",
      "Rated 1.0 for  Nothing to Declare (Rien à déclarer) (2010)\n"
     ]
    }
   ],
   "source": [
    "movieList, movieList_df = load_Movie_List_pd()\n",
    "\n",
    "my_ratings = np.zeros(num_movies)          #  Initialize my ratings\n",
    "\n",
    "# Check the file small_movie_list.csv for id of each movie in our dataset\n",
    "# For example, Toy Story 3 (2010) has ID 2700, so to rate it \"5\", you can set\n",
    "my_ratings[2700] = 5 \n",
    "\n",
    "#Or suppose you did not enjoy Persuasion (2007), you can set\n",
    "my_ratings[2609] = 2;\n",
    "\n",
    "# We have selected a few movies we liked / did not like and the ratings we\n",
    "# gave are as follows:\n",
    "my_ratings[929]  = 5   # Lord of the Rings: The Return of the King, The\n",
    "my_ratings[246]  = 5   # Shrek (2001)\n",
    "my_ratings[2716] = 3   # Inception\n",
    "my_ratings[1150] = 5   # Incredibles, The (2004)\n",
    "my_ratings[382]  = 2   # Amelie (Fabuleux destin d'Amélie Poulain, Le)\n",
    "my_ratings[366]  = 5   # Harry Potter and the Sorcerer's Stone (a.k.a. Harry Potter and the Philosopher's Stone) (2001)\n",
    "my_ratings[622]  = 5   # Harry Potter and the Chamber of Secrets (2002)\n",
    "my_ratings[988]  = 3   # Eternal Sunshine of the Spotless Mind (2004)\n",
    "my_ratings[2925] = 1   # Louis Theroux: Law & Disorder (2008)\n",
    "my_ratings[2937] = 1   # Nothing to Declare (Rien à déclarer)\n",
    "my_ratings[793]  = 5   # Pirates of the Caribbean: The Curse of the Black Pearl (2003)\n",
    "my_rated = [i for i in range(len(my_ratings)) if my_ratings[i] > 0]\n",
    "\n",
    "print('\\nNew user ratings:\\n')\n",
    "for i in range(len(my_ratings)):\n",
    "    if my_ratings[i] > 0 :\n",
    "        print(f'Rated {my_ratings[i]} for  {movieList_df.loc[i,\"title\"]}');"
   ]
  },
  {
   "cell_type": "markdown",
   "metadata": {},
   "source": [
    "Now, let's add these reviews to $Y$ and $R$ and normalize the ratings."
   ]
  },
  {
   "cell_type": "code",
   "execution_count": 23,
   "metadata": {},
   "outputs": [],
   "source": [
    "# Reload ratings and add new ratings\n",
    "Y, R = load_ratings_small()\n",
    "Y    = np.c_[my_ratings, Y]\n",
    "R    = np.c_[(my_ratings != 0).astype(int), R]\n",
    "\n",
    "# Normalize the Dataset\n",
    "Ynorm, Ymean = normalizeRatings(Y, R)"
   ]
  },
  {
   "cell_type": "markdown",
   "metadata": {},
   "source": [
    "Let's prepare to train the model. Initialize the parameters and select the Adam optimizer."
   ]
  },
  {
   "cell_type": "code",
   "execution_count": 24,
   "metadata": {
    "tags": []
   },
   "outputs": [],
   "source": [
    "#  Useful Values\n",
    "num_movies, num_users = Y.shape\n",
    "num_features = 100\n",
    "\n",
    "# Set Initial Parameters (W, X), use tf.Variable to track these variables\n",
    "tf.random.set_seed(1234) # for consistent results\n",
    "W = tf.Variable(tf.random.normal((num_users,  num_features),dtype=tf.float64),  name='W')\n",
    "X = tf.Variable(tf.random.normal((num_movies, num_features),dtype=tf.float64),  name='X')\n",
    "b = tf.Variable(tf.random.normal((1,          num_users),   dtype=tf.float64),  name='b')\n",
    "\n",
    "# Instantiate an optimizer.\n",
    "optimizer = keras.optimizers.Adam(learning_rate=1e-1)"
   ]
  },
  {
   "cell_type": "markdown",
   "metadata": {},
   "source": [
    "Let's now train the collaborative filtering model. This will learn the parameters $\\mathbf{X}$, $\\mathbf{W}$, and $\\mathbf{b}$. "
   ]
  },
  {
   "cell_type": "markdown",
   "metadata": {},
   "source": [
    "The operations involved in learning $w$, $b$, and $x$ simultaneously do not fall into the typical 'layers' offered in the TensorFlow neural network package.  Consequently, the flow used in Course 2: Model, Compile(), Fit(), Predict(), are not directly applicable. Instead, we can use a custom training loop.在同时学习 w、b 和 x 时，操作并不符合 TensorFlow 神经网络包中典型的“层”结构。因此，无法直接使用 model.compile()、fit() 和 predict() 方法。这种情况下，需要使用自定义训练循环来实现模型的训练\n",
    "\n",
    "Recall from earlier labs the steps of gradient descent.\n",
    "- repeat until convergence:\n",
    "    - compute forward pass\n",
    "    - compute the derivatives of the loss relative to parameters\n",
    "    - update the parameters using the learning rate and the computed derivatives \n",
    "    \n",
    "TensorFlow has the marvelous capability of calculating the derivatives for you. This is shown below. Within the `tf.GradientTape()` section, operations on Tensorflow Variables are tracked. When `tape.gradient()` is later called, it will return the gradient of the loss relative to the tracked variables. The gradients can then be applied to the parameters using an optimizer. \n",
    "This is a very brief introduction to a useful feature of TensorFlow and other machine learning frameworks. Further information can be found by investigating \"custom training loops\" within the framework of interest.\n",
    "    \n"
   ]
  },
  {
   "cell_type": "code",
   "execution_count": 25,
   "metadata": {},
   "outputs": [
    {
     "name": "stdout",
     "output_type": "stream",
     "text": [
      "Training loss at iteration 0: 2321191.3\n",
      "Training loss at iteration 20: 136169.3\n",
      "Training loss at iteration 40: 51863.7\n",
      "Training loss at iteration 60: 24599.0\n",
      "Training loss at iteration 80: 13630.6\n",
      "Training loss at iteration 100: 8487.7\n",
      "Training loss at iteration 120: 5807.8\n",
      "Training loss at iteration 140: 4311.6\n",
      "Training loss at iteration 160: 3435.3\n",
      "Training loss at iteration 180: 2902.1\n"
     ]
    }
   ],
   "source": [
    "iterations = 200\n",
    "lambda_ = 1\n",
    "for iter in range(iterations):\n",
    "    # Use TensorFlow’s GradientTape\n",
    "    # to record the operations used to compute the cost \n",
    "    with tf.GradientTape() as tape:\n",
    "\n",
    "        # Compute the cost (forward pass included in cost)\n",
    "        cost_value = cofi_cost_func_v(X, W, b, Ynorm, R, lambda_)\n",
    "\n",
    "    # Use the gradient tape to automatically retrieve\n",
    "    # the gradients of the trainable variables with respect to the loss\n",
    "    grads = tape.gradient( cost_value, [X,W,b] )\n",
    "\n",
    "    # Run one step of gradient descent by updating\n",
    "    # the value of the variables to minimize the loss.\n",
    "    optimizer.apply_gradients( zip(grads, [X,W,b]) )\n",
    "\n",
    "    # Log periodically.\n",
    "    if iter % 20 == 0:\n",
    "        print(f\"Training loss at iteration {iter}: {cost_value:0.1f}\")"
   ]
  },
  {
   "cell_type": "markdown",
   "metadata": {
    "id": "SSzUL7eQodYS"
   },
   "source": [
    "<a name=\"6\"></a>\n",
    "## 6 - Recommendations\n",
    "Below, we compute the ratings for all the movies and users and display the movies that are recommended. These are based on the movies and ratings entered as `my_ratings[]` above. To predict the rating of movie $i$ for user $j$, you compute $\\mathbf{w}^{(j)} \\cdot \\mathbf{x}^{(i)} + b^{(j)}$. This can be computed for all ratings using matrix multiplication."
   ]
  },
  {
   "cell_type": "code",
   "execution_count": 26,
   "metadata": {
    "id": "ns266wKtodYT"
   },
   "outputs": [
    {
     "name": "stdout",
     "output_type": "stream",
     "text": [
      "Predicting rating 4.49 for movie My Sassy Girl (Yeopgijeogin geunyeo) (2001)\n",
      "Predicting rating 4.48 for movie Martin Lawrence Live: Runteldat (2002)\n",
      "Predicting rating 4.48 for movie Memento (2000)\n",
      "Predicting rating 4.47 for movie Delirium (2014)\n",
      "Predicting rating 4.47 for movie Laggies (2014)\n",
      "Predicting rating 4.47 for movie One I Love, The (2014)\n",
      "Predicting rating 4.46 for movie Particle Fever (2013)\n",
      "Predicting rating 4.45 for movie Eichmann (2007)\n",
      "Predicting rating 4.45 for movie Battle Royale 2: Requiem (Batoru rowaiaru II: Chinkonka) (2003)\n",
      "Predicting rating 4.45 for movie Into the Abyss (2011)\n",
      "\n",
      "\n",
      "Original vs Predicted ratings:\n",
      "\n",
      "Original 5.0, Predicted 4.90 for Shrek (2001)\n",
      "Original 5.0, Predicted 4.84 for Harry Potter and the Sorcerer's Stone (a.k.a. Harry Potter and the Philosopher's Stone) (2001)\n",
      "Original 2.0, Predicted 2.13 for Amelie (Fabuleux destin d'Amélie Poulain, Le) (2001)\n",
      "Original 5.0, Predicted 4.88 for Harry Potter and the Chamber of Secrets (2002)\n",
      "Original 5.0, Predicted 4.87 for Pirates of the Caribbean: The Curse of the Black Pearl (2003)\n",
      "Original 5.0, Predicted 4.89 for Lord of the Rings: The Return of the King, The (2003)\n",
      "Original 3.0, Predicted 3.00 for Eternal Sunshine of the Spotless Mind (2004)\n",
      "Original 5.0, Predicted 4.90 for Incredibles, The (2004)\n",
      "Original 2.0, Predicted 2.11 for Persuasion (2007)\n",
      "Original 5.0, Predicted 4.80 for Toy Story 3 (2010)\n",
      "Original 3.0, Predicted 3.00 for Inception (2010)\n",
      "Original 1.0, Predicted 1.41 for Louis Theroux: Law & Disorder (2008)\n",
      "Original 1.0, Predicted 1.26 for Nothing to Declare (Rien à déclarer) (2010)\n"
     ]
    }
   ],
   "source": [
    "# Make a prediction using trained weights and biases\n",
    "p = np.matmul(X.numpy(), np.transpose(W.numpy())) + b.numpy()\n",
    "\n",
    "#restore the mean\n",
    "pm = p + Ymean\n",
    "\n",
    "my_predictions = pm[:,0]\n",
    "\n",
    "# sort predictions\n",
    "ix = tf.argsort(my_predictions, direction='DESCENDING')\n",
    "\n",
    "for i in range(17):\n",
    "    j = ix[i]\n",
    "    if j not in my_rated:\n",
    "        print(f'Predicting rating {my_predictions[j]:0.2f} for movie {movieList[j]}')\n",
    "\n",
    "print('\\n\\nOriginal vs Predicted ratings:\\n')\n",
    "for i in range(len(my_ratings)):\n",
    "    if my_ratings[i] > 0:\n",
    "        print(f'Original {my_ratings[i]}, Predicted {my_predictions[i]:0.2f} for {movieList[i]}')"
   ]
  },
  {
   "cell_type": "markdown",
   "metadata": {},
   "source": [
    "In practice, additional information can be utilized to enhance our predictions. Above, the predicted ratings for the first few hundred movies lie in a small range. We can augment the above by selecting from those top movies, movies that have high average ratings and movies with more than 20 ratings. This section uses a [Pandas](https://pandas.pydata.org/) data frame which has many handy sorting features."
   ]
  },
  {
   "cell_type": "code",
   "execution_count": 27,
   "metadata": {},
   "outputs": [
    {
     "data": {
      "text/html": [
       "<div>\n",
       "<style scoped>\n",
       "    .dataframe tbody tr th:only-of-type {\n",
       "        vertical-align: middle;\n",
       "    }\n",
       "\n",
       "    .dataframe tbody tr th {\n",
       "        vertical-align: top;\n",
       "    }\n",
       "\n",
       "    .dataframe thead th {\n",
       "        text-align: right;\n",
       "    }\n",
       "</style>\n",
       "<table border=\"1\" class=\"dataframe\">\n",
       "  <thead>\n",
       "    <tr style=\"text-align: right;\">\n",
       "      <th></th>\n",
       "      <th>pred</th>\n",
       "      <th>mean rating</th>\n",
       "      <th>number of ratings</th>\n",
       "      <th>title</th>\n",
       "    </tr>\n",
       "  </thead>\n",
       "  <tbody>\n",
       "    <tr>\n",
       "      <th>1743</th>\n",
       "      <td>4.030961</td>\n",
       "      <td>4.252336</td>\n",
       "      <td>107</td>\n",
       "      <td>Departed, The (2006)</td>\n",
       "    </tr>\n",
       "    <tr>\n",
       "      <th>2112</th>\n",
       "      <td>3.985281</td>\n",
       "      <td>4.238255</td>\n",
       "      <td>149</td>\n",
       "      <td>Dark Knight, The (2008)</td>\n",
       "    </tr>\n",
       "    <tr>\n",
       "      <th>211</th>\n",
       "      <td>4.477798</td>\n",
       "      <td>4.122642</td>\n",
       "      <td>159</td>\n",
       "      <td>Memento (2000)</td>\n",
       "    </tr>\n",
       "    <tr>\n",
       "      <th>929</th>\n",
       "      <td>4.887054</td>\n",
       "      <td>4.118919</td>\n",
       "      <td>185</td>\n",
       "      <td>Lord of the Rings: The Return of the King, The...</td>\n",
       "    </tr>\n",
       "    <tr>\n",
       "      <th>2700</th>\n",
       "      <td>4.796531</td>\n",
       "      <td>4.109091</td>\n",
       "      <td>55</td>\n",
       "      <td>Toy Story 3 (2010)</td>\n",
       "    </tr>\n",
       "    <tr>\n",
       "      <th>653</th>\n",
       "      <td>4.357304</td>\n",
       "      <td>4.021277</td>\n",
       "      <td>188</td>\n",
       "      <td>Lord of the Rings: The Two Towers, The (2002)</td>\n",
       "    </tr>\n",
       "    <tr>\n",
       "      <th>1122</th>\n",
       "      <td>4.004471</td>\n",
       "      <td>4.006494</td>\n",
       "      <td>77</td>\n",
       "      <td>Shaun of the Dead (2004)</td>\n",
       "    </tr>\n",
       "    <tr>\n",
       "      <th>1841</th>\n",
       "      <td>3.980649</td>\n",
       "      <td>4.000000</td>\n",
       "      <td>61</td>\n",
       "      <td>Hot Fuzz (2007)</td>\n",
       "    </tr>\n",
       "    <tr>\n",
       "      <th>3083</th>\n",
       "      <td>4.084643</td>\n",
       "      <td>3.993421</td>\n",
       "      <td>76</td>\n",
       "      <td>Dark Knight Rises, The (2012)</td>\n",
       "    </tr>\n",
       "    <tr>\n",
       "      <th>2804</th>\n",
       "      <td>4.434171</td>\n",
       "      <td>3.989362</td>\n",
       "      <td>47</td>\n",
       "      <td>Harry Potter and the Deathly Hallows: Part 1 (...</td>\n",
       "    </tr>\n",
       "    <tr>\n",
       "      <th>773</th>\n",
       "      <td>4.289676</td>\n",
       "      <td>3.960993</td>\n",
       "      <td>141</td>\n",
       "      <td>Finding Nemo (2003)</td>\n",
       "    </tr>\n",
       "    <tr>\n",
       "      <th>1771</th>\n",
       "      <td>4.344999</td>\n",
       "      <td>3.944444</td>\n",
       "      <td>81</td>\n",
       "      <td>Casino Royale (2006)</td>\n",
       "    </tr>\n",
       "    <tr>\n",
       "      <th>2649</th>\n",
       "      <td>4.133481</td>\n",
       "      <td>3.943396</td>\n",
       "      <td>53</td>\n",
       "      <td>How to Train Your Dragon (2010)</td>\n",
       "    </tr>\n",
       "    <tr>\n",
       "      <th>2455</th>\n",
       "      <td>4.175743</td>\n",
       "      <td>3.887931</td>\n",
       "      <td>58</td>\n",
       "      <td>Harry Potter and the Half-Blood Prince (2009)</td>\n",
       "    </tr>\n",
       "    <tr>\n",
       "      <th>361</th>\n",
       "      <td>4.135287</td>\n",
       "      <td>3.871212</td>\n",
       "      <td>132</td>\n",
       "      <td>Monsters, Inc. (2001)</td>\n",
       "    </tr>\n",
       "    <tr>\n",
       "      <th>3014</th>\n",
       "      <td>3.967900</td>\n",
       "      <td>3.869565</td>\n",
       "      <td>69</td>\n",
       "      <td>Avengers, The (2012)</td>\n",
       "    </tr>\n",
       "    <tr>\n",
       "      <th>246</th>\n",
       "      <td>4.897137</td>\n",
       "      <td>3.867647</td>\n",
       "      <td>170</td>\n",
       "      <td>Shrek (2001)</td>\n",
       "    </tr>\n",
       "    <tr>\n",
       "      <th>151</th>\n",
       "      <td>3.971892</td>\n",
       "      <td>3.836364</td>\n",
       "      <td>110</td>\n",
       "      <td>Crouching Tiger, Hidden Dragon (Wo hu cang lon...</td>\n",
       "    </tr>\n",
       "    <tr>\n",
       "      <th>1150</th>\n",
       "      <td>4.898892</td>\n",
       "      <td>3.836000</td>\n",
       "      <td>125</td>\n",
       "      <td>Incredibles, The (2004)</td>\n",
       "    </tr>\n",
       "    <tr>\n",
       "      <th>793</th>\n",
       "      <td>4.874936</td>\n",
       "      <td>3.778523</td>\n",
       "      <td>149</td>\n",
       "      <td>Pirates of the Caribbean: The Curse of the Bla...</td>\n",
       "    </tr>\n",
       "    <tr>\n",
       "      <th>366</th>\n",
       "      <td>4.843375</td>\n",
       "      <td>3.761682</td>\n",
       "      <td>107</td>\n",
       "      <td>Harry Potter and the Sorcerer's Stone (a.k.a. ...</td>\n",
       "    </tr>\n",
       "    <tr>\n",
       "      <th>754</th>\n",
       "      <td>4.021778</td>\n",
       "      <td>3.723684</td>\n",
       "      <td>76</td>\n",
       "      <td>X2: X-Men United (2003)</td>\n",
       "    </tr>\n",
       "    <tr>\n",
       "      <th>79</th>\n",
       "      <td>4.242986</td>\n",
       "      <td>3.699248</td>\n",
       "      <td>133</td>\n",
       "      <td>X-Men (2000)</td>\n",
       "    </tr>\n",
       "    <tr>\n",
       "      <th>622</th>\n",
       "      <td>4.878342</td>\n",
       "      <td>3.598039</td>\n",
       "      <td>102</td>\n",
       "      <td>Harry Potter and the Chamber of Secrets (2002)</td>\n",
       "    </tr>\n",
       "  </tbody>\n",
       "</table>\n",
       "</div>"
      ],
      "text/plain": [
       "          pred  mean rating  number of ratings  \\\n",
       "1743  4.030961     4.252336                107   \n",
       "2112  3.985281     4.238255                149   \n",
       "211   4.477798     4.122642                159   \n",
       "929   4.887054     4.118919                185   \n",
       "2700  4.796531     4.109091                 55   \n",
       "653   4.357304     4.021277                188   \n",
       "1122  4.004471     4.006494                 77   \n",
       "1841  3.980649     4.000000                 61   \n",
       "3083  4.084643     3.993421                 76   \n",
       "2804  4.434171     3.989362                 47   \n",
       "773   4.289676     3.960993                141   \n",
       "1771  4.344999     3.944444                 81   \n",
       "2649  4.133481     3.943396                 53   \n",
       "2455  4.175743     3.887931                 58   \n",
       "361   4.135287     3.871212                132   \n",
       "3014  3.967900     3.869565                 69   \n",
       "246   4.897137     3.867647                170   \n",
       "151   3.971892     3.836364                110   \n",
       "1150  4.898892     3.836000                125   \n",
       "793   4.874936     3.778523                149   \n",
       "366   4.843375     3.761682                107   \n",
       "754   4.021778     3.723684                 76   \n",
       "79    4.242986     3.699248                133   \n",
       "622   4.878342     3.598039                102   \n",
       "\n",
       "                                                  title  \n",
       "1743                               Departed, The (2006)  \n",
       "2112                            Dark Knight, The (2008)  \n",
       "211                                      Memento (2000)  \n",
       "929   Lord of the Rings: The Return of the King, The...  \n",
       "2700                                 Toy Story 3 (2010)  \n",
       "653       Lord of the Rings: The Two Towers, The (2002)  \n",
       "1122                           Shaun of the Dead (2004)  \n",
       "1841                                    Hot Fuzz (2007)  \n",
       "3083                      Dark Knight Rises, The (2012)  \n",
       "2804  Harry Potter and the Deathly Hallows: Part 1 (...  \n",
       "773                                 Finding Nemo (2003)  \n",
       "1771                               Casino Royale (2006)  \n",
       "2649                    How to Train Your Dragon (2010)  \n",
       "2455      Harry Potter and the Half-Blood Prince (2009)  \n",
       "361                               Monsters, Inc. (2001)  \n",
       "3014                               Avengers, The (2012)  \n",
       "246                                        Shrek (2001)  \n",
       "151   Crouching Tiger, Hidden Dragon (Wo hu cang lon...  \n",
       "1150                            Incredibles, The (2004)  \n",
       "793   Pirates of the Caribbean: The Curse of the Bla...  \n",
       "366   Harry Potter and the Sorcerer's Stone (a.k.a. ...  \n",
       "754                             X2: X-Men United (2003)  \n",
       "79                                         X-Men (2000)  \n",
       "622      Harry Potter and the Chamber of Secrets (2002)  "
      ]
     },
     "execution_count": 27,
     "metadata": {},
     "output_type": "execute_result"
    }
   ],
   "source": [
    "filter=(movieList_df[\"number of ratings\"] > 20)\n",
    "movieList_df[\"pred\"] = my_predictions\n",
    "movieList_df = movieList_df.reindex(columns=[\"pred\", \"mean rating\", \"number of ratings\", \"title\"])\n",
    "movieList_df.loc[ix[:300]].loc[filter].sort_values(\"mean rating\", ascending=False)"
   ]
  },
  {
   "cell_type": "markdown",
   "metadata": {},
   "source": [
    "<a name=\"7\"></a>\n",
    "## 7 - Congratulations! <img align=\"left\" src=\"./images/film_award.png\"     style=\" width:40px;  \" >\n",
    "You have implemented a useful recommender system!"
   ]
  }
 ],
 "metadata": {
  "kernelspec": {
   "display_name": "Python 3",
   "language": "python",
   "name": "python3"
  },
  "language_info": {
   "codemirror_mode": {
    "name": "ipython",
    "version": 3
   },
   "file_extension": ".py",
   "mimetype": "text/x-python",
   "name": "python",
   "nbconvert_exporter": "python",
   "pygments_lexer": "ipython3",
   "version": "3.9.19"
  }
 },
 "nbformat": 4,
 "nbformat_minor": 4
}
