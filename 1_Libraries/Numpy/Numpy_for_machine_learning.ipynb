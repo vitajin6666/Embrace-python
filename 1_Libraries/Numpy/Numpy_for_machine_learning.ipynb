{
 "cells": [
  {
   "cell_type": "code",
   "execution_count": 1,
   "metadata": {},
   "outputs": [],
   "source": [
    "import numpy as np"
   ]
  },
  {
   "cell_type": "markdown",
   "metadata": {},
   "source": [
    "# 1-D arrays\n"
   ]
  },
  {
   "cell_type": "code",
   "execution_count": 4,
   "metadata": {},
   "outputs": [
    {
     "name": "stdout",
     "output_type": "stream",
     "text": [
      "[0. 0. 0. 0.]\n",
      "[0. 1. 2. 3.]\n",
      "[0.15683462 0.65995392 0.08746069 0.11994902]\n",
      "[5 4 3 2]\n",
      "(4,)\n",
      "(4,)\n"
     ]
    }
   ],
   "source": [
    "# vectorization\n",
    "a = np.zeros(4)\n",
    "b = np.arange(4.)\n",
    "c = np.random.rand(4)\n",
    "d = np.array([5,4,3,2])\n",
    "print(a)\n",
    "print(b)\n",
    "print(c)\n",
    "print(d)\n",
    "print(a.shape)\n",
    "print(d.shape)"
   ]
  },
  {
   "cell_type": "code",
   "execution_count": null,
   "metadata": {},
   "outputs": [
    {
     "name": "stdout",
     "output_type": "stream",
     "text": [
      "[0 1 2 3 4 5 6 7 8 9]\n",
      "a[-1] = 9\n"
     ]
    }
   ],
   "source": [
    "# indexing\n",
    "a = np.arange(10)\n",
    "print(a)\n",
    "print(f\"a[-1] = {a[-1]}\")"
   ]
  },
  {
   "cell_type": "code",
   "execution_count": 6,
   "metadata": {},
   "outputs": [
    {
     "name": "stdout",
     "output_type": "stream",
     "text": [
      "a         = [0 1 2 3 4 5 6 7 8 9]\n",
      "a[2:7:2] =  [2 4 6]\n"
     ]
    }
   ],
   "source": [
    "# slicing\n",
    "a = np.arange(10)\n",
    "print(f\"a         = {a}\")\n",
    "# access 3 elements separated by two \n",
    "c = a[2:7:2];     print(\"a[2:7:2] = \", c)"
   ]
  },
  {
   "cell_type": "code",
   "execution_count": 7,
   "metadata": {},
   "outputs": [
    {
     "name": "stdout",
     "output_type": "stream",
     "text": [
      "a             : [1 2 3 4]\n",
      "b = -a        : [-1 -2 -3 -4]\n",
      "b = np.sum(a) : 10\n",
      "b = np.mean(a): 2.5\n",
      "b = a**2      : [ 1  4  9 16]\n"
     ]
    }
   ],
   "source": [
    "# Single vector operations\n",
    "a = np.array([1,2,3,4])\n",
    "print(f\"a             : {a}\")\n",
    "# negate elements of a\n",
    "b = -a \n",
    "print(f\"b = -a        : {b}\")\n",
    "\n",
    "# sum all elements of a, returns a scalar\n",
    "b = np.sum(a) \n",
    "print(f\"b = np.sum(a) : {b}\")\n",
    "\n",
    "b = np.mean(a)\n",
    "print(f\"b = np.mean(a): {b}\")\n",
    "\n",
    "b = a**2\n",
    "print(f\"b = a**2      : {b}\")"
   ]
  },
  {
   "cell_type": "code",
   "execution_count": 9,
   "metadata": {},
   "outputs": [
    {
     "name": "stdout",
     "output_type": "stream",
     "text": [
      "b = 5 * a : [ 5 10 15 20]\n"
     ]
    }
   ],
   "source": [
    "# Scalar Vector operations\n",
    "a = np.array([1, 2, 3, 4])\n",
    "\n",
    "# multiply a by a scalar\n",
    "b = 5 * a \n",
    "print(f\"b = 5 * a : {b}\")"
   ]
  },
  {
   "cell_type": "code",
   "execution_count": null,
   "metadata": {},
   "outputs": [
    {
     "name": "stdout",
     "output_type": "stream",
     "text": [
      "Binary operators work element wise: [0 0 6 8]\n",
      "NumPy 1-D np.dot(a, b) = 24, np.dot(a, b).shape = () \n"
     ]
    }
   ],
   "source": [
    "# vectors operation \n",
    "\n",
    "# adding\n",
    "a = np.array([ 1, 2, 3, 4])\n",
    "b = np.array([-1,-2, 3, 4])\n",
    "print(f\"Binary operators work element wise: {a + b}\")\n",
    "\n",
    "# dot product\n",
    "a = np.array([1, 2, 3, 4])\n",
    "b = np.array([-1, 4, 3, 2])\n",
    "c = np.dot(a, b)\n",
    "print(f\"NumPy 1-D np.dot(a, b) = {c}, np.dot(a, b).shape = {c.shape} \") "
   ]
  },
  {
   "cell_type": "markdown",
   "metadata": {},
   "source": [
    "# multi-D matrices"
   ]
  },
  {
   "cell_type": "markdown",
   "metadata": {},
   "source": [
    "## 判断维度\n",
    "\n",
    "1.肉眼判断：直接看括号后紧接着的[数量就行\n",
    "\n",
    "2.程序判断：\n",
    "\n",
    "    (1) print(a.ndim) 直接给出rank值\n",
    "\n",
    "    (2) print(b.shape) 给出具体的数据结构,元组内有几个值,就是几维\n",
    "        - 1维：(4,) 4个元素\n",
    "        - 2维：(2,3) 2行 3列\n",
    "        - 3维：(4,3,2) 4 层（4个2维） 每层（每个2维）中3行 每行中2列\n",
    "        - 4维：(2,3,3,5) 2个3维 每个3维中3个2维 每个2维中3行5列"
   ]
  },
  {
   "cell_type": "code",
   "execution_count": 19,
   "metadata": {},
   "outputs": [
    {
     "name": "stdout",
     "output_type": "stream",
     "text": [
      "a shape = (1, 5), a = [[0. 0. 0. 0. 0.]]\n",
      " b shape = (3, 1), np.array: b = [[0.]\n",
      " [0.]\n",
      " [0.]]\n",
      "c shape = (2, 2), c = [[0. 0.]\n",
      " [0. 0.]]\n",
      "d shape = (2, 2, 3), d = [[[0. 0. 0.]\n",
      "  [0. 0. 0.]]\n",
      "\n",
      " [[0. 0. 0.]\n",
      "  [0. 0. 0.]]]\n"
     ]
    }
   ],
   "source": [
    "# create 2-D matrices\n",
    "\n",
    "a = np.zeros((1, 5))     # 1行5列                                  \n",
    "print(f\"a shape = {a.shape}, a = {a}\")\n",
    "\n",
    "b = np.zeros((3, 1)) # 3行一列\n",
    "print(f\" b shape = {b.shape}, np.array: b = {b}\")\n",
    "\n",
    "c = np.zeros((2, 2))        #2行2列                                                           \n",
    "print(f\"c shape = {c.shape}, c = {c}\") \n",
    "\n",
    "# create 3-D matrices\n",
    "d = np.zeros((2, 2, 3))     #2层，每层2行3列                                                              \n",
    "print(f\"d shape = {d.shape}, d = {d}\") "
   ]
  },
  {
   "cell_type": "code",
   "execution_count": 21,
   "metadata": {},
   "outputs": [
    {
     "name": "stdout",
     "output_type": "stream",
     "text": [
      " a shape = (3, 1), np.array: a = [[5]\n",
      " [4]\n",
      " [3]]\n"
     ]
    }
   ],
   "source": [
    "# 该结构是3行1列的2维矩阵\n",
    "a = np.array([[5], [4], [3]]);   print(f\" a shape = {a.shape}, np.array: a = {a}\")"
   ]
  },
  {
   "cell_type": "code",
   "execution_count": 25,
   "metadata": {},
   "outputs": [
    {
     "name": "stdout",
     "output_type": "stream",
     "text": [
      "a.shape: (3, 2), \n",
      "a= [[0 1]\n",
      " [2 3]\n",
      " [4 5]]\n",
      "a[2]   = [4 5]\n",
      "a[2,0] = 4\n"
     ]
    }
   ],
   "source": [
    "#vector indexing operations on matrices\n",
    "\n",
    "#reshape is a convenient way to create matrices\n",
    "a = np.arange(6).reshape(-1, 2)   # reshape中-1的含义是：规定列数是2后，行数自动计算\n",
    "\n",
    "print(f\"a.shape: {a.shape}, \\na= {a}\")\n",
    "\n",
    "#access a row\n",
    "print(f\"a[2]   = {a[2]}\")\n",
    "\n",
    "#access an element\n",
    "print(f\"a[2,0] = {a[2, 0]}\")"
   ]
  },
  {
   "cell_type": "code",
   "execution_count": 28,
   "metadata": {},
   "outputs": [
    {
     "name": "stdout",
     "output_type": "stream",
     "text": [
      "a = \n",
      "[[ 0  1  2  3  4  5  6  7  8  9]\n",
      " [10 11 12 13 14 15 16 17 18 19]]\n",
      "[2 3 4 5 6]\n",
      "[[ 2  3  4  5  6]\n",
      " [12 13 14 15 16]]\n",
      "[[ 0  1  2  3  4  5  6  7  8  9]\n",
      " [10 11 12 13 14 15 16 17 18 19]]\n",
      "[10 11 12 13 14 15 16 17 18 19]\n",
      "[10 11 12 13 14 15 16 17 18 19]\n"
     ]
    }
   ],
   "source": [
    "#vector 2-D slicing operations\n",
    "a = np.arange(20).reshape(-1, 10)\n",
    "print(f\"a = \\n{a}\")\n",
    "\n",
    "#access 5 consecutive elements (start:stop:step)\n",
    "print(a[0, 2:7:1])\n",
    "\n",
    "#access 5 consecutive elements (start:stop:step) in two rows\n",
    "print(a[:, 2:7:1])\n",
    "\n",
    "# access all elements\n",
    "print(a[:,:])\n",
    "\n",
    "# access all elements in one row (very common usage)\n",
    "print(a[1,:])\n",
    "# same as\n",
    "print(a[1])"
   ]
  },
  {
   "cell_type": "code",
   "execution_count": null,
   "metadata": {},
   "outputs": [],
   "source": []
  }
 ],
 "metadata": {
  "kernelspec": {
   "display_name": "base",
   "language": "python",
   "name": "python3"
  },
  "language_info": {
   "codemirror_mode": {
    "name": "ipython",
    "version": 3
   },
   "file_extension": ".py",
   "mimetype": "text/x-python",
   "name": "python",
   "nbconvert_exporter": "python",
   "pygments_lexer": "ipython3",
   "version": "3.11.7"
  }
 },
 "nbformat": 4,
 "nbformat_minor": 2
}
