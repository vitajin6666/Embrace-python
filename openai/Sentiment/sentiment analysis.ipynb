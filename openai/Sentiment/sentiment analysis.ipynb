{
 "cells": [
  {
   "cell_type": "markdown",
   "id": "348b4130-475b-473b-9aa0-b5390ec8561d",
   "metadata": {},
   "source": [
    "# Prompting an LLM in code"
   ]
  },
  {
   "cell_type": "markdown",
   "id": "2988859a-1ccf-485b-a9ab-dea0b9a0cb96",
   "metadata": {},
   "source": [
    "**Code cell 1:** Set up programming environment to use code to send prompts to OpenAI's cloud-hosted service. "
   ]
  },
  {
   "cell_type": "markdown",
   "id": "acfcdbbc",
   "metadata": {},
   "source": [
    "## 简单版"
   ]
  },
  {
   "cell_type": "code",
   "execution_count": 9,
   "id": "9bbe96e5",
   "metadata": {},
   "outputs": [],
   "source": [
    "import os\n",
    "import openai\n",
    "\n",
    "# 获取api_key\n",
    "openai.api_key = os.getenv('OPENAI_API_KEY')"
   ]
  },
  {
   "cell_type": "code",
   "execution_count": 8,
   "id": "320d0265",
   "metadata": {},
   "outputs": [
    {
     "name": "stdout",
     "output_type": "stream",
     "text": [
      "环境变量 'OPENAI_API_KEY' 已设置。\n",
      "API 密钥: sk-proj-O6jZufbDxTGDyQgZMtcdT3BlbkFJSknNahfWg4F7kbp8z33A\n"
     ]
    }
   ],
   "source": [
    "# 判断是否设置了 API 密钥\n",
    "if openai.api_key is None:\n",
    "    print(\"环境变量 'OPENAI_API_KEY' 未设置。\")\n",
    "else:\n",
    "    print(\"环境变量 'OPENAI_API_KEY' 已设置。\")\n",
    "    print(\"API 密钥: \" + openai.api_key)  # 注意：出于安全考虑，通常不建议打印API密钥"
   ]
  },
  {
   "cell_type": "code",
   "execution_count": 5,
   "id": "e021aa3f-8a6a-4acb-a589-015fa3682043",
   "metadata": {
    "height": 217
   },
   "outputs": [],
   "source": [
    "# 调用gpt model的函数\n",
    "client = openai.OpenAI()\n",
    "\n",
    "def llm_response(prompt, model=\"gpt-4\"):  # gpt-3.5-turbo\n",
    "    messages = [{\"role\": \"user\", \"content\": prompt}]\n",
    "    response = client.chat.completions.create(\n",
    "        model=model,\n",
    "        messages=messages,\n",
    "        temperature=0\n",
    "    )\n",
    "    return response.choices[0].message.content"
   ]
  },
  {
   "cell_type": "markdown",
   "id": "3ca2a97d-aab0-49b2-a7e2-bff596e9483c",
   "metadata": {},
   "source": [
    "**Code cell 2:** Define a prompt that will classify the sentiment of a restaurant review. "
   ]
  },
  {
   "cell_type": "code",
   "execution_count": 7,
   "id": "4bac4c00-7320-4a5f-a964-f7b4d13d49f9",
   "metadata": {
    "height": 183,
    "tags": []
   },
   "outputs": [
    {
     "name": "stdout",
     "output_type": "stream",
     "text": [
      "1. Positive\n",
      "2. Negative\n"
     ]
    }
   ],
   "source": [
    "prompt = '''\n",
    "    Classify the following reviews \n",
    "    as having either a positive or\n",
    "    negative sentiment:\n",
    "\n",
    "    1.The banana pudding was really tasty!\n",
    "    2.The banana pudding was really bad!\n",
    "'''\n",
    "\n",
    "response = llm_response(prompt)\n",
    "print(response)"
   ]
  },
  {
   "cell_type": "markdown",
   "id": "b42534d4",
   "metadata": {},
   "source": [
    "## 高阶版--总代码"
   ]
  },
  {
   "cell_type": "code",
   "execution_count": 1,
   "id": "930e9d70",
   "metadata": {},
   "outputs": [
    {
     "name": "stdout",
     "output_type": "stream",
     "text": [
      "Analysis results saved to 'sentiment_analysis_results.txt'.\n"
     ]
    }
   ],
   "source": [
    "import os\n",
    "import openai\n",
    "\n",
    "# 获取环境变量值\n",
    "openai.api_key = os.getenv('OPENAI_API_KEY')\n",
    "\n",
    "# 调用gpt model的函数\n",
    "client = openai.OpenAI()\n",
    "def llm_response(prompt, model=\"gpt-4\"):  # gpt-3.5-turbo\n",
    "    messages = [{\"role\": \"user\", \"content\": prompt}]\n",
    "    response = client.chat.completions.create(\n",
    "        model=model,\n",
    "        messages=messages,\n",
    "        temperature=0\n",
    "    )\n",
    "    return response.choices[0].message.content\n",
    "\n",
    "# 主功能函数\n",
    "def analyze_reviews(file_path):\n",
    "    # 读取文件中的所有评论\n",
    "    try:\n",
    "        with open(file_path, 'r', encoding='utf-8') as file: \n",
    "            # 打开一个位于 file_path 的文件，'r' 表示以只读模式打开文件，encoding='utf-8' 指定文件的编码方式为UTF-8\n",
    "            # 通过 with 语句，Python 创建了一个上下文环境，使得在这个环境中打开的文件在代码块执行完毕后自动关闭\n",
    "            reviews = file.read().strip().split('\\n')  # 确保文件末尾无空行\n",
    "    except FileNotFoundError:\n",
    "        print(\"Error: File not found.\")\n",
    "        return\n",
    "\n",
    "    # 分析每条评论的情感并准备保存结果\n",
    "    results = []\n",
    "    for review in reviews:\n",
    "        prompt = f\"Classify the sentiment of the following review: {review}\"\n",
    "        sentiment = llm_response(prompt)\n",
    "        results.append(f\"Review: {review} - Sentiment: {sentiment}\")\n",
    "\n",
    "    # 将结果保存到文件\n",
    "    try:\n",
    "        with open('sentiment_analysis_results.txt', 'w', encoding='utf-8') as output_file:\n",
    "            for result in results:\n",
    "                output_file.write(result + \"\\n\")\n",
    "        print(\"Analysis results saved to 'sentiment_analysis_results.txt'.\")\n",
    "    except Exception as e:\n",
    "        print(f\"Error writing to file: {e}\")\n",
    "\n",
    "# 用来控制只有在直接运行脚本时才执行某些代码（而不是作为模块被其他脚本导入时）\n",
    "if __name__ == \"__main__\":\n",
    "    analyze_reviews('reviews.txt')"
   ]
  },
  {
   "cell_type": "code",
   "execution_count": null,
   "id": "440d4a98",
   "metadata": {},
   "outputs": [],
   "source": []
  }
 ],
 "metadata": {
  "kernelspec": {
   "display_name": "Python 3 (ipykernel)",
   "language": "python",
   "name": "python3"
  },
  "language_info": {
   "codemirror_mode": {
    "name": "ipython",
    "version": 3
   },
   "file_extension": ".py",
   "mimetype": "text/x-python",
   "name": "python",
   "nbconvert_exporter": "python",
   "pygments_lexer": "ipython3",
   "version": "3.11.7"
  }
 },
 "nbformat": 4,
 "nbformat_minor": 5
}
