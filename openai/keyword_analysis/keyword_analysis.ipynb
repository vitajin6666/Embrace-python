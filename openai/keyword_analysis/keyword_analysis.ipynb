{
 "cells": [
  {
   "cell_type": "code",
   "execution_count": 2,
   "metadata": {},
   "outputs": [
    {
     "name": "stdout",
     "output_type": "stream",
     "text": [
      "Analysis results saved to 'unsatisfactory_reasons2.txt'.\n"
     ]
    }
   ],
   "source": [
    "import os\n",
    "import openai\n",
    "\n",
    "# 获取环境变量值\n",
    "openai.api_key = os.getenv('OPENAI_API_KEY')\n",
    "\n",
    "# 调用gpt model的函数\n",
    "client = openai.OpenAI()\n",
    "def llm_response(prompt, model=\"gpt-3.5-turbo\"):  # gpt-3.5-turbo  # gpt-4\n",
    "    messages = [{\"role\": \"user\", \"content\": prompt}]\n",
    "    response = client.chat.completions.create(\n",
    "        model=model,\n",
    "        messages=messages,\n",
    "        temperature=0\n",
    "    )\n",
    "    return response.choices[0].message.content\n",
    "\n",
    "# 主功能函数\n",
    "def analyze_reviews(file_path):\n",
    "    try:\n",
    "        with open(file_path, 'r', encoding='utf-8') as file: \n",
    "            reviews = file.read().strip().split('\\n')  \n",
    "    except FileNotFoundError:\n",
    "        print(\"Error: File not found.\")\n",
    "        return\n",
    "\n",
    "    # 分析评论并记录原因\n",
    "    reasons = {}\n",
    "    for review in reviews:\n",
    "        prompt = f\"Using text analysis, summarize the reasons why users find the travel experience unsatisfactory in qualitative research, including primary reasons and secondary sub-reasons.  Review: {review}\"\n",
    "        response = llm_response(prompt)\n",
    "        if response in reasons:\n",
    "            reasons[response].append(review)\n",
    "        else:\n",
    "            reasons[response] = [review]\n",
    "\n",
    "    # 将结果保存到文件\n",
    "    try:\n",
    "        with open('unsatisfactory_reason2s.txt', 'w', encoding='utf-8') as output_file:\n",
    "            for reason, reviews in reasons.items():\n",
    "                output_file.write(f\"Reason: {reason}\\n\")\n",
    "                output_file.write(\"Reviews:\\n\")\n",
    "                for review in reviews:\n",
    "                    output_file.write(f\"- {review}\\n\")\n",
    "                output_file.write(\"\\n\")\n",
    "        print(\"Analysis results saved to 'unsatisfactory_reasons2.txt'.\")\n",
    "    except Exception as e:\n",
    "        print(f\"Error writing to file: {e}\")\n",
    "\n",
    "# 主程序入口\n",
    "if __name__ == \"__main__\":\n",
    "    analyze_reviews('redbook_contents.txt')\n"
   ]
  }
 ],
 "metadata": {
  "kernelspec": {
   "display_name": "base",
   "language": "python",
   "name": "python3"
  },
  "language_info": {
   "codemirror_mode": {
    "name": "ipython",
    "version": 3
   },
   "file_extension": ".py",
   "mimetype": "text/x-python",
   "name": "python",
   "nbconvert_exporter": "python",
   "pygments_lexer": "ipython3",
   "version": "3.11.7"
  }
 },
 "nbformat": 4,
 "nbformat_minor": 2
}
