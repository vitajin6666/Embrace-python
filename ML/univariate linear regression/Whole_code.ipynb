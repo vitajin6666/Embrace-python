{
 "cells": [
  {
   "cell_type": "code",
   "execution_count": 13,
   "metadata": {},
   "outputs": [],
   "source": [
    "# import essential libraries\n",
    "import math, copy\n",
    "import numpy as np\n",
    "import pandas as pd\n",
    "import matplotlib.pyplot as plt"
   ]
  },
  {
   "cell_type": "code",
   "execution_count": 19,
   "metadata": {},
   "outputs": [
    {
     "name": "stdout",
     "output_type": "stream",
     "text": [
      "   X         Y\n",
      "0  1  3.888889\n",
      "1  2  4.555556\n",
      "2  3  5.222222\n",
      "3  4  5.888889\n",
      "4  5  6.555556\n"
     ]
    }
   ],
   "source": [
    "# read data\n",
    "df = pd.read_csv('Linear Regression - Sheet1.csv')\n",
    "\n",
    "# 显示数据的前几行，以检查数据是否正确读取\n",
    "print(df.head())"
   ]
  },
  {
   "cell_type": "code",
   "execution_count": 33,
   "metadata": {},
   "outputs": [
    {
     "name": "stdout",
     "output_type": "stream",
     "text": [
      "x_train = [  1   2   3   4   5   6   7   8   9  10  11  12  13  14  15  16  17  18\n",
      "  19  20  21  22  23  24  25  26  27  28  29  30  31  32  33  34  35  36\n",
      "  37  38  39  40  41  42  43  44  45  46  47  48  49  50  51  52  53  54\n",
      "  55  56  57  58  59  60  61  62  63  64  65  66  67  68  69  70  71  72\n",
      "  73  74  75  76  77  78  79  80  81  82  83  84  85  86  87  88  89  90\n",
      "  91  92  93  94  95  96  97  98  99 100 101 102 103 104 105 106 107 108\n",
      " 109 110 111 112 113 114 115 116 117 118 119 120 121 122 123 124 125 126\n",
      " 127 128 129 130 131 132 133 134 135 136 137 138 139 140 141 142 143 144\n",
      " 145 146 147 148 149 150 151 152 153 154 155 156 157 158 159 160 161 162\n",
      " 163 164 165 166 167 168 169 170 171 172 173 174 175 176 177 178 179 180\n",
      " 181 182 183 184 185 186 187 188 189 190 191 192 193 194 195 196 197 198\n",
      " 199 200 201 202 203 204 205 206 207 208 209 210 211 212 213 214 215 216\n",
      " 217 218 219 220 221 222 223 224 225 226 227 228 229 230 231 232 233 234\n",
      " 235 236 237 238 239 240 241 242 243 244 245 246 247 248 249 250 251 252\n",
      " 253 254 255 256 257 258 259 260 261 262 263 264 265 266 267 268 269 270\n",
      " 271 272 273 274 275 276 277 278 279 280 281 282 283 284 285 286 287 288\n",
      " 289 290 291 292 293 294 295 296 297 298 299 300]\n",
      "y_train = [  3.89   4.56   5.22   5.89   6.56   7.22   7.89   8.56   9.22   9.89\n",
      "  10.56  11.22  11.89  12.56  13.22  13.89  14.56  15.22  15.89  16.56\n",
      "  17.22  17.89  18.56  19.22  19.89  20.56  21.22  21.89  22.56  23.22\n",
      "  23.89  24.56  25.22  25.89  26.56  27.22  27.89  28.56  29.22  29.89\n",
      "  30.56  31.22  31.89  32.56  33.22  33.89  34.56  35.22  35.89  36.56\n",
      "  37.22  37.89  38.56  39.22  39.89  40.56  41.22  41.89  42.56  43.22\n",
      "  43.89  44.56  45.22  45.89  46.56  47.22  47.89  48.56  49.22  49.89\n",
      "  50.56  51.22  51.89  52.56  53.22  53.89  54.56  55.22  55.89  56.56\n",
      "  57.22  57.89  58.56  59.22  59.89  60.56  61.22  61.89  62.56  63.22\n",
      "  63.89  64.56  65.22  65.89  66.56  67.22  67.89  68.56  69.22  69.89\n",
      "  70.56  71.22  71.89  72.56  73.22  73.89  74.56  75.22  75.89  76.56\n",
      "  77.22  77.89  78.56  79.22  79.89  80.56  81.22  81.89  82.56  83.22\n",
      "  83.89  84.56  85.22  85.89  86.56  87.22  87.89  88.56  89.22  89.89\n",
      "  90.56  91.22  91.89  92.56  93.22  93.89  94.56  95.22  95.89  96.56\n",
      "  97.22  97.89  98.56  99.22  99.89 100.56 101.22 101.89 102.56 103.22\n",
      " 103.89 104.56 105.22 105.89 106.56 107.22 107.89 108.56 109.22 109.89\n",
      " 110.56 111.22 111.89 112.56 113.22 113.89 114.56 115.22 115.89 116.56\n",
      " 117.22 117.89 118.56 119.22 119.89 120.56 121.22 121.89 122.56 123.22\n",
      " 123.89 124.56 125.22 125.89 126.56 127.22 127.89 128.56 129.22 129.89\n",
      " 130.56 131.22 131.89 132.56 133.22 133.89 134.56 135.22 135.89 136.56\n",
      " 137.22 137.89 138.56 139.22 139.89 140.56 141.22 141.89 142.56 143.22\n",
      " 143.89 144.56 145.22 145.89 146.56 147.22 147.89 148.56 149.22 149.89\n",
      " 150.56 151.22 151.89 152.56 153.22 153.89 154.56 155.22 155.89 156.56\n",
      " 157.22 157.89 158.56 159.22 159.89 160.56 161.22 161.89 162.56 163.22\n",
      " 163.89 164.56 165.22 165.89 166.56 167.22 167.89 168.56 169.22 169.89\n",
      " 170.56 171.22 171.89 172.56 173.22 173.89 174.56 175.22 175.89 176.56\n",
      " 177.22 177.89 178.56 179.22 179.89 180.56 181.22 181.89 182.56 183.22\n",
      " 183.89 184.56 185.22 185.89 186.56 187.22 187.89 188.56 189.22 189.89\n",
      " 190.56 191.22 191.89 192.56 193.22 193.89 194.56 195.22 195.89 196.56\n",
      " 197.22 197.89 198.56 199.22 199.89 200.56 201.22 201.89   1.89   1.89]\n"
     ]
    }
   ],
   "source": [
    "# create x_train,y_train variables\n",
    "x_train = df.iloc[:, 0].to_numpy() # 读取dataframe的某列，转成array\n",
    "y_raw = df.iloc[:, -1].to_numpy()\n",
    "y_train = np.round(y_raw, 2)\n",
    "\n",
    "# 检查读取是否正确\n",
    "print(f\"x_train = {x_train}\")\n",
    "print(f\"y_train = {y_train}\")"
   ]
  },
  {
   "cell_type": "code",
   "execution_count": 21,
   "metadata": {},
   "outputs": [
    {
     "name": "stdout",
     "output_type": "stream",
     "text": [
      "Number of training examples is: 300\n"
     ]
    }
   ],
   "source": [
    "# check the number of training examples\n",
    "length = len(x_train)\n",
    "print(f\"Number of training examples is: {length}\")"
   ]
  },
  {
   "cell_type": "markdown",
   "metadata": {},
   "source": [
    "<a name=\"toc_40291_2.1\"></a>\n",
    "## Gradient descent summary\n",
    "So far in this course, you have developed a linear model that predicts $f_{w,b}(x^{(i)})$:\n",
    "$$f_{w,b}(x^{(i)}) = wx^{(i)} + b \\tag{1}$$\n",
    "In linear regression, you utilize input training data to fit the parameters $w$,$b$ by minimizing a measure of the error between our predictions $f_{w,b}(x^{(i)})$ and the actual data $y^{(i)}$. The measure is called the $cost$, $J(w,b)$. In training you measure the cost over all of our training samples $x^{(i)},y^{(i)}$\n",
    "$$J(w,b) = \\frac{1}{2m} \\sum\\limits_{i = 0}^{m-1} (f_{w,b}(x^{(i)}) - y^{(i)})^2\\tag{2}$$ "
   ]
  },
  {
   "cell_type": "code",
   "execution_count": 22,
   "metadata": {},
   "outputs": [],
   "source": [
    "# Function to calculate the cost\n",
    "def compute_cost(x, y, w, b):\n",
    "   \n",
    "    m = x.shape[0] \n",
    "    cost = 0\n",
    "    \n",
    "    for i in range(m):\n",
    "        f_wb = w * x[i] + b   # 函数（1）\n",
    "        cost = cost + (f_wb - y[i])**2\n",
    "    total_cost = 1 / (2 * m) * cost   # 函数（2）\n",
    "\n",
    "    return total_cost"
   ]
  },
  {
   "cell_type": "markdown",
   "metadata": {},
   "source": [
    "In lecture, *gradient descent* was described as:\n",
    "\n",
    "$$\\begin{align*} \\text{repeat}&\\text{ until convergence:} \\; \\lbrace \\newline\n",
    "\\;  w &= w -  \\alpha \\frac{\\partial J(w,b)}{\\partial w} \\tag{3}  \\; \\newline \n",
    " b &= b -  \\alpha \\frac{\\partial J(w,b)}{\\partial b}  \\newline \\rbrace\n",
    "\\end{align*}$$\n",
    "where, parameters $w$, $b$ are updated simultaneously.  \n",
    "The gradient is defined as:\n",
    "$$\n",
    "\\begin{align}\n",
    "\\frac{\\partial J(w,b)}{\\partial w}  &= \\frac{1}{m} \\sum\\limits_{i = 0}^{m-1} (f_{w,b}(x^{(i)}) - y^{(i)})x^{(i)} \\tag{4}\\\\\n",
    "  \\frac{\\partial J(w,b)}{\\partial b}  &= \\frac{1}{m} \\sum\\limits_{i = 0}^{m-1} (f_{w,b}(x^{(i)}) - y^{(i)}) \\tag{5}\\\\\n",
    "\\end{align}\n",
    "$$\n",
    "\n",
    "Here *simultaniously* means that you calculate the partial derivatives for all the parameters before updating any of the parameters."
   ]
  },
  {
   "cell_type": "code",
   "execution_count": 23,
   "metadata": {},
   "outputs": [],
   "source": [
    "# calculate the gradient\n",
    "def compute_gradient(x, y, w, b): \n",
    "    \"\"\"\n",
    "    Computes the gradient for linear regression \n",
    "    Args:\n",
    "      x (ndarray (m,)): Data, m examples \n",
    "      y (ndarray (m,)): target values\n",
    "      w,b (scalar)    : model parameters  \n",
    "    Returns\n",
    "      dj_dw (scalar): The gradient of the cost w.r.t. the parameters w\n",
    "      dj_db (scalar): The gradient of the cost w.r.t. the parameter b     \n",
    "     \"\"\"\n",
    "    \n",
    "    # Number of training examples\n",
    "    m = x.shape[0]    \n",
    "    dj_dw = 0\n",
    "    dj_db = 0\n",
    "    \n",
    "    for i in range(m):  \n",
    "        f_wb = w * x[i] + b \n",
    "        dj_dw_i = (f_wb - y[i]) * x[i] \n",
    "        dj_db_i = f_wb - y[i] \n",
    "        dj_db += dj_db_i\n",
    "        dj_dw += dj_dw_i \n",
    "    dj_dw = dj_dw / m  # 函数（4）\n",
    "    dj_db = dj_db / m  # 函数（5）\n",
    "        \n",
    "    return dj_dw, dj_db"
   ]
  },
  {
   "cell_type": "markdown",
   "metadata": {},
   "source": []
  },
  {
   "cell_type": "code",
   "execution_count": 24,
   "metadata": {},
   "outputs": [],
   "source": [
    "def gradient_descent(x, y, w_in, b_in, alpha, num_iters, cost_function, gradient_function): \n",
    "    \"\"\"\n",
    "    Performs gradient descent to fit w,b. Updates w,b by taking \n",
    "    num_iters gradient steps with learning rate alpha\n",
    "    \n",
    "    Args:\n",
    "      x (ndarray (m,))  : Data, m examples \n",
    "      y (ndarray (m,))  : target values\n",
    "      w_in,b_in (scalar): initial values of model parameters  \n",
    "      alpha (float):     Learning rate\n",
    "      num_iters (int):   number of iterations to run gradient descent\n",
    "      cost_function:     function to call to produce cost\n",
    "      gradient_function: function to call to produce gradient\n",
    "      \n",
    "    Returns:\n",
    "      w (scalar): Updated value of parameter after running gradient descent\n",
    "      b (scalar): Updated value of parameter after running gradient descent\n",
    "      J_history (List): History of cost values\n",
    "      p_history (list): History of parameters [w,b] \n",
    "      \"\"\"\n",
    "    \n",
    "    w = copy.deepcopy(w_in) # avoid modifying global w_in\n",
    "    # An array to store cost J and w's at each iteration primarily for graphing later\n",
    "    J_history = []\n",
    "    p_history = []\n",
    "    b = b_in\n",
    "    w = w_in\n",
    "    \n",
    "    for i in range(num_iters):\n",
    "        # Calculate the gradient and update the parameters using gradient_function\n",
    "        dj_dw, dj_db = gradient_function(x, y, w , b)     \n",
    "\n",
    "        # Update Parameters using equation (3) above\n",
    "        b = b - alpha * dj_db                            \n",
    "        w = w - alpha * dj_dw                            \n",
    "\n",
    "        # Save cost J at each iteration\n",
    "        if i<100000:      # prevent resource exhaustion \n",
    "            J_history.append( cost_function(x, y, w , b))\n",
    "            p_history.append([w,b])\n",
    "        # Print cost every at intervals 10 times or as many iterations if < 10\n",
    "        if i% math.ceil(num_iters/10) == 0:\n",
    "            print(f\"Iteration {i:4}: Cost {J_history[-1]:0.2e} \",\n",
    "                  f\"dj_dw: {dj_dw: 0.3e}, dj_db: {dj_db: 0.3e}  \",\n",
    "                  f\"w: {w: 0.3e}, b:{b: 0.5e}\")\n",
    " \n",
    "    return w, b, J_history, p_history #return w and J,w history for graphing"
   ]
  },
  {
   "cell_type": "code",
   "execution_count": 40,
   "metadata": {},
   "outputs": [
    {
     "name": "stdout",
     "output_type": "stream",
     "text": [
      "Iteration    0: Cost 3.43e+03  dj_dw: -2.018e+04, dj_db: -1.022e+02   w:  2.018e-01, b: 1.02217e-03\n",
      "Iteration 1000: Cost 1.35e+02  dj_dw:  7.291e-03, dj_db: -1.461e+00   w:  6.694e-01, b: 1.79807e-02\n",
      "Iteration 2000: Cost 1.35e+02  dj_dw:  7.273e-03, dj_db: -1.457e+00   w:  6.693e-01, b: 3.25688e-02\n",
      "Iteration 3000: Cost 1.35e+02  dj_dw:  7.255e-03, dj_db: -1.453e+00   w:  6.692e-01, b: 4.71207e-02\n",
      "Iteration 4000: Cost 1.35e+02  dj_dw:  7.237e-03, dj_db: -1.450e+00   w:  6.691e-01, b: 6.16364e-02\n",
      "Iteration 5000: Cost 1.35e+02  dj_dw:  7.219e-03, dj_db: -1.446e+00   w:  6.691e-01, b: 7.61160e-02\n",
      "Iteration 6000: Cost 1.35e+02  dj_dw:  7.201e-03, dj_db: -1.443e+00   w:  6.690e-01, b: 9.05597e-02\n",
      "Iteration 7000: Cost 1.35e+02  dj_dw:  7.183e-03, dj_db: -1.439e+00   w:  6.689e-01, b: 1.04967e-01\n",
      "Iteration 8000: Cost 1.35e+02  dj_dw:  7.165e-03, dj_db: -1.435e+00   w:  6.688e-01, b: 1.19339e-01\n",
      "Iteration 9000: Cost 1.35e+02  dj_dw:  7.147e-03, dj_db: -1.432e+00   w:  6.688e-01, b: 1.33676e-01\n",
      "(w,b) found by gradient descent: (  0.6687,  0.1480)\n"
     ]
    }
   ],
   "source": [
    "# initialize parameters\n",
    "w_init = 0\n",
    "b_init = 0\n",
    "# some gradient descent settings\n",
    "iterations = 10000\n",
    "tmp_alpha = 1.0e-5\n",
    "# run gradient descent\n",
    "w_final, b_final, J_hist, p_hist = gradient_descent(x_train ,y_train, w_init, b_init, tmp_alpha, \n",
    "                                                    iterations, compute_cost, compute_gradient)\n",
    "print(f\"(w,b) found by gradient descent: ({w_final:8.4f},{b_final:8.4f})\")"
   ]
  },
  {
   "cell_type": "code",
   "execution_count": 41,
   "metadata": {},
   "outputs": [],
   "source": [
    "def compute_model_output(x, w_final, b_final):\n",
    "    \"\"\"\n",
    "    Computes the prediction of a linear model\n",
    "    Args:\n",
    "      x (ndarray (m,)): Data, m examples \n",
    "      w,b (scalar)    : model parameters  \n",
    "    Returns\n",
    "      y (ndarray (m,)): target values\n",
    "    \"\"\"\n",
    "    m = x.shape[0]\n",
    "    f_wb = np.zeros(m)\n",
    "    for i in range(m):\n",
    "        f_wb[i] = w_final * x[i] + b_final\n",
    "        \n",
    "    return f_wb"
   ]
  },
  {
   "cell_type": "code",
   "execution_count": 42,
   "metadata": {},
   "outputs": [
    {
     "data": {
      "image/png": "[encoded data removed]",
      "text/plain": [
       "<Figure size 640x480 with 1 Axes>"
      ]
     },
     "metadata": {},
     "output_type": "display_data"
    }
   ],
   "source": [
    "esti_f_wb = compute_model_output(x_train, w_final, b_final)\n",
    "\n",
    "# Plot our model prediction\n",
    "plt.plot(x_train, esti_f_wb, c='b',label='Our Prediction')\n",
    "\n",
    "# Plot the data points\n",
    "plt.scatter(x_train, y_train, marker='x', c='r',label='Actual Values')\n",
    "\n",
    "# Set the title\n",
    "plt.title(\"univariate linear regression\")\n",
    "# Set the y-axis label\n",
    "plt.ylabel('Y')\n",
    "# Set the x-axis label\n",
    "plt.xlabel('X')\n",
    "plt.legend()\n",
    "plt.show()"
   ]
  },
  {
   "cell_type": "code",
   "execution_count": 43,
   "metadata": {},
   "outputs": [
    {
     "name": "stdout",
     "output_type": "stream",
     "text": [
      "x=200 prediction y=133.9 \n",
      "x=210 prediction y=140.6 \n",
      "x=230 prediction y=154.0 \n"
     ]
    }
   ],
   "source": [
    "# prediction more\n",
    "print(f\"x=200 prediction y={w_final*200 + b_final:0.1f} \")\n",
    "print(f\"x=210 prediction y={w_final*210 + b_final:0.1f} \")\n",
    "print(f\"x=230 prediction y={w_final*230 + b_final:0.1f} \")"
   ]
  },
  {
   "cell_type": "code",
   "execution_count": null,
   "metadata": {},
   "outputs": [],
   "source": []
  }
 ],
 "metadata": {
  "kernelspec": {
   "display_name": "base",
   "language": "python",
   "name": "python3"
  },
  "language_info": {
   "codemirror_mode": {
    "name": "ipython",
    "version": 3
   },
   "file_extension": ".py",
   "mimetype": "text/x-python",
   "name": "python",
   "nbconvert_exporter": "python",
   "pygments_lexer": "ipython3",
   "version": "undefined.undefined.undefined"
  }
 },
 "nbformat": 4,
 "nbformat_minor": 2
}
