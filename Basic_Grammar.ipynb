{
 "cells": [
  {
   "cell_type": "markdown",
   "id": "788dadd3-0bf9-4efc-9d40-3cdfa528b40d",
   "metadata": {},
   "source": [
    "# 知识点字典\n",
    "\n",
    "知识点字典：https://www.runoob.com/python3/python3-basic-syntax.html"
   ]
  },
  {
   "cell_type": "markdown",
   "id": "db4c36cc-cbf1-4852-9d9d-e2da41f56941",
   "metadata": {},
   "source": [
    "# 注释\n",
    "shortcuts：ctrl+/\n",
    "\n",
    "\\# 单行注释"
   ]
  },
  {
   "cell_type": "markdown",
   "id": "64ea1dd9-fe0b-40fe-81ae-079a6382575a",
   "metadata": {},
   "source": [
    "# 变量数据类型"
   ]
  },
  {
   "cell_type": "markdown",
   "id": "73a8ff76-7f18-45a3-898e-64fe82f39cdc",
   "metadata": {},
   "source": [
    "## 基础数据类型\n",
    "number(int, float, complex)\n",
    "\n",
    "string\n",
    "\n",
    "bool"
   ]
  },
  {
   "cell_type": "markdown",
   "id": "c0ae83aa-2fd1-4df2-8263-237e43b3f87d",
   "metadata": {},
   "source": [
    "## 复合数据类型\n",
    "List：a = [1, 2, 3, 4, 5, 6]\n",
    "\n",
    "Tuple: a = (1, 2, 3, 4, 5, 6)\n",
    "\n",
    "Set: a = {'Google', 'Taobao', 'Runoob', 'Facebook', 'Zhihu', 'Baidu'}\n",
    "\n",
    "    set特性: 1.无序；2.不重复\n",
    "\n",
    "    空集合：b = set()\n",
    "\n",
    "Dictionary: a={'a':1,'b':2,'c':3}\n",
    "\n",
    "    key必须是唯一的，但value则不必。\n",
    "    \n",
    "    value值可以取任何数据类型key但键必须是不可数字\n",
    "\n",
    "    空字典：b = {}"
   ]
  },
  {
   "cell_type": "markdown",
   "id": "da56d29a-b582-4317-86b3-e5fc7449f720",
   "metadata": {},
   "source": [
    "## 可变与否\n",
    "不可变数据（3 个）：Number（数字）、String（字符串）、Tuple（元组）\n",
    "\n",
    "可变数据（3 个）：List（列表）、Dictionary（字典）、Set（集合）"
   ]
  },
  {
   "cell_type": "markdown",
   "id": "961e3119-e304-409b-a08c-e2d2974ba27a",
   "metadata": {},
   "source": [
    "# 格式化(方法1更好）"
   ]
  },
  {
   "cell_type": "code",
   "execution_count": 13,
   "id": "48d75568-4e13-4848-91ea-798347bb58f6",
   "metadata": {},
   "outputs": [
    {
     "name": "stdout",
     "output_type": "stream",
     "text": [
      "我叫 小明 今年 10 岁!\n"
     ]
    }
   ],
   "source": [
    "a='小明'\n",
    "b=10\n",
    "print (f\"我叫 {a} 今年 {b} 岁!\")\n",
    "# f-string"
   ]
  },
  {
   "cell_type": "code",
   "execution_count": 11,
   "id": "c9b890a7-6ebc-4fc9-bf80-37bcf88815bf",
   "metadata": {},
   "outputs": [
    {
     "name": "stdout",
     "output_type": "stream",
     "text": [
      "我叫 小明 今年 10 岁!\n"
     ]
    }
   ],
   "source": [
    "print (\"我叫 %s 今年 %d 岁!\" % ('小明', 10))\n",
    "# %s\t 格式化字符串\n",
    "# %d\t 格式化整数\n",
    "# %e\t 用科学计数法格式化浮点数"
   ]
  },
  {
   "cell_type": "markdown",
   "id": "506c4ad0-f511-47da-8448-856af8a0bcbf",
   "metadata": {},
   "source": [
    "# 字符串切片\n",
    "字符串更多操作：https://www.runoob.com/python3/python3-string.html"
   ]
  },
  {
   "cell_type": "code",
   "execution_count": 44,
   "id": "bab3707f-70fe-4174-9de4-244c30530221",
   "metadata": {},
   "outputs": [
    {
     "name": "stdout",
     "output_type": "stream",
     "text": [
      "lect\n",
      "lc\n",
      "yticirtcele\n"
     ]
    }
   ],
   "source": [
    "# 从左至右：0,1,2...\n",
    "# 从右至左：-1，-2，-3...\n",
    "# 切片数据左毕右开\n",
    "a = 'electricity'\n",
    "b = a[1:5]\n",
    "c = a[1:5:2]\n",
    "d = a[::-1] #字符串反过来\n",
    "print(b)\n",
    "print(c)\n",
    "print(d)"
   ]
  },
  {
   "cell_type": "markdown",
   "id": "ec227b1b-4c49-4499-99f5-6b16a95960cd",
   "metadata": {},
   "source": [
    "# 类型转换"
   ]
  },
  {
   "cell_type": "markdown",
   "id": "084e9dfa-4e9b-4cf2-94e7-f56b3509812f",
   "metadata": {},
   "source": [
    "## 转数字\n",
    "int(x) \n",
    "\n",
    "float(x) \n",
    "\n",
    "complex(x) 将x转换到一个复数，实数部分为 x，虚数部分为 0 \n",
    "\n",
    "complex(x, y) 将 x 和 y 转换到一个复数，实数部分为 x，虚数部分为 y "
   ]
  },
  {
   "cell_type": "markdown",
   "id": "a5808b9f-eff1-4964-9786-7dbcd26d717b",
   "metadata": {},
   "source": [
    "## 转string\n",
    "str(x)"
   ]
  },
  {
   "cell_type": "markdown",
   "id": "863c136e-78d8-4047-aa29-101091681a0e",
   "metadata": {},
   "source": [
    "## 转bool\n",
    "bool(x)"
   ]
  },
  {
   "cell_type": "markdown",
   "id": "9ebb5c9f-2d31-44e8-bc4f-a1542a452377",
   "metadata": {},
   "source": [
    "# 转义"
   ]
  },
  {
   "cell_type": "code",
   "execution_count": 17,
   "id": "6aefecef-e881-43f2-a012-b00ef0ff78c8",
   "metadata": {},
   "outputs": [
    {
     "name": "stdout",
     "output_type": "stream",
     "text": [
      "学python\n",
      "真开心\n"
     ]
    }
   ],
   "source": [
    "# 换行\n",
    "print(\"学python\\n真开心\")"
   ]
  },
  {
   "cell_type": "code",
   "execution_count": 18,
   "id": "7b5b12ce-01c1-47cb-b94a-e4974487071f",
   "metadata": {},
   "outputs": [
    {
     "name": "stdout",
     "output_type": "stream",
     "text": [
      "学python\t真开心\n"
     ]
    }
   ],
   "source": [
    "# 长空格(tab键，即4次空格）\n",
    "print(\"学python\\t真开心\")"
   ]
  },
  {
   "cell_type": "code",
   "execution_count": 21,
   "id": "bb99a89d-c996-4b5b-8aab-fec49a343149",
   "metadata": {},
   "outputs": [
    {
     "name": "stdout",
     "output_type": "stream",
     "text": [
      "学python真开心\t一定要上岸"
     ]
    }
   ],
   "source": [
    "# 不换行\n",
    "print(\"学python真开心\\t\", end='')\n",
    "print(\"一定要上岸\", end='')"
   ]
  },
  {
   "cell_type": "markdown",
   "id": "1d86cbb4-34e3-4e59-92f4-02aa1f874104",
   "metadata": {},
   "source": [
    "# 输入"
   ]
  },
  {
   "cell_type": "code",
   "execution_count": 24,
   "id": "950df540-1bf4-4d70-894c-cfa18c149555",
   "metadata": {},
   "outputs": [
    {
     "name": "stdout",
     "output_type": "stream",
     "text": [
      "请输入： python\n"
     ]
    }
   ],
   "source": [
    "a=input(\"请输入：\")\n",
    "# 默认是string"
   ]
  },
  {
   "cell_type": "code",
   "execution_count": 25,
   "id": "ac6f04ca-380c-4663-ab53-37d4cad1697c",
   "metadata": {},
   "outputs": [
    {
     "name": "stdout",
     "output_type": "stream",
     "text": [
      "请输入： 12\n"
     ]
    }
   ],
   "source": [
    "a=int(input(\"请输入：\"))\n",
    "# 需要数字的话，需转换"
   ]
  },
  {
   "cell_type": "markdown",
   "id": "2227ca16-4862-4792-a306-5e0c3b18ed72",
   "metadata": {},
   "source": [
    "# 随机数"
   ]
  },
  {
   "cell_type": "code",
   "execution_count": 28,
   "id": "0be5cd1c-27cd-4a3d-ab1d-ce6063d6a1d0",
   "metadata": {},
   "outputs": [
    {
     "name": "stdout",
     "output_type": "stream",
     "text": [
      "9\n",
      "99.32024175238168\n",
      "0.5713295426539993\n"
     ]
    }
   ],
   "source": [
    "import random\n",
    "a = random.randint(1,100) # 随机出整数\n",
    "b = random.uniform(1,100) # 随机出小数\n",
    "c = random.random() # 0-1随机\n",
    "print(a)\n",
    "print(b)\n",
    "print(c)"
   ]
  },
  {
   "cell_type": "markdown",
   "id": "5e413343-a95a-4ff9-b54f-bf352ae262b9",
   "metadata": {},
   "source": [
    "# 运算符"
   ]
  },
  {
   "cell_type": "raw",
   "id": "da072ffd-6915-4610-a541-dc6f3d33dc4e",
   "metadata": {},
   "source": [
    "+\t加  两个对象相加\t\n",
    "-\t减  得到负数或是一个数减去另一个数\t\n",
    "\n",
    "*\t乘  两个数相乘或是返回一个被重复若干次的字符串\n",
    "**\t幂  返回x的y次幂\n",
    "    \n",
    "/\t除  x 除以 y\n",
    "%\t求余  返回除法的余数\t\n",
    "//\t取整除  往小的方向取整数\n",
    "\n",
    "==\t等于  比较对象是否相等\n",
    "!=\t不等于  比较两个对象是否不相等"
   ]
  },
  {
   "cell_type": "code",
   "execution_count": null,
   "id": "fb1e29cd-f092-4d42-bdc3-9683d7aa2944",
   "metadata": {},
   "outputs": [],
   "source": [
    "c += a 等效于 c = c + a\n",
    "# 其他运算符同理"
   ]
  },
  {
   "cell_type": "raw",
   "id": "60a24d3d-637d-4159-b8c6-5e9c61ab118c",
   "metadata": {},
   "source": [
    "# 优先级\n",
    "not > and > or"
   ]
  },
  {
   "cell_type": "markdown",
   "id": "39479c52-6316-4c45-a556-85f6303d6b3b",
   "metadata": {},
   "source": [
    "# 条件判断"
   ]
  },
  {
   "cell_type": "code",
   "execution_count": 30,
   "id": "c4873e71-ea54-4a4a-b5ed-9c142942abc4",
   "metadata": {},
   "outputs": [
    {
     "name": "stdout",
     "output_type": "stream",
     "text": [
      "type one number: 0\n"
     ]
    },
    {
     "name": "stdout",
     "output_type": "stream",
     "text": [
      "0 is even\n"
     ]
    }
   ],
   "source": [
    "# 判断奇偶\n",
    "a = int(input('type one number:'))\n",
    "if a % 2==0:\n",
    "    print(f'{a} is even')\n",
    "else:\n",
    "    print(f'{a} is odd')"
   ]
  },
  {
   "cell_type": "code",
   "execution_count": null,
   "id": "d36e3e82-78af-4041-a03b-f28074222180",
   "metadata": {},
   "outputs": [],
   "source": [
    "# 完整语法\n",
    "x = 10\n",
    "if x > 15:\n",
    "    print(\"x大于15\")\n",
    "elif x > 10:\n",
    "    print(\"x大于10\")\n",
    "elif x > 5:\n",
    "    print(\"x大于5\")\n",
    "else:\n",
    "    print(\"x小于等于5\")"
   ]
  },
  {
   "cell_type": "markdown",
   "id": "e97e5dbd-941d-4919-ae25-a58b2d100f09",
   "metadata": {},
   "source": [
    "# 循环"
   ]
  },
  {
   "cell_type": "raw",
   "id": "8f3f66b0-766d-403f-a0d7-1c0cc6465e05",
   "metadata": {},
   "source": [
    "循环中带break，continue需要加上条件语句才行\n",
    "\n",
    "break语句用于完全结束循环，即使循环的条件依然为真。这通常用于某种条件满足时提前退出当前最近的循环\n",
    "\n",
    "continue语句用于跳过当前循环的剩余部分，并继续进行下一次循环迭代"
   ]
  },
  {
   "cell_type": "markdown",
   "id": "584272e3-1d2b-41f7-afc9-91aa745cfb9f",
   "metadata": {},
   "source": [
    "## for循环（更常用）\n",
    "for循环用于遍历任何序列（比如列表、字符串或元组）的每个元素，对序列中的每个元素执行代码块"
   ]
  },
  {
   "cell_type": "code",
   "execution_count": 36,
   "id": "e0fdc40d-88af-4699-87e5-9938c6a1ff3c",
   "metadata": {},
   "outputs": [
    {
     "name": "stdout",
     "output_type": "stream",
     "text": [
      "0\n",
      "1\n",
      "2\n",
      "3\n",
      "4\n",
      "5\n",
      "6\n",
      "7\n",
      "8\n",
      "9\n",
      "循环正常结束，没有被break\n"
     ]
    }
   ],
   "source": [
    "# break\n",
    "for i in range(10): # range(10)=[0,9)\n",
    "    if i == 13:\n",
    "        break\n",
    "    print(i)\n",
    "else:\n",
    "    print(\"循环正常结束，没有被break\")  "
   ]
  },
  {
   "cell_type": "code",
   "execution_count": 33,
   "id": "dc492944-0c60-4bde-82fe-33a67e08d048",
   "metadata": {},
   "outputs": [
    {
     "name": "stdout",
     "output_type": "stream",
     "text": [
      "0\n",
      "1\n",
      "2\n",
      "4\n"
     ]
    }
   ],
   "source": [
    "# continue\n",
    "for i in range(5):\n",
    "    if i == 3:\n",
    "        continue\n",
    "    print(i)"
   ]
  },
  {
   "cell_type": "markdown",
   "id": "cbb42308-4577-4266-9f68-296ce2c421d1",
   "metadata": {},
   "source": [
    "## while循环\n",
    "while循环会在指定的条件为真时重复执行一个代码块。当条件不再为真时，循环终止\n",
    "\n",
    "循环体里一定要增加1，以免死循环\n"
   ]
  },
  {
   "cell_type": "code",
   "execution_count": 37,
   "id": "b9a58998-f7e0-46ee-8329-e5bfc8a27f6f",
   "metadata": {},
   "outputs": [
    {
     "name": "stdout",
     "output_type": "stream",
     "text": [
      "0\n",
      "1\n",
      "2\n",
      "3\n",
      "4\n",
      "5\n",
      "6\n",
      "7\n",
      "8\n",
      "9\n",
      "循环正常结束，没有被break\n"
     ]
    }
   ],
   "source": [
    "# break\n",
    "x = 0\n",
    "while x < 10:\n",
    "    print(x)\n",
    "    x += 1\n",
    "    if x == 15:\n",
    "        break\n",
    "else:\n",
    "    print(\"循环正常结束，没有被break\")"
   ]
  },
  {
   "cell_type": "code",
   "execution_count": 35,
   "id": "54f773ad-bcb0-4fc5-b8ae-4bfb98f3aed0",
   "metadata": {},
   "outputs": [
    {
     "name": "stdout",
     "output_type": "stream",
     "text": [
      "1\n",
      "2\n",
      "4\n",
      "5\n"
     ]
    }
   ],
   "source": [
    "# continue\n",
    "x = 0\n",
    "while x < 5:\n",
    "    x += 1\n",
    "    if x == 3:\n",
    "        continue  \n",
    "    print(x)"
   ]
  },
  {
   "cell_type": "markdown",
   "id": "cab3edb1-5b20-4f7a-a13a-e4881e69f74a",
   "metadata": {},
   "source": [
    "# 函数\n",
    "函数允许你将一段代码封装起来，以便在多个地方重复使用，而不需要复制粘贴相同的代码\n",
    "\n",
    "拿到某一个函数，一般只关心：1.函数会做什么；2.参数是什么；3.返回值是什么\n",
    "\n",
    "代码执行顺序：跳过def函数部分，直接进入正文判断等语句"
   ]
  },
  {
   "cell_type": "code",
   "execution_count": 45,
   "id": "7c8649af-0250-428b-b5a0-eaad8836aab2",
   "metadata": {},
   "outputs": [
    {
     "name": "stdout",
     "output_type": "stream",
     "text": [
      "两数之和: 8\n"
     ]
    }
   ],
   "source": [
    "def add_numbers(a, b):\n",
    "    \"\"\"\n",
    "    返回两个数的和\n",
    "\n",
    "    参数:\n",
    "    a -- 第一个数\n",
    "    b -- 第二个数\n",
    "    \"\"\"\n",
    "    result = a + b\n",
    "    return result\n",
    "\n",
    "# Using the function\n",
    "sum = add_numbers(3, 5)\n",
    "print(\"两数之和:\", sum)"
   ]
  },
  {
   "cell_type": "code",
   "execution_count": 46,
   "id": "66c21ca8-f4a2-4652-8bdc-a3306e6ccd82",
   "metadata": {},
   "outputs": [
    {
     "name": "stdout",
     "output_type": "stream",
     "text": [
      "4是: 偶数\n",
      "7是: 奇数\n"
     ]
    }
   ],
   "source": [
    "def check_odd_even(number):\n",
    "    \"\"\"\n",
    "    判断一个数是奇数还是偶数，并返回相应的字符串。\n",
    "\n",
    "    参数:\n",
    "    number -- 要判断的整数\n",
    "    \"\"\"\n",
    "    if number % 2 == 0:\n",
    "        return \"偶数\"\n",
    "    else:\n",
    "        return \"奇数\"\n",
    "\n",
    "# Using the function\n",
    "result = check_odd_even(4)\n",
    "print(\"4是:\", result)\n",
    "\n",
    "result = check_odd_even(7)\n",
    "print(\"7是:\", result)"
   ]
  },
  {
   "cell_type": "markdown",
   "id": "1ec493bd-a61e-417b-9028-4eb7d69734d5",
   "metadata": {},
   "source": [
    "## 形参&实参"
   ]
  },
  {
   "cell_type": "code",
   "execution_count": 47,
   "id": "218aaf8e-0710-41ba-9309-4e24bbd1b503",
   "metadata": {},
   "outputs": [
    {
     "name": "stdout",
     "output_type": "stream",
     "text": [
      "give me a number: 12\n"
     ]
    },
    {
     "name": "stdout",
     "output_type": "stream",
     "text": [
      "12 is even\n"
     ]
    }
   ],
   "source": [
    "def is_even(n): # n是形参 formal arguments\n",
    "    \"\"\"\n",
    "    判断一个数是否是偶数，并返回布尔值。\n",
    "\n",
    "    参数:\n",
    "    n -- 要判断的整数\n",
    "    \"\"\"\n",
    "    return n % 2 ==0\n",
    "\n",
    "\n",
    "# Using the function\n",
    "num = int(input('give me a number:')) # num是实参 actual arguments\n",
    "if is_even(num):\n",
    "    print(f'{num} is even')\n",
    "else:\n",
    "    print(f'{num} is odd')"
   ]
  },
  {
   "cell_type": "markdown",
   "id": "9fed0e6b-bcc9-4632-a554-94aa750aa827",
   "metadata": {},
   "source": [
    "## 全局&局部变量\n",
    "通常建议尽可能避免使用全局变量，或者在确实需要时谨慎使用"
   ]
  },
  {
   "cell_type": "code",
   "execution_count": 50,
   "id": "0cdf3053-b88e-44d2-87d6-d8ea505f5ec5",
   "metadata": {},
   "outputs": [
    {
     "name": "stdout",
     "output_type": "stream",
     "text": [
      "局部变量y = 5\n",
      "全局变量x = 10\n"
     ]
    }
   ],
   "source": [
    "# 全局变量  Global variables\n",
    "x = 10\n",
    "\n",
    "def func():\n",
    "    # 局部变量 Local variable\n",
    "    y = 5\n",
    "    print(\"局部变量y =\", y)\n",
    "\n",
    "func()\n",
    "print(\"全局变量x =\", x)\n",
    "# print(\"局部变量y =\", y) 不可以这样写，会报错，因为局部变量只可以在函数内或代码块内部被访问和修改"
   ]
  },
  {
   "cell_type": "code",
   "execution_count": 51,
   "id": "0ec302eb-764e-491e-b08f-5e52cc4673ce",
   "metadata": {},
   "outputs": [
    {
     "name": "stdout",
     "output_type": "stream",
     "text": [
      "Before calling function, x = 10\n",
      "After calling function, x = 20\n"
     ]
    }
   ],
   "source": [
    "# 定义全局变量\n",
    "x = 10\n",
    "\n",
    "def update_global_var():\n",
    "    global x  \n",
    "    # 声明x是全局变量：告诉Python在函数内部引用的是外部的全局变量，而不是创建一个同名的新局部变量\n",
    "    x = 20  # 修改全局变量x的值\n",
    "\n",
    "print(\"Before calling function, x =\", x)  # 调用函数前，x的值\n",
    "update_global_var()  # 调用函数修改全局变量x的值\n",
    "print(\"After calling function, x =\", x)   # 调用函数后，x的值"
   ]
  },
  {
   "cell_type": "markdown",
   "id": "19889dc1-7ab0-44ce-b5ee-25fcf4edde1e",
   "metadata": {},
   "source": [
    "# import相关"
   ]
  },
  {
   "cell_type": "markdown",
   "id": "c697415c-c12b-420c-b9b3-7eb6c7817265",
   "metadata": {},
   "source": [
    "## if __name__ == '__main__'"
   ]
  },
  {
   "cell_type": "code",
   "execution_count": 58,
   "id": "d711c93e-d1b0-4b02-bdc3-fbe88bfeafec",
   "metadata": {},
   "outputs": [
    {
     "name": "stdout",
     "output_type": "stream",
     "text": [
      "脚本作为主程序运行\n",
      "函数被调用\n"
     ]
    }
   ],
   "source": [
    "# 定义函数完成之后，最好在基础语法开始前加一层if __name__ == '__main__'判断\n",
    "def function():\n",
    "    print(\"函数被调用\")\n",
    "\n",
    "if __name__ == '__main__':\n",
    "    print(\"脚本作为主程序运行\")\n",
    "    function()\n",
    "# 如果这个脚本直接运行，Python会把 __name__ 设置为 \"__main__\"，\n",
    "    # 并且 if __name__ == '__main__':代码块内的代码会被执行，调用 function() 并打印信息\n",
    "# 如果这个脚本被另一个Python脚本导入，__name__ 变量将被设置为该脚本的名称，而不是 \"__main__\"，\n",
    "    # 因此 if __name__ == '__main__':代码块内的代码不会执行。\n"
   ]
  },
  {
   "cell_type": "raw",
   "id": "6fa93221-633e-4d5c-afee-3ba60ecbd2bc",
   "metadata": {},
   "source": [
    "但是，导入脚本中仍然可以显式调用 function()\n",
    "\n",
    "举个例子，假设我们有两个Python脚本，一个名为module.py， 另一个名为main_script.py：\n",
    "\n",
    "module.py内容：\n",
    "\n",
    "    def function():\n",
    "        print(\"这是module.py中的函数\")\n",
    "    \n",
    "    if __name__ == '__main__':\n",
    "        print(\"module.py作为主程序运行\")\n",
    "    \n",
    "main_script.py内容：\n",
    "\n",
    "    import module\n",
    "    \n",
    "    module.function()  # 调用module.py中的function函数"
   ]
  },
  {
   "cell_type": "markdown",
   "id": "64c9b060-2f2d-47b2-ae97-b3371117a302",
   "metadata": {},
   "source": [
    "## __all__"
   ]
  },
  {
   "cell_type": "raw",
   "id": "673ec1a2-4b15-4232-8bec-f2674ad1525a",
   "metadata": {},
   "source": [
    "如果模块定义了__all__，只有__all__内指定的属性和方法会被导入到其他模块中\n",
    "\n",
    "如果没有定义__all__，from module import *将会导入所有不以下划线_开头的全局名称\n",
    "\n",
    "(因为按照惯例，它们被视为模块的私有部分）\n",
    "\n",
    " 假设你有一个模块my_module.py，它包含多个函数，但你只希望导出其中的一部分\n",
    " \n",
    "    # my_module.py\n",
    "    \n",
    "    __all__ = ['public_function']\n",
    "    \n",
    "    def public_function():\n",
    "        print(\"这是一个公共函数。\")\n",
    "    \n",
    "    def _private_function():\n",
    "        print(\"这是一个私有函数，不在__all__列表中。\")\n",
    "    \n",
    "    def internal_function():\n",
    "        print(\"这是一个内部函数，但不在__all__列表中。\")\n",
    "        \n",
    "如果其他脚本使用from my_module import *，只有public_function会被导入\n",
    "\n",
    "    from my_module import *\n",
    "    \n",
    "    public_function()  # 正常工作\n",
    "    \n",
    "    # _private_function()  # 报错，因为_private_function没有被导入\n",
    "    \n",
    "    # internal_function()  # 报错，因为internal_function没有被导入\n",
    "\n"
   ]
  },
  {
   "cell_type": "markdown",
   "id": "ab7000e3-1cba-41f8-8ee5-791f1f99977d",
   "metadata": {},
   "source": [
    "# 递归函数"
   ]
  },
  {
   "cell_type": "code",
   "execution_count": 53,
   "id": "286edca3-b61b-4b0e-a4c8-5bf20418da41",
   "metadata": {},
   "outputs": [
    {
     "data": {
      "text/plain": [
       "3628800"
      ]
     },
     "execution_count": 53,
     "metadata": {},
     "output_type": "execute_result"
    }
   ],
   "source": [
    "# 递归函数是一种在其定义中调用自身的函数\n",
    "def factorial(n):\n",
    "    # 基本情形\n",
    "        # 这是递归函数停止递归调用、不再调用自身的条件。\n",
    "        # 每个递归函数都需要至少一个基本情形，以避免无限递归导致栈溢出错误。\n",
    "    if n == 0:\n",
    "        return 1\n",
    "    # 递归步骤\n",
    "    else:\n",
    "        return n * factorial(n-1)\n",
    "\n",
    "factorial(10)"
   ]
  },
  {
   "cell_type": "markdown",
   "id": "b4d815b1-60cd-4c71-9166-0b677fde47c7",
   "metadata": {},
   "source": [
    "# 元组拆包Tuple unpacking\n",
    "\n",
    "当函数返回多个值时，或者当你需要从一个序列中快速提取值到变量中时\n",
    "\n",
    "他是将元组中的元素分解赋值给多个变量的便捷方法\n",
    "\n",
    "此外，字典，集合，列表也都可以拆包"
   ]
  },
  {
   "cell_type": "code",
   "execution_count": 54,
   "id": "19b2a61e-5f7a-4e7e-8733-edbd026a4ad6",
   "metadata": {},
   "outputs": [
    {
     "name": "stdout",
     "output_type": "stream",
     "text": [
      "1\n",
      "[2, 3, 4]\n",
      "5\n"
     ]
    }
   ],
   "source": [
    "# 定义一个包含n个元素的元组\n",
    "my_tuple = (1, 2, 3, 4, 5)\n",
    "\n",
    "# 使用星号表达式拆包\n",
    "a, *b, c = my_tuple\n",
    "\n",
    "# 打印变量以验证\n",
    "print(a)  # 输出：1\n",
    "print(b)  # 输出：[2, 3, 4]\n",
    "print(c)  # 输出：5"
   ]
  },
  {
   "cell_type": "code",
   "execution_count": 55,
   "id": "8e76beca-b09c-4907-b8e7-61c29928e259",
   "metadata": {},
   "outputs": [
    {
     "name": "stdout",
     "output_type": "stream",
     "text": [
      "John\n",
      "30\n",
      "john@example.com\n"
     ]
    }
   ],
   "source": [
    "def get_user():\n",
    "    # 返回一个包含三个元素的元组\n",
    "    return \"John\", 30, \"john@example.com\"\n",
    "\n",
    "# 使用元组拆包接收函数返回的多个值\n",
    "name, age, email = get_user()\n",
    "\n",
    "print(name)  # 输出：John\n",
    "print(age)  # 输出：30\n",
    "print(email)  # 输出：john@example.com"
   ]
  },
  {
   "cell_type": "code",
   "execution_count": 56,
   "id": "767e376e-d85b-418e-8129-f1ac3afe08f7",
   "metadata": {},
   "outputs": [
    {
     "name": "stdout",
     "output_type": "stream",
     "text": [
      "Name: Alice, Age: 25, Email: alice@example.com\n"
     ]
    }
   ],
   "source": [
    "def describe_person(info):\n",
    "    # 在函数定义时使用元组拆包\n",
    "    name, age, email = info\n",
    "    print(f\"Name: {name}, Age: {age}, Email: {email}\")\n",
    "\n",
    "# 创建一个包含人员信息的元组\n",
    "person_info = (\"Alice\", 25, \"alice@example.com\")\n",
    "\n",
    "# 将元组作为参数传递给函数\n",
    "describe_person(person_info)"
   ]
  },
  {
   "cell_type": "markdown",
   "id": "8b42d3a8-6de1-40ad-9566-c49a7251ed13",
   "metadata": {},
   "source": [
    "# 特殊参数"
   ]
  },
  {
   "cell_type": "code",
   "execution_count": 57,
   "id": "39b182f6-eb61-4546-9e49-a1ac859dba4d",
   "metadata": {},
   "outputs": [
    {
     "name": "stdout",
     "output_type": "stream",
     "text": [
      "a: 1\n",
      "b (default): 42\n",
      "Additional non-keyword arguments: ()\n",
      "---\n",
      "a: 1\n",
      "b (default): 2\n",
      "Additional non-keyword arguments: (3, 4, 5)\n",
      "---\n",
      "a: 1\n",
      "b (default): 2\n",
      "Additional non-keyword arguments: (3, 4, 5)\n",
      "Keyword argument first_name: Alice\n",
      "Keyword argument last_name: Johnson\n"
     ]
    }
   ],
   "source": [
    "def complex_function(a, b=42, *args, **kwargs):\n",
    "    # a 必须参数\n",
    "    # b 默认参数 Default Arguments：如果调用函数时没有传递这个参数，将使用其默认值\n",
    "    # *args Non-Keyword Arguments: 不确定数量的参数传递给函数。这些参数被收集进一个元组\n",
    "    # **kwargs Keyword Arguments: 不确定数量的键值对作为参数传递给函数。这些键值对被收集进一个字典\n",
    "    # 顺序一定要严格按照如上顺序写\n",
    "    print(f\"a: {a}\")\n",
    "    print(f\"b (default): {b}\")\n",
    "    print(f\"Additional non-keyword arguments: {args}\")\n",
    "    for key in kwargs:\n",
    "        print(f\"Keyword argument {key}: {kwargs[key]}\")\n",
    "\n",
    "# 调用示例\n",
    "complex_function(1)  # 只使用必需参数和默认参数\n",
    "print(\"---\")\n",
    "complex_function(1, 2, 3, 4, 5)  # 使用必需参数、默认参数和不定长非关键字参数\n",
    "print(\"---\")\n",
    "complex_function(1, 2, 3, 4, 5, first_name=\"Alice\", last_name=\"Johnson\")  # 全部使用\n"
   ]
  },
  {
   "cell_type": "markdown",
   "id": "39b6f0aa-f00a-4398-a350-747abab8073c",
   "metadata": {},
   "source": [
    "# 面向对象"
   ]
  },
  {
   "cell_type": "markdown",
   "id": "05dfd845-b7e1-4ace-b462-df190acb3bd8",
   "metadata": {},
   "source": [
    "类：最基本作用就是封装代码\n",
    "\n",
    "它定义了该集合中每个对象所共有的属性和方法，对象是类的实例\n",
    "\n",
    "有点像：一个行为闭环就是一个类。装冰箱（开冰箱，放入，关冰箱）是一个类；打羽毛球（带设备，出门，到球馆，开打，收拾设备，回家）是另一个类\n",
    "\n",
    "**先定义类，再创建对象，再用类去实例化一个对象**"
   ]
  },
  {
   "cell_type": "code",
   "execution_count": 64,
   "id": "6e53c2d8-fae7-4d82-a7b5-290e21879dae",
   "metadata": {},
   "outputs": [
    {
     "name": "stdout",
     "output_type": "stream",
     "text": [
      "账户 Alice 的余额：0\n",
      "存入 100 新余额：100\n",
      "取出 10 新余额：90\n",
      "账户 Alice 的余额：90\n",
      "账户 Bob 的余额：1000\n",
      "存入 1000 新余额：2000\n",
      "取出 500 新余额：1500\n",
      "账户 Bob 的余额：1500\n"
     ]
    }
   ],
   "source": [
    "# 定义类\n",
    "class BankAccount: # 类名开头大写\n",
    "    # 添加实例属性\n",
    "    def __init__(self, account_name, balance=0):\n",
    "        self.account_name = account_name  # 账户名称\n",
    "        self.balance = balance  # 账户余额，默认为0\n",
    "\n",
    "    # 以下几个def函数是实例方法\n",
    "\n",
    "    # 存款方法\n",
    "    def deposit(self, amount): # 函数名开头小写\n",
    "        if amount > 0:\n",
    "            self.balance += amount\n",
    "            print(f\"存入 {amount} 新余额：{self.balance}\")\n",
    "\n",
    "    # 取款方法\n",
    "    def withdraw(self, amount):\n",
    "        if 0 < amount <= self.balance:\n",
    "            self.balance -= amount\n",
    "            print(f\"取出 {amount} 新余额：{self.balance}\")\n",
    "        else:\n",
    "            print(\"取款金额无效或余额不足。\")\n",
    "\n",
    "    # 显示账户余额\n",
    "    def display_balance(self):\n",
    "        print(f\"账户 {self.account_name} 的余额：{self.balance}\")\n",
    "\n",
    "# 创建对象\n",
    "account1 = BankAccount(\"Alice\")\n",
    "# 实例化对象\n",
    "account1.display_balance()\n",
    "account1.deposit(100)\n",
    "account1.withdraw(10)\n",
    "account1.display_balance()\n",
    "\n",
    "\n",
    "# 创建对象\n",
    "account2 = BankAccount(\"Bob\", 1000)\n",
    "# 实例化对象\n",
    "account2.display_balance()\n",
    "account2.deposit(1000)\n",
    "account2.withdraw(500)\n",
    "account2.display_balance()"
   ]
  },
  {
   "cell_type": "code",
   "execution_count": null,
   "id": "8e51dda4",
   "metadata": {},
   "outputs": [],
   "source": []
  }
 ],
 "metadata": {
  "kernelspec": {
   "display_name": "Python 3 (ipykernel)",
   "language": "python",
   "name": "python3"
  },
  "language_info": {
   "codemirror_mode": {
    "name": "ipython",
    "version": 3
   },
   "file_extension": ".py",
   "mimetype": "text/x-python",
   "name": "python",
   "nbconvert_exporter": "python",
   "pygments_lexer": "ipython3",
   "version": "3.11.7"
  }
 },
 "nbformat": 4,
 "nbformat_minor": 5
}
