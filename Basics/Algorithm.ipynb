{
 "cells": [
  {
   "cell_type": "markdown",
   "metadata": {},
   "source": [
    "# 效率对比 "
   ]
  },
  {
   "cell_type": "raw",
   "metadata": {},
   "source": [
    "          数组\t    链表\t    哈希表   \n",
    "添加元素   O(1)     O(1)        O(1)    # 都是添加到尾部\n",
    "查找元素   O(n)     O(n)        O(1)    # 数组（链表）需要遍历\n",
    "删除元素   O(n)     O(n)        O(1)    # 需要先查找，再删除，所以和查找一样\n",
    "\n",
    "# 一般而言，hash表各种操作时间复杂度都是O(1)，但当哈希冲突比较严重时，\n",
    "哈希表的时间复杂度会退化至O(n)。我们使用编程语言内置的哈希表时，通常认为时间复杂度是O(1)\n",
    " "
   ]
  },
  {
   "cell_type": "raw",
   "metadata": {},
   "source": [
    "# 栈和队列各种操作时间复杂度都是O(1)\n",
    "\n",
    "方法\t描述\t                        时间复杂度\n",
    "push()\t元素入栈（队）\t                 O(1)\n",
    "pop()\t栈顶（队首）元素出栈（出队）\t  O(1)\n",
    "peek()\t访问栈顶（队首）元素\t         O(1)"
   ]
  },
  {
   "cell_type": "raw",
   "metadata": {},
   "source": [
    "# 二叉树遍历\n",
    "## 层序遍历+前序、中序、后序遍历都是如此\n",
    "\n",
    "时间复杂度为O(n)：所有节点被访问一次\n",
    "空间复杂度为O(n)：在最差情况下，即满二叉树时。"
   ]
  },
  {
   "cell_type": "raw",
   "metadata": {},
   "source": [
    "\t       无序数组\t二叉搜索树\n",
    "查找元素\tO(n)\tO(logn)\n",
    "插入元素\tO(1)\tO(logn)\n",
    "删除元素\tO(n)\tO(logn)\n",
    "\n",
    "# 只有在高频添加、低频查找删除数据的场景下，数组比二叉搜索树的效率更高"
   ]
  },
  {
   "cell_type": "markdown",
   "metadata": {},
   "source": [
    "# 数据结构分类\n",
    "\n",
    "线性数据结构：数组、链表、栈、队列、哈希表，元素之间是一对一的顺序关系。\n",
    "\n",
    "非线性数据结构：树、堆、图、哈希表\n",
    "\n",
    "    非线性数据结构可以进一步划分为树形结构和网状结构。\n",
    "\n",
    "    树形结构：树、堆、哈希表，元素之间是一对多的关系。\n",
    "\n",
    "    网状结构：图，元素之间是多对多的关系。\n"
   ]
  },
  {
   "cell_type": "markdown",
   "metadata": {},
   "source": [
    "# 数组 Array\n",
    "# 链表 Linked list"
   ]
  },
  {
   "cell_type": "markdown",
   "metadata": {},
   "source": [
    "# 栈 Stack"
   ]
  },
  {
   "cell_type": "markdown",
   "metadata": {},
   "source": [
    "- 浏览器中的后退与前进；软件中的撤销与反撤销：每当我们打开新的网页，浏览器就会对上一个网页执行入栈，这样我们就可以通过后退操作回到上一个网页。后退操作实际上是在执行出栈。如果要同时支持后退和前进，那么需要两个栈来配合实现。\n",
    "\n",
    "- 程序内存管理：每次调用函数时，系统都会在栈顶添加一个栈帧，用于记录函数的上下文信息。在递归函数中，向下递推阶段会不断执行入栈操作，而向上回溯阶段则会不断执行出栈操作。"
   ]
  },
  {
   "cell_type": "markdown",
   "metadata": {},
   "source": [
    "### 撤销（undo）和反撤销（redo）具体是如何实现的？\n",
    "\n",
    "使用两个栈，栈 A 用于撤销，栈 B 用于反撤销。\n",
    "\n",
    "每当用户执行一个操作，将这个操作压入栈 A ，并清空栈 B 。\n",
    "当用户执行“撤销”时，从栈 A 中弹出最近的操作，并将其压入栈 B 。\n",
    "当用户执行“反撤销”时，从栈 B 中弹出最近的操作，并将其压入栈 A"
   ]
  },
  {
   "cell_type": "code",
   "execution_count": 8,
   "metadata": {},
   "outputs": [
    {
     "name": "stdout",
     "output_type": "stream",
     "text": [
      "[1, 3, 2, 5, 4]\n"
     ]
    }
   ],
   "source": [
    "# 初始化栈\n",
    "stack: list[int] = []\n",
    "    # Python 没有内置的栈类，可以把 list 当作栈来使用 \n",
    "\n",
    "# 元素入栈\n",
    "stack.append(1)\n",
    "stack.append(3)\n",
    "stack.append(2)\n",
    "stack.append(5)\n",
    "stack.append(4)\n",
    "print(stack)\n",
    "# 访问栈顶元素\n",
    "peek: int = stack[-1]\n",
    "\n",
    "# 元素出栈\n",
    "pop: int = stack.pop()\n",
    "\n",
    "# 获取栈的长度\n",
    "size: int = len(stack)\n",
    "\n",
    "# 判断是否为空\n",
    "is_empty: bool = len(stack) == 0"
   ]
  },
  {
   "cell_type": "markdown",
   "metadata": {},
   "source": [
    "# 队列 Queue"
   ]
  },
  {
   "cell_type": "markdown",
   "metadata": {},
   "source": [
    "- 淘宝订单：购物者下单后，订单将加入队列中，系统随后会根据顺序处理队列中的订单。在双十一期间，短时间内会产生海量订单，高并发成为工程师们需要重点攻克的问题。\n",
    "\n",
    "- 各类待办事项：任何需要实现“先来后到”功能的场景，例如打印机的任务队列、餐厅的出餐队列等，队列在这些场景中可以有效地维护处理顺序"
   ]
  },
  {
   "cell_type": "markdown",
   "metadata": {},
   "source": [
    "### 一般更常用双向队列\n",
    "\n",
    "双向队列就像是栈和队列的组合或两个栈拼在了一起。它表现的是栈 + 队列的逻辑，因此可以实现栈与队列的所有应用，并且更加灵活\n",
    "\n",
    "我们知道，软件的“撤销”功能通常使用栈来实现：系统将每次更改操作 push 到栈中，然后通过 pop 实现撤销。然而，考虑到系统资源的限制，软件通常会限制撤销的步数（例如仅允许保存50步）。当栈的长度超过50时，软件需要在栈底（队首）执行删除操作。\n",
    "但栈无法实现该功能，此时就需要使用双向队列来替代栈。请注意，“撤销”的核心逻辑仍然遵循栈的先入后出原则，只是双向队列能够更加灵活地实现一些额外逻辑。"
   ]
  },
  {
   "cell_type": "code",
   "execution_count": 11,
   "metadata": {},
   "outputs": [
    {
     "name": "stdout",
     "output_type": "stream",
     "text": [
      "deque([1, 3, 2, 5, 4])\n"
     ]
    }
   ],
   "source": [
    "from collections import deque\n",
    "\n",
    "# 初始化双向队列\n",
    "deque = deque()  \n",
    "\n",
    "# 元素入队\n",
    "deque.append(2)      # 添加至队尾\n",
    "deque.append(5)\n",
    "deque.append(4)\n",
    "deque.appendleft(3)  # 添加至队首\n",
    "deque.appendleft(1)\n",
    "\n",
    "print(deque)\n",
    "\n",
    "# 访问元素\n",
    "front: int = deque[0]  # 队首元素\n",
    "rear: int = deque[-1]  # 队尾元素\n",
    "\n",
    "# 元素出队\n",
    "pop_front: int = deque.popleft()  # 队首元素出队\n",
    "pop_rear: int = deque.pop()       # 队尾元素出队\n",
    "\n",
    "# 获取双向队列的长度\n",
    "size: int = len(deque)\n",
    "\n",
    "# 判断双向队列是否为空\n",
    "is_empty: bool = len(deque) == 0"
   ]
  },
  {
   "cell_type": "markdown",
   "metadata": {},
   "source": [
    "# 哈希表 hash table"
   ]
  },
  {
   "cell_type": "code",
   "execution_count": 4,
   "metadata": {},
   "outputs": [
    {
     "name": "stdout",
     "output_type": "stream",
     "text": [
      "小啰\n",
      "{12836: '小哈', 15937: '小啰', 16750: '小算', 13276: '小法'}\n",
      "12836 -> 小哈\n",
      "15937 -> 小啰\n",
      "16750 -> 小算\n",
      "13276 -> 小法\n",
      "12836\n",
      "15937\n",
      "16750\n",
      "13276\n",
      "小哈\n",
      "小啰\n",
      "小算\n",
      "小法\n"
     ]
    }
   ],
   "source": [
    "# 初始化哈希表\n",
    "hmap: dict = {}\n",
    "\n",
    "# 添加操作\n",
    "# 在哈希表中添加键值对 (key, value)\n",
    "hmap[12836] = \"小哈\"\n",
    "hmap[15937] = \"小啰\"\n",
    "hmap[16750] = \"小算\"\n",
    "hmap[13276] = \"小法\"\n",
    "hmap[10583] = \"小鸭\"\n",
    "\n",
    "# 查询操作\n",
    "# 向哈希表中输入键 key ，得到值 value\n",
    "name: str = hmap[15937]\n",
    "print(name)\n",
    "\n",
    "# 删除操作\n",
    "# 在哈希表中删除键值对 (key, value)\n",
    "hmap.pop(10583)\n",
    "print(hmap)\n",
    "\n",
    "# 遍历哈希表\n",
    "# 遍历键值对 key->value\n",
    "for key, value in hmap.items():\n",
    "    print(key, \"->\", value)\n",
    "# 单独遍历键 key\n",
    "for key in hmap.keys():\n",
    "    print(key)\n",
    "# 单独遍历值 value\n",
    "for value in hmap.values():\n",
    "    print(value)"
   ]
  },
  {
   "cell_type": "markdown",
   "metadata": {},
   "source": [
    "## 哈希冲突\n",
    "\n",
    "### 定义\n",
    "通常情况下哈希函数的输入空间远大于输出空间，因此理论上哈希冲突是不可避免的\n",
    "\n",
    "我们将这种多个输入对应同一输出的情况称为「哈希冲突 hash collision」\n",
    "\n",
    "### 解决方案\n",
    "\n",
    "哈希表容量越大，多个 key 被分配到同一个桶中的概率就越低，冲突就越少\n",
    "\n",
    "1.我们可以通过扩容哈希表来减少哈希冲突直至冲突消失为止\n",
    "\n",
    "2.改良哈希表数据结构（Python 采用开放寻址。字典 dict 使用伪随机数进行探测），使得哈希表可以在出现哈希冲突时正常工作\n",
    "\n",
    "3.仅在必要时，即当哈希冲突比较严重时，才执行扩容操作"
   ]
  },
  {
   "cell_type": "markdown",
   "metadata": {},
   "source": [
    "# 树 Tree"
   ]
  },
  {
   "cell_type": "markdown",
   "metadata": {},
   "source": [
    "## 二叉树 binary tree"
   ]
  },
  {
   "cell_type": "raw",
   "metadata": {},
   "source": [
    "每个节点都有两个引用（指针），分别指向「左子节点 left-child node」和\n",
    "「右子节点 right-child node」，该节点被称为这两个子节点的「父节点 parent node」\n",
    "\n",
    "当给定一个二叉树的节点时，我们将该节点的左子节点及其以下节点形成的树称为该节点的\n",
    "「左子树 left subtree」，同理可得「右子树 right subtree」\n",
    "\n",
    "在二叉树中，除叶节点外，其他所有节点都包含子节点和非空子树"
   ]
  },
  {
   "cell_type": "raw",
   "metadata": {},
   "source": [
    "根节点 root node：位于二叉树顶层的节点，没有父节点。\n",
    "叶节点 leaf node：没有子节点的节点，其两个指针均指向 None 。\n",
    "边 edge：连接两个节点的线段，即节点引用（指针）。\n",
    "二叉树的「高度 height」：从根节点到最远叶节点所经过的边的数量。\n",
    "\n",
    "节点所在的「层 level」：从顶至底递增，根节点所在层为 1 。\n",
    "节点的「度 degree」：节点的子节点的数量。在二叉树中，度的取值范围是 0、1、2 。\n",
    "节点的「深度 depth」：从根节点到该节点所经过的边的数量。\n",
    "节点的「高度 height」：从距离该节点最远的叶节点到该节点所经过的边的数量。"
   ]
  },
  {
   "cell_type": "code",
   "execution_count": 6,
   "metadata": {},
   "outputs": [
    {
     "name": "stdout",
     "output_type": "stream",
     "text": [
      "True\n"
     ]
    }
   ],
   "source": [
    "# Optional 主要用于指示一个变量的值可以是某种类型，或者可以是 None\n",
    "from typing import Optional \n",
    "\n",
    "# 定义二叉树节点类\n",
    "class TreeNode:\n",
    "    def __init__(self, value=0, left=None, right=None):\n",
    "        self.value = value  # 节点的值\n",
    "        self.left = left    # 指向左子节点的引用\n",
    "        self.right = right  # 指向右子节点的引用\n",
    "\n",
    "# 定义树相关的判断问题类\n",
    "class Solution:\n",
    "    def checkTree(self, root: Optional[TreeNode]) -> bool:\n",
    "        return root.value == root.left.value + root.right.value\n",
    "\n",
    "# 创建节点\n",
    "n1 = TreeNode(10) # 根节点\n",
    "n2 = TreeNode(4) # 创建左子节点并连接\n",
    "n3 = TreeNode(6) # 创建右子节点并连接\n",
    "n1.left = n2\n",
    "n1.right = n3\n",
    "\n",
    "# 插入与删除节点\n",
    "p = TreeNode(0)\n",
    "# 在 n1 -> n2 中间插入节点 P\n",
    "n1.left = p\n",
    "p.left = n2\n",
    "# 删除节点 P\n",
    "n1.left = n2\n",
    "\n",
    "\n",
    "# 创建Solution的实例\n",
    "solution = Solution()\n",
    "\n",
    "# 调用方法（调用类的方式时，需要先创建实例）\n",
    "# solution 实例会自动作为第一个参数（self）传递给 checkTree 方法\n",
    "result = solution.checkTree(n1) # 传递根节点作为参数\n",
    "print(result)"
   ]
  },
  {
   "cell_type": "markdown",
   "metadata": {},
   "source": [
    "### 类型"
   ]
  },
  {
   "cell_type": "markdown",
   "metadata": {},
   "source": [
    "#### 完美二叉树 perfect binary tree"
   ]
  },
  {
   "cell_type": "raw",
   "metadata": {},
   "source": [
    "满二叉树,所有层的节点都被完全填满。\n",
    "\n",
    "在完美二叉树中，叶节点的度为0 ，其余所有节点的度都为2；\n",
    "\n",
    "若树的高度为h，则节点总数为2^(h+1)-1，呈现标准的指数级关系，反映了自然界中常见的细胞分裂现象。"
   ]
  },
  {
   "cell_type": "markdown",
   "metadata": {},
   "source": [
    "#### 完全二叉树 complete binary tree"
   ]
  },
  {
   "cell_type": "raw",
   "metadata": {},
   "source": [
    "只有最底层的节点未被填满，且最底层节点尽量靠左填充。"
   ]
  },
  {
   "cell_type": "markdown",
   "metadata": {},
   "source": [
    "#### 完满二叉树 full binary tree"
   ]
  },
  {
   "cell_type": "raw",
   "metadata": {},
   "source": [
    "除了叶节点之外，其余所有节点都有两个子节点。即所有的节点度为0或2"
   ]
  },
  {
   "cell_type": "markdown",
   "metadata": {},
   "source": [
    "#### 平衡二叉树 balanced binary tree"
   ]
  },
  {
   "cell_type": "raw",
   "metadata": {},
   "source": [
    "任意节点的左子树和右子树的高度之差的绝对值不超过 1 "
   ]
  },
  {
   "cell_type": "markdown",
   "metadata": {},
   "source": [
    "#### 二叉树理想结构与退化结构\n",
    "\n",
    "完美二叉树是理想情况，可以充分发挥二叉树“分治”的优势\n",
    "\n",
    "链表则是另一个极端，各项操作都变为线性操作，时间复杂度退化至O(n)\n"
   ]
  },
  {
   "cell_type": "raw",
   "metadata": {},
   "source": [
    "\t                        完美二叉树\t   链表\n",
    "第i层的节点数量\t              2^(i-1)       1\n",
    "高度为h的树的叶节点数量\t       2^h           1\n",
    "高度为h的树的节点总数\t       2^(h+1)-1\t h+1\n",
    "节点总数为n的树的高度\t\t   log2(n+1)-1   n-1\n"
   ]
  },
  {
   "cell_type": "markdown",
   "metadata": {},
   "source": [
    "### 遍历"
   ]
  },
  {
   "cell_type": "markdown",
   "metadata": {},
   "source": [
    "#### 层序遍历 level-order traversal"
   ]
  },
  {
   "cell_type": "raw",
   "metadata": {},
   "source": [
    "顶部到底部逐层遍历二叉树，并在每一层按照从左到右的顺序访问节点\n",
    "\n",
    "层序遍历本质上属于「广度优先遍历 breadth-first traversal」，\n",
    "也称「广度优先搜索 breadth-first search, BFS」，\n",
    "它体现了一种“一圈一圈向外扩展”的逐层遍历方式。"
   ]
  },
  {
   "cell_type": "code",
   "execution_count": 7,
   "metadata": {},
   "outputs": [],
   "source": [
    "def level_order(root: TreeNode | None) -> list[int]:\n",
    "    \"\"\"层序遍历\"\"\"\n",
    "    # 初始化队列，加入根节点\n",
    "    queue: deque[TreeNode] = deque()\n",
    "    queue.append(root)\n",
    "    # 初始化一个列表，用于保存遍历序列\n",
    "    res = []\n",
    "    while queue:\n",
    "        node: TreeNode = queue.popleft()  # 队列出队\n",
    "        res.append(node.val)  # 保存节点值\n",
    "        if node.left is not None:\n",
    "            queue.append(node.left)  # 左子节点入队\n",
    "        if node.right is not None:\n",
    "            queue.append(node.right)  # 右子节点入队\n",
    "    return res"
   ]
  },
  {
   "cell_type": "markdown",
   "metadata": {},
   "source": [
    "#### 前序、中序、后序遍历"
   ]
  },
  {
   "cell_type": "raw",
   "metadata": {},
   "source": [
    "前序、中序和后序遍历都属于「深度优先遍历 depth-first traversal」，\n",
    "也称「深度优先搜索 depth-first search, DFS」，\n",
    "它体现了一种“先走到尽头，再回溯继续”的遍历方式。"
   ]
  },
  {
   "cell_type": "code",
   "execution_count": 8,
   "metadata": {},
   "outputs": [],
   "source": [
    "def pre_order(root: TreeNode | None):\n",
    "    \"\"\"前序遍历\"\"\"\n",
    "    if root is None:\n",
    "        return\n",
    "    # 访问优先级：根节点 -> 左子树 -> 右子树\n",
    "    res.append(root.val)\n",
    "    pre_order(root=root.left)\n",
    "    pre_order(root=root.right)\n",
    "\n",
    "def in_order(root: TreeNode | None):\n",
    "    \"\"\"中序遍历\"\"\"\n",
    "    if root is None:\n",
    "        return\n",
    "    # 访问优先级：左子树 -> 根节点 -> 右子树\n",
    "    in_order(root=root.left)\n",
    "    res.append(root.val)\n",
    "    in_order(root=root.right)\n",
    "\n",
    "def post_order(root: TreeNode | None):\n",
    "    \"\"\"后序遍历\"\"\"\n",
    "    if root is None:\n",
    "        return\n",
    "    # 访问优先级：左子树 -> 右子树 -> 根节点\n",
    "    post_order(root=root.left)\n",
    "    post_order(root=root.right)\n",
    "    res.append(root.val)"
   ]
  },
  {
   "cell_type": "markdown",
   "metadata": {},
   "source": [
    "### 二叉搜索树"
   ]
  },
  {
   "cell_type": "markdown",
   "metadata": {},
   "source": [
    "## AVL 树\n",
    "AVL 树既是二叉搜索树，也是平衡二叉树，同时满足这两类二叉树的所有性质，\n",
    "\n",
    "因此是一种「平衡二叉搜索树 balanced binary search tree」。"
   ]
  },
  {
   "cell_type": "markdown",
   "metadata": {},
   "source": [
    "# 堆 heap"
   ]
  },
  {
   "cell_type": "raw",
   "metadata": {},
   "source": [
    "是一种满足特定条件的完全二叉树，主要可分为两种类型：\n",
    "\n",
    "「小顶堆 min heap」：任意节点的值<=其子节点的值。\n",
    "「大顶堆 max heap」：任意节点的值>=其子节点的值。"
   ]
  },
  {
   "cell_type": "raw",
   "metadata": {},
   "source": [
    "堆作为完全二叉树的一个特例，具有以下特性\n",
    "\n",
    "1.最底层节点靠左填充，其他层的节点都被填满。\n",
    "2.我们将二叉树的根节点称为“堆顶”，将底层最靠右的节点称为“堆底”。\n",
    "3.对于大顶堆（小顶堆），堆顶元素（根节点）的值是最大（最小）的"
   ]
  },
  {
   "cell_type": "markdown",
   "metadata": {},
   "source": [
    "## Top-k 问题\n",
    "\n",
    "获取最大的k个元素：例如选择热度前 10 的新闻作为微博热搜，选取销量前 10 的商品等\n",
    "\n",
    "给定一个长度为n的无序数组 nums ，请返回数组中最大的k个元素"
   ]
  },
  {
   "cell_type": "markdown",
   "metadata": {},
   "source": [
    "### 思路1：遍历\n",
    "\n",
    "第一轮：找到第1大的元素\n",
    "\n",
    "第二轮：找到第2大的元素\n",
    "\n",
    "第三轮：找到第3大的元素\n",
    "\n",
    "第k轮：找到第k大的元素"
   ]
  },
  {
   "cell_type": "markdown",
   "metadata": {},
   "source": [
    "### 思路2：排序\n",
    "\n",
    "我们可以先对数组 nums 进行排序，再返回最右边的k个元素"
   ]
  },
  {
   "cell_type": "markdown",
   "metadata": {},
   "source": [
    "### 思路3：堆\n",
    "\n",
    "1.初始化一个小顶堆，其堆顶元素最小。\n",
    "\n",
    "2.先将数组的前k个元素依次入堆。\n",
    "\n",
    "3.从第k+1个元素开始，若当前元素大于堆顶元素，则将堆顶元素出堆，并将当前元素入堆。\n",
    "\n",
    "遍历完成后，堆中保存的就是最大的k个元素。"
   ]
  },
  {
   "cell_type": "code",
   "execution_count": 10,
   "metadata": {},
   "outputs": [],
   "source": [
    "def top_k_heap(nums: list[int], k: int) -> list[int]:\n",
    "    \"\"\"基于堆查找数组中最大的 k 个元素\"\"\"\n",
    "    # 初始化小顶堆\n",
    "    heap = []\n",
    "    # 将数组的前 k 个元素入堆\n",
    "    for i in range(k):\n",
    "        heapq.heappush(heap, nums[i])\n",
    "    # 从第 k+1 个元素开始，保持堆的长度为 k\n",
    "    for i in range(k, len(nums)):\n",
    "        # 若当前元素大于堆顶元素，则将堆顶元素出堆、当前元素入堆\n",
    "        if nums[i] > heap[0]:\n",
    "            heapq.heappop(heap)\n",
    "            heapq.heappush(heap, nums[i])\n",
    "    return heap"
   ]
  },
  {
   "cell_type": "markdown",
   "metadata": {},
   "source": [
    "# 图 graph"
   ]
  },
  {
   "cell_type": "raw",
   "metadata": {},
   "source": [
    "「图 graph」是一种非线性数据结构，由「顶点 vertex」和「边 edge」组成。\n",
    "\n",
    "相较于线性关系（链表）和分治关系（树），网络关系（图）的自由度更高，因而更为复杂。"
   ]
  },
  {
   "cell_type": "raw",
   "metadata": {},
   "source": [
    "根据边是否具有方向，可分为「无向图 undirected graph」和「有向图 directed graph」是一种非线性数据结构，由「顶点\n",
    "\n",
    "在无向图中，边表示两顶点之间的“双向”连接关系，例如微信或 QQ 中的“好友关系”。\n",
    "\n",
    "在有向图中，边具有方向性，例如微博或抖音上的“关注”与“被关注”关系。\n"
   ]
  },
  {
   "cell_type": "raw",
   "metadata": {},
   "source": [
    "根据所有顶点是否连通，可分为「连通图 connected graph」和「非连通图 disconnected graph」\n",
    "\n",
    "对于连通图，从某个顶点出发，可以到达其余任意顶点。\n",
    "\n",
    "对于非连通图，从某个顶点出发，至少有一个顶点无法到达。\n"
   ]
  },
  {
   "cell_type": "raw",
   "metadata": {},
   "source": [
    "「有权图 weighted graph」：我们还可以为边添加“权重”变量\n",
    "\n",
    "例如在《王者荣耀》等手游中，系统会根据共同游戏时间来计算玩家之间的“亲密度”，\n",
    "\n",
    "这种亲密度网络就可以用有权图来表示。"
   ]
  },
  {
   "cell_type": "raw",
   "metadata": {},
   "source": [
    "图数据结构包含以下常用术语。\n",
    "\n",
    "「邻接 adjacency」：当两顶点之间存在边相连时，称这两顶点“邻接”。\n",
    "\n",
    "「路径 path」：从顶点 A 到顶点 B 经过的边构成的序列被称为从 A 到 B 的“路径”。\n",
    "\n",
    "「度 degree」：一个顶点拥有的边数。\n",
    "对于有向图，「入度 in-degree」表示有多少条边指向该顶点，\n",
    "「出度 out-degree」表示有多少条边从该顶点指出。"
   ]
  },
  {
   "cell_type": "markdown",
   "metadata": {},
   "source": [
    "### 图的常见应用"
   ]
  },
  {
   "cell_type": "raw",
   "metadata": {},
   "source": [
    "            顶点\t边\t                        图计算问题\n",
    "社交网络\t用户\t好友关系\t                潜在好友推荐\n",
    "地铁线路\t站点\t站点间的连通性\t            最短路线推荐\n",
    "太阳系\t    星体\t星体间的万有引力作用\t    行星轨道计算"
   ]
  },
  {
   "cell_type": "markdown",
   "metadata": {},
   "source": [
    "# 搜索"
   ]
  },
  {
   "cell_type": "markdown",
   "metadata": {},
   "source": [
    "## 二分查找 binary search"
   ]
  },
  {
   "cell_type": "markdown",
   "metadata": {},
   "source": [
    "# 排序"
   ]
  },
  {
   "cell_type": "markdown",
   "metadata": {},
   "source": [
    "# 分治"
   ]
  },
  {
   "cell_type": "markdown",
   "metadata": {},
   "source": [
    "# 回溯"
   ]
  },
  {
   "cell_type": "markdown",
   "metadata": {},
   "source": [
    "# 动态规划"
   ]
  },
  {
   "cell_type": "markdown",
   "metadata": {},
   "source": [
    "# 贪心"
   ]
  }
 ],
 "metadata": {
  "kernelspec": {
   "display_name": "base",
   "language": "python",
   "name": "python3"
  },
  "language_info": {
   "codemirror_mode": {
    "name": "ipython",
    "version": 3
   },
   "file_extension": ".py",
   "mimetype": "text/x-python",
   "name": "python",
   "nbconvert_exporter": "python",
   "pygments_lexer": "ipython3",
   "version": "3.11.7"
  }
 },
 "nbformat": 4,
 "nbformat_minor": 2
}
