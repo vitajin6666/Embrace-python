{
 "cells": [
  {
   "cell_type": "code",
   "execution_count": 2,
   "id": "bf11b1d5-17dc-49c0-9118-6eaa0d5de807",
   "metadata": {},
   "outputs": [],
   "source": [
    "import numpy as np"
   ]
  },
  {
   "cell_type": "raw",
   "id": "5db319f0",
   "metadata": {},
   "source": [
    "numpy中不要轻易使用for循环,有很多简便方法"
   ]
  },
  {
   "cell_type": "markdown",
   "id": "fe95b340",
   "metadata": {},
   "source": [
    "# 基操"
   ]
  },
  {
   "cell_type": "markdown",
   "id": "fc371106",
   "metadata": {},
   "source": [
    "#### numpy.arange"
   ]
  },
  {
   "cell_type": "code",
   "execution_count": null,
   "id": "c6ffc78e",
   "metadata": {},
   "outputs": [],
   "source": [
    "# numpy.arange(start, stop, step, dtype)\n",
    "# dtype: https://www.runoob.com/numpy/numpy-dtype.html\n",
    "x = np.arange(0,100,2.5, dtype = np.int16) \n",
    "print (x)\n",
    "print (x.size) # x.shape元组中所有数字相乘等于size大小\n",
    "# 重构2维数组\n",
    "x_2D = x.reshape(5,8)\n",
    "print (x_2D)\n",
    "# 重构3维数组\n",
    "x_3D = x.reshape(4,2,5)\n",
    "print (x_3D)"
   ]
  },
  {
   "cell_type": "markdown",
   "id": "ce5b9459",
   "metadata": {},
   "source": [
    "#### numpy.zeros/ones/full"
   ]
  },
  {
   "cell_type": "code",
   "execution_count": 3,
   "id": "a1f79316",
   "metadata": {},
   "outputs": [
    {
     "name": "stdout",
     "output_type": "stream",
     "text": [
      "[0 0 0 0 0 0 0 0 0 0]\n",
      "[[1 1 1]\n",
      " [1 1 1]]\n",
      "[[[9 9 9 9]\n",
      "  [9 9 9 9]\n",
      "  [9 9 9 9]]\n",
      "\n",
      " [[9 9 9 9]\n",
      "  [9 9 9 9]\n",
      "  [9 9 9 9]]]\n"
     ]
    }
   ],
   "source": [
    "# numpy.zeros(shape, dtype = float, order = 'C')\n",
    "# order：'C' 用于 C 的行数组,或者 'F' 用于 FORTRAN 的列数组\n",
    "x = np.zeros(10,dtype = np.int16) \n",
    "print (x)\n",
    "\n",
    "# numpy.ones(shape, dtype = None, order = 'C')\n",
    "y = np.ones((2,3),dtype = np.int16) \n",
    "print (y)\n",
    "\n",
    "z = np.full((2,3,4),9,dtype = np.int16) \n",
    "print (z)"
   ]
  },
  {
   "cell_type": "markdown",
   "id": "2ab63e3e",
   "metadata": {},
   "source": [
    "#### numpy.random"
   ]
  },
  {
   "cell_type": "code",
   "execution_count": null,
   "id": "6fa080c3",
   "metadata": {},
   "outputs": [],
   "source": [
    "# [0,1)\n",
    "x = np.random.random((2,3,4)) \n",
    "print (x)\n",
    "\n",
    "# 生成标准正态分布（均值为 0,标准差为 1）\n",
    "y = np.random.randn(2,3,4) # 注意这里括号个数\n",
    "print (y)\n",
    "\n",
    "# 整数\n",
    "z = np.random.randint(2,34,size=(2,3,4)) \n",
    "print (z)"
   ]
  },
  {
   "cell_type": "markdown",
   "id": "15de8639",
   "metadata": {},
   "source": [
    "#### np.linspace/np.logspace\n",
    "\n",
    "指定范围内返回“等间距”数组"
   ]
  },
  {
   "cell_type": "code",
   "execution_count": 3,
   "id": "5bdd21a0",
   "metadata": {},
   "outputs": [
    {
     "name": "stdout",
     "output_type": "stream",
     "text": [
      "(5,)\n",
      "[  1.  26.  51.  76. 101.]\n",
      "(5,)\n",
      "[ 1. 21. 41. 61. 81.]\n",
      "(5,)\n",
      "[  1.           3.16227766  10.          31.6227766  100.        ]\n"
     ]
    }
   ],
   "source": [
    "# 在一个区间内返回等间距数组\n",
    "arr1 = np.linspace(1, 101, 5)\n",
    "print(arr1.shape)\n",
    "print(arr1)\n",
    "\n",
    "arr2 = np.linspace(1, 101, 5, endpoint=False)\n",
    "print(arr2.shape)\n",
    "print(arr2)\n",
    "\n",
    "# 起始对数值和结束对数值实际上是在定义数组中值的对数范围\n",
    "# 10^0=1, 10^2=100\n",
    "arr3 = np.logspace(0, 2, 5, endpoint=True)\n",
    "print(arr3.shape)\n",
    "print(arr3)"
   ]
  },
  {
   "cell_type": "markdown",
   "id": "51562161",
   "metadata": {},
   "source": [
    "#### 索引 index"
   ]
  },
  {
   "cell_type": "code",
   "execution_count": 84,
   "id": "ff535f79",
   "metadata": {},
   "outputs": [
    {
     "name": "stdout",
     "output_type": "stream",
     "text": [
      "[[nan nan nan nan nan nan]\n",
      " [66. nan 88. nan nan 70.]\n",
      " [nan nan nan nan 65. nan]\n",
      " [nan 84. nan nan nan nan]]\n",
      "[[1 0]\n",
      " [1 2]\n",
      " [1 5]\n",
      " [2 4]\n",
      " [3 1]]\n"
     ]
    }
   ],
   "source": [
    "row_Students=[1,2,3,4,5,6]\n",
    "row_Math =[66,34,88,96,57,70]\n",
    "row_English=[58,22,100,49,65,34]\n",
    "row_Sport=[99,84,48,38,25,56]\n",
    "\n",
    "students = np.array([row_Students,row_Math,row_English,row_Sport]) \n",
    "\n",
    "# print(students)\n",
    "# print(students.shape)\n",
    "\n",
    "# # 列查找（先查行,再查列）\n",
    "# print(students[1:,3]) # 查找学号=4的学生所有成绩\n",
    "# print(students[:,::2]) # 查找学号=1,3,5的学生所有成绩+学号\n",
    "\n",
    "# 值查找\n",
    "mark = (students >= 60) & (students < 90)\n",
    "print(np.where(mark,students,np.nan)) # where(筛选条件,从哪里筛选,不满足时填的值)\n",
    "print(np.argwhere(mark)) # 查看符合条件值的数据位置\n",
    "\n",
    "\n",
    "# # 不好的做法\n",
    "# print(mark) # 保留数据结构,但显示bool\n",
    "# print(students[mark]) # 不保留数据结构,直接出筛选出的值\n"
   ]
  },
  {
   "cell_type": "markdown",
   "id": "63c898d8",
   "metadata": {},
   "source": [
    "#### 连接、插入、去重等操作\n",
    "\n",
    "更多操作详见：https://www.runoob.com/numpy/numpy-array-manipulation.html#numpy_oparr4"
   ]
  },
  {
   "cell_type": "code",
   "execution_count": 93,
   "id": "b5edcec0",
   "metadata": {},
   "outputs": [
    {
     "name": "stdout",
     "output_type": "stream",
     "text": [
      "[[1 2]\n",
      " [3 4]\n",
      " [5 6]\n",
      " [7 8]]\n",
      "[[1 2 5 6]\n",
      " [3 4 7 8]]\n",
      "[ 1 11 12  2  3  4]\n",
      "[[ 1  2]\n",
      " [11 12]\n",
      " [ 3  4]]\n",
      "[[ 1 11  2]\n",
      " [ 3 12  4]]\n"
     ]
    }
   ],
   "source": [
    "# numpy.concatenate((a1, a2, ...), axis)\n",
    "a = np.array([[1,2],[3,4]])\n",
    "b = np.array([[5,6],[7,8]])\n",
    "print (np.concatenate((a,b))) # 沿轴 0 连接两个数组\n",
    "print (np.concatenate((a,b),axis = 1)) # 沿轴 1 连接两个数组\n",
    "\n",
    "# numpy.insert(被插入数组,再这个数字的索引前插入,插入的值, axis如果未提供，则输入数组会被展开)\n",
    "c = [11,12]\n",
    "print(np.insert(a,1,c))\n",
    "print(np.insert(a,1,c,axis = 0))\n",
    "print(np.insert(a,1,c,axis = 1))\n",
    "\n",
    "# 去重\n",
    "x = np.array([1,2,1,0]) \n",
    "x2 = np.unique(x)\n",
    "print(x2)"
   ]
  },
  {
   "cell_type": "markdown",
   "id": "6d8e580a",
   "metadata": {},
   "source": [
    "# broadcast"
   ]
  },
  {
   "cell_type": "raw",
   "id": "8e89f4bf",
   "metadata": {},
   "source": [
    "广播(Broadcast)是 numpy 对不同形状(shape)的数组进行数值计算的方式, 对数组的算术运算通常在相应的元素上进行"
   ]
  },
  {
   "cell_type": "code",
   "execution_count": 1,
   "id": "77076a40",
   "metadata": {},
   "outputs": [
    {
     "ename": "NameError",
     "evalue": "name 'np' is not defined",
     "output_type": "error",
     "traceback": [
      "\u001b[1;31m---------------------------------------------------------------------------\u001b[0m",
      "\u001b[1;31mNameError\u001b[0m                                 Traceback (most recent call last)",
      "Cell \u001b[1;32mIn[1], line 1\u001b[0m\n\u001b[1;32m----> 1\u001b[0m a \u001b[38;5;241m=\u001b[39m np\u001b[38;5;241m.\u001b[39marray([\u001b[38;5;241m1\u001b[39m,\u001b[38;5;241m2\u001b[39m,\u001b[38;5;241m3\u001b[39m,\u001b[38;5;241m4\u001b[39m]) \n\u001b[0;32m      2\u001b[0m b \u001b[38;5;241m=\u001b[39m np\u001b[38;5;241m.\u001b[39marray([[\u001b[38;5;241m10\u001b[39m,\u001b[38;5;241m20\u001b[39m,\u001b[38;5;241m30\u001b[39m,\u001b[38;5;241m40\u001b[39m],[\u001b[38;5;241m1\u001b[39m,\u001b[38;5;241m2\u001b[39m,\u001b[38;5;241m3\u001b[39m,\u001b[38;5;241m4\u001b[39m]]) \n\u001b[0;32m      3\u001b[0m c \u001b[38;5;241m=\u001b[39m a \u001b[38;5;241m*\u001b[39m b \n",
      "\u001b[1;31mNameError\u001b[0m: name 'np' is not defined"
     ]
    }
   ],
   "source": [
    "a = np.array([1,2,3,4]) \n",
    "b = np.array([[10,20,30,40],[1,2,3,4]]) \n",
    "c = a * b \n",
    "print (c)"
   ]
  },
  {
   "cell_type": "code",
   "execution_count": 83,
   "id": "802bed61",
   "metadata": {},
   "outputs": [
    {
     "name": "stdout",
     "output_type": "stream",
     "text": [
      "[[1. 0. 0. 0. 0.]\n",
      " [0. 1. 0. 0. 0.]\n",
      " [0. 0. 1. 0. 0.]\n",
      " [0. 0. 0. 1. 0.]\n",
      " [0. 0. 0. 0. 1.]]\n",
      "[[1.1 0.2 0.3 0.4 0.5]\n",
      " [0.1 1.2 0.3 0.4 0.5]\n",
      " [0.1 0.2 1.3 0.4 0.5]\n",
      " [0.1 0.2 0.3 1.4 0.5]\n",
      " [0.1 0.2 0.3 0.4 1.5]]\n",
      "[[1.1 0.1 0.1 0.1 0.1]\n",
      " [0.2 1.2 0.2 0.2 0.2]\n",
      " [0.3 0.3 1.3 0.3 0.3]\n",
      " [0.4 0.4 0.4 1.4 0.4]\n",
      " [0.5 0.5 0.5 0.5 1.5]]\n",
      "12.5\n",
      "[1.1 1.2 1.3 1.4 1.5]\n",
      "[0.2 0.1 0.1 0.1 0.1]\n"
     ]
    }
   ],
   "source": [
    "x = np.eye(5) # 单位矩阵\n",
    "print(x)\n",
    "\n",
    "y = x + np.array([0.1,0.2,0.3,0.4,0.5])\n",
    "print(y) # 列相加\n",
    "\n",
    "z = x + np.array([[0.1],[0.2],[0.3],[0.4],[0.5]]) \n",
    "print(z) # 行相加\n",
    "\n",
    "print(y.sum()) # 数组里所有元素相加\n",
    "\n",
    " # axis = 0:从上至下；axis = 1:从左至下右；先从上至下,后从左至右（先纵轴,后横轴）\n",
    "print(y.max(axis =0)) # 找每列最大值\n",
    "print(y.min(axis =1)) # 找每行最小值"
   ]
  },
  {
   "cell_type": "markdown",
   "id": "bace274e",
   "metadata": {},
   "source": [
    "# dimension"
   ]
  },
  {
   "cell_type": "markdown",
   "id": "139c3cc1",
   "metadata": {},
   "source": [
    "## 判断维度\n",
    "\n",
    "1.肉眼判断：直接看括号后紧接着的[数量就行\n",
    "\n",
    "2.程序判断：\n",
    "\n",
    "    (1) print(a.ndim) 直接给出rank值\n",
    "\n",
    "    (2) print(b.shape) 给出具体的数据结构,元组内有几个值,就是几维\n",
    "        - 1维：(4,) 4个元素\n",
    "        - 2维：(2,3) 2行 3列\n",
    "        - 3维：(4,3,2) 4 层（4个2维） 每层（每个2维）中3行 每行中4列\n",
    "        - 4维：(2,3,3,5) 2个3维 每个3维中3个2维 每个2维中3行5列\n"
   ]
  },
  {
   "cell_type": "markdown",
   "id": "e38a9659",
   "metadata": {},
   "source": [
    "### 一维数组"
   ]
  },
  {
   "cell_type": "code",
   "execution_count": null,
   "id": "92115e3a",
   "metadata": {},
   "outputs": [],
   "source": [
    "# 一维数组\n",
    "numpy_array1 = np.array([1,2,3,4])\n",
    "numpy_array2 = np.array([10,20,30,40])\n",
    "a = numpy_array1+numpy_array2\n",
    "print(a)\n",
    "print(a.ndim) # 数数组的维度\n",
    "print(a.shape) # 展示数组形状, 一维就展示为：（元素个数,）\n",
    "\n",
    "a2 = np.array([[1, 2, 3, 4]])\n",
    "print(a2.shape)  # 输出: (1, 4)\n",
    "# 元组内有两个值的就说明他是二维数组了,一行四列"
   ]
  },
  {
   "cell_type": "markdown",
   "id": "8050d65b",
   "metadata": {},
   "source": [
    "### 二维数组"
   ]
  },
  {
   "cell_type": "code",
   "execution_count": null,
   "id": "286801a9",
   "metadata": {},
   "outputs": [],
   "source": [
    "# 二维数组\n",
    "b = np.array([[1, 2, 3], [3, 4, 5]])\n",
    "print(b)\n",
    "print(b.ndim) # 数数组的维度\n",
    "print(b.shape) # 展示数组形状, 展示为元组：（行,列）"
   ]
  },
  {
   "cell_type": "markdown",
   "id": "328412cb",
   "metadata": {},
   "source": [
    "### 三维数组"
   ]
  },
  {
   "cell_type": "raw",
   "id": "ba2cc1f8",
   "metadata": {},
   "source": [
    "其中每个维度都有其自己的索引:matrix[i][j][k]\n",
    "\n",
    "一个形状为 (m, n, p) 的三维数组可以被看作是一个包含 m 个 (n, p) 形状的二维矩阵的集合"
   ]
  },
  {
   "cell_type": "code",
   "execution_count": null,
   "id": "cc737b91",
   "metadata": {},
   "outputs": [],
   "source": [
    "# 三维数组\n",
    "c = np.array(\n",
    "    [\n",
    "        [[1, 2], [3, 4], [100, 200]],  # 第一层\n",
    "        [[5, 6], [7, 8], [3, 4]],  # 第二层\n",
    "        [[9, 10], [11, 12], [3, 4]],  # 第三层\n",
    "        [[9, 10], [11, 12], [3, 4]]  # 第四层\n",
    "    ]\n",
    ")\n",
    "print(c)\n",
    "print(c.ndim) # 数数组的维度\n",
    "print(c.shape) # 展示数组形状, 展示为元组：（层,每层中的行,每行中的列）\n",
    "# 第一维度是层（或深度）,这里有 4 层\n",
    "# 第二维度是每层中的行数,这里每层有 3 行\n",
    "# 第三维度是每行中的列数,这里每行有 2 列\n",
    "\n",
    "print(c.max(axis=0)) # 纵向的将每个位置上的数值都进行比对,最后组合起来输出结果\n",
    "print(c.max(axis=1)) # 在每个层里,纵向比较每列的最大值,最后组合起来输出结果\n",
    "print(c.max(axis=2)) # 在每个层里,横向比较每行的最大值,最后组合起来输出结果"
   ]
  },
  {
   "cell_type": "markdown",
   "id": "0ea3489d",
   "metadata": {},
   "source": [
    "### 四维数组"
   ]
  },
  {
   "cell_type": "code",
   "execution_count": null,
   "id": "58f62b19",
   "metadata": {},
   "outputs": [],
   "source": [
    "# 四维数组\n",
    "four_d_array = np.array([\n",
    "    [\n",
    "        [[1, 2, 3, 4, 5], [6, 7, 8, 9, 10], [11, 12, 13, 14, 15]],\n",
    "        [[16, 17, 18, 19, 20], [21, 22, 23, 24, 25], [26, 27, 28, 29, 30]],\n",
    "        [[31, 32, 33, 34, 35], [36, 37, 38, 39, 40], [41, 42, 43, 44, 45]]\n",
    "    ],\n",
    "    [\n",
    "        [[46, 47, 48, 49, 50], [51, 52, 53, 54, 55], [56, 57, 58, 59, 60]],\n",
    "        [[61, 62, 63, 64, 65], [66, 67, 68, 69, 70], [71, 72, 73, 74, 75]],\n",
    "        [[76, 77, 78, 79, 80], [81, 82, 83, 84, 85], [86, 87, 88, 89, 90]]\n",
    "    ]\n",
    "])\n",
    "print(four_d_array.ndim)  # 输出: (2, 3, 3, 5)\n",
    "print(four_d_array.shape)  # 输出: (2, 3, 3, 5)\n",
    "print (four_d_array.size)  # 90 = 2*3*3*5"
   ]
  },
  {
   "cell_type": "markdown",
   "id": "09110bbf",
   "metadata": {},
   "source": [
    "# 拷贝\n",
    "\n",
    "ndarray.copy() 函数创建一个副本。\n",
    "\n",
    "对副本数据进行修改，不会影响到原始数据，它们物理内存不在同一位置\n",
    "\n",
    "https://www.runoob.com/numpy/numpy-copies-and-views.html"
   ]
  },
  {
   "cell_type": "code",
   "execution_count": 85,
   "id": "d4671745",
   "metadata": {},
   "outputs": [
    {
     "name": "stdout",
     "output_type": "stream",
     "text": [
      "[[10 10]\n",
      " [ 2  3]\n",
      " [ 4  5]]\n",
      "[[10 10]\n",
      " [ 2  3]\n",
      " [ 4  5]]\n"
     ]
    }
   ],
   "source": [
    "a = np.array([[10,10],  [2,3],  [4,5]])  \n",
    "print (a)\n",
    "\n",
    "b = a.copy()  \n",
    "print (b)"
   ]
  },
  {
   "cell_type": "code",
   "execution_count": null,
   "id": "14c3e326",
   "metadata": {},
   "outputs": [],
   "source": []
  }
 ],
 "metadata": {
  "kernelspec": {
   "display_name": "Python 3 (ipykernel)",
   "language": "python",
   "name": "python3"
  },
  "language_info": {
   "codemirror_mode": {
    "name": "ipython",
    "version": 3
   },
   "file_extension": ".py",
   "mimetype": "text/x-python",
   "name": "python",
   "nbconvert_exporter": "python",
   "pygments_lexer": "ipython3",
   "version": "3.11.7"
  }
 },
 "nbformat": 4,
 "nbformat_minor": 5
}
